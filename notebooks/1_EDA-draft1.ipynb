{
 "cells": [
  {
   "cell_type": "markdown",
   "metadata": {},
   "source": [
    "### Import and inspect data"
   ]
  },
  {
   "cell_type": "code",
   "execution_count": 1,
   "metadata": {},
   "outputs": [],
   "source": [
    "import pandas as pd\n",
    "import numpy as np"
   ]
  },
  {
   "cell_type": "code",
   "execution_count": 2,
   "metadata": {},
   "outputs": [],
   "source": [
    "df = pd.read_csv('../project_data/complaints_1.csv')"
   ]
  },
  {
   "cell_type": "code",
   "execution_count": 3,
   "metadata": {},
   "outputs": [
    {
     "name": "stdout",
     "output_type": "stream",
     "text": [
      "<class 'pandas.core.frame.DataFrame'>\n",
      "RangeIndex: 162421 entries, 0 to 162420\n",
      "Data columns (total 18 columns):\n",
      " #   Column                        Non-Null Count   Dtype  \n",
      "---  ------                        --------------   -----  \n",
      " 0   Date received                 162421 non-null  object \n",
      " 1   Product                       162421 non-null  object \n",
      " 2   Sub-product                   162421 non-null  object \n",
      " 3   Issue                         162421 non-null  object \n",
      " 4   Sub-issue                     162421 non-null  object \n",
      " 5   Consumer complaint narrative  162421 non-null  object \n",
      " 6   Company public response       162421 non-null  object \n",
      " 7   Company                       162421 non-null  object \n",
      " 8   State                         162421 non-null  object \n",
      " 9   ZIP code                      162421 non-null  object \n",
      " 10  Tags                          162421 non-null  object \n",
      " 11  Consumer consent provided?    162421 non-null  object \n",
      " 12  Submitted via                 162421 non-null  object \n",
      " 13  Date sent to company          162421 non-null  object \n",
      " 14  Company response to consumer  162421 non-null  object \n",
      " 15  Timely response?              162421 non-null  object \n",
      " 16  Consumer disputed?            0 non-null       float64\n",
      " 17  Complaint ID                  162421 non-null  int64  \n",
      "dtypes: float64(1), int64(1), object(16)\n",
      "memory usage: 22.3+ MB\n"
     ]
    }
   ],
   "source": [
    "df.info()"
   ]
  },
  {
   "cell_type": "code",
   "execution_count": 4,
   "metadata": {},
   "outputs": [
    {
     "data": {
      "text/html": [
       "<div>\n",
       "<style scoped>\n",
       "    .dataframe tbody tr th:only-of-type {\n",
       "        vertical-align: middle;\n",
       "    }\n",
       "\n",
       "    .dataframe tbody tr th {\n",
       "        vertical-align: top;\n",
       "    }\n",
       "\n",
       "    .dataframe thead th {\n",
       "        text-align: right;\n",
       "    }\n",
       "</style>\n",
       "<table border=\"1\" class=\"dataframe\">\n",
       "  <thead>\n",
       "    <tr style=\"text-align: right;\">\n",
       "      <th></th>\n",
       "      <th>Date received</th>\n",
       "      <th>Product</th>\n",
       "      <th>Sub-product</th>\n",
       "      <th>Issue</th>\n",
       "      <th>Sub-issue</th>\n",
       "      <th>Consumer complaint narrative</th>\n",
       "      <th>Company public response</th>\n",
       "      <th>Company</th>\n",
       "      <th>State</th>\n",
       "      <th>ZIP code</th>\n",
       "      <th>Tags</th>\n",
       "      <th>Consumer consent provided?</th>\n",
       "      <th>Submitted via</th>\n",
       "      <th>Date sent to company</th>\n",
       "      <th>Company response to consumer</th>\n",
       "      <th>Timely response?</th>\n",
       "      <th>Consumer disputed?</th>\n",
       "      <th>Complaint ID</th>\n",
       "    </tr>\n",
       "  </thead>\n",
       "  <tbody>\n",
       "    <tr>\n",
       "      <th>0</th>\n",
       "      <td>7/15/2020</td>\n",
       "      <td>Credit card or prepaid card</td>\n",
       "      <td>General-purpose credit card or charge card</td>\n",
       "      <td>Problem with a purchase shown on your statement</td>\n",
       "      <td>Credit card company isn't resolving a dispute ...</td>\n",
       "      <td>-- -- -- -- -- 1. ) XXXX XXXX, XXXX a purchase...</td>\n",
       "      <td>None</td>\n",
       "      <td>CAPITAL ONE FINANCIAL CORPORATION</td>\n",
       "      <td>FL</td>\n",
       "      <td>None</td>\n",
       "      <td>None</td>\n",
       "      <td>Consent provided</td>\n",
       "      <td>Web</td>\n",
       "      <td>7/15/2020</td>\n",
       "      <td>Closed with monetary relief</td>\n",
       "      <td>Yes</td>\n",
       "      <td>NaN</td>\n",
       "      <td>3745924</td>\n",
       "    </tr>\n",
       "    <tr>\n",
       "      <th>1</th>\n",
       "      <td>6/18/2020</td>\n",
       "      <td>Credit card or prepaid card</td>\n",
       "      <td>Store credit card</td>\n",
       "      <td>Trouble using your card</td>\n",
       "      <td>Credit card company won't increase or decrease...</td>\n",
       "      <td>-- -- -- -- -- Forwarded message -- -- -- -- -...</td>\n",
       "      <td>None</td>\n",
       "      <td>Alliance Data Card Services</td>\n",
       "      <td>MD</td>\n",
       "      <td>212XX</td>\n",
       "      <td>None</td>\n",
       "      <td>Consent provided</td>\n",
       "      <td>Web</td>\n",
       "      <td>6/18/2020</td>\n",
       "      <td>Closed with non-monetary relief</td>\n",
       "      <td>Yes</td>\n",
       "      <td>NaN</td>\n",
       "      <td>3705859</td>\n",
       "    </tr>\n",
       "    <tr>\n",
       "      <th>2</th>\n",
       "      <td>4/26/2020</td>\n",
       "      <td>Checking or savings account</td>\n",
       "      <td>Checking account</td>\n",
       "      <td>Managing an account</td>\n",
       "      <td>Problem using a debit or ATM card</td>\n",
       "      <td>-- -- - Forwarded Message -- -- - From : XXXX ...</td>\n",
       "      <td>Company has responded to the consumer and the ...</td>\n",
       "      <td>WELLS FARGO &amp; COMPANY</td>\n",
       "      <td>CA</td>\n",
       "      <td>910XX</td>\n",
       "      <td>None</td>\n",
       "      <td>Consent provided</td>\n",
       "      <td>Web</td>\n",
       "      <td>4/26/2020</td>\n",
       "      <td>Closed with monetary relief</td>\n",
       "      <td>Yes</td>\n",
       "      <td>NaN</td>\n",
       "      <td>3624519</td>\n",
       "    </tr>\n",
       "    <tr>\n",
       "      <th>3</th>\n",
       "      <td>11/10/2020</td>\n",
       "      <td>Credit reporting, credit repair services, or o...</td>\n",
       "      <td>Credit reporting</td>\n",
       "      <td>Incorrect information on your report</td>\n",
       "      <td>Information is missing that should be on the r...</td>\n",
       "      <td>-- -- - XXXX, XXXX, XX/XX/2020 Payment Histori...</td>\n",
       "      <td>Company has responded to the consumer and the ...</td>\n",
       "      <td>Specialized Loan Servicing Holdings LLC</td>\n",
       "      <td>CA</td>\n",
       "      <td>None</td>\n",
       "      <td>None</td>\n",
       "      <td>Consent provided</td>\n",
       "      <td>Web</td>\n",
       "      <td>11/10/2020</td>\n",
       "      <td>Closed with explanation</td>\n",
       "      <td>Yes</td>\n",
       "      <td>NaN</td>\n",
       "      <td>3945441</td>\n",
       "    </tr>\n",
       "    <tr>\n",
       "      <th>4</th>\n",
       "      <td>11/10/2020</td>\n",
       "      <td>Credit reporting, credit repair services, or o...</td>\n",
       "      <td>Credit reporting</td>\n",
       "      <td>Incorrect information on your report</td>\n",
       "      <td>Information is missing that should be on the r...</td>\n",
       "      <td>-- -- - XXXX, XXXX, XX/XX/2020 Payment Histori...</td>\n",
       "      <td>Company has responded to the consumer and the ...</td>\n",
       "      <td>TRANSUNION INTERMEDIATE HOLDINGS, INC.</td>\n",
       "      <td>CA</td>\n",
       "      <td>None</td>\n",
       "      <td>None</td>\n",
       "      <td>Consent provided</td>\n",
       "      <td>Web</td>\n",
       "      <td>11/10/2020</td>\n",
       "      <td>Closed with explanation</td>\n",
       "      <td>Yes</td>\n",
       "      <td>NaN</td>\n",
       "      <td>3945445</td>\n",
       "    </tr>\n",
       "  </tbody>\n",
       "</table>\n",
       "</div>"
      ],
      "text/plain": [
       "  Date received                                            Product  \\\n",
       "0     7/15/2020                        Credit card or prepaid card   \n",
       "1     6/18/2020                        Credit card or prepaid card   \n",
       "2     4/26/2020                        Checking or savings account   \n",
       "3    11/10/2020  Credit reporting, credit repair services, or o...   \n",
       "4    11/10/2020  Credit reporting, credit repair services, or o...   \n",
       "\n",
       "                                  Sub-product  \\\n",
       "0  General-purpose credit card or charge card   \n",
       "1                           Store credit card   \n",
       "2                            Checking account   \n",
       "3                            Credit reporting   \n",
       "4                            Credit reporting   \n",
       "\n",
       "                                             Issue  \\\n",
       "0  Problem with a purchase shown on your statement   \n",
       "1                          Trouble using your card   \n",
       "2                              Managing an account   \n",
       "3             Incorrect information on your report   \n",
       "4             Incorrect information on your report   \n",
       "\n",
       "                                           Sub-issue  \\\n",
       "0  Credit card company isn't resolving a dispute ...   \n",
       "1  Credit card company won't increase or decrease...   \n",
       "2                  Problem using a debit or ATM card   \n",
       "3  Information is missing that should be on the r...   \n",
       "4  Information is missing that should be on the r...   \n",
       "\n",
       "                        Consumer complaint narrative  \\\n",
       "0  -- -- -- -- -- 1. ) XXXX XXXX, XXXX a purchase...   \n",
       "1  -- -- -- -- -- Forwarded message -- -- -- -- -...   \n",
       "2  -- -- - Forwarded Message -- -- - From : XXXX ...   \n",
       "3  -- -- - XXXX, XXXX, XX/XX/2020 Payment Histori...   \n",
       "4  -- -- - XXXX, XXXX, XX/XX/2020 Payment Histori...   \n",
       "\n",
       "                             Company public response  \\\n",
       "0                                               None   \n",
       "1                                               None   \n",
       "2  Company has responded to the consumer and the ...   \n",
       "3  Company has responded to the consumer and the ...   \n",
       "4  Company has responded to the consumer and the ...   \n",
       "\n",
       "                                   Company State ZIP code  Tags  \\\n",
       "0        CAPITAL ONE FINANCIAL CORPORATION    FL     None  None   \n",
       "1              Alliance Data Card Services    MD    212XX  None   \n",
       "2                    WELLS FARGO & COMPANY    CA    910XX  None   \n",
       "3  Specialized Loan Servicing Holdings LLC    CA     None  None   \n",
       "4   TRANSUNION INTERMEDIATE HOLDINGS, INC.    CA     None  None   \n",
       "\n",
       "  Consumer consent provided? Submitted via Date sent to company  \\\n",
       "0           Consent provided           Web            7/15/2020   \n",
       "1           Consent provided           Web            6/18/2020   \n",
       "2           Consent provided           Web            4/26/2020   \n",
       "3           Consent provided           Web           11/10/2020   \n",
       "4           Consent provided           Web           11/10/2020   \n",
       "\n",
       "      Company response to consumer Timely response?  Consumer disputed?  \\\n",
       "0      Closed with monetary relief              Yes                 NaN   \n",
       "1  Closed with non-monetary relief              Yes                 NaN   \n",
       "2      Closed with monetary relief              Yes                 NaN   \n",
       "3          Closed with explanation              Yes                 NaN   \n",
       "4          Closed with explanation              Yes                 NaN   \n",
       "\n",
       "   Complaint ID  \n",
       "0       3745924  \n",
       "1       3705859  \n",
       "2       3624519  \n",
       "3       3945441  \n",
       "4       3945445  "
      ]
     },
     "execution_count": 4,
     "metadata": {},
     "output_type": "execute_result"
    }
   ],
   "source": [
    "df.head()"
   ]
  },
  {
   "cell_type": "markdown",
   "metadata": {},
   "source": [
    "### Isolate relevant columns"
   ]
  },
  {
   "cell_type": "code",
   "execution_count": 5,
   "metadata": {},
   "outputs": [],
   "source": [
    "df = df[['Product', 'Sub-product', 'Issue', 'Sub-issue', 'Consumer complaint narrative']]"
   ]
  },
  {
   "cell_type": "code",
   "execution_count": 6,
   "metadata": {},
   "outputs": [],
   "source": [
    "df = df.rename(columns={\"Product\": \"product\", \"Sub-product\": \"subproduct\", \"Issue\": \"issue\", \"Sub-issue\": \"subissue\", \"Consumer complaint narrative\": \"narrative\"})"
   ]
  },
  {
   "cell_type": "raw",
   "metadata": {},
   "source": [
    "df.head()"
   ]
  },
  {
   "cell_type": "code",
   "execution_count": 7,
   "metadata": {},
   "outputs": [
    {
     "data": {
      "text/plain": [
       "Credit reporting, credit repair services, or other personal consumer reports    91179\n",
       "Debt collection                                                                 23150\n",
       "Credit card or prepaid card                                                     15566\n",
       "Mortgage                                                                        11626\n",
       "Checking or savings account                                                      8934\n",
       "Money transfer, virtual currency, or money service                               4602\n",
       "Vehicle loan or lease                                                            3524\n",
       "Payday loan, title loan, or personal loan                                        1979\n",
       "Student loan                                                                     1861\n",
       "Name: product, dtype: int64"
      ]
     },
     "execution_count": 7,
     "metadata": {},
     "output_type": "execute_result"
    }
   ],
   "source": [
    "df['product'].value_counts()"
   ]
  },
  {
   "cell_type": "code",
   "execution_count": 8,
   "metadata": {},
   "outputs": [
    {
     "data": {
      "text/plain": [
       "Credit reporting                              90041\n",
       "General-purpose credit card or charge card    11097\n",
       "Conventional home mortgage                     7411\n",
       "Checking account                               7239\n",
       "Other debt                                     6566\n",
       "Credit card debt                               5241\n",
       "I do not know                                  4836\n",
       "Medical debt                                   3861\n",
       "Loan                                           2896\n",
       "Store credit card                              2284\n",
       "FHA mortgage                                   1887\n",
       "Mobile or digital wallet                       1782\n",
       "Government benefit card                        1377\n",
       "Domestic (US) money transfer                   1352\n",
       "Federal student loan servicing                 1194\n",
       "VA mortgage                                    1133\n",
       "Auto debt                                       979\n",
       "Installment loan                                882\n",
       "Other personal consumer report                  828\n",
       "Other banking product or service                812\n",
       "Payday loan debt                                765\n",
       "Savings account                                 755\n",
       "General-purpose prepaid card                    692\n",
       "Private student loan                            667\n",
       "Lease                                           624\n",
       "Virtual currency                                612\n",
       "Other type of mortgage                          603\n",
       "International money transfer                    536\n",
       "Home equity loan or line of credit (HELOC)      521\n",
       "Payday loan                                     495\n",
       "Mortgage debt                                   476\n",
       "Personal line of credit                         397\n",
       "Credit repair services                          310\n",
       "Private student loan debt                       240\n",
       "Title loan                                      207\n",
       "Federal student loan debt                       186\n",
       "CD (Certificate of Deposit)                     119\n",
       "Check cashing service                            72\n",
       "Reverse mortgage                                 71\n",
       "Traveler's check or cashier's check              58\n",
       "Refund anticipation check                        56\n",
       "Payroll card                                     56\n",
       "Gift card                                        55\n",
       "Debt settlement                                  49\n",
       "Money order                                      44\n",
       "Foreign currency exchange                        41\n",
       "Pawn loan                                        11\n",
       "Student prepaid card                              5\n",
       "Name: subproduct, dtype: int64"
      ]
     },
     "execution_count": 8,
     "metadata": {},
     "output_type": "execute_result"
    }
   ],
   "source": [
    "df['subproduct'].value_counts()"
   ]
  },
  {
   "cell_type": "code",
   "execution_count": 9,
   "metadata": {},
   "outputs": [
    {
     "data": {
      "text/plain": [
       "Incorrect information on your report                                                54347\n",
       "Problem with a credit reporting company's investigation into an existing problem    30084\n",
       "Attempts to collect debt not owed                                                   11489\n",
       "Trouble during payment process                                                       5407\n",
       "Improper use of your report                                                          5220\n",
       "                                                                                    ...  \n",
       "Incorrect exchange rate                                                                 4\n",
       "Property was damaged or destroyed property                                              3\n",
       "Was approved for a loan, but didn't receive money                                       2\n",
       "Problem with an overdraft                                                               1\n",
       "Property was sold                                                                       1\n",
       "Name: issue, Length: 80, dtype: int64"
      ]
     },
     "execution_count": 9,
     "metadata": {},
     "output_type": "execute_result"
    }
   ],
   "source": [
    "df['issue'].value_counts()"
   ]
  },
  {
   "cell_type": "code",
   "execution_count": 10,
   "metadata": {},
   "outputs": [
    {
     "data": {
      "text/plain": [
       "Information belongs to someone else                            33331\n",
       "None                                                           19753\n",
       "Their investigation did not fix an error on your report        14294\n",
       "Account status incorrect                                        7952\n",
       "Account information incorrect                                   7116\n",
       "                                                               ...  \n",
       "Account sold or transferred to another company                     4\n",
       "Problem with a check written from your prepaid card account        3\n",
       "Problem with fees or penalties                                     2\n",
       "Threatened to turn you in to immigration or deport you             2\n",
       "Qualified for a better loan than the one offered                   1\n",
       "Name: subissue, Length: 162, dtype: int64"
      ]
     },
     "execution_count": 10,
     "metadata": {},
     "output_type": "execute_result"
    }
   ],
   "source": [
    "df['subissue'].value_counts()"
   ]
  },
  {
   "cell_type": "code",
   "execution_count": 11,
   "metadata": {},
   "outputs": [
    {
     "data": {
      "text/plain": [
       "Incorrect information on your report                                                54347\n",
       "Problem with a credit reporting company's investigation into an existing problem    30084\n",
       "Attempts to collect debt not owed                                                   11489\n",
       "Trouble during payment process                                                       5407\n",
       "Improper use of your report                                                          5220\n",
       "Managing an account                                                                  5059\n",
       "Written notification about debt                                                      4543\n",
       "Problem with a purchase shown on your statement                                      4023\n",
       "False statements or representation                                                   2642\n",
       "Applying for a mortgage or refinancing an existing mortgage                          2268\n",
       "Name: issue, dtype: int64"
      ]
     },
     "execution_count": 11,
     "metadata": {},
     "output_type": "execute_result"
    }
   ],
   "source": [
    "df['issue'].value_counts().head(10)"
   ]
  },
  {
   "cell_type": "code",
   "execution_count": 12,
   "metadata": {},
   "outputs": [
    {
     "data": {
      "text/plain": [
       "Information belongs to someone else                         33331\n",
       "None                                                        19753\n",
       "Their investigation did not fix an error on your report     14294\n",
       "Account status incorrect                                     7952\n",
       "Account information incorrect                                7116\n",
       "Was not notified of investigation status or results          6645\n",
       "Investigation took more than 30 days                         5953\n",
       "Debt is not yours                                            5602\n",
       "Credit inquiries on your report that you don't recognize     3688\n",
       "Debt was result of identity theft                            2989\n",
       "Name: subissue, dtype: int64"
      ]
     },
     "execution_count": 12,
     "metadata": {},
     "output_type": "execute_result"
    }
   ],
   "source": [
    "df['subissue'].value_counts().head(10)"
   ]
  },
  {
   "cell_type": "markdown",
   "metadata": {},
   "source": [
    "Except for 'product', it doesn't seem there's enough data to train on. Maybe I could do subproduct, too, but I'd want to eliminate those with the lower value counts.\n",
    "\n",
    "Note for subproduct, a high number is \"I don't know.\" I could maybe classify those. \n",
    "\n",
    "In 'subissue', the second highest is 'None'. Also, there seems to be a lot of overlap between the categories, finer points that some consumers may not make. Example: \"Debt is not yours\" vs. \"Debt was result of identity theft\"."
   ]
  },
  {
   "cell_type": "markdown",
   "metadata": {},
   "source": [
    "# Prepare Text"
   ]
  },
  {
   "cell_type": "markdown",
   "metadata": {},
   "source": [
    "## Remove Stopwords"
   ]
  },
  {
   "cell_type": "code",
   "execution_count": 14,
   "metadata": {},
   "outputs": [],
   "source": [
    "import nltk\n",
    "from nltk.corpus import stopwords\n",
    "from nltk import word_tokenize\n",
    "import string"
   ]
  },
  {
   "cell_type": "code",
   "execution_count": 15,
   "metadata": {},
   "outputs": [],
   "source": [
    "stopwords_list = stopwords.words('english') + list(string.punctuation)\n",
    "stopwords_list += [\"''\", '\"\"', '...', '``']"
   ]
  },
  {
   "cell_type": "markdown",
   "metadata": {},
   "source": [
    "Try just the first one"
   ]
  },
  {
   "cell_type": "code",
   "execution_count": 16,
   "metadata": {},
   "outputs": [
    {
     "name": "stdout",
     "output_type": "stream",
     "text": [
      "product                             Credit card or prepaid card\n",
      "subproduct           General-purpose credit card or charge card\n",
      "issue           Problem with a purchase shown on your statement\n",
      "subissue      Credit card company isn't resolving a dispute ...\n",
      "narrative     -- -- -- -- -- 1. ) XXXX XXXX, XXXX a purchase...\n",
      "Name: 0, dtype: object\n"
     ]
    },
    {
     "data": {
      "text/plain": [
       "'-- -- -- -- -- 1. ) XXXX XXXX, XXXX a purchase with EIO.com ( order # XXXX ) with 2 day shipping for the amount of {$57.00}. \\n\\n-- -- -- -- -- -2. ) Did not receive the product after a week, so I sent a followup email ; with the exact verbiage : \" I paid for two days shipping and have not received my order \\'\\' on XXXX XXXX. \\n\\n-- -- -- -- -- 3. ) Company Responded on on XXXX XXXX : \" Im sorry to inform you that due to unusually high order volume, your order has not shipped and XXXX not be for several weeks. XXXX has been out of stock since early XXXX due to high demand, although they are continuing to take orders and guaranteeing that we will receive orders we place with them in due time. As such we have masks on order but we do not have an exact shipping date from XXXX right now, however we can guarantee we will ship as soon as soon as XXXX delivers product to us. We have been getting small shipments and shipping those on a first come, first served basis, so we appreciate your patience as we fulfill these orders as quickly as we can. \\n\\nWe recommend keeping your order as you will lose your place in line if you cancel, and no other distributor has stock at the moment. If you do prefer to cancel, please note we ask that you do so via email, we will then cancel in accordance with our cancellation policy which was agreed to at checkout. \\nXXXX, XXXX XXXX. \\nElectronic Inventory Online -- -- -- -- -- -- -- -- -- -- -- -- -- -- -- -- -- -- -- -- -- XXXX XXXX XXXX XXXX -- -- -- XXXX. ) XX/XX/XXXX, requested for the order to be canceled and a refund to be issued. \\n\\n-- -- -- 5. ) XX/XX/XXXX : XXXX canceled the order and sent a verification : XXXX XXXX XXXX Your order has been canceled Refunded Items XXXX XXXX Particulate Respirator, XXXX, XXXX eaches/pack 2 Refunded {$45.00} Subtotal {$45.00} Shipping {$12.00} Taxes {$0.00} Total {$57.00} USD Visa ( ending in XXXX XXXX {$57.00} Refund Shopify_payments - {$52.00} -- -- XX/XX/XXXX, Called in and disputed the amount. XXXX stated nothing needed to be submitted and they will address the issue. \\n\\n-- -- XX/XX/XXXX, XXXX recharged me for the same item after removing it on XX/XX/XXXX. Called back in to dispute this amount again. \\n\\nTRANSACTION REBILLMerchandiseRobert J. XXXX {$57.00} HTTPSEIOCOM.M, CA XXXX Purchased : Thu, XX/XX/2020 Posted : Wed, XXXX XXXX, 2020 Purchased By : XXXX XXXX Appears on the statement as : TRANSACTION REBILL HTTPSEIOCOM.M CA XXXX US XXXX - XX/XX/XXXX, followed up to see the status of the case. Submitted documentation showing XXXX canceled the order and was supposed to submit a refund. \\n\\n-- - XX/XX/XXXX, Called back in to speak to the manager on the case. He stated the dispute was ruled in favor of me, and the charge will be removed from my card. \\n\\n-- -- XX/XX/XXXX, Capital One removed the purchase off the bill. \\nPURCHASE ADJUSTMENTMerchandiseRobert J. ... - {$57.00} Posted : Fri, XX/XX/2020 Purchased By : XXXX XXXX Appears on statement as : PURCHASE ADJUSTMENT XXXX XXXX -- XXXX XXXX Capital One recharges me the same amount. \\nXX/XX/XXXX TRANSACTION REBILLMerchandiseRobert J. ... {$57.00} Purchased : Thu, XX/XX/2020 Posted : Mon, XX/XX/2020 Purchased By : XXXX XXXX Appears on statement as : TRANSACTION REBILL XXXX XXXX -- -- XX/XX/XXXX -- Called Capital One requested why this was recharge. They stated Visa ruled against my case. They pretended that they didn\\'t remove the purchase or knew anything about the case manager ruling in my favor.'"
      ]
     },
     "execution_count": 16,
     "metadata": {},
     "output_type": "execute_result"
    }
   ],
   "source": [
    "print(df.iloc[0])\n",
    "text = df['narrative'][0]\n",
    "text"
   ]
  },
  {
   "cell_type": "code",
   "execution_count": 17,
   "metadata": {},
   "outputs": [],
   "source": [
    "def process_narrative(narrative):\n",
    "    tokens = nltk.word_tokenize(narrative)\n",
    "    stopwords_removed = [token.lower() for token in tokens if token.lower() not in stopwords_list]\n",
    "    return stopwords_removed  "
   ]
  },
  {
   "cell_type": "code",
   "execution_count": 18,
   "metadata": {},
   "outputs": [
    {
     "data": {
      "text/plain": [
       "['--', '--', '--', '--', '--', '1', 'xxxx', 'xxxx', 'xxxx', 'purchase']"
      ]
     },
     "execution_count": 18,
     "metadata": {},
     "output_type": "execute_result"
    }
   ],
   "source": [
    "text_words = process_narrative(text)\n",
    "text_words[0:10]"
   ]
  },
  {
   "cell_type": "code",
   "execution_count": 19,
   "metadata": {},
   "outputs": [
    {
     "data": {
      "text/plain": [
       "{'--': 53,\n",
       " '1': 1,\n",
       " 'xxxx': 52,\n",
       " 'purchase': 5,\n",
       " 'eio.com': 1,\n",
       " 'order': 10,\n",
       " '2': 2,\n",
       " 'day': 1,\n",
       " 'shipping': 5,\n",
       " 'amount': 4,\n",
       " '57.00': 6,\n",
       " '-2': 1,\n",
       " 'receive': 2,\n",
       " 'product': 2,\n",
       " 'week': 1,\n",
       " 'sent': 2,\n",
       " 'followup': 1,\n",
       " 'email': 2,\n",
       " 'exact': 2,\n",
       " 'verbiage': 1,\n",
       " 'paid': 1,\n",
       " 'two': 1,\n",
       " 'days': 1,\n",
       " 'received': 1,\n",
       " '3': 1,\n",
       " 'company': 1,\n",
       " 'responded': 1,\n",
       " 'im': 1,\n",
       " 'sorry': 1,\n",
       " 'inform': 1,\n",
       " 'due': 3,\n",
       " 'unusually': 1,\n",
       " 'high': 2,\n",
       " 'volume': 1,\n",
       " 'shipped': 1,\n",
       " 'several': 1,\n",
       " 'weeks': 1,\n",
       " 'stock': 2,\n",
       " 'since': 1,\n",
       " 'early': 1,\n",
       " 'demand': 1,\n",
       " 'although': 1,\n",
       " 'continuing': 1,\n",
       " 'take': 1,\n",
       " 'orders': 3,\n",
       " 'guaranteeing': 1,\n",
       " 'place': 2,\n",
       " 'time': 1,\n",
       " 'masks': 1,\n",
       " 'date': 1,\n",
       " 'right': 1,\n",
       " 'however': 1,\n",
       " 'guarantee': 1,\n",
       " 'ship': 1,\n",
       " 'soon': 2,\n",
       " 'delivers': 1,\n",
       " 'us': 2,\n",
       " 'getting': 1,\n",
       " 'small': 1,\n",
       " 'shipments': 1,\n",
       " 'first': 2,\n",
       " 'come': 1,\n",
       " 'served': 1,\n",
       " 'basis': 1,\n",
       " 'appreciate': 1,\n",
       " 'patience': 1,\n",
       " 'fulfill': 1,\n",
       " 'quickly': 1,\n",
       " 'recommend': 1,\n",
       " 'keeping': 1,\n",
       " 'lose': 1,\n",
       " 'line': 1,\n",
       " 'cancel': 3,\n",
       " 'distributor': 1,\n",
       " 'moment': 1,\n",
       " 'prefer': 1,\n",
       " 'please': 1,\n",
       " 'note': 1,\n",
       " 'ask': 1,\n",
       " 'via': 1,\n",
       " 'accordance': 1,\n",
       " 'cancellation': 1,\n",
       " 'policy': 1,\n",
       " 'agreed': 1,\n",
       " 'checkout': 1,\n",
       " 'electronic': 1,\n",
       " 'inventory': 1,\n",
       " 'online': 1,\n",
       " 'xx/xx/xxxx': 10,\n",
       " 'requested': 2,\n",
       " 'canceled': 4,\n",
       " 'refund': 3,\n",
       " 'issued': 1,\n",
       " '5': 1,\n",
       " 'verification': 1,\n",
       " 'refunded': 2,\n",
       " 'items': 1,\n",
       " 'particulate': 1,\n",
       " 'respirator': 1,\n",
       " 'eaches/pack': 1,\n",
       " '45.00': 2,\n",
       " 'subtotal': 1,\n",
       " '12.00': 1,\n",
       " 'taxes': 1,\n",
       " '0.00': 1,\n",
       " 'total': 1,\n",
       " 'usd': 1,\n",
       " 'visa': 2,\n",
       " 'ending': 1,\n",
       " 'shopify_payments': 1,\n",
       " '52.00': 1,\n",
       " 'called': 4,\n",
       " 'disputed': 1,\n",
       " 'stated': 3,\n",
       " 'nothing': 1,\n",
       " 'needed': 1,\n",
       " 'submitted': 2,\n",
       " 'address': 1,\n",
       " 'issue': 1,\n",
       " 'recharged': 1,\n",
       " 'item': 1,\n",
       " 'removing': 1,\n",
       " 'back': 2,\n",
       " 'dispute': 2,\n",
       " 'transaction': 4,\n",
       " 'rebillmerchandiserobert': 2,\n",
       " 'j.': 1,\n",
       " 'httpseiocom.m': 2,\n",
       " 'ca': 2,\n",
       " 'purchased': 5,\n",
       " 'thu': 2,\n",
       " 'xx/xx/2020': 4,\n",
       " 'posted': 3,\n",
       " 'wed': 1,\n",
       " '2020': 1,\n",
       " 'appears': 3,\n",
       " 'statement': 3,\n",
       " 'rebill': 2,\n",
       " 'followed': 1,\n",
       " 'see': 1,\n",
       " 'status': 1,\n",
       " 'case': 4,\n",
       " 'documentation': 1,\n",
       " 'showing': 1,\n",
       " 'supposed': 1,\n",
       " 'submit': 1,\n",
       " 'speak': 1,\n",
       " 'manager': 2,\n",
       " 'ruled': 2,\n",
       " 'favor': 2,\n",
       " 'charge': 1,\n",
       " 'removed': 2,\n",
       " 'card': 1,\n",
       " 'capital': 3,\n",
       " 'one': 3,\n",
       " 'bill': 1,\n",
       " 'adjustmentmerchandiserobert': 1,\n",
       " 'j': 2,\n",
       " 'fri': 1,\n",
       " 'adjustment': 1,\n",
       " 'recharges': 1,\n",
       " 'mon': 1,\n",
       " 'recharge': 1,\n",
       " 'pretended': 1,\n",
       " \"n't\": 1,\n",
       " 'remove': 1,\n",
       " 'knew': 1,\n",
       " 'anything': 1,\n",
       " 'ruling': 1}"
      ]
     },
     "execution_count": 19,
     "metadata": {},
     "output_type": "execute_result"
    }
   ],
   "source": [
    "# Create dictionary of word counts\n",
    "word_counts = {}\n",
    "for i in range(len(text_words)):\n",
    "    word_counts[text_words[i]] = text_words.count(text_words[i])\n",
    "word_counts"
   ]
  },
  {
   "cell_type": "code",
   "execution_count": 20,
   "metadata": {},
   "outputs": [],
   "source": [
    "stopwords_list += ['--', 'xxxx']"
   ]
  },
  {
   "cell_type": "code",
   "execution_count": 21,
   "metadata": {},
   "outputs": [
    {
     "data": {
      "text/plain": [
       "{'1': 1,\n",
       " 'purchase': 5,\n",
       " 'eio.com': 1,\n",
       " 'order': 10,\n",
       " '2': 2,\n",
       " 'day': 1,\n",
       " 'shipping': 5,\n",
       " 'amount': 4,\n",
       " '57.00': 6,\n",
       " '-2': 1,\n",
       " 'receive': 2,\n",
       " 'product': 2,\n",
       " 'week': 1,\n",
       " 'sent': 2,\n",
       " 'followup': 1,\n",
       " 'email': 2,\n",
       " 'exact': 2,\n",
       " 'verbiage': 1,\n",
       " 'paid': 1,\n",
       " 'two': 1,\n",
       " 'days': 1,\n",
       " 'received': 1,\n",
       " '3': 1,\n",
       " 'company': 1,\n",
       " 'responded': 1,\n",
       " 'im': 1,\n",
       " 'sorry': 1,\n",
       " 'inform': 1,\n",
       " 'due': 3,\n",
       " 'unusually': 1,\n",
       " 'high': 2,\n",
       " 'volume': 1,\n",
       " 'shipped': 1,\n",
       " 'several': 1,\n",
       " 'weeks': 1,\n",
       " 'stock': 2,\n",
       " 'since': 1,\n",
       " 'early': 1,\n",
       " 'demand': 1,\n",
       " 'although': 1,\n",
       " 'continuing': 1,\n",
       " 'take': 1,\n",
       " 'orders': 3,\n",
       " 'guaranteeing': 1,\n",
       " 'place': 2,\n",
       " 'time': 1,\n",
       " 'masks': 1,\n",
       " 'date': 1,\n",
       " 'right': 1,\n",
       " 'however': 1,\n",
       " 'guarantee': 1,\n",
       " 'ship': 1,\n",
       " 'soon': 2,\n",
       " 'delivers': 1,\n",
       " 'us': 2,\n",
       " 'getting': 1,\n",
       " 'small': 1,\n",
       " 'shipments': 1,\n",
       " 'first': 2,\n",
       " 'come': 1,\n",
       " 'served': 1,\n",
       " 'basis': 1,\n",
       " 'appreciate': 1,\n",
       " 'patience': 1,\n",
       " 'fulfill': 1,\n",
       " 'quickly': 1,\n",
       " 'recommend': 1,\n",
       " 'keeping': 1,\n",
       " 'lose': 1,\n",
       " 'line': 1,\n",
       " 'cancel': 3,\n",
       " 'distributor': 1,\n",
       " 'moment': 1,\n",
       " 'prefer': 1,\n",
       " 'please': 1,\n",
       " 'note': 1,\n",
       " 'ask': 1,\n",
       " 'via': 1,\n",
       " 'accordance': 1,\n",
       " 'cancellation': 1,\n",
       " 'policy': 1,\n",
       " 'agreed': 1,\n",
       " 'checkout': 1,\n",
       " 'electronic': 1,\n",
       " 'inventory': 1,\n",
       " 'online': 1,\n",
       " 'xx/xx/xxxx': 10,\n",
       " 'requested': 2,\n",
       " 'canceled': 4,\n",
       " 'refund': 3,\n",
       " 'issued': 1,\n",
       " '5': 1,\n",
       " 'verification': 1,\n",
       " 'refunded': 2,\n",
       " 'items': 1,\n",
       " 'particulate': 1,\n",
       " 'respirator': 1,\n",
       " 'eaches/pack': 1,\n",
       " '45.00': 2,\n",
       " 'subtotal': 1,\n",
       " '12.00': 1,\n",
       " 'taxes': 1,\n",
       " '0.00': 1,\n",
       " 'total': 1,\n",
       " 'usd': 1,\n",
       " 'visa': 2,\n",
       " 'ending': 1,\n",
       " 'shopify_payments': 1,\n",
       " '52.00': 1,\n",
       " 'called': 4,\n",
       " 'disputed': 1,\n",
       " 'stated': 3,\n",
       " 'nothing': 1,\n",
       " 'needed': 1,\n",
       " 'submitted': 2,\n",
       " 'address': 1,\n",
       " 'issue': 1,\n",
       " 'recharged': 1,\n",
       " 'item': 1,\n",
       " 'removing': 1,\n",
       " 'back': 2,\n",
       " 'dispute': 2,\n",
       " 'transaction': 4,\n",
       " 'rebillmerchandiserobert': 2,\n",
       " 'j.': 1,\n",
       " 'httpseiocom.m': 2,\n",
       " 'ca': 2,\n",
       " 'purchased': 5,\n",
       " 'thu': 2,\n",
       " 'xx/xx/2020': 4,\n",
       " 'posted': 3,\n",
       " 'wed': 1,\n",
       " '2020': 1,\n",
       " 'appears': 3,\n",
       " 'statement': 3,\n",
       " 'rebill': 2,\n",
       " 'followed': 1,\n",
       " 'see': 1,\n",
       " 'status': 1,\n",
       " 'case': 4,\n",
       " 'documentation': 1,\n",
       " 'showing': 1,\n",
       " 'supposed': 1,\n",
       " 'submit': 1,\n",
       " 'speak': 1,\n",
       " 'manager': 2,\n",
       " 'ruled': 2,\n",
       " 'favor': 2,\n",
       " 'charge': 1,\n",
       " 'removed': 2,\n",
       " 'card': 1,\n",
       " 'capital': 3,\n",
       " 'one': 3,\n",
       " 'bill': 1,\n",
       " 'adjustmentmerchandiserobert': 1,\n",
       " 'j': 2,\n",
       " 'fri': 1,\n",
       " 'adjustment': 1,\n",
       " 'recharges': 1,\n",
       " 'mon': 1,\n",
       " 'recharge': 1,\n",
       " 'pretended': 1,\n",
       " \"n't\": 1,\n",
       " 'remove': 1,\n",
       " 'knew': 1,\n",
       " 'anything': 1,\n",
       " 'ruling': 1}"
      ]
     },
     "execution_count": 21,
     "metadata": {},
     "output_type": "execute_result"
    }
   ],
   "source": [
    "def process_narrative(narrative):\n",
    "    tokens = nltk.word_tokenize(narrative)\n",
    "    stopwords_removed = [token.lower() for token in tokens if token.lower() not in stopwords_list]\n",
    "    return stopwords_removed  \n",
    "\n",
    "text_words = process_narrative(text)\n",
    "\n",
    "word_counts = {}\n",
    "for i in range(len(text_words)):\n",
    "    word_counts[text_words[i]] = text_words.count(text_words[i])\n",
    "word_counts"
   ]
  },
  {
   "cell_type": "markdown",
   "metadata": {},
   "source": [
    "It seems there are a lot of numbers. Create a function to get rid of numbers from the list.  \n",
    "\n",
    "Note: this function also gets rid of strings with punctuation in it like 'xx/xx/xxxx' or \"n't\"."
   ]
  },
  {
   "cell_type": "code",
   "execution_count": 22,
   "metadata": {},
   "outputs": [],
   "source": [
    "def only_alpha(list):\n",
    "    new_list = [word for word in list if word.isalpha()]\n",
    "    return new_list"
   ]
  },
  {
   "cell_type": "code",
   "execution_count": 23,
   "metadata": {},
   "outputs": [],
   "source": [
    "text_words = only_alpha(text_words)"
   ]
  },
  {
   "cell_type": "markdown",
   "metadata": {},
   "source": [
    "Create function to make dictionary of word counts"
   ]
  },
  {
   "cell_type": "code",
   "execution_count": 24,
   "metadata": {},
   "outputs": [],
   "source": [
    "def create_word_count_dict(list):\n",
    "    word_counts = {}\n",
    "    for i in range(len(list)):\n",
    "        word_counts[list[i]] = list.count(list[i])\n",
    "        \n",
    "    # This line to sort the dictionary actually makes it a list of tuples\n",
    "    word_counts = sorted(word_counts.items(), key=lambda x: x[1], reverse=True)\n",
    "    \n",
    "    return word_counts"
   ]
  },
  {
   "cell_type": "code",
   "execution_count": 25,
   "metadata": {},
   "outputs": [
    {
     "data": {
      "text/plain": [
       "[('order', 10),\n",
       " ('purchase', 5),\n",
       " ('shipping', 5),\n",
       " ('purchased', 5),\n",
       " ('amount', 4),\n",
       " ('canceled', 4),\n",
       " ('called', 4),\n",
       " ('transaction', 4),\n",
       " ('case', 4),\n",
       " ('due', 3),\n",
       " ('orders', 3),\n",
       " ('cancel', 3),\n",
       " ('refund', 3),\n",
       " ('stated', 3),\n",
       " ('posted', 3),\n",
       " ('appears', 3),\n",
       " ('statement', 3),\n",
       " ('capital', 3),\n",
       " ('one', 3),\n",
       " ('receive', 2),\n",
       " ('product', 2),\n",
       " ('sent', 2),\n",
       " ('email', 2),\n",
       " ('exact', 2),\n",
       " ('high', 2),\n",
       " ('stock', 2),\n",
       " ('place', 2),\n",
       " ('soon', 2),\n",
       " ('us', 2),\n",
       " ('first', 2),\n",
       " ('requested', 2),\n",
       " ('refunded', 2),\n",
       " ('visa', 2),\n",
       " ('submitted', 2),\n",
       " ('back', 2),\n",
       " ('dispute', 2),\n",
       " ('rebillmerchandiserobert', 2),\n",
       " ('ca', 2),\n",
       " ('thu', 2),\n",
       " ('rebill', 2),\n",
       " ('manager', 2),\n",
       " ('ruled', 2),\n",
       " ('favor', 2),\n",
       " ('removed', 2),\n",
       " ('j', 2),\n",
       " ('day', 1),\n",
       " ('week', 1),\n",
       " ('followup', 1),\n",
       " ('verbiage', 1),\n",
       " ('paid', 1),\n",
       " ('two', 1),\n",
       " ('days', 1),\n",
       " ('received', 1),\n",
       " ('company', 1),\n",
       " ('responded', 1),\n",
       " ('im', 1),\n",
       " ('sorry', 1),\n",
       " ('inform', 1),\n",
       " ('unusually', 1),\n",
       " ('volume', 1),\n",
       " ('shipped', 1),\n",
       " ('several', 1),\n",
       " ('weeks', 1),\n",
       " ('since', 1),\n",
       " ('early', 1),\n",
       " ('demand', 1),\n",
       " ('although', 1),\n",
       " ('continuing', 1),\n",
       " ('take', 1),\n",
       " ('guaranteeing', 1),\n",
       " ('time', 1),\n",
       " ('masks', 1),\n",
       " ('date', 1),\n",
       " ('right', 1),\n",
       " ('however', 1),\n",
       " ('guarantee', 1),\n",
       " ('ship', 1),\n",
       " ('delivers', 1),\n",
       " ('getting', 1),\n",
       " ('small', 1),\n",
       " ('shipments', 1),\n",
       " ('come', 1),\n",
       " ('served', 1),\n",
       " ('basis', 1),\n",
       " ('appreciate', 1),\n",
       " ('patience', 1),\n",
       " ('fulfill', 1),\n",
       " ('quickly', 1),\n",
       " ('recommend', 1),\n",
       " ('keeping', 1),\n",
       " ('lose', 1),\n",
       " ('line', 1),\n",
       " ('distributor', 1),\n",
       " ('moment', 1),\n",
       " ('prefer', 1),\n",
       " ('please', 1),\n",
       " ('note', 1),\n",
       " ('ask', 1),\n",
       " ('via', 1),\n",
       " ('accordance', 1),\n",
       " ('cancellation', 1),\n",
       " ('policy', 1),\n",
       " ('agreed', 1),\n",
       " ('checkout', 1),\n",
       " ('electronic', 1),\n",
       " ('inventory', 1),\n",
       " ('online', 1),\n",
       " ('issued', 1),\n",
       " ('verification', 1),\n",
       " ('items', 1),\n",
       " ('particulate', 1),\n",
       " ('respirator', 1),\n",
       " ('subtotal', 1),\n",
       " ('taxes', 1),\n",
       " ('total', 1),\n",
       " ('usd', 1),\n",
       " ('ending', 1),\n",
       " ('disputed', 1),\n",
       " ('nothing', 1),\n",
       " ('needed', 1),\n",
       " ('address', 1),\n",
       " ('issue', 1),\n",
       " ('recharged', 1),\n",
       " ('item', 1),\n",
       " ('removing', 1),\n",
       " ('wed', 1),\n",
       " ('followed', 1),\n",
       " ('see', 1),\n",
       " ('status', 1),\n",
       " ('documentation', 1),\n",
       " ('showing', 1),\n",
       " ('supposed', 1),\n",
       " ('submit', 1),\n",
       " ('speak', 1),\n",
       " ('charge', 1),\n",
       " ('card', 1),\n",
       " ('bill', 1),\n",
       " ('adjustmentmerchandiserobert', 1),\n",
       " ('fri', 1),\n",
       " ('adjustment', 1),\n",
       " ('recharges', 1),\n",
       " ('mon', 1),\n",
       " ('recharge', 1),\n",
       " ('pretended', 1),\n",
       " ('remove', 1),\n",
       " ('knew', 1),\n",
       " ('anything', 1),\n",
       " ('ruling', 1)]"
      ]
     },
     "execution_count": 25,
     "metadata": {},
     "output_type": "execute_result"
    }
   ],
   "source": [
    "create_word_count_dict(text_words)"
   ]
  },
  {
   "cell_type": "markdown",
   "metadata": {},
   "source": [
    "I think FreqDist will do the same thing."
   ]
  },
  {
   "cell_type": "code",
   "execution_count": 26,
   "metadata": {},
   "outputs": [],
   "source": [
    "from nltk import FreqDist"
   ]
  },
  {
   "cell_type": "code",
   "execution_count": 27,
   "metadata": {},
   "outputs": [
    {
     "data": {
      "text/plain": [
       "FreqDist({'order': 10, 'purchase': 5, 'shipping': 5, 'purchased': 5, 'amount': 4, 'canceled': 4, 'called': 4, 'transaction': 4, 'case': 4, 'due': 3, ...})"
      ]
     },
     "execution_count": 27,
     "metadata": {},
     "output_type": "execute_result"
    }
   ],
   "source": [
    "FreqDist(text_words)"
   ]
  },
  {
   "cell_type": "code",
   "execution_count": 28,
   "metadata": {},
   "outputs": [
    {
     "data": {
      "text/plain": [
       "nltk.probability.FreqDist"
      ]
     },
     "execution_count": 28,
     "metadata": {},
     "output_type": "execute_result"
    }
   ],
   "source": [
    "type(FreqDist(text_words))"
   ]
  },
  {
   "cell_type": "markdown",
   "metadata": {},
   "source": [
    "Yes, but it's a weird data type."
   ]
  },
  {
   "cell_type": "code",
   "execution_count": 29,
   "metadata": {},
   "outputs": [
    {
     "data": {
      "text/plain": [
       "[('order', 10),\n",
       " ('purchase', 5),\n",
       " ('shipping', 5),\n",
       " ('purchased', 5),\n",
       " ('amount', 4),\n",
       " ('canceled', 4),\n",
       " ('called', 4),\n",
       " ('transaction', 4),\n",
       " ('case', 4),\n",
       " ('due', 3)]"
      ]
     },
     "execution_count": 29,
     "metadata": {},
     "output_type": "execute_result"
    }
   ],
   "source": [
    "FreqDist(text_words).most_common(10)"
   ]
  },
  {
   "cell_type": "markdown",
   "metadata": {},
   "source": [
    "Note how calling `most_common()` also creates a list of tuples."
   ]
  },
  {
   "cell_type": "code",
   "execution_count": 39,
   "metadata": {},
   "outputs": [
    {
     "data": {
      "image/png": "[encoded data removed]",
      "text/plain": [
       "<Figure size 432x288 with 1 Axes>"
      ]
     },
     "metadata": {
      "needs_background": "light"
     },
     "output_type": "display_data"
    },
    {
     "data": {
      "text/plain": [
       "<matplotlib.axes._subplots.AxesSubplot at 0x1e88bc8f2b0>"
      ]
     },
     "execution_count": 39,
     "metadata": {},
     "output_type": "execute_result"
    }
   ],
   "source": [
    "FreqDist(text_words).plot(10)"
   ]
  },
  {
   "cell_type": "markdown",
   "metadata": {},
   "source": [
    "### Let's try it for the next entries"
   ]
  },
  {
   "cell_type": "markdown",
   "metadata": {},
   "source": [
    "#### df.iloc[1]"
   ]
  },
  {
   "cell_type": "code",
   "execution_count": 31,
   "metadata": {},
   "outputs": [
    {
     "data": {
      "text/plain": [
       "product                             Credit card or prepaid card\n",
       "subproduct                                    Store credit card\n",
       "issue                                   Trouble using your card\n",
       "subissue      Credit card company won't increase or decrease...\n",
       "Name: 1, dtype: object"
      ]
     },
     "execution_count": 31,
     "metadata": {},
     "output_type": "execute_result"
    }
   ],
   "source": [
    "df.iloc[1][0:4]"
   ]
  },
  {
   "cell_type": "code",
   "execution_count": 32,
   "metadata": {},
   "outputs": [
    {
     "data": {
      "text/plain": [
       "'-- -- -- -- -- Forwarded message -- -- -- -- - From : XXXX XXXX XXXX Date : Tue, XX/XX/XXXXat XXXX XXXX Subject : Please Investigate Comenity Bank Retailers card scam To : XXXX Sent from my XXXX Hello my name is XXXX XXXX, I am being scammed by Comenity bank a credit card provider for companies The Childrens place, New York & Co. , Forever 21 and Victoria Secret. My original credit from XXXX was {$500.00} Comenity bank then lowers my limit to {$300.00} and began to charge overage fees along with late fees. I then began to pay close attention to my other cards to find that my limits were also changed on them as well incurring overages and late fees. \\nI reached out to the company Comenity bank they stated that they would change my credit limit to its original limits but did not. I reached out to them again and told them I will not summit any payment until my accounts are corrected. Comenity bank credit cards has impacted my credit scores plummeted to a negative status. Im currently paying the price due to the corruption in which has affected me in detrimental way. \\nI am now in debt over {$2000.00} due to the company charging overage fees as well as late fees even through COVID-19. The initial credit limits are fluctuating tremendously and the company charges major fees on each of those 4 accounts. They are not willing to correct my account and was nervous when I said I had an attorney, that is the reason Im reaching out to you. Im a XXXX  employee of 18yrs and this company is ruining my credit. PLZ HELP!!!!! \\n\\nMy name is XXXX XXXX, contact info is ( XXXX ) XXXX XXXX and/or XXXX. Thank you!!'"
      ]
     },
     "execution_count": 32,
     "metadata": {},
     "output_type": "execute_result"
    }
   ],
   "source": [
    "text = df['narrative'][1]\n",
    "text"
   ]
  },
  {
   "cell_type": "code",
   "execution_count": 33,
   "metadata": {},
   "outputs": [],
   "source": [
    "text_words = process_narrative(text)"
   ]
  },
  {
   "cell_type": "code",
   "execution_count": 34,
   "metadata": {},
   "outputs": [],
   "source": [
    "text_words = only_alpha(text_words)"
   ]
  },
  {
   "cell_type": "code",
   "execution_count": 35,
   "metadata": {},
   "outputs": [
    {
     "data": {
      "text/plain": [
       "[('credit', 7),\n",
       " ('fees', 6),\n",
       " ('comenity', 5),\n",
       " ('bank', 5),\n",
       " ('company', 4),\n",
       " ('late', 3),\n",
       " ('limits', 3),\n",
       " ('im', 3),\n",
       " ('card', 2),\n",
       " ('name', 2),\n",
       " ('original', 2),\n",
       " ('limit', 2),\n",
       " ('began', 2),\n",
       " ('overage', 2),\n",
       " ('cards', 2),\n",
       " ('well', 2),\n",
       " ('reached', 2),\n",
       " ('accounts', 2),\n",
       " ('due', 2),\n",
       " ('forwarded', 1),\n",
       " ('message', 1),\n",
       " ('date', 1),\n",
       " ('tue', 1),\n",
       " ('subject', 1),\n",
       " ('please', 1),\n",
       " ('investigate', 1),\n",
       " ('retailers', 1),\n",
       " ('scam', 1),\n",
       " ('sent', 1),\n",
       " ('hello', 1)]"
      ]
     },
     "execution_count": 35,
     "metadata": {},
     "output_type": "execute_result"
    }
   ],
   "source": [
    "FreqDist(text_words).most_common(30)"
   ]
  },
  {
   "cell_type": "markdown",
   "metadata": {},
   "source": [
    "#### df.iloc[2]"
   ]
  },
  {
   "cell_type": "code",
   "execution_count": 36,
   "metadata": {},
   "outputs": [
    {
     "data": {
      "text/plain": [
       "product             Checking or savings account\n",
       "subproduct                     Checking account\n",
       "issue                       Managing an account\n",
       "subissue      Problem using a debit or ATM card\n",
       "Name: 2, dtype: object"
      ]
     },
     "execution_count": 36,
     "metadata": {},
     "output_type": "execute_result"
    }
   ],
   "source": [
    "df.iloc[2][0:4]"
   ]
  },
  {
   "cell_type": "code",
   "execution_count": 37,
   "metadata": {},
   "outputs": [
    {
     "data": {
      "text/plain": [
       "[('wells', 7),\n",
       " ('fargo', 7),\n",
       " ('clearly', 5),\n",
       " ('fraudulent', 5),\n",
       " ('account', 4),\n",
       " ('legal', 3),\n",
       " ('agencies', 3),\n",
       " ('branch', 3),\n",
       " ('cards', 3),\n",
       " ('damages', 3),\n",
       " ('small', 3),\n",
       " ('claims', 3),\n",
       " ('lawsuit', 3),\n",
       " ('payment', 2),\n",
       " ('actually', 2),\n",
       " ('court', 2),\n",
       " ('charges', 2),\n",
       " ('debit', 2),\n",
       " ('required', 2),\n",
       " ('take', 2),\n",
       " ('business', 2),\n",
       " ('consumer', 2),\n",
       " ('protection', 2),\n",
       " ('immediately', 2),\n",
       " ('also', 2),\n",
       " ('punitive', 2),\n",
       " ('conduct', 2),\n",
       " ('forwarded', 1),\n",
       " ('message', 1),\n",
       " ('cc', 1)]"
      ]
     },
     "execution_count": 37,
     "metadata": {},
     "output_type": "execute_result"
    }
   ],
   "source": [
    "text = df['narrative'][2]\n",
    "text_words = process_narrative(text)\n",
    "text_words = only_alpha(text_words)\n",
    "FreqDist(text_words).most_common(30)"
   ]
  },
  {
   "cell_type": "code",
   "execution_count": 38,
   "metadata": {},
   "outputs": [
    {
     "data": {
      "text/plain": [
       "product                             Checking or savings account\n",
       "subproduct                                     Checking account\n",
       "issue                                       Managing an account\n",
       "subissue                      Problem using a debit or ATM card\n",
       "narrative     -- -- - Forwarded Message -- -- - From : XXXX ...\n",
       "Name: 2, dtype: object"
      ]
     },
     "execution_count": 38,
     "metadata": {},
     "output_type": "execute_result"
    }
   ],
   "source": [
    "df.iloc[2]"
   ]
  }
 ],
 "metadata": {
  "kernelspec": {
   "display_name": "Python 3",
   "language": "python",
   "name": "python3"
  },
  "language_info": {
   "codemirror_mode": {
    "name": "ipython",
    "version": 3
   },
   "file_extension": ".py",
   "mimetype": "text/x-python",
   "name": "python",
   "nbconvert_exporter": "python",
   "pygments_lexer": "ipython3",
   "version": "3.6.9"
  }
 },
 "nbformat": 4,
 "nbformat_minor": 4
}
