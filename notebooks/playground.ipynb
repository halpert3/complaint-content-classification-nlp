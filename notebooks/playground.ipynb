{
 "cells": [
  {
   "cell_type": "code",
   "execution_count": 133,
   "metadata": {},
   "outputs": [],
   "source": [
    "import numpy as np\n",
    "import nltk\n",
    "import pandas as pd\n",
    "# nltk.download('wordnet')\n",
    "from nltk.stem.wordnet import WordNetLemmatizer\n",
    "from nltk.corpus import stopwords\n",
    "import string\n",
    "import plotly\n",
    "import plotly.express as px\n",
    "from sklearn.feature_extraction.text import TfidfVectorizer, CountVectorizer\n",
    "from sklearn.decomposition import NMF, LatentDirichletAllocation\n",
    "import matplotlib.pyplot as plt"
   ]
  },
  {
   "cell_type": "markdown",
   "metadata": {},
   "source": [
    "# Playing with text and concatenation"
   ]
  },
  {
   "cell_type": "code",
   "execution_count": 66,
   "metadata": {},
   "outputs": [],
   "source": [
    "words = ['quick', 'brown', 'fox', 'jumped']"
   ]
  },
  {
   "cell_type": "code",
   "execution_count": 67,
   "metadata": {},
   "outputs": [
    {
     "data": {
      "text/plain": [
       "'quick brown fox jumped '"
      ]
     },
     "execution_count": 67,
     "metadata": {},
     "output_type": "execute_result"
    }
   ],
   "source": [
    "concat_words = ''\n",
    "for word in words:\n",
    "    concat_words += word + ' '\n",
    "concat_words"
   ]
  },
  {
   "cell_type": "code",
   "execution_count": 68,
   "metadata": {},
   "outputs": [],
   "source": [
    "def concat_words(list):\n",
    "    concat_words = ''\n",
    "    for word in list:\n",
    "        concat_words += word + ' '\n",
    "    return concat_words"
   ]
  },
  {
   "cell_type": "code",
   "execution_count": 69,
   "metadata": {},
   "outputs": [],
   "source": [
    "test = ['a','b','c','donkey', np.NaN]"
   ]
  },
  {
   "cell_type": "code",
   "execution_count": 70,
   "metadata": {},
   "outputs": [
    {
     "data": {
      "text/plain": [
       "['a', 'b', 'c', 'donkey']"
      ]
     },
     "execution_count": 70,
     "metadata": {},
     "output_type": "execute_result"
    }
   ],
   "source": [
    "test2 = [i for i in test if i is not np.nan]\n",
    "test2"
   ]
  },
  {
   "cell_type": "code",
   "execution_count": 71,
   "metadata": {},
   "outputs": [
    {
     "data": {
      "text/plain": [
       "'a b c donkey '"
      ]
     },
     "execution_count": 71,
     "metadata": {},
     "output_type": "execute_result"
    }
   ],
   "source": [
    "concat_words(test2)"
   ]
  },
  {
   "cell_type": "code",
   "execution_count": 72,
   "metadata": {},
   "outputs": [],
   "source": [
    "embed = [[1, 2, 3]]"
   ]
  },
  {
   "cell_type": "code",
   "execution_count": 73,
   "metadata": {},
   "outputs": [
    {
     "data": {
      "text/plain": [
       "[[1, 2, 3]]"
      ]
     },
     "execution_count": 73,
     "metadata": {},
     "output_type": "execute_result"
    }
   ],
   "source": [
    "embed"
   ]
  },
  {
   "cell_type": "code",
   "execution_count": 74,
   "metadata": {},
   "outputs": [
    {
     "data": {
      "text/plain": [
       "[1, 2, 3]"
      ]
     },
     "execution_count": 74,
     "metadata": {},
     "output_type": "execute_result"
    }
   ],
   "source": [
    "embed[0]"
   ]
  },
  {
   "cell_type": "code",
   "execution_count": 75,
   "metadata": {},
   "outputs": [
    {
     "data": {
      "text/plain": [
       "[1, 2, 3, 4]"
      ]
     },
     "execution_count": 75,
     "metadata": {},
     "output_type": "execute_result"
    }
   ],
   "source": [
    "[1,2] + [3,4]"
   ]
  },
  {
   "cell_type": "code",
   "execution_count": 76,
   "metadata": {},
   "outputs": [
    {
     "data": {
      "text/plain": [
       "[['a', 'b'], ['c']]"
      ]
     },
     "execution_count": 76,
     "metadata": {},
     "output_type": "execute_result"
    }
   ],
   "source": [
    "[['a', 'b']] + [['c']]"
   ]
  },
  {
   "cell_type": "markdown",
   "metadata": {},
   "source": [
    "# Lemmatization"
   ]
  },
  {
   "cell_type": "code",
   "execution_count": 77,
   "metadata": {},
   "outputs": [],
   "source": [
    "lemm = WordNetLemmatizer()"
   ]
  },
  {
   "cell_type": "code",
   "execution_count": 78,
   "metadata": {},
   "outputs": [
    {
     "data": {
      "text/plain": [
       "'run'"
      ]
     },
     "execution_count": 78,
     "metadata": {},
     "output_type": "execute_result"
    }
   ],
   "source": [
    "lemm.lemmatize('running', 'v')"
   ]
  },
  {
   "cell_type": "code",
   "execution_count": 79,
   "metadata": {},
   "outputs": [
    {
     "data": {
      "text/plain": [
       "'reporting'"
      ]
     },
     "execution_count": 79,
     "metadata": {},
     "output_type": "execute_result"
    }
   ],
   "source": [
    "lemm.lemmatize('reporting')"
   ]
  },
  {
   "cell_type": "code",
   "execution_count": 80,
   "metadata": {},
   "outputs": [
    {
     "data": {
      "text/plain": [
       "'report'"
      ]
     },
     "execution_count": 80,
     "metadata": {},
     "output_type": "execute_result"
    }
   ],
   "source": [
    "lemm.lemmatize('reports')"
   ]
  },
  {
   "cell_type": "code",
   "execution_count": 81,
   "metadata": {},
   "outputs": [
    {
     "data": {
      "text/plain": [
       "['quick', 'brown', 'fox', 'jumped']"
      ]
     },
     "execution_count": 81,
     "metadata": {},
     "output_type": "execute_result"
    }
   ],
   "source": [
    "lista =[]\n",
    "for idx, word in enumerate(words):\n",
    "    lista.append(word)\n",
    "lista"
   ]
  },
  {
   "cell_type": "code",
   "execution_count": 82,
   "metadata": {},
   "outputs": [],
   "source": [
    "processed1 = ['original','messages','sent', 'bank','subject'] \n",
    "processed2 = ['loved', 'banks', 'feet', 'reporting']"
   ]
  },
  {
   "cell_type": "code",
   "execution_count": 83,
   "metadata": {},
   "outputs": [],
   "source": [
    "def make_lemma(list_of_words):\n",
    "    list_to_return = []\n",
    "    for idx, word in enumerate(list_of_words):\n",
    "        if word == 'reporting':\n",
    "            word = 'reports'\n",
    "        if (word == 'pass' or word == 'blue'):\n",
    "            continue\n",
    "        list_to_return.append(lemm.lemmatize(word))\n",
    "    return list_to_return"
   ]
  },
  {
   "cell_type": "code",
   "execution_count": 84,
   "metadata": {},
   "outputs": [
    {
     "data": {
      "text/plain": [
       "['original', 'message', 'sent', 'bank', 'subject']"
      ]
     },
     "execution_count": 84,
     "metadata": {},
     "output_type": "execute_result"
    }
   ],
   "source": [
    "make_lemma(processed1)"
   ]
  },
  {
   "cell_type": "code",
   "execution_count": 85,
   "metadata": {},
   "outputs": [
    {
     "data": {
      "text/plain": [
       "['loved', 'bank', 'foot', 'report']"
      ]
     },
     "execution_count": 85,
     "metadata": {},
     "output_type": "execute_result"
    }
   ],
   "source": [
    "make_lemma(processed2)"
   ]
  },
  {
   "cell_type": "code",
   "execution_count": 86,
   "metadata": {},
   "outputs": [],
   "source": [
    "processed3 = ['loved', 'pass', 'blue', 'banks', 'feet', 'reporting', 'blue bayou']"
   ]
  },
  {
   "cell_type": "code",
   "execution_count": 87,
   "metadata": {},
   "outputs": [],
   "source": [
    "words_to_skip = ['pass', 'blue']"
   ]
  },
  {
   "cell_type": "code",
   "execution_count": 88,
   "metadata": {},
   "outputs": [],
   "source": [
    "def make_lemma(list_of_words):\n",
    "    list_to_return = []\n",
    "    for idx, word in enumerate(list_of_words):\n",
    "        if word == 'reporting':\n",
    "            word = 'reports'\n",
    "        if word in words_to_skip:\n",
    "            continue\n",
    "        list_to_return.append(lemm.lemmatize(word))\n",
    "    return list_to_return"
   ]
  },
  {
   "cell_type": "code",
   "execution_count": 89,
   "metadata": {},
   "outputs": [
    {
     "data": {
      "text/plain": [
       "['loved', 'pass', 'blue', 'banks', 'feet', 'reporting', 'blue bayou']"
      ]
     },
     "execution_count": 89,
     "metadata": {},
     "output_type": "execute_result"
    }
   ],
   "source": [
    "processed3"
   ]
  },
  {
   "cell_type": "code",
   "execution_count": 90,
   "metadata": {},
   "outputs": [
    {
     "data": {
      "text/plain": [
       "['loved', 'bank', 'foot', 'report', 'blue bayou']"
      ]
     },
     "execution_count": 90,
     "metadata": {},
     "output_type": "execute_result"
    }
   ],
   "source": [
    "make_lemma(processed3)"
   ]
  },
  {
   "cell_type": "code",
   "execution_count": 91,
   "metadata": {},
   "outputs": [
    {
     "data": {
      "text/plain": [
       "['string bing', 'bang lang']"
      ]
     },
     "execution_count": 91,
     "metadata": {},
     "output_type": "execute_result"
    }
   ],
   "source": [
    "['string bing'] + ['bang lang']"
   ]
  },
  {
   "cell_type": "markdown",
   "metadata": {},
   "source": [
    "# Plotly"
   ]
  },
  {
   "cell_type": "code",
   "execution_count": 92,
   "metadata": {},
   "outputs": [],
   "source": [
    "df = pd.DataFrame({\n",
    "    'col1': [2, 2, 1, 3, 10, 5],\n",
    "    'col2': [2, 1, 9, 8, 7, 4],\n",
    "    'col3': [4, 1, 9, 4, 2, 3]\n",
    "    })"
   ]
  },
  {
   "cell_type": "code",
   "execution_count": 93,
   "metadata": {},
   "outputs": [
    {
     "data": {
      "text/html": [
       "<div>\n",
       "<style scoped>\n",
       "    .dataframe tbody tr th:only-of-type {\n",
       "        vertical-align: middle;\n",
       "    }\n",
       "\n",
       "    .dataframe tbody tr th {\n",
       "        vertical-align: top;\n",
       "    }\n",
       "\n",
       "    .dataframe thead th {\n",
       "        text-align: right;\n",
       "    }\n",
       "</style>\n",
       "<table border=\"1\" class=\"dataframe\">\n",
       "  <thead>\n",
       "    <tr style=\"text-align: right;\">\n",
       "      <th></th>\n",
       "      <th>col1</th>\n",
       "      <th>col2</th>\n",
       "      <th>col3</th>\n",
       "    </tr>\n",
       "  </thead>\n",
       "  <tbody>\n",
       "    <tr>\n",
       "      <th>0</th>\n",
       "      <td>2</td>\n",
       "      <td>2</td>\n",
       "      <td>4</td>\n",
       "    </tr>\n",
       "    <tr>\n",
       "      <th>1</th>\n",
       "      <td>2</td>\n",
       "      <td>1</td>\n",
       "      <td>1</td>\n",
       "    </tr>\n",
       "    <tr>\n",
       "      <th>2</th>\n",
       "      <td>1</td>\n",
       "      <td>9</td>\n",
       "      <td>9</td>\n",
       "    </tr>\n",
       "    <tr>\n",
       "      <th>3</th>\n",
       "      <td>3</td>\n",
       "      <td>8</td>\n",
       "      <td>4</td>\n",
       "    </tr>\n",
       "    <tr>\n",
       "      <th>4</th>\n",
       "      <td>10</td>\n",
       "      <td>7</td>\n",
       "      <td>2</td>\n",
       "    </tr>\n",
       "    <tr>\n",
       "      <th>5</th>\n",
       "      <td>5</td>\n",
       "      <td>4</td>\n",
       "      <td>3</td>\n",
       "    </tr>\n",
       "  </tbody>\n",
       "</table>\n",
       "</div>"
      ],
      "text/plain": [
       "   col1  col2  col3\n",
       "0     2     2     4\n",
       "1     2     1     1\n",
       "2     1     9     9\n",
       "3     3     8     4\n",
       "4    10     7     2\n",
       "5     5     4     3"
      ]
     },
     "execution_count": 93,
     "metadata": {},
     "output_type": "execute_result"
    }
   ],
   "source": [
    "df"
   ]
  },
  {
   "cell_type": "code",
   "execution_count": 94,
   "metadata": {},
   "outputs": [
    {
     "data": {
      "text/plain": [
       "col1    2\n",
       "col2    1\n",
       "col3    1\n",
       "Name: 1, dtype: int64"
      ]
     },
     "execution_count": 94,
     "metadata": {},
     "output_type": "execute_result"
    }
   ],
   "source": [
    "df.iloc[1]"
   ]
  },
  {
   "cell_type": "code",
   "execution_count": 95,
   "metadata": {},
   "outputs": [
    {
     "data": {
      "text/html": [
       "<div>\n",
       "<style scoped>\n",
       "    .dataframe tbody tr th:only-of-type {\n",
       "        vertical-align: middle;\n",
       "    }\n",
       "\n",
       "    .dataframe tbody tr th {\n",
       "        vertical-align: top;\n",
       "    }\n",
       "\n",
       "    .dataframe thead th {\n",
       "        text-align: right;\n",
       "    }\n",
       "</style>\n",
       "<table border=\"1\" class=\"dataframe\">\n",
       "  <thead>\n",
       "    <tr style=\"text-align: right;\">\n",
       "      <th></th>\n",
       "      <th>col1</th>\n",
       "      <th>col2</th>\n",
       "      <th>col3</th>\n",
       "    </tr>\n",
       "  </thead>\n",
       "  <tbody>\n",
       "    <tr>\n",
       "      <th>1</th>\n",
       "      <td>2</td>\n",
       "      <td>1</td>\n",
       "      <td>1</td>\n",
       "    </tr>\n",
       "  </tbody>\n",
       "</table>\n",
       "</div>"
      ],
      "text/plain": [
       "   col1  col2  col3\n",
       "1     2     1     1"
      ]
     },
     "execution_count": 95,
     "metadata": {},
     "output_type": "execute_result"
    }
   ],
   "source": [
    "df.loc[[1]]"
   ]
  },
  {
   "cell_type": "code",
   "execution_count": 96,
   "metadata": {},
   "outputs": [
    {
     "data": {
      "text/html": [
       "<div>\n",
       "<style scoped>\n",
       "    .dataframe tbody tr th:only-of-type {\n",
       "        vertical-align: middle;\n",
       "    }\n",
       "\n",
       "    .dataframe tbody tr th {\n",
       "        vertical-align: top;\n",
       "    }\n",
       "\n",
       "    .dataframe thead th {\n",
       "        text-align: right;\n",
       "    }\n",
       "</style>\n",
       "<table border=\"1\" class=\"dataframe\">\n",
       "  <thead>\n",
       "    <tr style=\"text-align: right;\">\n",
       "      <th></th>\n",
       "      <th>col1</th>\n",
       "      <th>col2</th>\n",
       "      <th>col3</th>\n",
       "    </tr>\n",
       "  </thead>\n",
       "  <tbody>\n",
       "    <tr>\n",
       "      <th>1</th>\n",
       "      <td>2</td>\n",
       "      <td>1</td>\n",
       "      <td>1</td>\n",
       "    </tr>\n",
       "  </tbody>\n",
       "</table>\n",
       "</div>"
      ],
      "text/plain": [
       "   col1  col2  col3\n",
       "1     2     1     1"
      ]
     },
     "execution_count": 96,
     "metadata": {},
     "output_type": "execute_result"
    }
   ],
   "source": [
    "values = df.loc[[1]]\n",
    "values"
   ]
  },
  {
   "cell_type": "code",
   "execution_count": 97,
   "metadata": {},
   "outputs": [],
   "source": [
    "# fig = px.pie(df, values=df['col1'])\n",
    "# fig.show()"
   ]
  },
  {
   "cell_type": "code",
   "execution_count": 98,
   "metadata": {},
   "outputs": [],
   "source": [
    "# fig = px.pie(df, values=df.loc[0])\n",
    "# fig.show()"
   ]
  },
  {
   "cell_type": "code",
   "execution_count": 99,
   "metadata": {},
   "outputs": [],
   "source": [
    "# df.loc[2]"
   ]
  },
  {
   "cell_type": "code",
   "execution_count": 100,
   "metadata": {},
   "outputs": [],
   "source": [
    "# fig = px.pie(df.T, values=2)\n",
    "# fig.show()"
   ]
  },
  {
   "cell_type": "markdown",
   "metadata": {},
   "source": [
    "# Looping over dataframe to process text"
   ]
  },
  {
   "cell_type": "code",
   "execution_count": 101,
   "metadata": {},
   "outputs": [],
   "source": [
    "data = pd.DataFrame({\n",
    "    'class': ['credit', 'loan', 'retail', 'credit'],\n",
    "    'narrative': ['-- -- -- -- -- 1. ) XXXX XXXX, XXXX a purchase with EIO.com ( order # XXXX ) with 2 days shipping for the amount of {$57.00}. \\n\\n-- -- -- -- -- -2. ) Did not receive the product after a week, so I sent a followup email ; with the exact verbiage : \" I paid for two days shipping and have not received my order \\'\\' on XXXX XXXX. \\n\\n-- -- -- -- -- 3. ) Company Responded on on XXXX XXXX : \" Im sorry to inform you that due to unusually high order volume, your order has not shipped and XXXX not be for several weeks. XXXX has been out of stock since early XXXX due to high demand, although they are continuing to take orders and guaranteeing that we will receive orders we place with them in due time. As such we have masks on order but we do not have an exact shipping date from XXXX right now, however we can guarantee we will ship as soon as soon as XXXX delivers product to us. We have been getting small shipments and shipping those on a first come, first served basis, so we appreciate your patience as we fulfill these orders as quickly as we can. \\n\\nWe recommend keeping your order as you will lose your place in line if you cancel, and no other distributor has stock at the moment. If you do prefer to cancel, please note we ask that you do so via email, we will then cancel in accordance with our cancellation policy which was agreed to at checkout. \\nXXXX, XXXX XXXX. \\nElectronic Inventory Online -- -- -- -- -- -- -- -- -- -- -- -- -- -- -- -- -- -- -- -- -- XXXX XXXX XXXX XXXX -- -- -- XXXX. ) XX/XX/XXXX, requested for the order to be canceled and a refund to be issued. \\n\\n-- -- -- 5. ) XX/XX/XXXX : XXXX canceled the order and sent a verification : XXXX XXXX XXXX Your order has been canceled Refunded Items XXXX XXXX Particulate Respirator, XXXX, XXXX eaches/pack 2 Refunded {$45.00} Subtotal {$45.00} Shipping {$12.00} Taxes {$0.00} Total {$57.00} USD Visa ( ending in XXXX XXXX {$57.00} Refund Shopify_payments - {$52.00} -- -- XX/XX/XXXX, Called in and disputed the amount. XXXX stated nothing needed to be submitted and they will address the issue. \\n\\n-- -- XX/XX/XXXX, XXXX recharged me for the same item after removing it on XX/XX/XXXX. Called back in to dispute this amount again. \\n\\nTRANSACTION REBILLMerchandiseRobert J. XXXX {$57.00} HTTPSEIOCOM.M, CA XXXX Purchased : Thu, XX/XX/2020 Posted : Wed, XXXX XXXX, 2020 Purchased By : XXXX XXXX Appears on the statement as : TRANSACTION REBILL HTTPSEIOCOM.M CA XXXX US XXXX - XX/XX/XXXX, followed up to see the status of the case. Submitted documentation showing XXXX canceled the order and was supposed to submit a refund. \\n\\n-- - XX/XX/XXXX, Called back in to speak to the manager on the case. He stated the dispute was ruled in favor of me, and the charge will be removed from my card. \\n\\n-- -- XX/XX/XXXX, Capital One removed the purchase off the bill. \\nPURCHASE ADJUSTMENTMerchandiseRobert J. ... - {$57.00} Posted : Fri, XX/XX/2020 Purchased By : XXXX XXXX Appears on statement as : PURCHASE ADJUSTMENT XXXX XXXX -- XXXX XXXX Capital One recharges me the same amount. \\nXX/XX/XXXX TRANSACTION REBILLMerchandiseRobert J. ... {$57.00} Purchased : Thu, XX/XX/2020 Posted : Mon, XX/XX/2020 Purchased By : XXXX XXXX Appears on statement as : TRANSACTION REBILL XXXX XXXX -- -- XX/XX/XXXX -- Called Capital One requested why this was recharge. They stated Visa ruled against my case. They pretended that they didn\\'t remove the purchase or knew anything about the case manager ruling in my favor.',\n",
    "                  '-- -- -- -- -- Forwarded message -- -- -- -- - From : XXXX XXXX XXXX Date : Tue, XX/XX/XXXXat XXXX XXXX Subject : Please Investigate Comenity Bank Retailers card scam To : XXXX Sent from my XXXX Hello my name is XXXX XXXX, I am being scammed by Comenity bank a credit card provider for companies The Childrens place, New York & Co. , Forever 21 and Victoria Secret. My original credit from XXXX was {$500.00} Comenity bank then lowers my limit to {$300.00} and began to charge overage fees along with late fees. I then began to pay close attention to my other cards to find that my limits were also changed on them as well incurring overages and late fees. \\nI reached out to the company Comenity bank they stated that they would change my credit limit to its original limits but did not. I reached out to them again and told them I will not summit any payment until my accounts are corrected. Comenity bank credit cards has impacted my credit scores plummeted to a negative status. Im currently paying the price due to the corruption in which has affected me in detrimental way. \\nI am now in debt over {$2000.00} due to the company charging overage fees as well as late fees even through COVID-19. The initial credit limits are fluctuating tremendously and the company charges major fees on each of those 4 accounts. They are not willing to correct my account and was nervous when I said I had an attorney, that is the reason Im reaching out to you. Im a XXXX  employee of 18yrs and this company is ruining my credit. PLZ HELP!!!!! \\n\\nMy name is XXXX XXXX, contact info is ( XXXX ) XXXX XXXX and/or XXXX. Thank you!!',\n",
    "                 '-- -- - XXXX, XXXX, XX/XX/2020 Payment Histories Missing On My Credit Report -- -- Specialized Loan Servicing ( SLS ) has made the mistake to put my account under forbearance in XXXX 2020, without my authorization or knowledge ( As a matter of fact, I have automatic payment setup. In each month \\'s XXXX, the monthly mortgage was paid in full ). \\n\\nI have noticed this issue ( my account was marked as \" forbearance \\'\\' ) in XX/XX/2020 on my credit report ( when I tried to get a new home loan from another new bank ), I have contacted them immediately and asked them to fix this error and provide me a letter ( details please see below asks ). The \" forbearance \\'\\' issue itself seemed to be fixed by now. However, on my credit report, the payment histories for XXXX, XXXX, XX/XX/2020 were all missing. My new bank will not be able to approve my new loan because of these issues of missing payment histories. \\n\\nI have contacted Specialized Loan Servicing more than 20 times since XX/XX/XXXX by phone to ask SLS to do 2 things : ( 1 ) report my XXXX, XXXX, XX/XX/2020 payment histories to XXXX, XXXX, XXXX  to fix the missing data issue. \\n\\n( 2 ) Provide me a letter with shows my account has never been under forbearance and my payment histories for all past 12 months.\\n\\nHowever, after waiting for more than 3 weeks, and countless emails / phone calls / talks with multiple supervisors, I have not been able to get either one of the above 2 things.\\n\\nWithout this issue fixed, My new bank can not process my new loan application, therefore I will need SLS \\'s help immediately to get this fixed.',\n",
    "                 'Make a point to try to make it to the homes']\n",
    "    })"
   ]
  },
  {
   "cell_type": "code",
   "execution_count": 102,
   "metadata": {},
   "outputs": [
    {
     "data": {
      "text/html": [
       "<div>\n",
       "<style scoped>\n",
       "    .dataframe tbody tr th:only-of-type {\n",
       "        vertical-align: middle;\n",
       "    }\n",
       "\n",
       "    .dataframe tbody tr th {\n",
       "        vertical-align: top;\n",
       "    }\n",
       "\n",
       "    .dataframe thead th {\n",
       "        text-align: right;\n",
       "    }\n",
       "</style>\n",
       "<table border=\"1\" class=\"dataframe\">\n",
       "  <thead>\n",
       "    <tr style=\"text-align: right;\">\n",
       "      <th></th>\n",
       "      <th>class</th>\n",
       "      <th>narrative</th>\n",
       "    </tr>\n",
       "  </thead>\n",
       "  <tbody>\n",
       "    <tr>\n",
       "      <th>0</th>\n",
       "      <td>credit</td>\n",
       "      <td>-- -- -- -- -- 1. ) XXXX XXXX, XXXX a purchase...</td>\n",
       "    </tr>\n",
       "    <tr>\n",
       "      <th>1</th>\n",
       "      <td>loan</td>\n",
       "      <td>-- -- -- -- -- Forwarded message -- -- -- -- -...</td>\n",
       "    </tr>\n",
       "    <tr>\n",
       "      <th>2</th>\n",
       "      <td>retail</td>\n",
       "      <td>-- -- - XXXX, XXXX, XX/XX/2020 Payment Histori...</td>\n",
       "    </tr>\n",
       "    <tr>\n",
       "      <th>3</th>\n",
       "      <td>credit</td>\n",
       "      <td>Make a point to try to make it to the homes</td>\n",
       "    </tr>\n",
       "  </tbody>\n",
       "</table>\n",
       "</div>"
      ],
      "text/plain": [
       "    class                                          narrative\n",
       "0  credit  -- -- -- -- -- 1. ) XXXX XXXX, XXXX a purchase...\n",
       "1    loan  -- -- -- -- -- Forwarded message -- -- -- -- -...\n",
       "2  retail  -- -- - XXXX, XXXX, XX/XX/2020 Payment Histori...\n",
       "3  credit        Make a point to try to make it to the homes"
      ]
     },
     "execution_count": 102,
     "metadata": {},
     "output_type": "execute_result"
    }
   ],
   "source": [
    "data"
   ]
  },
  {
   "cell_type": "code",
   "execution_count": 103,
   "metadata": {},
   "outputs": [],
   "source": [
    "stopwords_list = stopwords.words('english') + list(string.punctuation)\n",
    "stopwords_list += [\"''\", '\"\"', '...', '``']\n",
    "stopwords_list += ['--', 'xxxx']"
   ]
  },
  {
   "cell_type": "code",
   "execution_count": 104,
   "metadata": {},
   "outputs": [],
   "source": [
    "def process_narrative(narrative):\n",
    "    tokens = nltk.word_tokenize(narrative)\n",
    "    stopwords_removed = [token.lower() for token in tokens if token.lower() not in stopwords_list]\n",
    "    \n",
    "    # adding line to remove all tokens with numbers and punctuation\n",
    "    stopwords_punc_and_numbers_removed = [word for word in stopwords_removed if word.isalpha()]\n",
    "    \n",
    "    return stopwords_punc_and_numbers_removed  "
   ]
  },
  {
   "cell_type": "code",
   "execution_count": 105,
   "metadata": {},
   "outputs": [
    {
     "data": {
      "text/plain": [
       "['purchase', 'order', 'days', 'shipping', 'amount']"
      ]
     },
     "execution_count": 105,
     "metadata": {},
     "output_type": "execute_result"
    }
   ],
   "source": [
    "processed_narr_1 = process_narrative(data.loc[0]['narrative'])\n",
    "processed_narr_1[:5]"
   ]
  },
  {
   "cell_type": "markdown",
   "metadata": {},
   "source": [
    "You need to add lemmatization and then combine them into a single space separated string."
   ]
  },
  {
   "cell_type": "code",
   "execution_count": 106,
   "metadata": {},
   "outputs": [],
   "source": [
    "lemm = WordNetLemmatizer()"
   ]
  },
  {
   "cell_type": "code",
   "execution_count": 107,
   "metadata": {},
   "outputs": [],
   "source": [
    "def concat_words(list_of_words):\n",
    "    # remove any NaN's\n",
    "    # list_of_words = [i for i in list if i is not np.nan]\n",
    "\n",
    "    concat_words = ''\n",
    "    for word in list_of_words:\n",
    "        concat_words += word + ' '\n",
    "    return concat_words.strip()"
   ]
  },
  {
   "cell_type": "code",
   "execution_count": 108,
   "metadata": {},
   "outputs": [],
   "source": [
    "def make_lemma(list_of_words):\n",
    "    # remove any NaN's\n",
    "    list_of_words = [i for i in list_of_words if i is not np.nan]\n",
    "    \n",
    "    # lemmatize each word\n",
    "    lemmatized_list = []\n",
    "    for idx, word in enumerate(list_of_words):\n",
    "        lemmatized_list.append(lemm.lemmatize(word))\n",
    "    \n",
    "    # make the list into a single string with the words separated by ' '\n",
    "    concatenated_string = concat_words(lemmatized_list)\n",
    "    return concatenated_string"
   ]
  },
  {
   "cell_type": "code",
   "execution_count": 109,
   "metadata": {},
   "outputs": [
    {
     "data": {
      "text/plain": [
       "'purchase order day shipping amount receive product week sent'"
      ]
     },
     "execution_count": 109,
     "metadata": {},
     "output_type": "execute_result"
    }
   ],
   "source": [
    "make_lemma(processed_narr_1)[0:60]"
   ]
  },
  {
   "cell_type": "code",
   "execution_count": 110,
   "metadata": {},
   "outputs": [
    {
     "data": {
      "text/html": [
       "<div>\n",
       "<style scoped>\n",
       "    .dataframe tbody tr th:only-of-type {\n",
       "        vertical-align: middle;\n",
       "    }\n",
       "\n",
       "    .dataframe tbody tr th {\n",
       "        vertical-align: top;\n",
       "    }\n",
       "\n",
       "    .dataframe thead th {\n",
       "        text-align: right;\n",
       "    }\n",
       "</style>\n",
       "<table border=\"1\" class=\"dataframe\">\n",
       "  <thead>\n",
       "    <tr style=\"text-align: right;\">\n",
       "      <th></th>\n",
       "      <th>class</th>\n",
       "      <th>narrative</th>\n",
       "    </tr>\n",
       "  </thead>\n",
       "  <tbody>\n",
       "    <tr>\n",
       "      <th>0</th>\n",
       "      <td>credit</td>\n",
       "      <td>-- -- -- -- -- 1. ) XXXX XXXX, XXXX a purchase...</td>\n",
       "    </tr>\n",
       "    <tr>\n",
       "      <th>1</th>\n",
       "      <td>loan</td>\n",
       "      <td>-- -- -- -- -- Forwarded message -- -- -- -- -...</td>\n",
       "    </tr>\n",
       "    <tr>\n",
       "      <th>2</th>\n",
       "      <td>retail</td>\n",
       "      <td>-- -- - XXXX, XXXX, XX/XX/2020 Payment Histori...</td>\n",
       "    </tr>\n",
       "    <tr>\n",
       "      <th>3</th>\n",
       "      <td>credit</td>\n",
       "      <td>Make a point to try to make it to the homes</td>\n",
       "    </tr>\n",
       "  </tbody>\n",
       "</table>\n",
       "</div>"
      ],
      "text/plain": [
       "    class                                          narrative\n",
       "0  credit  -- -- -- -- -- 1. ) XXXX XXXX, XXXX a purchase...\n",
       "1    loan  -- -- -- -- -- Forwarded message -- -- -- -- -...\n",
       "2  retail  -- -- - XXXX, XXXX, XX/XX/2020 Payment Histori...\n",
       "3  credit        Make a point to try to make it to the homes"
      ]
     },
     "execution_count": 110,
     "metadata": {},
     "output_type": "execute_result"
    }
   ],
   "source": [
    "data"
   ]
  },
  {
   "cell_type": "code",
   "execution_count": 111,
   "metadata": {},
   "outputs": [
    {
     "data": {
      "text/html": [
       "<div>\n",
       "<style scoped>\n",
       "    .dataframe tbody tr th:only-of-type {\n",
       "        vertical-align: middle;\n",
       "    }\n",
       "\n",
       "    .dataframe tbody tr th {\n",
       "        vertical-align: top;\n",
       "    }\n",
       "\n",
       "    .dataframe thead th {\n",
       "        text-align: right;\n",
       "    }\n",
       "</style>\n",
       "<table border=\"1\" class=\"dataframe\">\n",
       "  <thead>\n",
       "    <tr style=\"text-align: right;\">\n",
       "      <th></th>\n",
       "      <th>class</th>\n",
       "      <th>narrative</th>\n",
       "    </tr>\n",
       "  </thead>\n",
       "  <tbody>\n",
       "    <tr>\n",
       "      <th>0</th>\n",
       "      <td>credit</td>\n",
       "      <td>purchase order day shipping amount receive pro...</td>\n",
       "    </tr>\n",
       "    <tr>\n",
       "      <th>1</th>\n",
       "      <td>loan</td>\n",
       "      <td>forwarded message date tue subject please inve...</td>\n",
       "    </tr>\n",
       "    <tr>\n",
       "      <th>2</th>\n",
       "      <td>retail</td>\n",
       "      <td>payment history missing credit report speciali...</td>\n",
       "    </tr>\n",
       "    <tr>\n",
       "      <th>3</th>\n",
       "      <td>credit</td>\n",
       "      <td>make point try make home</td>\n",
       "    </tr>\n",
       "  </tbody>\n",
       "</table>\n",
       "</div>"
      ],
      "text/plain": [
       "    class                                          narrative\n",
       "0  credit  purchase order day shipping amount receive pro...\n",
       "1    loan  forwarded message date tue subject please inve...\n",
       "2  retail  payment history missing credit report speciali...\n",
       "3  credit                           make point try make home"
      ]
     },
     "execution_count": 111,
     "metadata": {},
     "output_type": "execute_result"
    }
   ],
   "source": [
    "for i in range(len(data)):\n",
    "    processed_narr = process_narrative(data['narrative'].loc[i])\n",
    "    narr = make_lemma(processed_narr)\n",
    "    data['narrative'].loc[i] = narr\n",
    "data"
   ]
  },
  {
   "cell_type": "markdown",
   "metadata": {},
   "source": [
    "Now see if it works with a TF-IDF"
   ]
  },
  {
   "cell_type": "code",
   "execution_count": 112,
   "metadata": {},
   "outputs": [],
   "source": [
    "vectorizer = TfidfVectorizer()\n",
    "X = vectorizer.fit_transform(data['narrative'])\n",
    "feature_names = vectorizer.get_feature_names()\n",
    "X_dense = X.T.todense()"
   ]
  },
  {
   "cell_type": "code",
   "execution_count": 113,
   "metadata": {},
   "outputs": [],
   "source": [
    "X = X.todense()"
   ]
  },
  {
   "cell_type": "code",
   "execution_count": 114,
   "metadata": {},
   "outputs": [
    {
     "data": {
      "text/plain": [
       "(4, 279)"
      ]
     },
     "execution_count": 114,
     "metadata": {},
     "output_type": "execute_result"
    }
   ],
   "source": [
    "X.shape"
   ]
  },
  {
   "cell_type": "code",
   "execution_count": 115,
   "metadata": {},
   "outputs": [
    {
     "data": {
      "text/html": [
       "<div>\n",
       "<style scoped>\n",
       "    .dataframe tbody tr th:only-of-type {\n",
       "        vertical-align: middle;\n",
       "    }\n",
       "\n",
       "    .dataframe tbody tr th {\n",
       "        vertical-align: top;\n",
       "    }\n",
       "\n",
       "    .dataframe thead th {\n",
       "        text-align: right;\n",
       "    }\n",
       "</style>\n",
       "<table border=\"1\" class=\"dataframe\">\n",
       "  <thead>\n",
       "    <tr style=\"text-align: right;\">\n",
       "      <th></th>\n",
       "      <th>able</th>\n",
       "      <th>accordance</th>\n",
       "      <th>account</th>\n",
       "      <th>address</th>\n",
       "      <th>adjustment</th>\n",
       "      <th>adjustmentmerchandiserobert</th>\n",
       "      <th>affected</th>\n",
       "      <th>agreed</th>\n",
       "      <th>along</th>\n",
       "      <th>also</th>\n",
       "      <th>...</th>\n",
       "      <th>volume</th>\n",
       "      <th>waiting</th>\n",
       "      <th>way</th>\n",
       "      <th>wed</th>\n",
       "      <th>week</th>\n",
       "      <th>well</th>\n",
       "      <th>willing</th>\n",
       "      <th>without</th>\n",
       "      <th>would</th>\n",
       "      <th>york</th>\n",
       "    </tr>\n",
       "  </thead>\n",
       "  <tbody>\n",
       "    <tr>\n",
       "      <th>0</th>\n",
       "      <td>0.000000</td>\n",
       "      <td>0.041232</td>\n",
       "      <td>0.000000</td>\n",
       "      <td>0.041232</td>\n",
       "      <td>0.041232</td>\n",
       "      <td>0.041232</td>\n",
       "      <td>0.000000</td>\n",
       "      <td>0.041232</td>\n",
       "      <td>0.000000</td>\n",
       "      <td>0.000000</td>\n",
       "      <td>...</td>\n",
       "      <td>0.041232</td>\n",
       "      <td>0.000000</td>\n",
       "      <td>0.000000</td>\n",
       "      <td>0.041232</td>\n",
       "      <td>0.065015</td>\n",
       "      <td>0.000000</td>\n",
       "      <td>0.000000</td>\n",
       "      <td>0.000000</td>\n",
       "      <td>0.000000</td>\n",
       "      <td>0.000000</td>\n",
       "    </tr>\n",
       "    <tr>\n",
       "      <th>1</th>\n",
       "      <td>0.000000</td>\n",
       "      <td>0.000000</td>\n",
       "      <td>0.142107</td>\n",
       "      <td>0.000000</td>\n",
       "      <td>0.000000</td>\n",
       "      <td>0.000000</td>\n",
       "      <td>0.060081</td>\n",
       "      <td>0.000000</td>\n",
       "      <td>0.060081</td>\n",
       "      <td>0.060081</td>\n",
       "      <td>...</td>\n",
       "      <td>0.000000</td>\n",
       "      <td>0.000000</td>\n",
       "      <td>0.060081</td>\n",
       "      <td>0.000000</td>\n",
       "      <td>0.000000</td>\n",
       "      <td>0.120163</td>\n",
       "      <td>0.060081</td>\n",
       "      <td>0.000000</td>\n",
       "      <td>0.060081</td>\n",
       "      <td>0.060081</td>\n",
       "    </tr>\n",
       "    <tr>\n",
       "      <th>2</th>\n",
       "      <td>0.116211</td>\n",
       "      <td>0.000000</td>\n",
       "      <td>0.137433</td>\n",
       "      <td>0.000000</td>\n",
       "      <td>0.000000</td>\n",
       "      <td>0.000000</td>\n",
       "      <td>0.000000</td>\n",
       "      <td>0.000000</td>\n",
       "      <td>0.000000</td>\n",
       "      <td>0.000000</td>\n",
       "      <td>...</td>\n",
       "      <td>0.000000</td>\n",
       "      <td>0.058105</td>\n",
       "      <td>0.000000</td>\n",
       "      <td>0.000000</td>\n",
       "      <td>0.045811</td>\n",
       "      <td>0.000000</td>\n",
       "      <td>0.000000</td>\n",
       "      <td>0.116211</td>\n",
       "      <td>0.000000</td>\n",
       "      <td>0.000000</td>\n",
       "    </tr>\n",
       "    <tr>\n",
       "      <th>3</th>\n",
       "      <td>0.000000</td>\n",
       "      <td>0.000000</td>\n",
       "      <td>0.000000</td>\n",
       "      <td>0.000000</td>\n",
       "      <td>0.000000</td>\n",
       "      <td>0.000000</td>\n",
       "      <td>0.000000</td>\n",
       "      <td>0.000000</td>\n",
       "      <td>0.000000</td>\n",
       "      <td>0.000000</td>\n",
       "      <td>...</td>\n",
       "      <td>0.000000</td>\n",
       "      <td>0.000000</td>\n",
       "      <td>0.000000</td>\n",
       "      <td>0.000000</td>\n",
       "      <td>0.000000</td>\n",
       "      <td>0.000000</td>\n",
       "      <td>0.000000</td>\n",
       "      <td>0.000000</td>\n",
       "      <td>0.000000</td>\n",
       "      <td>0.000000</td>\n",
       "    </tr>\n",
       "  </tbody>\n",
       "</table>\n",
       "<p>4 rows × 279 columns</p>\n",
       "</div>"
      ],
      "text/plain": [
       "       able  accordance   account   address  adjustment  \\\n",
       "0  0.000000    0.041232  0.000000  0.041232    0.041232   \n",
       "1  0.000000    0.000000  0.142107  0.000000    0.000000   \n",
       "2  0.116211    0.000000  0.137433  0.000000    0.000000   \n",
       "3  0.000000    0.000000  0.000000  0.000000    0.000000   \n",
       "\n",
       "   adjustmentmerchandiserobert  affected    agreed     along      also  ...  \\\n",
       "0                     0.041232  0.000000  0.041232  0.000000  0.000000  ...   \n",
       "1                     0.000000  0.060081  0.000000  0.060081  0.060081  ...   \n",
       "2                     0.000000  0.000000  0.000000  0.000000  0.000000  ...   \n",
       "3                     0.000000  0.000000  0.000000  0.000000  0.000000  ...   \n",
       "\n",
       "     volume   waiting       way       wed      week      well   willing  \\\n",
       "0  0.041232  0.000000  0.000000  0.041232  0.065015  0.000000  0.000000   \n",
       "1  0.000000  0.000000  0.060081  0.000000  0.000000  0.120163  0.060081   \n",
       "2  0.000000  0.058105  0.000000  0.000000  0.045811  0.000000  0.000000   \n",
       "3  0.000000  0.000000  0.000000  0.000000  0.000000  0.000000  0.000000   \n",
       "\n",
       "    without     would      york  \n",
       "0  0.000000  0.000000  0.000000  \n",
       "1  0.000000  0.060081  0.060081  \n",
       "2  0.116211  0.000000  0.000000  \n",
       "3  0.000000  0.000000  0.000000  \n",
       "\n",
       "[4 rows x 279 columns]"
      ]
     },
     "execution_count": 115,
     "metadata": {},
     "output_type": "execute_result"
    }
   ],
   "source": [
    "pd.DataFrame(X, columns=feature_names)"
   ]
  },
  {
   "cell_type": "code",
   "execution_count": 116,
   "metadata": {},
   "outputs": [],
   "source": [
    "test_processed_df = pd.read_csv('../project_data/complaints_processed.csv')"
   ]
  },
  {
   "cell_type": "code",
   "execution_count": 117,
   "metadata": {},
   "outputs": [
    {
     "data": {
      "text/html": [
       "<div>\n",
       "<style scoped>\n",
       "    .dataframe tbody tr th:only-of-type {\n",
       "        vertical-align: middle;\n",
       "    }\n",
       "\n",
       "    .dataframe tbody tr th {\n",
       "        vertical-align: top;\n",
       "    }\n",
       "\n",
       "    .dataframe thead th {\n",
       "        text-align: right;\n",
       "    }\n",
       "</style>\n",
       "<table border=\"1\" class=\"dataframe\">\n",
       "  <thead>\n",
       "    <tr style=\"text-align: right;\">\n",
       "      <th></th>\n",
       "      <th>Unnamed: 0</th>\n",
       "      <th>product</th>\n",
       "      <th>narrative</th>\n",
       "    </tr>\n",
       "  </thead>\n",
       "  <tbody>\n",
       "    <tr>\n",
       "      <th>0</th>\n",
       "      <td>0</td>\n",
       "      <td>credit_card</td>\n",
       "      <td>purchase order day shipping amount receive pro...</td>\n",
       "    </tr>\n",
       "    <tr>\n",
       "      <th>1</th>\n",
       "      <td>1</td>\n",
       "      <td>credit_card</td>\n",
       "      <td>forwarded message date tue subject please inve...</td>\n",
       "    </tr>\n",
       "    <tr>\n",
       "      <th>2</th>\n",
       "      <td>2</td>\n",
       "      <td>retail_banking</td>\n",
       "      <td>forwarded message cc sent friday pdt subject f...</td>\n",
       "    </tr>\n",
       "    <tr>\n",
       "      <th>3</th>\n",
       "      <td>3</td>\n",
       "      <td>credit_reporting</td>\n",
       "      <td>payment history missing credit report speciali...</td>\n",
       "    </tr>\n",
       "    <tr>\n",
       "      <th>4</th>\n",
       "      <td>4</td>\n",
       "      <td>credit_reporting</td>\n",
       "      <td>payment history missing credit report made mis...</td>\n",
       "    </tr>\n",
       "    <tr>\n",
       "      <th>5</th>\n",
       "      <td>5</td>\n",
       "      <td>credit_reporting</td>\n",
       "      <td>payment history missing credit report made mis...</td>\n",
       "    </tr>\n",
       "    <tr>\n",
       "      <th>6</th>\n",
       "      <td>6</td>\n",
       "      <td>credit_reporting</td>\n",
       "      <td>va date complaint experian credit bureau invol...</td>\n",
       "    </tr>\n",
       "    <tr>\n",
       "      <th>7</th>\n",
       "      <td>7</td>\n",
       "      <td>credit_reporting</td>\n",
       "      <td>account reported abbreviated name full name se...</td>\n",
       "    </tr>\n",
       "    <tr>\n",
       "      <th>8</th>\n",
       "      <td>8</td>\n",
       "      <td>credit_reporting</td>\n",
       "      <td>account reported abbreviated name full name se...</td>\n",
       "    </tr>\n",
       "    <tr>\n",
       "      <th>9</th>\n",
       "      <td>9</td>\n",
       "      <td>credit_reporting</td>\n",
       "      <td>usdoexxxx account reported abbreviated name fu...</td>\n",
       "    </tr>\n",
       "  </tbody>\n",
       "</table>\n",
       "</div>"
      ],
      "text/plain": [
       "   Unnamed: 0           product  \\\n",
       "0           0       credit_card   \n",
       "1           1       credit_card   \n",
       "2           2    retail_banking   \n",
       "3           3  credit_reporting   \n",
       "4           4  credit_reporting   \n",
       "5           5  credit_reporting   \n",
       "6           6  credit_reporting   \n",
       "7           7  credit_reporting   \n",
       "8           8  credit_reporting   \n",
       "9           9  credit_reporting   \n",
       "\n",
       "                                           narrative  \n",
       "0  purchase order day shipping amount receive pro...  \n",
       "1  forwarded message date tue subject please inve...  \n",
       "2  forwarded message cc sent friday pdt subject f...  \n",
       "3  payment history missing credit report speciali...  \n",
       "4  payment history missing credit report made mis...  \n",
       "5  payment history missing credit report made mis...  \n",
       "6  va date complaint experian credit bureau invol...  \n",
       "7  account reported abbreviated name full name se...  \n",
       "8  account reported abbreviated name full name se...  \n",
       "9  usdoexxxx account reported abbreviated name fu...  "
      ]
     },
     "execution_count": 117,
     "metadata": {},
     "output_type": "execute_result"
    }
   ],
   "source": [
    "test_processed_df.head(10)"
   ]
  },
  {
   "cell_type": "markdown",
   "metadata": {},
   "source": [
    "# Practice with LDA"
   ]
  },
  {
   "cell_type": "markdown",
   "metadata": {},
   "source": [
    "I think LDA needs Bag of Words format"
   ]
  },
  {
   "cell_type": "code",
   "execution_count": 118,
   "metadata": {},
   "outputs": [],
   "source": [
    "# data = pd.DataFrame({\n",
    "#     'class': ['credit', 'loan', 'retail', 'credit'],\n",
    "#     'narrative': ['-- -- -- -- -- 1. ) XXXX XXXX, XXXX a purchase with EIO.com ( order # XXXX ) with 2 days shipping for the amount of {$57.00}. \\n\\n-- -- -- -- -- -2. ) Did not receive the product after a week, so I sent a followup email ; with the exact verbiage : \" I paid for two days shipping and have not received my order \\'\\' on XXXX XXXX. \\n\\n-- -- -- -- -- 3. ) Company Responded on on XXXX XXXX : \" Im sorry to inform you that due to unusually high order volume, your order has not shipped and XXXX not be for several weeks. XXXX has been out of stock since early XXXX due to high demand, although they are continuing to take orders and guaranteeing that we will receive orders we place with them in due time. As such we have masks on order but we do not have an exact shipping date from XXXX right now, however we can guarantee we will ship as soon as soon as XXXX delivers product to us. We have been getting small shipments and shipping those on a first come, first served basis, so we appreciate your patience as we fulfill these orders as quickly as we can. \\n\\nWe recommend keeping your order as you will lose your place in line if you cancel, and no other distributor has stock at the moment. If you do prefer to cancel, please note we ask that you do so via email, we will then cancel in accordance with our cancellation policy which was agreed to at checkout. \\nXXXX, XXXX XXXX. \\nElectronic Inventory Online -- -- -- -- -- -- -- -- -- -- -- -- -- -- -- -- -- -- -- -- -- XXXX XXXX XXXX XXXX -- -- -- XXXX. ) XX/XX/XXXX, requested for the order to be canceled and a refund to be issued. \\n\\n-- -- -- 5. ) XX/XX/XXXX : XXXX canceled the order and sent a verification : XXXX XXXX XXXX Your order has been canceled Refunded Items XXXX XXXX Particulate Respirator, XXXX, XXXX eaches/pack 2 Refunded {$45.00} Subtotal {$45.00} Shipping {$12.00} Taxes {$0.00} Total {$57.00} USD Visa ( ending in XXXX XXXX {$57.00} Refund Shopify_payments - {$52.00} -- -- XX/XX/XXXX, Called in and disputed the amount. XXXX stated nothing needed to be submitted and they will address the issue. \\n\\n-- -- XX/XX/XXXX, XXXX recharged me for the same item after removing it on XX/XX/XXXX. Called back in to dispute this amount again. \\n\\nTRANSACTION REBILLMerchandiseRobert J. XXXX {$57.00} HTTPSEIOCOM.M, CA XXXX Purchased : Thu, XX/XX/2020 Posted : Wed, XXXX XXXX, 2020 Purchased By : XXXX XXXX Appears on the statement as : TRANSACTION REBILL HTTPSEIOCOM.M CA XXXX US XXXX - XX/XX/XXXX, followed up to see the status of the case. Submitted documentation showing XXXX canceled the order and was supposed to submit a refund. \\n\\n-- - XX/XX/XXXX, Called back in to speak to the manager on the case. He stated the dispute was ruled in favor of me, and the charge will be removed from my card. \\n\\n-- -- XX/XX/XXXX, Capital One removed the purchase off the bill. \\nPURCHASE ADJUSTMENTMerchandiseRobert J. ... - {$57.00} Posted : Fri, XX/XX/2020 Purchased By : XXXX XXXX Appears on statement as : PURCHASE ADJUSTMENT XXXX XXXX -- XXXX XXXX Capital One recharges me the same amount. \\nXX/XX/XXXX TRANSACTION REBILLMerchandiseRobert J. ... {$57.00} Purchased : Thu, XX/XX/2020 Posted : Mon, XX/XX/2020 Purchased By : XXXX XXXX Appears on statement as : TRANSACTION REBILL XXXX XXXX -- -- XX/XX/XXXX -- Called Capital One requested why this was recharge. They stated Visa ruled against my case. They pretended that they didn\\'t remove the purchase or knew anything about the case manager ruling in my favor.',\n",
    "#                   '-- -- -- -- -- Forwarded message -- -- -- -- - From : XXXX XXXX XXXX Date : Tue, XX/XX/XXXXat XXXX XXXX Subject : Please Investigate Comenity Bank Retailers card scam To : XXXX Sent from my XXXX Hello my name is XXXX XXXX, I am being scammed by Comenity bank a credit card provider for companies The Childrens place, New York & Co. , Forever 21 and Victoria Secret. My original credit from XXXX was {$500.00} Comenity bank then lowers my limit to {$300.00} and began to charge overage fees along with late fees. I then began to pay close attention to my other cards to find that my limits were also changed on them as well incurring overages and late fees. \\nI reached out to the company Comenity bank they stated that they would change my credit limit to its original limits but did not. I reached out to them again and told them I will not summit any payment until my accounts are corrected. Comenity bank credit cards has impacted my credit scores plummeted to a negative status. Im currently paying the price due to the corruption in which has affected me in detrimental way. \\nI am now in debt over {$2000.00} due to the company charging overage fees as well as late fees even through COVID-19. The initial credit limits are fluctuating tremendously and the company charges major fees on each of those 4 accounts. They are not willing to correct my account and was nervous when I said I had an attorney, that is the reason Im reaching out to you. Im a XXXX  employee of 18yrs and this company is ruining my credit. PLZ HELP!!!!! \\n\\nMy name is XXXX XXXX, contact info is ( XXXX ) XXXX XXXX and/or XXXX. Thank you!!',\n",
    "#                  '-- -- - XXXX, XXXX, XX/XX/2020 Payment Histories Missing On My Credit Report -- -- Specialized Loan Servicing ( SLS ) has made the mistake to put my account under forbearance in XXXX 2020, without my authorization or knowledge ( As a matter of fact, I have automatic payment setup. In each month \\'s XXXX, the monthly mortgage was paid in full ). \\n\\nI have noticed this issue ( my account was marked as \" forbearance \\'\\' ) in XX/XX/2020 on my credit report ( when I tried to get a new home loan from another new bank ), I have contacted them immediately and asked them to fix this error and provide me a letter ( details please see below asks ). The \" forbearance \\'\\' issue itself seemed to be fixed by now. However, on my credit report, the payment histories for XXXX, XXXX, XX/XX/2020 were all missing. My new bank will not be able to approve my new loan because of these issues of missing payment histories. \\n\\nI have contacted Specialized Loan Servicing more than 20 times since XX/XX/XXXX by phone to ask SLS to do 2 things : ( 1 ) report my XXXX, XXXX, XX/XX/2020 payment histories to XXXX, XXXX, XXXX  to fix the missing data issue. \\n\\n( 2 ) Provide me a letter with shows my account has never been under forbearance and my payment histories for all past 12 months.\\n\\nHowever, after waiting for more than 3 weeks, and countless emails / phone calls / talks with multiple supervisors, I have not been able to get either one of the above 2 things.\\n\\nWithout this issue fixed, My new bank can not process my new loan application, therefore I will need SLS \\'s help immediately to get this fixed.',\n",
    "#                  'Make a point to try to make it to the homes']\n",
    "#     })"
   ]
  },
  {
   "cell_type": "code",
   "execution_count": 119,
   "metadata": {},
   "outputs": [],
   "source": [
    "# def make_lemma_no_concat(list_of_words):\n",
    "#     # remove any NaN's\n",
    "#     list_of_words = [i for i in list_of_words if i is not np.nan]\n",
    "    \n",
    "#     # lemmatize each word\n",
    "#     lemmatized_list = []\n",
    "#     for idx, word in enumerate(list_of_words):\n",
    "#         lemmatized_list.append(lemm.lemmatize(word))\n",
    "    \n",
    "#     return lemmatized_list"
   ]
  },
  {
   "cell_type": "code",
   "execution_count": 120,
   "metadata": {},
   "outputs": [],
   "source": [
    "# for i in range(len(data)):\n",
    "#     processed_narr = process_narrative(data['narrative'].loc[i])\n",
    "#     narr = make_lemma_no_concat(processed_narr)\n",
    "#     data['narrative'].loc[i] = narr\n",
    "# data"
   ]
  },
  {
   "cell_type": "markdown",
   "metadata": {},
   "source": [
    "... or maybe it needs it as CV format"
   ]
  },
  {
   "cell_type": "code",
   "execution_count": 122,
   "metadata": {},
   "outputs": [
    {
     "data": {
      "text/html": [
       "<div>\n",
       "<style scoped>\n",
       "    .dataframe tbody tr th:only-of-type {\n",
       "        vertical-align: middle;\n",
       "    }\n",
       "\n",
       "    .dataframe tbody tr th {\n",
       "        vertical-align: top;\n",
       "    }\n",
       "\n",
       "    .dataframe thead th {\n",
       "        text-align: right;\n",
       "    }\n",
       "</style>\n",
       "<table border=\"1\" class=\"dataframe\">\n",
       "  <thead>\n",
       "    <tr style=\"text-align: right;\">\n",
       "      <th></th>\n",
       "      <th>class</th>\n",
       "      <th>narrative</th>\n",
       "    </tr>\n",
       "  </thead>\n",
       "  <tbody>\n",
       "    <tr>\n",
       "      <th>0</th>\n",
       "      <td>credit</td>\n",
       "      <td>purchase order day shipping amount receive pro...</td>\n",
       "    </tr>\n",
       "    <tr>\n",
       "      <th>1</th>\n",
       "      <td>loan</td>\n",
       "      <td>forwarded message date tue subject please inve...</td>\n",
       "    </tr>\n",
       "    <tr>\n",
       "      <th>2</th>\n",
       "      <td>retail</td>\n",
       "      <td>payment history missing credit report speciali...</td>\n",
       "    </tr>\n",
       "    <tr>\n",
       "      <th>3</th>\n",
       "      <td>credit</td>\n",
       "      <td>make point try make home</td>\n",
       "    </tr>\n",
       "  </tbody>\n",
       "</table>\n",
       "</div>"
      ],
      "text/plain": [
       "    class                                          narrative\n",
       "0  credit  purchase order day shipping amount receive pro...\n",
       "1    loan  forwarded message date tue subject please inve...\n",
       "2  retail  payment history missing credit report speciali...\n",
       "3  credit                           make point try make home"
      ]
     },
     "execution_count": 122,
     "metadata": {},
     "output_type": "execute_result"
    }
   ],
   "source": [
    "data"
   ]
  },
  {
   "cell_type": "code",
   "execution_count": 140,
   "metadata": {},
   "outputs": [],
   "source": [
    "cv = CountVectorizer(ngram_range=[1,2])\n",
    "X_cv_bigram = cv.fit_transform(data['narrative'])\n",
    "feature_names = cv.get_feature_names()\n",
    "# X_cv_bigram = X_cv_bigram.todense()"
   ]
  },
  {
   "cell_type": "code",
   "execution_count": 125,
   "metadata": {},
   "outputs": [
    {
     "data": {
      "text/plain": [
       "matrix([[0, 0, 0, ..., 0, 0, 0],\n",
       "        [0, 0, 0, ..., 1, 1, 1],\n",
       "        [2, 1, 1, ..., 0, 0, 0],\n",
       "        [0, 0, 0, ..., 0, 0, 0]], dtype=int64)"
      ]
     },
     "execution_count": 125,
     "metadata": {},
     "output_type": "execute_result"
    }
   ],
   "source": [
    "# X_cv_bigram.todense()"
   ]
  },
  {
   "cell_type": "code",
   "execution_count": 141,
   "metadata": {},
   "outputs": [
    {
     "data": {
      "text/plain": [
       "LatentDirichletAllocation(n_components=3, random_state=0)"
      ]
     },
     "execution_count": 141,
     "metadata": {},
     "output_type": "execute_result"
    }
   ],
   "source": [
    "lda = LatentDirichletAllocation(n_components=3,random_state=0)\n",
    "lda.fit(X_cv_bigram)"
   ]
  },
  {
   "cell_type": "code",
   "execution_count": 138,
   "metadata": {},
   "outputs": [],
   "source": [
    "def plot_top_words(model, feature_names, n_top_words, title):\n",
    "    fig, axes = plt.subplots(2, 5, figsize=(30, 15), sharex=True)\n",
    "    axes = axes.flatten()\n",
    "    for topic_idx, topic in enumerate(model.components_):\n",
    "        top_features_ind = topic.argsort()[:-n_top_words - 1:-1]\n",
    "        top_features = [feature_names[i] for i in top_features_ind]\n",
    "        weights = topic[top_features_ind]\n",
    "\n",
    "        ax = axes[topic_idx]\n",
    "        ax.barh(top_features, weights, height=0.7)\n",
    "        ax.set_title(f'Topic {topic_idx +1}',\n",
    "                     fontdict={'fontsize': 30})\n",
    "        ax.invert_yaxis()\n",
    "        ax.tick_params(axis='both', which='major', labelsize=20)\n",
    "        for i in 'top right left'.split():\n",
    "            ax.spines[i].set_visible(False)\n",
    "        fig.suptitle(title, fontsize=40)\n",
    "\n",
    "    plt.subplots_adjust(top=0.90, bottom=0.05, wspace=0.90, hspace=0.3)\n",
    "    plt.show()"
   ]
  },
  {
   "cell_type": "code",
   "execution_count": 143,
   "metadata": {},
   "outputs": [],
   "source": [
    "feature_names = cv.get_feature_names()"
   ]
  },
  {
   "cell_type": "code",
   "execution_count": 179,
   "metadata": {},
   "outputs": [
    {
     "name": "stdout",
     "output_type": "stream",
     "text": [
      "Topic  0 home try make make home try point point try\n",
      "Topic  1 order credit company fee purchased shipping\n",
      "Topic  2 payment new issue loan history payment history\n"
     ]
    }
   ],
   "source": [
    "for idx, topic in enumerate(lda.components_):\n",
    "    print (\"Topic \", idx, \" \".join(feature_names[i] for i in topic.argsort()[:-6 - 1:-1]))"
   ]
  },
  {
   "cell_type": "code",
   "execution_count": 221,
   "metadata": {},
   "outputs": [
    {
     "name": "stdout",
     "output_type": "stream",
     "text": [
      "Topic  0 home try make make home try point point try\n",
      "Topic  1 order credit company fee purchased shipping\n",
      "Topic  2 payment new issue loan history payment history\n"
     ]
    }
   ],
   "source": [
    "for idx, topic in enumerate(lda.components_):\n",
    "    print (\"Topic \", idx, \" \".join(feature_names[i] for i in topic.argsort()[:-7:-1]))"
   ]
  },
  {
   "cell_type": "code",
   "execution_count": 151,
   "metadata": {},
   "outputs": [
    {
     "data": {
      "text/plain": [
       "array([2.33331215, 1.33331091, 1.33331091, 0.33334318, 0.33334318,\n",
       "       3.3341189 , 0.33335116, 1.33331091, 1.33331091, 0.33335116])"
      ]
     },
     "execution_count": 151,
     "metadata": {},
     "output_type": "execute_result"
    }
   ],
   "source": [
    "topic[0:10]"
   ]
  },
  {
   "cell_type": "code",
   "execution_count": 154,
   "metadata": {},
   "outputs": [
    {
     "data": {
      "text/plain": [
       "array([2.33331215, 1.33331091, 1.33331091, 0.33334318, 0.33334318,\n",
       "       3.3341189 , 0.33335116, 1.33331091, 1.33331091, 0.33335116])"
      ]
     },
     "execution_count": 154,
     "metadata": {},
     "output_type": "execute_result"
    }
   ],
   "source": [
    "topic10 = topic[0:10]\n",
    "topic10"
   ]
  },
  {
   "cell_type": "code",
   "execution_count": 153,
   "metadata": {},
   "outputs": [
    {
     "data": {
      "text/plain": [
       "array([3, 4, 6, 9, 1, 2, 7, 8, 0, 5], dtype=int64)"
      ]
     },
     "execution_count": 153,
     "metadata": {},
     "output_type": "execute_result"
    }
   ],
   "source": [
    "topic10.argsort()"
   ]
  },
  {
   "cell_type": "code",
   "execution_count": 155,
   "metadata": {},
   "outputs": [
    {
     "data": {
      "text/plain": [
       "array([3, 4, 6, 9, 1, 2, 7, 8, 0, 5], dtype=int64)"
      ]
     },
     "execution_count": 155,
     "metadata": {},
     "output_type": "execute_result"
    }
   ],
   "source": [
    "np.argsort(topic10)"
   ]
  },
  {
   "cell_type": "code",
   "execution_count": 175,
   "metadata": {},
   "outputs": [
    {
     "data": {
      "text/plain": [
       "array([3, 4, 6, 9, 1], dtype=int64)"
      ]
     },
     "execution_count": 175,
     "metadata": {},
     "output_type": "execute_result"
    }
   ],
   "source": [
    "topic10.argsort()[0:-5]"
   ]
  },
  {
   "cell_type": "code",
   "execution_count": 177,
   "metadata": {},
   "outputs": [
    {
     "data": {
      "text/plain": [
       "array([], dtype=int64)"
      ]
     },
     "execution_count": 177,
     "metadata": {},
     "output_type": "execute_result"
    }
   ],
   "source": [
    "topic10.argsort()[0:-5 - 2:-1]"
   ]
  },
  {
   "cell_type": "code",
   "execution_count": 181,
   "metadata": {},
   "outputs": [
    {
     "data": {
      "text/plain": [
       "-6785.706405176896"
      ]
     },
     "execution_count": 181,
     "metadata": {},
     "output_type": "execute_result"
    }
   ],
   "source": [
    "lda.score(X_cv_bigram)"
   ]
  },
  {
   "cell_type": "code",
   "execution_count": 203,
   "metadata": {},
   "outputs": [
    {
     "data": {
      "text/plain": [
       "array([100, 300, 200, 400, 150])"
      ]
     },
     "execution_count": 203,
     "metadata": {},
     "output_type": "execute_result"
    }
   ],
   "source": [
    "arg_arr = np.array([100, 300, 200, 400, 150])\n",
    "arg_arr "
   ]
  },
  {
   "cell_type": "code",
   "execution_count": 204,
   "metadata": {},
   "outputs": [
    {
     "data": {
      "text/plain": [
       "array([0, 4, 2, 1, 3], dtype=int64)"
      ]
     },
     "execution_count": 204,
     "metadata": {},
     "output_type": "execute_result"
    }
   ],
   "source": [
    "arg_arr.argsort()"
   ]
  },
  {
   "cell_type": "code",
   "execution_count": 216,
   "metadata": {},
   "outputs": [
    {
     "data": {
      "text/plain": [
       "array([3], dtype=int64)"
      ]
     },
     "execution_count": 216,
     "metadata": {},
     "output_type": "execute_result"
    }
   ],
   "source": [
    "arg_arr.argsort()[:-2 : -1]"
   ]
  },
  {
   "cell_type": "code",
   "execution_count": null,
   "metadata": {},
   "outputs": [],
   "source": []
  }
 ],
 "metadata": {
  "kernelspec": {
   "display_name": "Python 3",
   "language": "python",
   "name": "python3"
  },
  "language_info": {
   "codemirror_mode": {
    "name": "ipython",
    "version": 3
   },
   "file_extension": ".py",
   "mimetype": "text/x-python",
   "name": "python",
   "nbconvert_exporter": "python",
   "pygments_lexer": "ipython3",
   "version": "3.6.9"
  }
 },
 "nbformat": 4,
 "nbformat_minor": 4
}
