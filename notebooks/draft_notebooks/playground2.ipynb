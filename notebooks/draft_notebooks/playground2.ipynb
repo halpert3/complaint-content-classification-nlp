{
 "cells": [
  {
   "cell_type": "code",
   "execution_count": 1,
   "metadata": {
    "execution": {
     "iopub.execute_input": "2021-04-22T15:47:50.709590Z",
     "iopub.status.busy": "2021-04-22T15:47:50.708589Z",
     "iopub.status.idle": "2021-04-22T15:47:53.803587Z",
     "shell.execute_reply": "2021-04-22T15:47:53.802587Z",
     "shell.execute_reply.started": "2021-04-22T15:47:50.709590Z"
    }
   },
   "outputs": [],
   "source": [
    "import pandas as pd\n",
    "import numpy as np\n",
    "import matplotlib.pyplot as plt"
   ]
  },
  {
   "cell_type": "markdown",
   "metadata": {},
   "source": [
    "# Slicing"
   ]
  },
  {
   "cell_type": "code",
   "execution_count": 13,
   "metadata": {},
   "outputs": [
    {
     "name": "stdout",
     "output_type": "stream",
     "text": [
      "example 1:  [100 101 102 103 104 105 106 107 108 109]\n"
     ]
    }
   ],
   "source": [
    "# Making array of 100 integers\n",
    "my_array = np.array(range(100,150))\n",
    "# only first ten elements\n",
    "print(\"example 1: \", my_array[:10])"
   ]
  },
  {
   "cell_type": "code",
   "execution_count": 14,
   "metadata": {},
   "outputs": [
    {
     "name": "stdout",
     "output_type": "stream",
     "text": [
      "example 2:  [105 106 107 108 109]\n"
     ]
    }
   ],
   "source": [
    "# only elements five through ten \n",
    "print(\"example 2: \", my_array[5:10])"
   ]
  },
  {
   "cell_type": "code",
   "execution_count": 18,
   "metadata": {},
   "outputs": [
    {
     "data": {
      "text/plain": [
       "array([110, 112, 114, 116, 118, 120, 122, 124, 126, 128, 130, 132, 134,\n",
       "       136, 138, 140, 142, 144, 146])"
      ]
     },
     "execution_count": 18,
     "metadata": {},
     "output_type": "execute_result"
    }
   ],
   "source": [
    "my_array[10:-2 :2]"
   ]
  },
  {
   "cell_type": "code",
   "execution_count": 5,
   "metadata": {},
   "outputs": [
    {
     "name": "stdout",
     "output_type": "stream",
     "text": [
      "example 3:  [100 102 104 106 108]\n"
     ]
    }
   ],
   "source": [
    "# only  ten elements, but not skipping so only 5 elements returned\n",
    "print(\"example 3: \",my_array[: 10:2])"
   ]
  },
  {
   "cell_type": "code",
   "execution_count": 20,
   "metadata": {},
   "outputs": [
    {
     "name": "stdout",
     "output_type": "stream",
     "text": [
      "example 4:  [149 148 147 146 145 144 143 142 141 140 139 138 137 136 135 134 133 132\n",
      " 131 130 129 128 127 126 125 124 123 122 121 120 119 118 117 116 115 114\n",
      " 113 112 111]\n"
     ]
    }
   ],
   "source": [
    "# -1 still step 1, but reverses the array\n",
    "print(\"example 4: \",my_array[: 10:-1])"
   ]
  },
  {
   "cell_type": "code",
   "execution_count": 19,
   "metadata": {},
   "outputs": [
    {
     "name": "stdout",
     "output_type": "stream",
     "text": [
      "example 5:  [149 139 129 119]\n"
     ]
    }
   ],
   "source": [
    "# -1 still but step now 10, but reverses the array\n",
    "print(\"example 5: \",my_array[: 10:-10])"
   ]
  },
  {
   "cell_type": "code",
   "execution_count": 23,
   "metadata": {},
   "outputs": [
    {
     "data": {
      "text/plain": [
       "array([ True,  True,  True,  True])"
      ]
     },
     "execution_count": 23,
     "metadata": {},
     "output_type": "execute_result"
    }
   ],
   "source": [
    "x = my_array[:10 -1:-10] \n",
    "y = my_array[:9:-10]\n",
    "x == y"
   ]
  },
  {
   "cell_type": "markdown",
   "metadata": {},
   "source": [
    "# subplots"
   ]
  },
  {
   "cell_type": "code",
   "execution_count": 3,
   "metadata": {},
   "outputs": [
    {
     "data": {
      "image/png": "[encoded data removed]",
      "text/plain": [
       "<Figure size 432x288 with 2 Axes>"
      ]
     },
     "metadata": {
      "needs_background": "light"
     },
     "output_type": "display_data"
    }
   ],
   "source": [
    "\n",
    "#plot 1:\n",
    "x = np.array([0, 1, 2, 3])\n",
    "y = np.array([50, 30, 10, 5])\n",
    "\n",
    "plt.subplot(1, 2, 1)\n",
    "plt.plot(x,y)\n",
    "\n",
    "#plot 2:\n",
    "x = np.array([0, 1, 2, 3])\n",
    "y = np.array([10, 20, 30, 40])\n",
    "\n",
    "plt.subplot(1, 2, 2)\n",
    "plt.plot(x,y)\n",
    "\n",
    "plt.show()"
   ]
  },
  {
   "cell_type": "code",
   "execution_count": 5,
   "metadata": {},
   "outputs": [
    {
     "name": "stdout",
     "output_type": "stream",
     "text": [
      "a           b           c           \n",
      "aaaaaaaaaa  b           c           \n",
      "a           bbbbbbbbbb  c           \n"
     ]
    }
   ],
   "source": [
    "data = [['a', 'b', 'c'], ['aaaaaaaaaa', 'b', 'c'], ['a', 'bbbbbbbbbb', 'c']]\n",
    "\n",
    "col_width = max(len(word) for row in data for word in row) + 2  # padding\n",
    "for row in data:\n",
    "    print(\"\".join(word.ljust(col_width) for word in row))\n"
   ]
  },
  {
   "cell_type": "code",
   "execution_count": 6,
   "metadata": {},
   "outputs": [
    {
     "name": "stdout",
     "output_type": "stream",
     "text": [
      "                   a                    b                    c\n",
      "          aaaaaaaaaa                    b                    c\n",
      "                   a           bbbbbbbbbb                    c\n"
     ]
    }
   ],
   "source": [
    "table_data = [\n",
    "    ['a', 'b', 'c'],\n",
    "    ['aaaaaaaaaa', 'b', 'c'], \n",
    "    ['a', 'bbbbbbbbbb', 'c']\n",
    "]\n",
    "for row in table_data:\n",
    "    print(\"{: >20} {: >20} {: >20}\".format(*row))"
   ]
  },
  {
   "cell_type": "markdown",
   "metadata": {},
   "source": [
    "# Dictonary"
   ]
  },
  {
   "cell_type": "code",
   "execution_count": 1,
   "metadata": {
    "execution": {
     "iopub.execute_input": "2021-04-16T15:05:24.001077Z",
     "iopub.status.busy": "2021-04-16T15:05:24.000075Z",
     "iopub.status.idle": "2021-04-16T15:05:24.020074Z",
     "shell.execute_reply": "2021-04-16T15:05:24.018077Z",
     "shell.execute_reply.started": "2021-04-16T15:05:24.001077Z"
    }
   },
   "outputs": [],
   "source": [
    "dicti = {}"
   ]
  },
  {
   "cell_type": "code",
   "execution_count": 2,
   "metadata": {
    "execution": {
     "iopub.execute_input": "2021-04-16T15:05:51.125451Z",
     "iopub.status.busy": "2021-04-16T15:05:51.125451Z",
     "iopub.status.idle": "2021-04-16T15:05:51.136455Z",
     "shell.execute_reply": "2021-04-16T15:05:51.135469Z",
     "shell.execute_reply.started": "2021-04-16T15:05:51.125451Z"
    }
   },
   "outputs": [],
   "source": [
    "dicti.update({'class': 'loan'})"
   ]
  },
  {
   "cell_type": "code",
   "execution_count": 3,
   "metadata": {
    "execution": {
     "iopub.execute_input": "2021-04-16T15:05:59.490454Z",
     "iopub.status.busy": "2021-04-16T15:05:59.489452Z",
     "iopub.status.idle": "2021-04-16T15:05:59.516456Z",
     "shell.execute_reply": "2021-04-16T15:05:59.514456Z",
     "shell.execute_reply.started": "2021-04-16T15:05:59.490454Z"
    }
   },
   "outputs": [
    {
     "data": {
      "text/plain": [
       "{'class': 'loan'}"
      ]
     },
     "execution_count": 3,
     "metadata": {},
     "output_type": "execute_result"
    }
   ],
   "source": [
    "dicti"
   ]
  },
  {
   "cell_type": "code",
   "execution_count": 4,
   "metadata": {
    "execution": {
     "iopub.execute_input": "2021-04-16T15:07:02.500734Z",
     "iopub.status.busy": "2021-04-16T15:07:02.500734Z",
     "iopub.status.idle": "2021-04-16T15:07:02.516737Z",
     "shell.execute_reply": "2021-04-16T15:07:02.514737Z",
     "shell.execute_reply.started": "2021-04-16T15:07:02.500734Z"
    }
   },
   "outputs": [],
   "source": [
    "yore = [1,2,3]"
   ]
  },
  {
   "cell_type": "code",
   "execution_count": 5,
   "metadata": {
    "execution": {
     "iopub.execute_input": "2021-04-16T15:07:27.051736Z",
     "iopub.status.busy": "2021-04-16T15:07:27.050733Z",
     "iopub.status.idle": "2021-04-16T15:07:27.072742Z",
     "shell.execute_reply": "2021-04-16T15:07:27.070738Z",
     "shell.execute_reply.started": "2021-04-16T15:07:27.050733Z"
    }
   },
   "outputs": [],
   "source": [
    "dicti.update({'class': yore})"
   ]
  },
  {
   "cell_type": "code",
   "execution_count": 6,
   "metadata": {
    "execution": {
     "iopub.execute_input": "2021-04-16T15:07:39.919738Z",
     "iopub.status.busy": "2021-04-16T15:07:39.919738Z",
     "iopub.status.idle": "2021-04-16T15:07:39.935736Z",
     "shell.execute_reply": "2021-04-16T15:07:39.933736Z",
     "shell.execute_reply.started": "2021-04-16T15:07:39.919738Z"
    }
   },
   "outputs": [
    {
     "data": {
      "text/plain": [
       "{'class': [1, 2, 3]}"
      ]
     },
     "execution_count": 6,
     "metadata": {},
     "output_type": "execute_result"
    }
   ],
   "source": [
    "dicti"
   ]
  },
  {
   "cell_type": "markdown",
   "metadata": {},
   "source": [
    "# Averaging dataframe columns"
   ]
  },
  {
   "cell_type": "code",
   "execution_count": 3,
   "metadata": {
    "execution": {
     "iopub.execute_input": "2021-04-22T15:49:00.495913Z",
     "iopub.status.busy": "2021-04-22T15:49:00.495913Z",
     "iopub.status.idle": "2021-04-22T15:49:00.568915Z",
     "shell.execute_reply": "2021-04-22T15:49:00.567915Z",
     "shell.execute_reply.started": "2021-04-22T15:49:00.495913Z"
    }
   },
   "outputs": [
    {
     "data": {
      "text/html": [
       "<div>\n",
       "<style scoped>\n",
       "    .dataframe tbody tr th:only-of-type {\n",
       "        vertical-align: middle;\n",
       "    }\n",
       "\n",
       "    .dataframe tbody tr th {\n",
       "        vertical-align: top;\n",
       "    }\n",
       "\n",
       "    .dataframe thead th {\n",
       "        text-align: right;\n",
       "    }\n",
       "</style>\n",
       "<table border=\"1\" class=\"dataframe\">\n",
       "  <thead>\n",
       "    <tr style=\"text-align: right;\">\n",
       "      <th></th>\n",
       "      <th>word</th>\n",
       "      <th>credit_reporting</th>\n",
       "      <th>debt_collection</th>\n",
       "      <th>mortgages_and_loans</th>\n",
       "      <th>credit_card</th>\n",
       "      <th>retail_banking</th>\n",
       "    </tr>\n",
       "  </thead>\n",
       "  <tbody>\n",
       "    <tr>\n",
       "      <th>0</th>\n",
       "      <td>credit</td>\n",
       "      <td>0.505595</td>\n",
       "      <td>0.372459</td>\n",
       "      <td>0.136271</td>\n",
       "      <td>0.370545</td>\n",
       "      <td>0.061344</td>\n",
       "    </tr>\n",
       "    <tr>\n",
       "      <th>1</th>\n",
       "      <td>account</td>\n",
       "      <td>0.416318</td>\n",
       "      <td>0.325808</td>\n",
       "      <td>0.163319</td>\n",
       "      <td>0.314431</td>\n",
       "      <td>0.590591</td>\n",
       "    </tr>\n",
       "    <tr>\n",
       "      <th>2</th>\n",
       "      <td>report</td>\n",
       "      <td>0.314272</td>\n",
       "      <td>0.188310</td>\n",
       "      <td>0.042440</td>\n",
       "      <td>0.052804</td>\n",
       "      <td>0.025841</td>\n",
       "    </tr>\n",
       "    <tr>\n",
       "      <th>3</th>\n",
       "      <td>information</td>\n",
       "      <td>0.241099</td>\n",
       "      <td>0.153487</td>\n",
       "      <td>0.076908</td>\n",
       "      <td>0.064074</td>\n",
       "      <td>0.065382</td>\n",
       "    </tr>\n",
       "    <tr>\n",
       "      <th>4</th>\n",
       "      <td>reporting</td>\n",
       "      <td>0.180959</td>\n",
       "      <td>0.095794</td>\n",
       "      <td>0.019932</td>\n",
       "      <td>0.016837</td>\n",
       "      <td>0.003814</td>\n",
       "    </tr>\n",
       "  </tbody>\n",
       "</table>\n",
       "</div>"
      ],
      "text/plain": [
       "          word  credit_reporting  debt_collection  mortgages_and_loans  \\\n",
       "0       credit          0.505595         0.372459             0.136271   \n",
       "1      account          0.416318         0.325808             0.163319   \n",
       "2       report          0.314272         0.188310             0.042440   \n",
       "3  information          0.241099         0.153487             0.076908   \n",
       "4    reporting          0.180959         0.095794             0.019932   \n",
       "\n",
       "   credit_card  retail_banking  \n",
       "0     0.370545        0.061344  \n",
       "1     0.314431        0.590591  \n",
       "2     0.052804        0.025841  \n",
       "3     0.064074        0.065382  \n",
       "4     0.016837        0.003814  "
      ]
     },
     "execution_count": 3,
     "metadata": {},
     "output_type": "execute_result"
    }
   ],
   "source": [
    "# corpus_df = pd.read_csv('../project_data/corpus_lemm_tfidf.csv')\n",
    "# corpus_df = corpus_df[0:5]\n",
    "# corpus_df.rename(columns={\"Unnamed: 0\": \"word\"}, inplace=True)\n",
    "# corpus_df.head()"
   ]
  },
  {
   "cell_type": "code",
   "execution_count": 8,
   "metadata": {
    "execution": {
     "iopub.execute_input": "2021-04-22T15:54:00.710892Z",
     "iopub.status.busy": "2021-04-22T15:54:00.710892Z",
     "iopub.status.idle": "2021-04-22T15:54:00.731892Z",
     "shell.execute_reply": "2021-04-22T15:54:00.730891Z",
     "shell.execute_reply.started": "2021-04-22T15:54:00.710892Z"
    }
   },
   "outputs": [
    {
     "data": {
      "text/html": [
       "<div>\n",
       "<style scoped>\n",
       "    .dataframe tbody tr th:only-of-type {\n",
       "        vertical-align: middle;\n",
       "    }\n",
       "\n",
       "    .dataframe tbody tr th {\n",
       "        vertical-align: top;\n",
       "    }\n",
       "\n",
       "    .dataframe thead th {\n",
       "        text-align: right;\n",
       "    }\n",
       "</style>\n",
       "<table border=\"1\" class=\"dataframe\">\n",
       "  <thead>\n",
       "    <tr style=\"text-align: right;\">\n",
       "      <th></th>\n",
       "      <th>word</th>\n",
       "      <th>c1</th>\n",
       "      <th>c2</th>\n",
       "      <th>c3</th>\n",
       "    </tr>\n",
       "  </thead>\n",
       "  <tbody>\n",
       "    <tr>\n",
       "      <th>0</th>\n",
       "      <td>apple</td>\n",
       "      <td>10</td>\n",
       "      <td>100</td>\n",
       "      <td>50</td>\n",
       "    </tr>\n",
       "    <tr>\n",
       "      <th>1</th>\n",
       "      <td>bear</td>\n",
       "      <td>11</td>\n",
       "      <td>110</td>\n",
       "      <td>77</td>\n",
       "    </tr>\n",
       "    <tr>\n",
       "      <th>2</th>\n",
       "      <td>circus</td>\n",
       "      <td>12</td>\n",
       "      <td>120</td>\n",
       "      <td>88</td>\n",
       "    </tr>\n",
       "  </tbody>\n",
       "</table>\n",
       "</div>"
      ],
      "text/plain": [
       "     word  c1   c2  c3\n",
       "0   apple  10  100  50\n",
       "1    bear  11  110  77\n",
       "2  circus  12  120  88"
      ]
     },
     "execution_count": 8,
     "metadata": {},
     "output_type": "execute_result"
    }
   ],
   "source": [
    "df = pd.DataFrame({'word': ['apple', 'bear', 'circus'] ,'c1': [10, 11, 12], 'c2': [100, 110, 120], 'c3': [50, 77, 88]})\n",
    "df"
   ]
  },
  {
   "cell_type": "code",
   "execution_count": 9,
   "metadata": {
    "execution": {
     "iopub.execute_input": "2021-04-22T15:54:16.609894Z",
     "iopub.status.busy": "2021-04-22T15:54:16.609894Z",
     "iopub.status.idle": "2021-04-22T15:54:16.628892Z",
     "shell.execute_reply": "2021-04-22T15:54:16.626890Z",
     "shell.execute_reply.started": "2021-04-22T15:54:16.609894Z"
    }
   },
   "outputs": [
    {
     "data": {
      "text/plain": [
       "33"
      ]
     },
     "execution_count": 9,
     "metadata": {},
     "output_type": "execute_result"
    }
   ],
   "source": [
    "df['c1'].sum()"
   ]
  },
  {
   "cell_type": "code",
   "execution_count": 47,
   "metadata": {
    "execution": {
     "iopub.execute_input": "2021-04-22T16:16:03.950526Z",
     "iopub.status.busy": "2021-04-22T16:16:03.949524Z",
     "iopub.status.idle": "2021-04-22T16:16:03.967527Z",
     "shell.execute_reply": "2021-04-22T16:16:03.966521Z",
     "shell.execute_reply.started": "2021-04-22T16:16:03.950526Z"
    }
   },
   "outputs": [
    {
     "name": "stdout",
     "output_type": "stream",
     "text": [
      "0\n",
      "---\n",
      "c1     10\n",
      "c2    100\n",
      "c3     50\n",
      "Name: 0, dtype: int64\n",
      "---\n",
      "1\n",
      "---\n",
      "c1     11\n",
      "c2    110\n",
      "c3     77\n",
      "Name: 1, dtype: int64\n",
      "---\n",
      "2\n",
      "---\n",
      "c1     12\n",
      "c2    120\n",
      "c3     88\n",
      "Name: 2, dtype: int64\n",
      "---\n"
     ]
    }
   ],
   "source": [
    "for index, row in df.iloc[:, 1:].iterrows():\n",
    "    print(index)\n",
    "    print('---')\n",
    "    print(row)\n",
    "    print('---')\n",
    "#     print(df.iloc[index]['c1']/df['c1'].sum()*100)"
   ]
  },
  {
   "cell_type": "code",
   "execution_count": 24,
   "metadata": {
    "execution": {
     "iopub.execute_input": "2021-04-22T16:04:41.178477Z",
     "iopub.status.busy": "2021-04-22T16:04:41.177480Z",
     "iopub.status.idle": "2021-04-22T16:04:41.204485Z",
     "shell.execute_reply": "2021-04-22T16:04:41.201484Z",
     "shell.execute_reply.started": "2021-04-22T16:04:41.178477Z"
    }
   },
   "outputs": [
    {
     "name": "stdout",
     "output_type": "stream",
     "text": [
      "30.303030303030305\n",
      "---\n",
      "33.33333333333333\n",
      "---\n",
      "36.36363636363637\n",
      "---\n"
     ]
    }
   ],
   "source": [
    "for index, row in df.iloc[:, 1:1].iterrows():\n",
    "    print(df.iloc[index]['c1']/df['c1'].sum()*100)\n",
    "    print('---')"
   ]
  },
  {
   "cell_type": "code",
   "execution_count": 33,
   "metadata": {
    "execution": {
     "iopub.execute_input": "2021-04-22T16:09:18.528875Z",
     "iopub.status.busy": "2021-04-22T16:09:18.528875Z",
     "iopub.status.idle": "2021-04-22T16:09:18.538876Z",
     "shell.execute_reply": "2021-04-22T16:09:18.537878Z",
     "shell.execute_reply.started": "2021-04-22T16:09:18.528875Z"
    }
   },
   "outputs": [
    {
     "name": "stdout",
     "output_type": "stream",
     "text": [
      "30.303030303030305\n",
      "---\n",
      "33.33333333333333\n",
      "---\n",
      "36.36363636363637\n",
      "---\n"
     ]
    }
   ],
   "source": [
    "for index, row in df.iloc[:, 1:1].iterrows():\n",
    "    print(df.iloc[index, 1]/df['c1'].sum()*100)\n",
    "    print('---')"
   ]
  },
  {
   "cell_type": "code",
   "execution_count": 38,
   "metadata": {
    "execution": {
     "iopub.execute_input": "2021-04-22T16:12:11.992023Z",
     "iopub.status.busy": "2021-04-22T16:12:11.991022Z",
     "iopub.status.idle": "2021-04-22T16:12:12.009026Z",
     "shell.execute_reply": "2021-04-22T16:12:12.008021Z",
     "shell.execute_reply.started": "2021-04-22T16:12:11.992023Z"
    }
   },
   "outputs": [
    {
     "name": "stdout",
     "output_type": "stream",
     "text": [
      "30.303030303030305\n",
      "---\n",
      "33.33333333333333\n",
      "---\n",
      "36.36363636363637\n",
      "---\n"
     ]
    }
   ],
   "source": [
    "for index, row in df.iloc[:, 1:1].iterrows():\n",
    "    percent = df.iloc[index, 1]/df['c1'].sum()*100\n",
    "    print(percent)\n",
    "    print('---')"
   ]
  },
  {
   "cell_type": "code",
   "execution_count": 67,
   "metadata": {
    "execution": {
     "iopub.execute_input": "2021-04-22T16:30:12.074329Z",
     "iopub.status.busy": "2021-04-22T16:30:12.074329Z",
     "iopub.status.idle": "2021-04-22T16:30:12.097322Z",
     "shell.execute_reply": "2021-04-22T16:30:12.096322Z",
     "shell.execute_reply.started": "2021-04-22T16:30:12.074329Z"
    }
   },
   "outputs": [
    {
     "name": "stdout",
     "output_type": "stream",
     "text": [
      "c1    30.30303\n",
      "dtype: float64\n",
      "---\n",
      "c1    33.333333\n",
      "dtype: float64\n",
      "---\n",
      "c1    36.363636\n",
      "dtype: float64\n",
      "---\n"
     ]
    }
   ],
   "source": [
    "for index, row in df.iloc[:, 1:1].iterrows():\n",
    "    percent = df.iloc[index, 1]/df.iloc[:, 1:2].sum()*100\n",
    "    print(percent)\n",
    "    print('---')"
   ]
  },
  {
   "cell_type": "code",
   "execution_count": 65,
   "metadata": {
    "execution": {
     "iopub.execute_input": "2021-04-22T16:26:46.884867Z",
     "iopub.status.busy": "2021-04-22T16:26:46.883871Z",
     "iopub.status.idle": "2021-04-22T16:26:46.917868Z",
     "shell.execute_reply": "2021-04-22T16:26:46.916869Z",
     "shell.execute_reply.started": "2021-04-22T16:26:46.884867Z"
    }
   },
   "outputs": [
    {
     "data": {
      "text/plain": [
       "[c1    0.00303\n",
       " dtype: float64, c1    0.003333\n",
       " dtype: float64, c1    0.003636\n",
       " dtype: float64]"
      ]
     },
     "execution_count": 65,
     "metadata": {},
     "output_type": "execute_result"
    }
   ],
   "source": [
    "for index, row in df.iloc[:, 1:1].iterrows():\n",
    "    percent = df.iloc[index, 1]/df.iloc[:, 1:2].sum()*100\n",
    "    print(percent)\n",
    "    print('---')"
   ]
  },
  {
   "cell_type": "code",
   "execution_count": 71,
   "metadata": {
    "execution": {
     "iopub.execute_input": "2021-04-22T16:38:53.659665Z",
     "iopub.status.busy": "2021-04-22T16:38:53.659665Z",
     "iopub.status.idle": "2021-04-22T16:38:53.681669Z",
     "shell.execute_reply": "2021-04-22T16:38:53.680669Z",
     "shell.execute_reply.started": "2021-04-22T16:38:53.659665Z"
    }
   },
   "outputs": [
    {
     "data": {
      "text/html": [
       "<div>\n",
       "<style scoped>\n",
       "    .dataframe tbody tr th:only-of-type {\n",
       "        vertical-align: middle;\n",
       "    }\n",
       "\n",
       "    .dataframe tbody tr th {\n",
       "        vertical-align: top;\n",
       "    }\n",
       "\n",
       "    .dataframe thead th {\n",
       "        text-align: right;\n",
       "    }\n",
       "</style>\n",
       "<table border=\"1\" class=\"dataframe\">\n",
       "  <thead>\n",
       "    <tr style=\"text-align: right;\">\n",
       "      <th></th>\n",
       "      <th>word</th>\n",
       "      <th>c1</th>\n",
       "      <th>c2</th>\n",
       "      <th>c3</th>\n",
       "      <th>c1_percent</th>\n",
       "    </tr>\n",
       "  </thead>\n",
       "  <tbody>\n",
       "    <tr>\n",
       "      <th>0</th>\n",
       "      <td>apple</td>\n",
       "      <td>10</td>\n",
       "      <td>100</td>\n",
       "      <td>50</td>\n",
       "      <td>30.30</td>\n",
       "    </tr>\n",
       "    <tr>\n",
       "      <th>1</th>\n",
       "      <td>bear</td>\n",
       "      <td>11</td>\n",
       "      <td>110</td>\n",
       "      <td>77</td>\n",
       "      <td>33.33</td>\n",
       "    </tr>\n",
       "    <tr>\n",
       "      <th>2</th>\n",
       "      <td>circus</td>\n",
       "      <td>12</td>\n",
       "      <td>120</td>\n",
       "      <td>88</td>\n",
       "      <td>36.36</td>\n",
       "    </tr>\n",
       "  </tbody>\n",
       "</table>\n",
       "</div>"
      ],
      "text/plain": [
       "     word  c1   c2  c3  c1_percent\n",
       "0   apple  10  100  50       30.30\n",
       "1    bear  11  110  77       33.33\n",
       "2  circus  12  120  88       36.36"
      ]
     },
     "execution_count": 71,
     "metadata": {},
     "output_type": "execute_result"
    }
   ],
   "source": [
    "df['c1_percent'] = round((df['c1'] / df['c1'].sum()) *100, 2)\n",
    "df"
   ]
  },
  {
   "cell_type": "code",
   "execution_count": 87,
   "metadata": {
    "execution": {
     "iopub.execute_input": "2021-04-22T16:49:11.210668Z",
     "iopub.status.busy": "2021-04-22T16:49:11.210668Z",
     "iopub.status.idle": "2021-04-22T16:49:11.239672Z",
     "shell.execute_reply": "2021-04-22T16:49:11.237669Z",
     "shell.execute_reply.started": "2021-04-22T16:49:11.210668Z"
    }
   },
   "outputs": [
    {
     "data": {
      "text/html": [
       "<div>\n",
       "<style scoped>\n",
       "    .dataframe tbody tr th:only-of-type {\n",
       "        vertical-align: middle;\n",
       "    }\n",
       "\n",
       "    .dataframe tbody tr th {\n",
       "        vertical-align: top;\n",
       "    }\n",
       "\n",
       "    .dataframe thead th {\n",
       "        text-align: right;\n",
       "    }\n",
       "</style>\n",
       "<table border=\"1\" class=\"dataframe\">\n",
       "  <thead>\n",
       "    <tr style=\"text-align: right;\">\n",
       "      <th></th>\n",
       "      <th>word</th>\n",
       "      <th>c1</th>\n",
       "      <th>c2</th>\n",
       "      <th>c3</th>\n",
       "    </tr>\n",
       "  </thead>\n",
       "  <tbody>\n",
       "    <tr>\n",
       "      <th>0</th>\n",
       "      <td>apple</td>\n",
       "      <td>10</td>\n",
       "      <td>100</td>\n",
       "      <td>50</td>\n",
       "    </tr>\n",
       "    <tr>\n",
       "      <th>1</th>\n",
       "      <td>bear</td>\n",
       "      <td>11</td>\n",
       "      <td>50</td>\n",
       "      <td>77</td>\n",
       "    </tr>\n",
       "    <tr>\n",
       "      <th>2</th>\n",
       "      <td>circus</td>\n",
       "      <td>12</td>\n",
       "      <td>120</td>\n",
       "      <td>88</td>\n",
       "    </tr>\n",
       "  </tbody>\n",
       "</table>\n",
       "</div>"
      ],
      "text/plain": [
       "     word  c1   c2  c3\n",
       "0   apple  10  100  50\n",
       "1    bear  11   50  77\n",
       "2  circus  12  120  88"
      ]
     },
     "execution_count": 87,
     "metadata": {},
     "output_type": "execute_result"
    }
   ],
   "source": [
    "df = pd.DataFrame({'word': ['apple', 'bear', 'circus'] ,'c1': [10, 11, 12], 'c2': [100, 50, 120], 'c3': [50, 77, 88]})\n",
    "df"
   ]
  },
  {
   "cell_type": "code",
   "execution_count": 82,
   "metadata": {
    "execution": {
     "iopub.execute_input": "2021-04-22T16:43:14.468487Z",
     "iopub.status.busy": "2021-04-22T16:43:14.468487Z",
     "iopub.status.idle": "2021-04-22T16:43:14.476488Z",
     "shell.execute_reply": "2021-04-22T16:43:14.475489Z",
     "shell.execute_reply.started": "2021-04-22T16:43:14.468487Z"
    }
   },
   "outputs": [
    {
     "data": {
      "text/plain": [
       "['c1', 'c2', 'c3']"
      ]
     },
     "execution_count": 82,
     "metadata": {},
     "output_type": "execute_result"
    }
   ],
   "source": [
    "names = df.columns.tolist()[1:]\n",
    "names"
   ]
  },
  {
   "cell_type": "code",
   "execution_count": 88,
   "metadata": {
    "execution": {
     "iopub.execute_input": "2021-04-22T16:49:14.546814Z",
     "iopub.status.busy": "2021-04-22T16:49:14.546814Z",
     "iopub.status.idle": "2021-04-22T16:49:14.583821Z",
     "shell.execute_reply": "2021-04-22T16:49:14.582813Z",
     "shell.execute_reply.started": "2021-04-22T16:49:14.546814Z"
    }
   },
   "outputs": [
    {
     "data": {
      "text/html": [
       "<div>\n",
       "<style scoped>\n",
       "    .dataframe tbody tr th:only-of-type {\n",
       "        vertical-align: middle;\n",
       "    }\n",
       "\n",
       "    .dataframe tbody tr th {\n",
       "        vertical-align: top;\n",
       "    }\n",
       "\n",
       "    .dataframe thead th {\n",
       "        text-align: right;\n",
       "    }\n",
       "</style>\n",
       "<table border=\"1\" class=\"dataframe\">\n",
       "  <thead>\n",
       "    <tr style=\"text-align: right;\">\n",
       "      <th></th>\n",
       "      <th>word</th>\n",
       "      <th>c1_percent</th>\n",
       "      <th>c2_percent</th>\n",
       "      <th>c3_percent</th>\n",
       "    </tr>\n",
       "  </thead>\n",
       "  <tbody>\n",
       "    <tr>\n",
       "      <th>0</th>\n",
       "      <td>apple</td>\n",
       "      <td>30.30</td>\n",
       "      <td>37.04</td>\n",
       "      <td>23.26</td>\n",
       "    </tr>\n",
       "    <tr>\n",
       "      <th>1</th>\n",
       "      <td>bear</td>\n",
       "      <td>33.33</td>\n",
       "      <td>18.52</td>\n",
       "      <td>35.81</td>\n",
       "    </tr>\n",
       "    <tr>\n",
       "      <th>2</th>\n",
       "      <td>circus</td>\n",
       "      <td>36.36</td>\n",
       "      <td>44.44</td>\n",
       "      <td>40.93</td>\n",
       "    </tr>\n",
       "  </tbody>\n",
       "</table>\n",
       "</div>"
      ],
      "text/plain": [
       "     word  c1_percent  c2_percent  c3_percent\n",
       "0   apple       30.30       37.04       23.26\n",
       "1    bear       33.33       18.52       35.81\n",
       "2  circus       36.36       44.44       40.93"
      ]
     },
     "execution_count": 88,
     "metadata": {},
     "output_type": "execute_result"
    }
   ],
   "source": [
    "for name in names:\n",
    "    df[f'{name}_percent'] = round((df[name] / df[name].sum()) *100, 2)\n",
    "    df.drop(columns=[name], inplace=True)\n",
    "df"
   ]
  }
 ],
 "metadata": {
  "kernelspec": {
   "display_name": "Python 3",
   "language": "python",
   "name": "python3"
  },
  "language_info": {
   "codemirror_mode": {
    "name": "ipython",
    "version": 3
   },
   "file_extension": ".py",
   "mimetype": "text/x-python",
   "name": "python",
   "nbconvert_exporter": "python",
   "pygments_lexer": "ipython3",
   "version": "3.6.9"
  }
 },
 "nbformat": 4,
 "nbformat_minor": 4
}
