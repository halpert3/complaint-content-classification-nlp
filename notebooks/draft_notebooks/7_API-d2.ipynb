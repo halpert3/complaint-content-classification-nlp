{
 "cells": [
  {
   "cell_type": "code",
   "execution_count": 1,
   "metadata": {
    "execution": {
     "iopub.execute_input": "2021-04-19T18:37:35.390428Z",
     "iopub.status.busy": "2021-04-19T18:37:35.390428Z",
     "iopub.status.idle": "2021-04-19T18:37:38.505428Z",
     "shell.execute_reply": "2021-04-19T18:37:38.504424Z",
     "shell.execute_reply.started": "2021-04-19T18:37:35.390428Z"
    }
   },
   "outputs": [],
   "source": [
    "import pandas as pd\n",
    "import requests"
   ]
  },
  {
   "cell_type": "markdown",
   "metadata": {},
   "source": [
    "# Get data from API"
   ]
  },
  {
   "cell_type": "markdown",
   "metadata": {},
   "source": [
    "## Check dates of original dataset"
   ]
  },
  {
   "cell_type": "code",
   "execution_count": 2,
   "metadata": {
    "execution": {
     "iopub.execute_input": "2021-04-19T18:37:38.507429Z",
     "iopub.status.busy": "2021-04-19T18:37:38.506430Z",
     "iopub.status.idle": "2021-04-19T18:37:41.119426Z",
     "shell.execute_reply": "2021-04-19T18:37:41.118426Z",
     "shell.execute_reply.started": "2021-04-19T18:37:38.507429Z"
    }
   },
   "outputs": [],
   "source": [
    "df_orig = pd.read_csv('../project_data/complaints_1.csv')"
   ]
  },
  {
   "cell_type": "code",
   "execution_count": 3,
   "metadata": {
    "execution": {
     "iopub.execute_input": "2021-04-19T18:37:41.121428Z",
     "iopub.status.busy": "2021-04-19T18:37:41.121428Z",
     "iopub.status.idle": "2021-04-19T18:37:41.153433Z",
     "shell.execute_reply": "2021-04-19T18:37:41.151431Z",
     "shell.execute_reply.started": "2021-04-19T18:37:41.121428Z"
    }
   },
   "outputs": [
    {
     "data": {
      "text/plain": [
       "str"
      ]
     },
     "execution_count": 3,
     "metadata": {},
     "output_type": "execute_result"
    }
   ],
   "source": [
    "type(df_orig['Date received'][0])"
   ]
  },
  {
   "cell_type": "markdown",
   "metadata": {},
   "source": [
    "Dates are in string format. Convert to datetime."
   ]
  },
  {
   "cell_type": "code",
   "execution_count": 4,
   "metadata": {
    "execution": {
     "iopub.execute_input": "2021-04-19T18:37:41.156430Z",
     "iopub.status.busy": "2021-04-19T18:37:41.156430Z",
     "iopub.status.idle": "2021-04-19T18:37:41.325428Z",
     "shell.execute_reply": "2021-04-19T18:37:41.324426Z",
     "shell.execute_reply.started": "2021-04-19T18:37:41.156430Z"
    }
   },
   "outputs": [],
   "source": [
    "df_orig.rename(columns={'Date received': 'date'}, inplace=True)\n",
    "\n",
    "df_orig['date'] = pd.to_datetime(df_orig['date'])"
   ]
  },
  {
   "cell_type": "code",
   "execution_count": 5,
   "metadata": {
    "execution": {
     "iopub.execute_input": "2021-04-19T18:37:41.326429Z",
     "iopub.status.busy": "2021-04-19T18:37:41.326429Z",
     "iopub.status.idle": "2021-04-19T18:37:41.784444Z",
     "shell.execute_reply": "2021-04-19T18:37:41.782461Z",
     "shell.execute_reply.started": "2021-04-19T18:37:41.326429Z"
    }
   },
   "outputs": [
    {
     "data": {
      "text/plain": [
       "Timestamp('2020-03-17 00:00:00')"
      ]
     },
     "execution_count": 5,
     "metadata": {},
     "output_type": "execute_result"
    }
   ],
   "source": [
    "min(df_orig['date'])"
   ]
  },
  {
   "cell_type": "code",
   "execution_count": 6,
   "metadata": {
    "execution": {
     "iopub.execute_input": "2021-04-19T18:37:41.788466Z",
     "iopub.status.busy": "2021-04-19T18:37:41.787431Z",
     "iopub.status.idle": "2021-04-19T18:37:42.211428Z",
     "shell.execute_reply": "2021-04-19T18:37:42.210462Z",
     "shell.execute_reply.started": "2021-04-19T18:37:41.788466Z"
    }
   },
   "outputs": [
    {
     "data": {
      "text/plain": [
       "Timestamp('2021-03-01 00:00:00')"
      ]
     },
     "execution_count": 6,
     "metadata": {},
     "output_type": "execute_result"
    }
   ],
   "source": [
    "max(df_orig['date'])"
   ]
  },
  {
   "cell_type": "markdown",
   "metadata": {},
   "source": [
    "The most recent was 2021-03-01"
   ]
  },
  {
   "cell_type": "markdown",
   "metadata": {},
   "source": [
    "## Use API"
   ]
  },
  {
   "cell_type": "markdown",
   "metadata": {},
   "source": [
    "Submit GET request with parameters"
   ]
  },
  {
   "cell_type": "code",
   "execution_count": 31,
   "metadata": {
    "execution": {
     "iopub.execute_input": "2021-04-19T18:45:21.571568Z",
     "iopub.status.busy": "2021-04-19T18:45:21.570532Z",
     "iopub.status.idle": "2021-04-19T18:45:21.957561Z",
     "shell.execute_reply": "2021-04-19T18:45:21.956558Z",
     "shell.execute_reply.started": "2021-04-19T18:45:21.571568Z"
    }
   },
   "outputs": [],
   "source": [
    "url = 'https://www.consumerfinance.gov/data-research/consumer-complaints/search/api/v1/'\n",
    "\n",
    "parameters = {'date_received_min': '2021-03-02',\n",
    "              'has_narrative': True,\n",
    "              'size': 20\n",
    "}\n",
    "r = requests.get(url, params=parameters)"
   ]
  },
  {
   "cell_type": "markdown",
   "metadata": {},
   "source": [
    "Make data into a dictionary format"
   ]
  },
  {
   "cell_type": "code",
   "execution_count": 32,
   "metadata": {
    "execution": {
     "iopub.execute_input": "2021-04-19T18:45:23.312557Z",
     "iopub.status.busy": "2021-04-19T18:45:23.312557Z",
     "iopub.status.idle": "2021-04-19T18:45:23.319533Z",
     "shell.execute_reply": "2021-04-19T18:45:23.318532Z",
     "shell.execute_reply.started": "2021-04-19T18:45:23.312557Z"
    }
   },
   "outputs": [],
   "source": [
    "data = r.json()"
   ]
  },
  {
   "cell_type": "code",
   "execution_count": null,
   "metadata": {},
   "outputs": [],
   "source": []
  },
  {
   "cell_type": "code",
   "execution_count": 47,
   "metadata": {
    "execution": {
     "iopub.execute_input": "2021-04-19T18:49:20.564019Z",
     "iopub.status.busy": "2021-04-19T18:49:20.564019Z",
     "iopub.status.idle": "2021-04-19T18:49:20.586024Z",
     "shell.execute_reply": "2021-04-19T18:49:20.584023Z",
     "shell.execute_reply.started": "2021-04-19T18:49:20.564019Z"
    }
   },
   "outputs": [],
   "source": [
    "# Instatiate empty dictionary\n",
    "new_dict = {}\n",
    "\n",
    "# Create empty lists to gather data\n",
    "product_list = []\n",
    "narrative_list = [] \n",
    "\n",
    "# Loop through data and add to dictionary\n",
    "for i in range(len(data['hits']['hits'])):\n",
    "    product_list.append(data['hits']['hits'][i]['_source']['product'])\n",
    "    narrative_list.append(data['hits']['hits'][i]['_source']['complaint_what_happened'])\n",
    "new_dict['product'] = product_list\n",
    "new_dict['narrative'] = narrative_list"
   ]
  },
  {
   "cell_type": "code",
   "execution_count": 50,
   "metadata": {
    "execution": {
     "iopub.execute_input": "2021-04-19T18:49:37.961259Z",
     "iopub.status.busy": "2021-04-19T18:49:37.960264Z",
     "iopub.status.idle": "2021-04-19T18:49:37.971258Z",
     "shell.execute_reply": "2021-04-19T18:49:37.970259Z",
     "shell.execute_reply.started": "2021-04-19T18:49:37.961259Z"
    }
   },
   "outputs": [],
   "source": [
    "df = pd.DataFrame.from_dict(new_dict)"
   ]
  },
  {
   "cell_type": "markdown",
   "metadata": {},
   "source": [
    "# Clean Data"
   ]
  },
  {
   "cell_type": "markdown",
   "metadata": {
    "execution": {
     "iopub.execute_input": "2021-04-19T18:38:29.138177Z",
     "iopub.status.busy": "2021-04-19T18:38:29.138177Z",
     "iopub.status.idle": "2021-04-19T18:38:29.150174Z",
     "shell.execute_reply": "2021-04-19T18:38:29.149174Z",
     "shell.execute_reply.started": "2021-04-19T18:38:29.138177Z"
    }
   },
   "source": [
    "## Consolidate Products"
   ]
  },
  {
   "cell_type": "code",
   "execution_count": 51,
   "metadata": {
    "execution": {
     "iopub.execute_input": "2021-04-19T18:49:41.715999Z",
     "iopub.status.busy": "2021-04-19T18:49:41.715999Z",
     "iopub.status.idle": "2021-04-19T18:49:41.736999Z",
     "shell.execute_reply": "2021-04-19T18:49:41.736000Z",
     "shell.execute_reply.started": "2021-04-19T18:49:41.715999Z"
    }
   },
   "outputs": [],
   "source": [
    "# consolidate products into the classes used so far\n",
    "\n",
    "df['product'].replace({'Credit reporting, credit repair services, or other personal consumer reports': 'credit_reporting',\n",
    "                       'Debt collection': 'debt_collection',\n",
    "                       'Credit card or prepaid card': 'credit_card',\n",
    "                       'Mortgage': 'mortgages_and_loans',\n",
    "                       'Checking or savings account': 'retail_banking',\n",
    "                       'Money transfer, virtual currency, or money service': 'retail_banking',\n",
    "                       'Vehicle loan or lease': 'mortgages_and_loans',\n",
    "                       'Payday loan, title loan, or personal loan': 'mortgages_and_loans',\n",
    "                       'Student loan': 'mortgages_and_loans'}, inplace=True)"
   ]
  },
  {
   "cell_type": "code",
   "execution_count": 52,
   "metadata": {
    "execution": {
     "iopub.execute_input": "2021-04-19T18:49:43.576993Z",
     "iopub.status.busy": "2021-04-19T18:49:43.575998Z",
     "iopub.status.idle": "2021-04-19T18:49:43.599993Z",
     "shell.execute_reply": "2021-04-19T18:49:43.598995Z",
     "shell.execute_reply.started": "2021-04-19T18:49:43.576993Z"
    }
   },
   "outputs": [
    {
     "data": {
      "text/html": [
       "<div>\n",
       "<style scoped>\n",
       "    .dataframe tbody tr th:only-of-type {\n",
       "        vertical-align: middle;\n",
       "    }\n",
       "\n",
       "    .dataframe tbody tr th {\n",
       "        vertical-align: top;\n",
       "    }\n",
       "\n",
       "    .dataframe thead th {\n",
       "        text-align: right;\n",
       "    }\n",
       "</style>\n",
       "<table border=\"1\" class=\"dataframe\">\n",
       "  <thead>\n",
       "    <tr style=\"text-align: right;\">\n",
       "      <th></th>\n",
       "      <th>product</th>\n",
       "      <th>narrative</th>\n",
       "    </tr>\n",
       "  </thead>\n",
       "  <tbody>\n",
       "    <tr>\n",
       "      <th>0</th>\n",
       "      <td>credit_reporting</td>\n",
       "      <td>I have determined that there are some creditor...</td>\n",
       "    </tr>\n",
       "    <tr>\n",
       "      <th>1</th>\n",
       "      <td>credit_reporting</td>\n",
       "      <td>On XX/XX/2020, I initially bought some great g...</td>\n",
       "    </tr>\n",
       "    <tr>\n",
       "      <th>2</th>\n",
       "      <td>credit_reporting</td>\n",
       "      <td>I sent a letter plus I did a dispute but they ...</td>\n",
       "    </tr>\n",
       "    <tr>\n",
       "      <th>3</th>\n",
       "      <td>retail_banking</td>\n",
       "      <td>Wells Fargo failed to provide outstanding reli...</td>\n",
       "    </tr>\n",
       "    <tr>\n",
       "      <th>4</th>\n",
       "      <td>credit_reporting</td>\n",
       "      <td>The department of education is now showing the...</td>\n",
       "    </tr>\n",
       "  </tbody>\n",
       "</table>\n",
       "</div>"
      ],
      "text/plain": [
       "            product                                          narrative\n",
       "0  credit_reporting  I have determined that there are some creditor...\n",
       "1  credit_reporting  On XX/XX/2020, I initially bought some great g...\n",
       "2  credit_reporting  I sent a letter plus I did a dispute but they ...\n",
       "3    retail_banking  Wells Fargo failed to provide outstanding reli...\n",
       "4  credit_reporting  The department of education is now showing the..."
      ]
     },
     "execution_count": 52,
     "metadata": {},
     "output_type": "execute_result"
    }
   ],
   "source": [
    "df.head()"
   ]
  },
  {
   "cell_type": "code",
   "execution_count": 53,
   "metadata": {
    "execution": {
     "iopub.execute_input": "2021-04-19T18:49:52.747283Z",
     "iopub.status.busy": "2021-04-19T18:49:52.746248Z",
     "iopub.status.idle": "2021-04-19T18:49:52.758244Z",
     "shell.execute_reply": "2021-04-19T18:49:52.757242Z",
     "shell.execute_reply.started": "2021-04-19T18:49:52.747283Z"
    }
   },
   "outputs": [
    {
     "data": {
      "text/plain": [
       "array(['credit_reporting', 'retail_banking', 'mortgages_and_loans',\n",
       "       'debt_collection', 'credit_card'], dtype=object)"
      ]
     },
     "execution_count": 53,
     "metadata": {},
     "output_type": "execute_result"
    }
   ],
   "source": [
    "df['product'].unique()"
   ]
  },
  {
   "cell_type": "markdown",
   "metadata": {},
   "source": [
    "## Loop through narratives to remove stopwords, tokenize and lemmatize"
   ]
  },
  {
   "cell_type": "code",
   "execution_count": 58,
   "metadata": {
    "execution": {
     "iopub.execute_input": "2021-04-19T18:57:34.862605Z",
     "iopub.status.busy": "2021-04-19T18:57:34.861605Z",
     "iopub.status.idle": "2021-04-19T18:57:34.878607Z",
     "shell.execute_reply": "2021-04-19T18:57:34.877606Z",
     "shell.execute_reply.started": "2021-04-19T18:57:34.862605Z"
    }
   },
   "outputs": [],
   "source": [
    "import numpy as np\n",
    "import nltk\n",
    "from nltk.corpus import stopwords\n",
    "from nltk import word_tokenize, FreqDist\n",
    "from nltk.stem.wordnet import WordNetLemmatizer\n",
    "import string"
   ]
  },
  {
   "cell_type": "code",
   "execution_count": 55,
   "metadata": {
    "execution": {
     "iopub.execute_input": "2021-04-19T18:54:24.027837Z",
     "iopub.status.busy": "2021-04-19T18:54:24.026836Z",
     "iopub.status.idle": "2021-04-19T18:54:24.055836Z",
     "shell.execute_reply": "2021-04-19T18:54:24.053841Z",
     "shell.execute_reply.started": "2021-04-19T18:54:24.027837Z"
    }
   },
   "outputs": [],
   "source": [
    "stopwords_list = stopwords.words('english') + list(string.punctuation)\n",
    "stopwords_list += [\"''\", '\"\"', '...', '``']\n",
    "stopwords_list += ['--', 'xxxx']"
   ]
  },
  {
   "cell_type": "code",
   "execution_count": 56,
   "metadata": {
    "execution": {
     "iopub.execute_input": "2021-04-19T18:55:05.394709Z",
     "iopub.status.busy": "2021-04-19T18:55:05.393708Z",
     "iopub.status.idle": "2021-04-19T18:55:05.420708Z",
     "shell.execute_reply": "2021-04-19T18:55:05.418707Z",
     "shell.execute_reply.started": "2021-04-19T18:55:05.394709Z"
    }
   },
   "outputs": [],
   "source": [
    "# function to tokenize data and remove stopwords\n",
    "def process_narrative(narrative):\n",
    "    tokens = nltk.word_tokenize(narrative)\n",
    "    stopwords_removed = [token.lower() for token in tokens if token.lower() not in stopwords_list]\n",
    "    \n",
    "    # adding line to remove all tokens with numbers and punctuation\n",
    "    stopwords_punc_and_numbers_removed = [word for word in stopwords_removed if word.isalpha()]\n",
    "    \n",
    "    return stopwords_punc_and_numbers_removed\n",
    "\n",
    "\n",
    "# function to concat words (used in function below)\n",
    "def concat_words(list_of_words):\n",
    "    # remove any NaN's\n",
    "    # list_of_words = [i for i in list if i is not np.nan]\n",
    "\n",
    "    concat_words = ''\n",
    "    for word in list_of_words:\n",
    "        concat_words += word + ' '\n",
    "    return concat_words.strip()\n",
    "\n",
    "# function to lemmatize words and merge each complaint into a single space-separated string\n",
    "\n",
    "lemm = WordNetLemmatizer()\n",
    "\n",
    "def make_lemma_and_concat(list_of_words):\n",
    "    # remove any NaN's\n",
    "    list_of_words = [i for i in list_of_words if i is not np.nan]\n",
    "    \n",
    "    # lemmatize each word\n",
    "    lemmatized_list = []\n",
    "    for idx, word in enumerate(list_of_words):\n",
    "        lemmatized_list.append(lemm.lemmatize(word))\n",
    "    \n",
    "    # make the list into a single string with the words separated by ' '\n",
    "    concatenated_string = concat_words(lemmatized_list)\n",
    "    return concatenated_string"
   ]
  },
  {
   "cell_type": "code",
   "execution_count": 59,
   "metadata": {
    "execution": {
     "iopub.execute_input": "2021-04-19T18:57:40.559464Z",
     "iopub.status.busy": "2021-04-19T18:57:40.559464Z",
     "iopub.status.idle": "2021-04-19T18:57:44.342463Z",
     "shell.execute_reply": "2021-04-19T18:57:44.340464Z",
     "shell.execute_reply.started": "2021-04-19T18:57:40.559464Z"
    }
   },
   "outputs": [
    {
     "name": "stdout",
     "output_type": "stream",
     "text": [
      "Finished line number 0\n"
     ]
    },
    {
     "data": {
      "text/html": [
       "<div>\n",
       "<style scoped>\n",
       "    .dataframe tbody tr th:only-of-type {\n",
       "        vertical-align: middle;\n",
       "    }\n",
       "\n",
       "    .dataframe tbody tr th {\n",
       "        vertical-align: top;\n",
       "    }\n",
       "\n",
       "    .dataframe thead th {\n",
       "        text-align: right;\n",
       "    }\n",
       "</style>\n",
       "<table border=\"1\" class=\"dataframe\">\n",
       "  <thead>\n",
       "    <tr style=\"text-align: right;\">\n",
       "      <th></th>\n",
       "      <th>product</th>\n",
       "      <th>narrative</th>\n",
       "    </tr>\n",
       "  </thead>\n",
       "  <tbody>\n",
       "    <tr>\n",
       "      <th>0</th>\n",
       "      <td>credit_reporting</td>\n",
       "      <td>determined creditor listed credit report belon...</td>\n",
       "    </tr>\n",
       "    <tr>\n",
       "      <th>1</th>\n",
       "      <td>credit_reporting</td>\n",
       "      <td>initially bought great gear love thought paid ...</td>\n",
       "    </tr>\n",
       "    <tr>\n",
       "      <th>2</th>\n",
       "      <td>credit_reporting</td>\n",
       "      <td>sent letter plus dispute keep putting address ...</td>\n",
       "    </tr>\n",
       "    <tr>\n",
       "      <th>3</th>\n",
       "      <td>retail_banking</td>\n",
       "      <td>well fargo failed provide outstanding relief a...</td>\n",
       "    </tr>\n",
       "    <tr>\n",
       "      <th>4</th>\n",
       "      <td>credit_reporting</td>\n",
       "      <td>department education showing account open past...</td>\n",
       "    </tr>\n",
       "  </tbody>\n",
       "</table>\n",
       "</div>"
      ],
      "text/plain": [
       "            product                                          narrative\n",
       "0  credit_reporting  determined creditor listed credit report belon...\n",
       "1  credit_reporting  initially bought great gear love thought paid ...\n",
       "2  credit_reporting  sent letter plus dispute keep putting address ...\n",
       "3    retail_banking  well fargo failed provide outstanding relief a...\n",
       "4  credit_reporting  department education showing account open past..."
      ]
     },
     "execution_count": 59,
     "metadata": {},
     "output_type": "execute_result"
    }
   ],
   "source": [
    "for i in range(len(df)):\n",
    "    processed_narr = process_narrative(df['narrative'].loc[i])\n",
    "    narr = make_lemma_and_concat(processed_narr)\n",
    "    df['narrative'].loc[i] = narr\n",
    "    if i % 3000 == 0:\n",
    "        print(f'Finished line number {i}')\n",
    "df.head()"
   ]
  },
  {
   "cell_type": "code",
   "execution_count": 60,
   "metadata": {
    "execution": {
     "iopub.execute_input": "2021-04-19T18:58:02.449412Z",
     "iopub.status.busy": "2021-04-19T18:58:02.448406Z",
     "iopub.status.idle": "2021-04-19T18:58:02.465422Z",
     "shell.execute_reply": "2021-04-19T18:58:02.463412Z",
     "shell.execute_reply.started": "2021-04-19T18:58:02.449412Z"
    }
   },
   "outputs": [
    {
     "data": {
      "text/html": [
       "<div>\n",
       "<style scoped>\n",
       "    .dataframe tbody tr th:only-of-type {\n",
       "        vertical-align: middle;\n",
       "    }\n",
       "\n",
       "    .dataframe tbody tr th {\n",
       "        vertical-align: top;\n",
       "    }\n",
       "\n",
       "    .dataframe thead th {\n",
       "        text-align: right;\n",
       "    }\n",
       "</style>\n",
       "<table border=\"1\" class=\"dataframe\">\n",
       "  <thead>\n",
       "    <tr style=\"text-align: right;\">\n",
       "      <th></th>\n",
       "      <th>product</th>\n",
       "      <th>narrative</th>\n",
       "    </tr>\n",
       "  </thead>\n",
       "  <tbody>\n",
       "    <tr>\n",
       "      <th>0</th>\n",
       "      <td>credit_reporting</td>\n",
       "      <td>determined creditor listed credit report belon...</td>\n",
       "    </tr>\n",
       "    <tr>\n",
       "      <th>1</th>\n",
       "      <td>credit_reporting</td>\n",
       "      <td>initially bought great gear love thought paid ...</td>\n",
       "    </tr>\n",
       "    <tr>\n",
       "      <th>2</th>\n",
       "      <td>credit_reporting</td>\n",
       "      <td>sent letter plus dispute keep putting address ...</td>\n",
       "    </tr>\n",
       "    <tr>\n",
       "      <th>3</th>\n",
       "      <td>retail_banking</td>\n",
       "      <td>well fargo failed provide outstanding relief a...</td>\n",
       "    </tr>\n",
       "    <tr>\n",
       "      <th>4</th>\n",
       "      <td>credit_reporting</td>\n",
       "      <td>department education showing account open past...</td>\n",
       "    </tr>\n",
       "    <tr>\n",
       "      <th>5</th>\n",
       "      <td>credit_reporting</td>\n",
       "      <td>well fargo continuously report late payment ac...</td>\n",
       "    </tr>\n",
       "    <tr>\n",
       "      <th>6</th>\n",
       "      <td>retail_banking</td>\n",
       "      <td>bank account open knowledge opening fraudulent...</td>\n",
       "    </tr>\n",
       "    <tr>\n",
       "      <th>7</th>\n",
       "      <td>credit_reporting</td>\n",
       "      <td>signed paypal credit given line credit worth t...</td>\n",
       "    </tr>\n",
       "    <tr>\n",
       "      <th>8</th>\n",
       "      <td>mortgages_and_loans</td>\n",
       "      <td>cfpb filing official complaint regarding mortg...</td>\n",
       "    </tr>\n",
       "    <tr>\n",
       "      <th>9</th>\n",
       "      <td>credit_reporting</td>\n",
       "      <td>account paid sent keep reporting owe called ge...</td>\n",
       "    </tr>\n",
       "    <tr>\n",
       "      <th>10</th>\n",
       "      <td>mortgages_and_loans</td>\n",
       "      <td>today closing date first ever refinance family...</td>\n",
       "    </tr>\n",
       "    <tr>\n",
       "      <th>11</th>\n",
       "      <td>credit_reporting</td>\n",
       "      <td>authorize anyone employed company make inquiry...</td>\n",
       "    </tr>\n",
       "    <tr>\n",
       "      <th>12</th>\n",
       "      <td>debt_collection</td>\n",
       "      <td>rma credit claiming owe recognize debt please ...</td>\n",
       "    </tr>\n",
       "    <tr>\n",
       "      <th>13</th>\n",
       "      <td>credit_reporting</td>\n",
       "      <td>inquiry credit report belong inquired need rep...</td>\n",
       "    </tr>\n",
       "    <tr>\n",
       "      <th>14</th>\n",
       "      <td>credit_reporting</td>\n",
       "      <td>contact credit reporting bureau asked provide ...</td>\n",
       "    </tr>\n",
       "    <tr>\n",
       "      <th>15</th>\n",
       "      <td>mortgages_and_loans</td>\n",
       "      <td>transaction id case since initial complaint re...</td>\n",
       "    </tr>\n",
       "    <tr>\n",
       "      <th>16</th>\n",
       "      <td>credit_reporting</td>\n",
       "      <td>filed dispute regard incorrect item credit rep...</td>\n",
       "    </tr>\n",
       "    <tr>\n",
       "      <th>17</th>\n",
       "      <td>credit_card</td>\n",
       "      <td>received paypal credit card wife deceased many...</td>\n",
       "    </tr>\n",
       "    <tr>\n",
       "      <th>18</th>\n",
       "      <td>mortgages_and_loans</td>\n",
       "      <td>paid mortgage amount payoff said official payo...</td>\n",
       "    </tr>\n",
       "    <tr>\n",
       "      <th>19</th>\n",
       "      <td>debt_collection</td>\n",
       "      <td>schoolsfirst fcu violated continuing collectio...</td>\n",
       "    </tr>\n",
       "  </tbody>\n",
       "</table>\n",
       "</div>"
      ],
      "text/plain": [
       "                product                                          narrative\n",
       "0      credit_reporting  determined creditor listed credit report belon...\n",
       "1      credit_reporting  initially bought great gear love thought paid ...\n",
       "2      credit_reporting  sent letter plus dispute keep putting address ...\n",
       "3        retail_banking  well fargo failed provide outstanding relief a...\n",
       "4      credit_reporting  department education showing account open past...\n",
       "5      credit_reporting  well fargo continuously report late payment ac...\n",
       "6        retail_banking  bank account open knowledge opening fraudulent...\n",
       "7      credit_reporting  signed paypal credit given line credit worth t...\n",
       "8   mortgages_and_loans  cfpb filing official complaint regarding mortg...\n",
       "9      credit_reporting  account paid sent keep reporting owe called ge...\n",
       "10  mortgages_and_loans  today closing date first ever refinance family...\n",
       "11     credit_reporting  authorize anyone employed company make inquiry...\n",
       "12      debt_collection  rma credit claiming owe recognize debt please ...\n",
       "13     credit_reporting  inquiry credit report belong inquired need rep...\n",
       "14     credit_reporting  contact credit reporting bureau asked provide ...\n",
       "15  mortgages_and_loans  transaction id case since initial complaint re...\n",
       "16     credit_reporting  filed dispute regard incorrect item credit rep...\n",
       "17          credit_card  received paypal credit card wife deceased many...\n",
       "18  mortgages_and_loans  paid mortgage amount payoff said official payo...\n",
       "19      debt_collection  schoolsfirst fcu violated continuing collectio..."
      ]
     },
     "execution_count": 60,
     "metadata": {},
     "output_type": "execute_result"
    }
   ],
   "source": [
    "df"
   ]
  },
  {
   "cell_type": "code",
   "execution_count": null,
   "metadata": {},
   "outputs": [],
   "source": []
  }
 ],
 "metadata": {
  "kernelspec": {
   "display_name": "Python 3",
   "language": "python",
   "name": "python3"
  },
  "language_info": {
   "codemirror_mode": {
    "name": "ipython",
    "version": 3
   },
   "file_extension": ".py",
   "mimetype": "text/x-python",
   "name": "python",
   "nbconvert_exporter": "python",
   "pygments_lexer": "ipython3",
   "version": "3.6.9"
  }
 },
 "nbformat": 4,
 "nbformat_minor": 4
}
