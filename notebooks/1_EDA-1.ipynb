{
 "cells": [
  {
   "cell_type": "markdown",
   "metadata": {},
   "source": [
    "# Import and inspect data"
   ]
  },
  {
   "cell_type": "code",
   "execution_count": 1,
   "metadata": {
    "execution": {
     "iopub.execute_input": "2021-04-16T16:35:32.700039Z",
     "iopub.status.busy": "2021-04-16T16:35:32.695039Z",
     "iopub.status.idle": "2021-04-16T16:35:44.379043Z",
     "shell.execute_reply": "2021-04-16T16:35:44.376042Z",
     "shell.execute_reply.started": "2021-04-16T16:35:32.700039Z"
    }
   },
   "outputs": [],
   "source": [
    "import pandas as pd\n",
    "import numpy as np\n",
    "import nltk\n",
    "from nltk.corpus import stopwords\n",
    "from nltk import word_tokenize, FreqDist\n",
    "import string"
   ]
  },
  {
   "cell_type": "code",
   "execution_count": 2,
   "metadata": {
    "execution": {
     "iopub.execute_input": "2021-04-16T16:35:44.384045Z",
     "iopub.status.busy": "2021-04-16T16:35:44.382048Z",
     "iopub.status.idle": "2021-04-16T16:35:49.500043Z",
     "shell.execute_reply": "2021-04-16T16:35:49.498041Z",
     "shell.execute_reply.started": "2021-04-16T16:35:44.384045Z"
    }
   },
   "outputs": [],
   "source": [
    "df = pd.read_csv('../project_data/complaints_1.csv')"
   ]
  },
  {
   "cell_type": "code",
   "execution_count": 3,
   "metadata": {},
   "outputs": [
    {
     "name": "stdout",
     "output_type": "stream",
     "text": [
      "<class 'pandas.core.frame.DataFrame'>\n",
      "RangeIndex: 162421 entries, 0 to 162420\n",
      "Data columns (total 18 columns):\n",
      " #   Column                        Non-Null Count   Dtype  \n",
      "---  ------                        --------------   -----  \n",
      " 0   Date received                 162421 non-null  object \n",
      " 1   Product                       162421 non-null  object \n",
      " 2   Sub-product                   162421 non-null  object \n",
      " 3   Issue                         162421 non-null  object \n",
      " 4   Sub-issue                     162421 non-null  object \n",
      " 5   Consumer complaint narrative  162421 non-null  object \n",
      " 6   Company public response       162421 non-null  object \n",
      " 7   Company                       162421 non-null  object \n",
      " 8   State                         162421 non-null  object \n",
      " 9   ZIP code                      162421 non-null  object \n",
      " 10  Tags                          162421 non-null  object \n",
      " 11  Consumer consent provided?    162421 non-null  object \n",
      " 12  Submitted via                 162421 non-null  object \n",
      " 13  Date sent to company          162421 non-null  object \n",
      " 14  Company response to consumer  162421 non-null  object \n",
      " 15  Timely response?              162421 non-null  object \n",
      " 16  Consumer disputed?            0 non-null       float64\n",
      " 17  Complaint ID                  162421 non-null  int64  \n",
      "dtypes: float64(1), int64(1), object(16)\n",
      "memory usage: 22.3+ MB\n"
     ]
    }
   ],
   "source": [
    "df.info()"
   ]
  },
  {
   "cell_type": "code",
   "execution_count": 4,
   "metadata": {},
   "outputs": [
    {
     "data": {
      "text/html": [
       "<div>\n",
       "<style scoped>\n",
       "    .dataframe tbody tr th:only-of-type {\n",
       "        vertical-align: middle;\n",
       "    }\n",
       "\n",
       "    .dataframe tbody tr th {\n",
       "        vertical-align: top;\n",
       "    }\n",
       "\n",
       "    .dataframe thead th {\n",
       "        text-align: right;\n",
       "    }\n",
       "</style>\n",
       "<table border=\"1\" class=\"dataframe\">\n",
       "  <thead>\n",
       "    <tr style=\"text-align: right;\">\n",
       "      <th></th>\n",
       "      <th>Date received</th>\n",
       "      <th>Product</th>\n",
       "      <th>Sub-product</th>\n",
       "      <th>Issue</th>\n",
       "      <th>Sub-issue</th>\n",
       "      <th>Consumer complaint narrative</th>\n",
       "      <th>Company public response</th>\n",
       "      <th>Company</th>\n",
       "      <th>State</th>\n",
       "      <th>ZIP code</th>\n",
       "      <th>Tags</th>\n",
       "      <th>Consumer consent provided?</th>\n",
       "      <th>Submitted via</th>\n",
       "      <th>Date sent to company</th>\n",
       "      <th>Company response to consumer</th>\n",
       "      <th>Timely response?</th>\n",
       "      <th>Consumer disputed?</th>\n",
       "      <th>Complaint ID</th>\n",
       "    </tr>\n",
       "  </thead>\n",
       "  <tbody>\n",
       "    <tr>\n",
       "      <th>0</th>\n",
       "      <td>7/15/2020</td>\n",
       "      <td>Credit card or prepaid card</td>\n",
       "      <td>General-purpose credit card or charge card</td>\n",
       "      <td>Problem with a purchase shown on your statement</td>\n",
       "      <td>Credit card company isn't resolving a dispute ...</td>\n",
       "      <td>-- -- -- -- -- 1. ) XXXX XXXX, XXXX a purchase...</td>\n",
       "      <td>None</td>\n",
       "      <td>CAPITAL ONE FINANCIAL CORPORATION</td>\n",
       "      <td>FL</td>\n",
       "      <td>None</td>\n",
       "      <td>None</td>\n",
       "      <td>Consent provided</td>\n",
       "      <td>Web</td>\n",
       "      <td>7/15/2020</td>\n",
       "      <td>Closed with monetary relief</td>\n",
       "      <td>Yes</td>\n",
       "      <td>NaN</td>\n",
       "      <td>3745924</td>\n",
       "    </tr>\n",
       "    <tr>\n",
       "      <th>1</th>\n",
       "      <td>6/18/2020</td>\n",
       "      <td>Credit card or prepaid card</td>\n",
       "      <td>Store credit card</td>\n",
       "      <td>Trouble using your card</td>\n",
       "      <td>Credit card company won't increase or decrease...</td>\n",
       "      <td>-- -- -- -- -- Forwarded message -- -- -- -- -...</td>\n",
       "      <td>None</td>\n",
       "      <td>Alliance Data Card Services</td>\n",
       "      <td>MD</td>\n",
       "      <td>212XX</td>\n",
       "      <td>None</td>\n",
       "      <td>Consent provided</td>\n",
       "      <td>Web</td>\n",
       "      <td>6/18/2020</td>\n",
       "      <td>Closed with non-monetary relief</td>\n",
       "      <td>Yes</td>\n",
       "      <td>NaN</td>\n",
       "      <td>3705859</td>\n",
       "    </tr>\n",
       "    <tr>\n",
       "      <th>2</th>\n",
       "      <td>4/26/2020</td>\n",
       "      <td>Checking or savings account</td>\n",
       "      <td>Checking account</td>\n",
       "      <td>Managing an account</td>\n",
       "      <td>Problem using a debit or ATM card</td>\n",
       "      <td>-- -- - Forwarded Message -- -- - From : XXXX ...</td>\n",
       "      <td>Company has responded to the consumer and the ...</td>\n",
       "      <td>WELLS FARGO &amp; COMPANY</td>\n",
       "      <td>CA</td>\n",
       "      <td>910XX</td>\n",
       "      <td>None</td>\n",
       "      <td>Consent provided</td>\n",
       "      <td>Web</td>\n",
       "      <td>4/26/2020</td>\n",
       "      <td>Closed with monetary relief</td>\n",
       "      <td>Yes</td>\n",
       "      <td>NaN</td>\n",
       "      <td>3624519</td>\n",
       "    </tr>\n",
       "    <tr>\n",
       "      <th>3</th>\n",
       "      <td>11/10/2020</td>\n",
       "      <td>Credit reporting, credit repair services, or o...</td>\n",
       "      <td>Credit reporting</td>\n",
       "      <td>Incorrect information on your report</td>\n",
       "      <td>Information is missing that should be on the r...</td>\n",
       "      <td>-- -- - XXXX, XXXX, XX/XX/2020 Payment Histori...</td>\n",
       "      <td>Company has responded to the consumer and the ...</td>\n",
       "      <td>Specialized Loan Servicing Holdings LLC</td>\n",
       "      <td>CA</td>\n",
       "      <td>None</td>\n",
       "      <td>None</td>\n",
       "      <td>Consent provided</td>\n",
       "      <td>Web</td>\n",
       "      <td>11/10/2020</td>\n",
       "      <td>Closed with explanation</td>\n",
       "      <td>Yes</td>\n",
       "      <td>NaN</td>\n",
       "      <td>3945441</td>\n",
       "    </tr>\n",
       "    <tr>\n",
       "      <th>4</th>\n",
       "      <td>11/10/2020</td>\n",
       "      <td>Credit reporting, credit repair services, or o...</td>\n",
       "      <td>Credit reporting</td>\n",
       "      <td>Incorrect information on your report</td>\n",
       "      <td>Information is missing that should be on the r...</td>\n",
       "      <td>-- -- - XXXX, XXXX, XX/XX/2020 Payment Histori...</td>\n",
       "      <td>Company has responded to the consumer and the ...</td>\n",
       "      <td>TRANSUNION INTERMEDIATE HOLDINGS, INC.</td>\n",
       "      <td>CA</td>\n",
       "      <td>None</td>\n",
       "      <td>None</td>\n",
       "      <td>Consent provided</td>\n",
       "      <td>Web</td>\n",
       "      <td>11/10/2020</td>\n",
       "      <td>Closed with explanation</td>\n",
       "      <td>Yes</td>\n",
       "      <td>NaN</td>\n",
       "      <td>3945445</td>\n",
       "    </tr>\n",
       "  </tbody>\n",
       "</table>\n",
       "</div>"
      ],
      "text/plain": [
       "  Date received                                            Product  \\\n",
       "0     7/15/2020                        Credit card or prepaid card   \n",
       "1     6/18/2020                        Credit card or prepaid card   \n",
       "2     4/26/2020                        Checking or savings account   \n",
       "3    11/10/2020  Credit reporting, credit repair services, or o...   \n",
       "4    11/10/2020  Credit reporting, credit repair services, or o...   \n",
       "\n",
       "                                  Sub-product  \\\n",
       "0  General-purpose credit card or charge card   \n",
       "1                           Store credit card   \n",
       "2                            Checking account   \n",
       "3                            Credit reporting   \n",
       "4                            Credit reporting   \n",
       "\n",
       "                                             Issue  \\\n",
       "0  Problem with a purchase shown on your statement   \n",
       "1                          Trouble using your card   \n",
       "2                              Managing an account   \n",
       "3             Incorrect information on your report   \n",
       "4             Incorrect information on your report   \n",
       "\n",
       "                                           Sub-issue  \\\n",
       "0  Credit card company isn't resolving a dispute ...   \n",
       "1  Credit card company won't increase or decrease...   \n",
       "2                  Problem using a debit or ATM card   \n",
       "3  Information is missing that should be on the r...   \n",
       "4  Information is missing that should be on the r...   \n",
       "\n",
       "                        Consumer complaint narrative  \\\n",
       "0  -- -- -- -- -- 1. ) XXXX XXXX, XXXX a purchase...   \n",
       "1  -- -- -- -- -- Forwarded message -- -- -- -- -...   \n",
       "2  -- -- - Forwarded Message -- -- - From : XXXX ...   \n",
       "3  -- -- - XXXX, XXXX, XX/XX/2020 Payment Histori...   \n",
       "4  -- -- - XXXX, XXXX, XX/XX/2020 Payment Histori...   \n",
       "\n",
       "                             Company public response  \\\n",
       "0                                               None   \n",
       "1                                               None   \n",
       "2  Company has responded to the consumer and the ...   \n",
       "3  Company has responded to the consumer and the ...   \n",
       "4  Company has responded to the consumer and the ...   \n",
       "\n",
       "                                   Company State ZIP code  Tags  \\\n",
       "0        CAPITAL ONE FINANCIAL CORPORATION    FL     None  None   \n",
       "1              Alliance Data Card Services    MD    212XX  None   \n",
       "2                    WELLS FARGO & COMPANY    CA    910XX  None   \n",
       "3  Specialized Loan Servicing Holdings LLC    CA     None  None   \n",
       "4   TRANSUNION INTERMEDIATE HOLDINGS, INC.    CA     None  None   \n",
       "\n",
       "  Consumer consent provided? Submitted via Date sent to company  \\\n",
       "0           Consent provided           Web            7/15/2020   \n",
       "1           Consent provided           Web            6/18/2020   \n",
       "2           Consent provided           Web            4/26/2020   \n",
       "3           Consent provided           Web           11/10/2020   \n",
       "4           Consent provided           Web           11/10/2020   \n",
       "\n",
       "      Company response to consumer Timely response?  Consumer disputed?  \\\n",
       "0      Closed with monetary relief              Yes                 NaN   \n",
       "1  Closed with non-monetary relief              Yes                 NaN   \n",
       "2      Closed with monetary relief              Yes                 NaN   \n",
       "3          Closed with explanation              Yes                 NaN   \n",
       "4          Closed with explanation              Yes                 NaN   \n",
       "\n",
       "   Complaint ID  \n",
       "0       3745924  \n",
       "1       3705859  \n",
       "2       3624519  \n",
       "3       3945441  \n",
       "4       3945445  "
      ]
     },
     "execution_count": 4,
     "metadata": {},
     "output_type": "execute_result"
    }
   ],
   "source": [
    "df.head()"
   ]
  },
  {
   "cell_type": "markdown",
   "metadata": {},
   "source": [
    "### Isolate relevant columns"
   ]
  },
  {
   "cell_type": "code",
   "execution_count": 5,
   "metadata": {},
   "outputs": [],
   "source": [
    "df = df[['Product', 'Sub-product', 'Issue', 'Sub-issue', 'Consumer complaint narrative']]"
   ]
  },
  {
   "cell_type": "code",
   "execution_count": 6,
   "metadata": {},
   "outputs": [],
   "source": [
    "df = df.rename(columns={\"Product\": \"product\", \"Sub-product\": \"subproduct\", \"Issue\": \"issue\", \"Sub-issue\": \"subissue\", \"Consumer complaint narrative\": \"narrative\"})"
   ]
  },
  {
   "cell_type": "code",
   "execution_count": 7,
   "metadata": {},
   "outputs": [
    {
     "data": {
      "text/plain": [
       "Credit reporting, credit repair services, or other personal consumer reports    91179\n",
       "Debt collection                                                                 23150\n",
       "Credit card or prepaid card                                                     15566\n",
       "Mortgage                                                                        11626\n",
       "Checking or savings account                                                      8934\n",
       "Money transfer, virtual currency, or money service                               4602\n",
       "Vehicle loan or lease                                                            3524\n",
       "Payday loan, title loan, or personal loan                                        1979\n",
       "Student loan                                                                     1861\n",
       "Name: product, dtype: int64"
      ]
     },
     "execution_count": 7,
     "metadata": {},
     "output_type": "execute_result"
    }
   ],
   "source": [
    "df['product'].value_counts()"
   ]
  },
  {
   "cell_type": "code",
   "execution_count": 8,
   "metadata": {},
   "outputs": [
    {
     "data": {
      "text/plain": [
       "Credit reporting                              90041\n",
       "General-purpose credit card or charge card    11097\n",
       "Conventional home mortgage                     7411\n",
       "Checking account                               7239\n",
       "Other debt                                     6566\n",
       "Credit card debt                               5241\n",
       "I do not know                                  4836\n",
       "Medical debt                                   3861\n",
       "Loan                                           2896\n",
       "Store credit card                              2284\n",
       "FHA mortgage                                   1887\n",
       "Mobile or digital wallet                       1782\n",
       "Government benefit card                        1377\n",
       "Domestic (US) money transfer                   1352\n",
       "Federal student loan servicing                 1194\n",
       "VA mortgage                                    1133\n",
       "Auto debt                                       979\n",
       "Installment loan                                882\n",
       "Other personal consumer report                  828\n",
       "Other banking product or service                812\n",
       "Payday loan debt                                765\n",
       "Savings account                                 755\n",
       "General-purpose prepaid card                    692\n",
       "Private student loan                            667\n",
       "Lease                                           624\n",
       "Virtual currency                                612\n",
       "Other type of mortgage                          603\n",
       "International money transfer                    536\n",
       "Home equity loan or line of credit (HELOC)      521\n",
       "Payday loan                                     495\n",
       "Mortgage debt                                   476\n",
       "Personal line of credit                         397\n",
       "Credit repair services                          310\n",
       "Private student loan debt                       240\n",
       "Title loan                                      207\n",
       "Federal student loan debt                       186\n",
       "CD (Certificate of Deposit)                     119\n",
       "Check cashing service                            72\n",
       "Reverse mortgage                                 71\n",
       "Traveler's check or cashier's check              58\n",
       "Payroll card                                     56\n",
       "Refund anticipation check                        56\n",
       "Gift card                                        55\n",
       "Debt settlement                                  49\n",
       "Money order                                      44\n",
       "Foreign currency exchange                        41\n",
       "Pawn loan                                        11\n",
       "Student prepaid card                              5\n",
       "Name: subproduct, dtype: int64"
      ]
     },
     "execution_count": 8,
     "metadata": {},
     "output_type": "execute_result"
    }
   ],
   "source": [
    "df['subproduct'].value_counts()"
   ]
  },
  {
   "cell_type": "code",
   "execution_count": 9,
   "metadata": {},
   "outputs": [
    {
     "data": {
      "text/plain": [
       "Incorrect information on your report                                                54347\n",
       "Problem with a credit reporting company's investigation into an existing problem    30084\n",
       "Attempts to collect debt not owed                                                   11489\n",
       "Trouble during payment process                                                       5407\n",
       "Improper use of your report                                                          5220\n",
       "                                                                                    ...  \n",
       "Incorrect exchange rate                                                                 4\n",
       "Property was damaged or destroyed property                                              3\n",
       "Was approved for a loan, but didn't receive money                                       2\n",
       "Property was sold                                                                       1\n",
       "Problem with an overdraft                                                               1\n",
       "Name: issue, Length: 80, dtype: int64"
      ]
     },
     "execution_count": 9,
     "metadata": {},
     "output_type": "execute_result"
    }
   ],
   "source": [
    "df['issue'].value_counts()"
   ]
  },
  {
   "cell_type": "code",
   "execution_count": 10,
   "metadata": {},
   "outputs": [
    {
     "data": {
      "text/plain": [
       "Information belongs to someone else                            33331\n",
       "None                                                           19753\n",
       "Their investigation did not fix an error on your report        14294\n",
       "Account status incorrect                                        7952\n",
       "Account information incorrect                                   7116\n",
       "                                                               ...  \n",
       "Account sold or transferred to another company                     4\n",
       "Problem with a check written from your prepaid card account        3\n",
       "Threatened to turn you in to immigration or deport you             2\n",
       "Problem with fees or penalties                                     2\n",
       "Qualified for a better loan than the one offered                   1\n",
       "Name: subissue, Length: 162, dtype: int64"
      ]
     },
     "execution_count": 10,
     "metadata": {},
     "output_type": "execute_result"
    }
   ],
   "source": [
    "df['subissue'].value_counts()"
   ]
  },
  {
   "cell_type": "markdown",
   "metadata": {},
   "source": [
    "Except for 'product', it doesn't seem there's enough data to train on. Maybe I could do subproduct, too, but I'd want to eliminate those with the lower value counts.\n",
    "\n",
    "Note for subproduct, a high number is \"I don't know.\" I could maybe classify those. \n",
    "\n",
    "In 'subissue', the second highest is 'None'. Also, there seems to be a lot of overlap between the categories, finer points that some consumers may not make. Example: \"Debt is not yours\" vs. \"Debt was result of identity theft\"."
   ]
  },
  {
   "cell_type": "markdown",
   "metadata": {},
   "source": [
    "# Prepare Text"
   ]
  },
  {
   "cell_type": "markdown",
   "metadata": {},
   "source": [
    "## Inspect first row"
   ]
  },
  {
   "cell_type": "code",
   "execution_count": 11,
   "metadata": {},
   "outputs": [
    {
     "name": "stdout",
     "output_type": "stream",
     "text": [
      "product                             Credit card or prepaid card\n",
      "subproduct           General-purpose credit card or charge card\n",
      "issue           Problem with a purchase shown on your statement\n",
      "subissue      Credit card company isn't resolving a dispute ...\n",
      "narrative     -- -- -- -- -- 1. ) XXXX XXXX, XXXX a purchase...\n",
      "Name: 0, dtype: object\n"
     ]
    },
    {
     "data": {
      "text/plain": [
       "'-- -- -- -- -- 1. ) XXXX XXXX, XXXX a purchase with EIO.com ( order # XXXX ) with 2 day shipping for the amount of {$57.00}. \\n\\n-- -- -- -- -- -2. ) Did not receive the product after a week, so I sent a followup email ; with the exact verbiage : \" I paid for two days shipping and have not received my order \\'\\' on XXXX XXXX. \\n\\n-- -- -- -- -- 3. ) Company Responded on on XXXX XXXX : \" Im sorry to inform you that due to unusually high order volume, your order has not shipped and XXXX not be for several weeks. XXXX has been out of stock since early XXXX due to high demand, although they are continuing to take orders and guaranteeing that we will receive orders we place with them in due time. As such we have masks on order but we do not have an exact shipping date from XXXX right now, however we can guarantee we will ship as soon as soon as XXXX delivers product to us. We have been getting small shipments and shipping those on a first come, first served basis, so we appreciate your patience as we fulfill these orders as quickly as we can. \\n\\nWe recommend keeping your order as you will lose your place in line if you cancel, and no other distributor has stock at the moment. If you do prefer to cancel, please note we ask that you do so via email, we will then cancel in accordance with our cancellation policy which was agreed to at checkout. \\nXXXX, XXXX XXXX. \\nElectronic Inventory Online -- -- -- -- -- -- -- -- -- -- -- -- -- -- -- -- -- -- -- -- -- XXXX XXXX XXXX XXXX -- -- -- XXXX. ) XX/XX/XXXX, requested for the order to be canceled and a refund to be issued. \\n\\n-- -- -- 5. ) XX/XX/XXXX : XXXX canceled the order and sent a verification : XXXX XXXX XXXX Your order has been canceled Refunded Items XXXX XXXX Particulate Respirator, XXXX, XXXX eaches/pack 2 Refunded {$45.00} Subtotal {$45.00} Shipping {$12.00} Taxes {$0.00} Total {$57.00} USD Visa ( ending in XXXX XXXX {$57.00} Refund Shopify_payments - {$52.00} -- -- XX/XX/XXXX, Called in and disputed the amount. XXXX stated nothing needed to be submitted and they will address the issue. \\n\\n-- -- XX/XX/XXXX, XXXX recharged me for the same item after removing it on XX/XX/XXXX. Called back in to dispute this amount again. \\n\\nTRANSACTION REBILLMerchandiseRobert J. XXXX {$57.00} HTTPSEIOCOM.M, CA XXXX Purchased : Thu, XX/XX/2020 Posted : Wed, XXXX XXXX, 2020 Purchased By : XXXX XXXX Appears on the statement as : TRANSACTION REBILL HTTPSEIOCOM.M CA XXXX US XXXX - XX/XX/XXXX, followed up to see the status of the case. Submitted documentation showing XXXX canceled the order and was supposed to submit a refund. \\n\\n-- - XX/XX/XXXX, Called back in to speak to the manager on the case. He stated the dispute was ruled in favor of me, and the charge will be removed from my card. \\n\\n-- -- XX/XX/XXXX, Capital One removed the purchase off the bill. \\nPURCHASE ADJUSTMENTMerchandiseRobert J. ... - {$57.00} Posted : Fri, XX/XX/2020 Purchased By : XXXX XXXX Appears on statement as : PURCHASE ADJUSTMENT XXXX XXXX -- XXXX XXXX Capital One recharges me the same amount. \\nXX/XX/XXXX TRANSACTION REBILLMerchandiseRobert J. ... {$57.00} Purchased : Thu, XX/XX/2020 Posted : Mon, XX/XX/2020 Purchased By : XXXX XXXX Appears on statement as : TRANSACTION REBILL XXXX XXXX -- -- XX/XX/XXXX -- Called Capital One requested why this was recharge. They stated Visa ruled against my case. They pretended that they didn\\'t remove the purchase or knew anything about the case manager ruling in my favor.'"
      ]
     },
     "execution_count": 11,
     "metadata": {},
     "output_type": "execute_result"
    }
   ],
   "source": [
    "print(df.iloc[0])\n",
    "text = df['narrative'][0]\n",
    "text"
   ]
  },
  {
   "cell_type": "markdown",
   "metadata": {},
   "source": [
    "## Process Data"
   ]
  },
  {
   "cell_type": "markdown",
   "metadata": {},
   "source": [
    "### Function to tokenize data and remove stopwords"
   ]
  },
  {
   "cell_type": "code",
   "execution_count": 2,
   "metadata": {},
   "outputs": [],
   "source": [
    "stopwords_list = stopwords.words('english') + list(string.punctuation)\n",
    "stopwords_list += [\"''\", '\"\"', '...', '``']"
   ]
  },
  {
   "cell_type": "code",
   "execution_count": 5,
   "metadata": {},
   "outputs": [
    {
     "data": {
      "text/plain": [
       "'!\"#$%&\\'()*+,-./:;<=>?@[\\\\]^_`{|}~'"
      ]
     },
     "execution_count": 5,
     "metadata": {},
     "output_type": "execute_result"
    }
   ],
   "source": [
    "string.punctuation"
   ]
  },
  {
   "cell_type": "code",
   "execution_count": 4,
   "metadata": {},
   "outputs": [
    {
     "data": {
      "text/plain": [
       "['!',\n",
       " '\"',\n",
       " '#',\n",
       " '$',\n",
       " '%',\n",
       " '&',\n",
       " \"'\",\n",
       " '(',\n",
       " ')',\n",
       " '*',\n",
       " '+',\n",
       " ',',\n",
       " '-',\n",
       " '.',\n",
       " '/',\n",
       " ':',\n",
       " ';',\n",
       " '<',\n",
       " '=',\n",
       " '>',\n",
       " '?',\n",
       " '@',\n",
       " '[',\n",
       " '\\\\',\n",
       " ']',\n",
       " '^',\n",
       " '_',\n",
       " '`',\n",
       " '{',\n",
       " '|',\n",
       " '}',\n",
       " '~']"
      ]
     },
     "execution_count": 4,
     "metadata": {},
     "output_type": "execute_result"
    }
   ],
   "source": [
    "list(string.punctuation)"
   ]
  },
  {
   "cell_type": "code",
   "execution_count": 6,
   "metadata": {},
   "outputs": [
    {
     "data": {
      "text/plain": [
       "['a', 'b', 'c']"
      ]
     },
     "execution_count": 6,
     "metadata": {},
     "output_type": "execute_result"
    }
   ],
   "source": [
    "list('abc')"
   ]
  },
  {
   "cell_type": "code",
   "execution_count": 13,
   "metadata": {},
   "outputs": [],
   "source": [
    "def process_narrative(narrative):\n",
    "    tokens = nltk.word_tokenize(narrative)\n",
    "    stopwords_removed = [token.lower() for token in tokens if token.lower() not in stopwords_list]\n",
    "    return stopwords_removed  "
   ]
  },
  {
   "cell_type": "markdown",
   "metadata": {},
   "source": [
    "### Inspect and process first narrative "
   ]
  },
  {
   "cell_type": "code",
   "execution_count": 14,
   "metadata": {},
   "outputs": [
    {
     "data": {
      "text/plain": [
       "['--', '--', '--', '--', '--', '1', 'xxxx', 'xxxx', 'xxxx', 'purchase']"
      ]
     },
     "execution_count": 14,
     "metadata": {},
     "output_type": "execute_result"
    }
   ],
   "source": [
    "text_words = process_narrative(text)\n",
    "text_words[0:10]"
   ]
  },
  {
   "cell_type": "code",
   "execution_count": 15,
   "metadata": {},
   "outputs": [],
   "source": [
    "# Add to stopwords list\n",
    "\n",
    "stopwords_list += ['--', 'xxxx']"
   ]
  },
  {
   "cell_type": "code",
   "execution_count": 16,
   "metadata": {},
   "outputs": [
    {
     "data": {
      "text/plain": [
       "{'1': 1,\n",
       " 'purchase': 5,\n",
       " 'eio.com': 1,\n",
       " 'order': 10,\n",
       " '2': 2,\n",
       " 'day': 1,\n",
       " 'shipping': 5,\n",
       " 'amount': 4,\n",
       " '57.00': 6,\n",
       " '-2': 1,\n",
       " 'receive': 2,\n",
       " 'product': 2,\n",
       " 'week': 1,\n",
       " 'sent': 2,\n",
       " 'followup': 1,\n",
       " 'email': 2,\n",
       " 'exact': 2,\n",
       " 'verbiage': 1,\n",
       " 'paid': 1,\n",
       " 'two': 1,\n",
       " 'days': 1,\n",
       " 'received': 1,\n",
       " '3': 1,\n",
       " 'company': 1,\n",
       " 'responded': 1,\n",
       " 'im': 1,\n",
       " 'sorry': 1,\n",
       " 'inform': 1,\n",
       " 'due': 3,\n",
       " 'unusually': 1,\n",
       " 'high': 2,\n",
       " 'volume': 1,\n",
       " 'shipped': 1,\n",
       " 'several': 1,\n",
       " 'weeks': 1,\n",
       " 'stock': 2,\n",
       " 'since': 1,\n",
       " 'early': 1,\n",
       " 'demand': 1,\n",
       " 'although': 1,\n",
       " 'continuing': 1,\n",
       " 'take': 1,\n",
       " 'orders': 3,\n",
       " 'guaranteeing': 1,\n",
       " 'place': 2,\n",
       " 'time': 1,\n",
       " 'masks': 1,\n",
       " 'date': 1,\n",
       " 'right': 1,\n",
       " 'however': 1,\n",
       " 'guarantee': 1,\n",
       " 'ship': 1,\n",
       " 'soon': 2,\n",
       " 'delivers': 1,\n",
       " 'us': 2,\n",
       " 'getting': 1,\n",
       " 'small': 1,\n",
       " 'shipments': 1,\n",
       " 'first': 2,\n",
       " 'come': 1,\n",
       " 'served': 1,\n",
       " 'basis': 1,\n",
       " 'appreciate': 1,\n",
       " 'patience': 1,\n",
       " 'fulfill': 1,\n",
       " 'quickly': 1,\n",
       " 'recommend': 1,\n",
       " 'keeping': 1,\n",
       " 'lose': 1,\n",
       " 'line': 1,\n",
       " 'cancel': 3,\n",
       " 'distributor': 1,\n",
       " 'moment': 1,\n",
       " 'prefer': 1,\n",
       " 'please': 1,\n",
       " 'note': 1,\n",
       " 'ask': 1,\n",
       " 'via': 1,\n",
       " 'accordance': 1,\n",
       " 'cancellation': 1,\n",
       " 'policy': 1,\n",
       " 'agreed': 1,\n",
       " 'checkout': 1,\n",
       " 'electronic': 1,\n",
       " 'inventory': 1,\n",
       " 'online': 1,\n",
       " 'xx/xx/xxxx': 10,\n",
       " 'requested': 2,\n",
       " 'canceled': 4,\n",
       " 'refund': 3,\n",
       " 'issued': 1,\n",
       " '5': 1,\n",
       " 'verification': 1,\n",
       " 'refunded': 2,\n",
       " 'items': 1,\n",
       " 'particulate': 1,\n",
       " 'respirator': 1,\n",
       " 'eaches/pack': 1,\n",
       " '45.00': 2,\n",
       " 'subtotal': 1,\n",
       " '12.00': 1,\n",
       " 'taxes': 1,\n",
       " '0.00': 1,\n",
       " 'total': 1,\n",
       " 'usd': 1,\n",
       " 'visa': 2,\n",
       " 'ending': 1,\n",
       " 'shopify_payments': 1,\n",
       " '52.00': 1,\n",
       " 'called': 4,\n",
       " 'disputed': 1,\n",
       " 'stated': 3,\n",
       " 'nothing': 1,\n",
       " 'needed': 1,\n",
       " 'submitted': 2,\n",
       " 'address': 1,\n",
       " 'issue': 1,\n",
       " 'recharged': 1,\n",
       " 'item': 1,\n",
       " 'removing': 1,\n",
       " 'back': 2,\n",
       " 'dispute': 2,\n",
       " 'transaction': 4,\n",
       " 'rebillmerchandiserobert': 2,\n",
       " 'j.': 1,\n",
       " 'httpseiocom.m': 2,\n",
       " 'ca': 2,\n",
       " 'purchased': 5,\n",
       " 'thu': 2,\n",
       " 'xx/xx/2020': 4,\n",
       " 'posted': 3,\n",
       " 'wed': 1,\n",
       " '2020': 1,\n",
       " 'appears': 3,\n",
       " 'statement': 3,\n",
       " 'rebill': 2,\n",
       " 'followed': 1,\n",
       " 'see': 1,\n",
       " 'status': 1,\n",
       " 'case': 4,\n",
       " 'documentation': 1,\n",
       " 'showing': 1,\n",
       " 'supposed': 1,\n",
       " 'submit': 1,\n",
       " 'speak': 1,\n",
       " 'manager': 2,\n",
       " 'ruled': 2,\n",
       " 'favor': 2,\n",
       " 'charge': 1,\n",
       " 'removed': 2,\n",
       " 'card': 1,\n",
       " 'capital': 3,\n",
       " 'one': 3,\n",
       " 'bill': 1,\n",
       " 'adjustmentmerchandiserobert': 1,\n",
       " 'j': 2,\n",
       " 'fri': 1,\n",
       " 'adjustment': 1,\n",
       " 'recharges': 1,\n",
       " 'mon': 1,\n",
       " 'recharge': 1,\n",
       " 'pretended': 1,\n",
       " \"n't\": 1,\n",
       " 'remove': 1,\n",
       " 'knew': 1,\n",
       " 'anything': 1,\n",
       " 'ruling': 1}"
      ]
     },
     "execution_count": 16,
     "metadata": {},
     "output_type": "execute_result"
    }
   ],
   "source": [
    "# Check out word counts\n",
    "\n",
    "text_words = process_narrative(text)\n",
    "\n",
    "word_counts = {}\n",
    "for i in range(len(text_words)):\n",
    "    word_counts[text_words[i]] = text_words.count(text_words[i])\n",
    "word_counts"
   ]
  },
  {
   "cell_type": "markdown",
   "metadata": {},
   "source": [
    "It seems there are a lot of numbers. Update function to get rid of numbers from the list.  \n",
    "\n",
    "Note: this function also gets rid of strings with punctuation in it like 'xx/xx/xxxx' or \"n't\"."
   ]
  },
  {
   "cell_type": "code",
   "execution_count": 17,
   "metadata": {},
   "outputs": [],
   "source": [
    "def process_narrative(narrative):\n",
    "    tokens = nltk.word_tokenize(narrative)\n",
    "    stopwords_removed = [token.lower() for token in tokens if token.lower() not in stopwords_list]\n",
    "    \n",
    "    # adding line to remove all tokens with numbers and punctuation\n",
    "    stopwords_punc_and_numbers_removed = [word for word in stopwords_removed if word.isalpha()]\n",
    "    \n",
    "    return stopwords_punc_and_numbers_removed  "
   ]
  },
  {
   "cell_type": "code",
   "execution_count": 18,
   "metadata": {},
   "outputs": [],
   "source": [
    "# Redoing processing with updated function\n",
    "text_words = process_narrative(text)"
   ]
  },
  {
   "cell_type": "markdown",
   "metadata": {},
   "source": [
    "### Make dictionary of word counts"
   ]
  },
  {
   "cell_type": "code",
   "execution_count": 19,
   "metadata": {},
   "outputs": [
    {
     "data": {
      "text/plain": [
       "FreqDist({'order': 10, 'purchase': 5, 'shipping': 5, 'purchased': 5, 'amount': 4, 'canceled': 4, 'called': 4, 'transaction': 4, 'case': 4, 'due': 3, ...})"
      ]
     },
     "execution_count": 19,
     "metadata": {},
     "output_type": "execute_result"
    }
   ],
   "source": [
    "FreqDist(text_words)"
   ]
  },
  {
   "cell_type": "code",
   "execution_count": 20,
   "metadata": {},
   "outputs": [
    {
     "data": {
      "text/plain": [
       "nltk.probability.FreqDist"
      ]
     },
     "execution_count": 20,
     "metadata": {},
     "output_type": "execute_result"
    }
   ],
   "source": [
    "type(FreqDist(text_words))"
   ]
  },
  {
   "cell_type": "code",
   "execution_count": 21,
   "metadata": {},
   "outputs": [
    {
     "data": {
      "text/plain": [
       "[('order', 10),\n",
       " ('purchase', 5),\n",
       " ('shipping', 5),\n",
       " ('purchased', 5),\n",
       " ('amount', 4),\n",
       " ('canceled', 4),\n",
       " ('called', 4),\n",
       " ('transaction', 4),\n",
       " ('case', 4),\n",
       " ('due', 3)]"
      ]
     },
     "execution_count": 21,
     "metadata": {},
     "output_type": "execute_result"
    }
   ],
   "source": [
    "FreqDist(text_words).most_common(10)"
   ]
  },
  {
   "cell_type": "markdown",
   "metadata": {},
   "source": [
    "Note how calling `most_common()` creates a list of tuples."
   ]
  },
  {
   "cell_type": "code",
   "execution_count": 22,
   "metadata": {},
   "outputs": [
    {
     "data": {
      "text/plain": [
       "<Figure size 640x480 with 1 Axes>"
      ]
     },
     "metadata": {},
     "output_type": "display_data"
    },
    {
     "data": {
      "text/plain": [
       "<matplotlib.axes._subplots.AxesSubplot at 0x1b9216bd6a0>"
      ]
     },
     "execution_count": 22,
     "metadata": {},
     "output_type": "execute_result"
    }
   ],
   "source": [
    "FreqDist(text_words).plot(10)"
   ]
  },
  {
   "cell_type": "markdown",
   "metadata": {},
   "source": [
    "### Trying process on the next two rows"
   ]
  },
  {
   "cell_type": "markdown",
   "metadata": {},
   "source": [
    "#### df.iloc[1]"
   ]
  },
  {
   "cell_type": "code",
   "execution_count": 23,
   "metadata": {},
   "outputs": [
    {
     "data": {
      "text/plain": [
       "product                             Credit card or prepaid card\n",
       "subproduct                                    Store credit card\n",
       "issue                                   Trouble using your card\n",
       "subissue      Credit card company won't increase or decrease...\n",
       "Name: 1, dtype: object"
      ]
     },
     "execution_count": 23,
     "metadata": {},
     "output_type": "execute_result"
    }
   ],
   "source": [
    "df.iloc[1][0:4]"
   ]
  },
  {
   "cell_type": "code",
   "execution_count": 24,
   "metadata": {},
   "outputs": [
    {
     "data": {
      "text/plain": [
       "'-- -- -- -- -- Forwarded message -- -- -- -- - From : XXXX XXXX XXXX Date : Tue, XX/XX/XXXXat XXXX XXXX Subject : Please Investigate Comenity Bank Retailers card scam To : XXXX Sent from my XXXX Hello my name is XXXX XXXX, I am being scammed by Comenity bank a credit card provider for companies The Childrens place, New York & Co. , Forever 21 and Victoria Secret. My original credit from XXXX was {$500.00} Comenity bank then lowers my limit to {$300.00} and began to charge overage fees along with late fees. I then began to pay close attention to my other cards to find that my limits were also changed on them as well incurring overages and late fees. \\nI reached out to the company Comenity bank they stated that they would change my credit limit to its original limits but did not. I reached out to them again and told them I will not summit any payment until my accounts are corrected. Comenity bank credit cards has impacted my credit scores plummeted to a negative status. Im currently paying the price due to the corruption in which has affected me in detrimental way. \\nI am now in debt over {$2000.00} due to the company charging overage fees as well as late fees even through COVID-19. The initial credit limits are fluctuating tremendously and the company charges major fees on each of those 4 accounts. They are not willing to correct my account and was nervous when I said I had an attorney, that is the reason Im reaching out to you. Im a XXXX  employee of 18yrs and this company is ruining my credit. PLZ HELP!!!!! \\n\\nMy name is XXXX XXXX, contact info is ( XXXX ) XXXX XXXX and/or XXXX. Thank you!!'"
      ]
     },
     "execution_count": 24,
     "metadata": {},
     "output_type": "execute_result"
    }
   ],
   "source": [
    "text = df['narrative'][1]\n",
    "text"
   ]
  },
  {
   "cell_type": "code",
   "execution_count": 25,
   "metadata": {},
   "outputs": [],
   "source": [
    "text_words = process_narrative(text)"
   ]
  },
  {
   "cell_type": "code",
   "execution_count": 26,
   "metadata": {},
   "outputs": [
    {
     "data": {
      "text/plain": [
       "[('credit', 7),\n",
       " ('fees', 6),\n",
       " ('comenity', 5),\n",
       " ('bank', 5),\n",
       " ('company', 4),\n",
       " ('late', 3),\n",
       " ('limits', 3),\n",
       " ('im', 3),\n",
       " ('card', 2),\n",
       " ('name', 2),\n",
       " ('original', 2),\n",
       " ('limit', 2),\n",
       " ('began', 2),\n",
       " ('overage', 2),\n",
       " ('cards', 2),\n",
       " ('well', 2),\n",
       " ('reached', 2),\n",
       " ('accounts', 2),\n",
       " ('due', 2),\n",
       " ('forwarded', 1),\n",
       " ('message', 1),\n",
       " ('date', 1),\n",
       " ('tue', 1),\n",
       " ('subject', 1),\n",
       " ('please', 1),\n",
       " ('investigate', 1),\n",
       " ('retailers', 1),\n",
       " ('scam', 1),\n",
       " ('sent', 1),\n",
       " ('hello', 1)]"
      ]
     },
     "execution_count": 26,
     "metadata": {},
     "output_type": "execute_result"
    }
   ],
   "source": [
    "FreqDist(text_words).most_common(30)"
   ]
  },
  {
   "cell_type": "markdown",
   "metadata": {},
   "source": [
    "#### df.iloc[2]"
   ]
  },
  {
   "cell_type": "code",
   "execution_count": 27,
   "metadata": {},
   "outputs": [
    {
     "data": {
      "text/plain": [
       "product             Checking or savings account\n",
       "subproduct                     Checking account\n",
       "issue                       Managing an account\n",
       "subissue      Problem using a debit or ATM card\n",
       "Name: 2, dtype: object"
      ]
     },
     "execution_count": 27,
     "metadata": {},
     "output_type": "execute_result"
    }
   ],
   "source": [
    "df.iloc[2][0:4]"
   ]
  },
  {
   "cell_type": "code",
   "execution_count": 28,
   "metadata": {},
   "outputs": [
    {
     "data": {
      "text/plain": [
       "[('wells', 7),\n",
       " ('fargo', 7),\n",
       " ('clearly', 5),\n",
       " ('fraudulent', 5),\n",
       " ('account', 4),\n",
       " ('legal', 3),\n",
       " ('agencies', 3),\n",
       " ('branch', 3),\n",
       " ('cards', 3),\n",
       " ('damages', 3),\n",
       " ('small', 3),\n",
       " ('claims', 3),\n",
       " ('lawsuit', 3),\n",
       " ('payment', 2),\n",
       " ('actually', 2),\n",
       " ('court', 2),\n",
       " ('charges', 2),\n",
       " ('debit', 2),\n",
       " ('required', 2),\n",
       " ('take', 2),\n",
       " ('business', 2),\n",
       " ('consumer', 2),\n",
       " ('protection', 2),\n",
       " ('immediately', 2),\n",
       " ('also', 2),\n",
       " ('punitive', 2),\n",
       " ('conduct', 2),\n",
       " ('forwarded', 1),\n",
       " ('message', 1),\n",
       " ('cc', 1)]"
      ]
     },
     "execution_count": 28,
     "metadata": {},
     "output_type": "execute_result"
    }
   ],
   "source": [
    "text = df['narrative'][2]\n",
    "text_words = process_narrative(text)\n",
    "FreqDist(text_words).most_common(30)"
   ]
  },
  {
   "cell_type": "code",
   "execution_count": 29,
   "metadata": {},
   "outputs": [
    {
     "data": {
      "text/plain": [
       "product                             Checking or savings account\n",
       "subproduct                                     Checking account\n",
       "issue                                       Managing an account\n",
       "subissue                      Problem using a debit or ATM card\n",
       "narrative     -- -- - Forwarded Message -- -- - From : XXXX ...\n",
       "Name: 2, dtype: object"
      ]
     },
     "execution_count": 29,
     "metadata": {},
     "output_type": "execute_result"
    }
   ],
   "source": [
    "df.iloc[2]"
   ]
  },
  {
   "cell_type": "markdown",
   "metadata": {},
   "source": [
    "# Combine categories and create new dataframes"
   ]
  },
  {
   "cell_type": "markdown",
   "metadata": {},
   "source": [
    "## Inspect "
   ]
  },
  {
   "cell_type": "code",
   "execution_count": 30,
   "metadata": {},
   "outputs": [
    {
     "data": {
      "text/plain": [
       "Credit reporting, credit repair services, or other personal consumer reports    91179\n",
       "Debt collection                                                                 23150\n",
       "Credit card or prepaid card                                                     15566\n",
       "Mortgage                                                                        11626\n",
       "Checking or savings account                                                      8934\n",
       "Money transfer, virtual currency, or money service                               4602\n",
       "Vehicle loan or lease                                                            3524\n",
       "Payday loan, title loan, or personal loan                                        1979\n",
       "Student loan                                                                     1861\n",
       "Name: product, dtype: int64"
      ]
     },
     "execution_count": 30,
     "metadata": {},
     "output_type": "execute_result"
    }
   ],
   "source": [
    "# Inspect products again\n",
    "df['product'].value_counts()"
   ]
  },
  {
   "cell_type": "markdown",
   "metadata": {},
   "source": [
    "What is \"Money transfer, virtual currency, or money service\"?"
   ]
  },
  {
   "cell_type": "code",
   "execution_count": 31,
   "metadata": {},
   "outputs": [
    {
     "data": {
      "text/html": [
       "<div>\n",
       "<style scoped>\n",
       "    .dataframe tbody tr th:only-of-type {\n",
       "        vertical-align: middle;\n",
       "    }\n",
       "\n",
       "    .dataframe tbody tr th {\n",
       "        vertical-align: top;\n",
       "    }\n",
       "\n",
       "    .dataframe thead th {\n",
       "        text-align: right;\n",
       "    }\n",
       "</style>\n",
       "<table border=\"1\" class=\"dataframe\">\n",
       "  <thead>\n",
       "    <tr style=\"text-align: right;\">\n",
       "      <th></th>\n",
       "      <th>product</th>\n",
       "      <th>subproduct</th>\n",
       "      <th>issue</th>\n",
       "      <th>subissue</th>\n",
       "      <th>narrative</th>\n",
       "    </tr>\n",
       "  </thead>\n",
       "  <tbody>\n",
       "    <tr>\n",
       "      <th>34</th>\n",
       "      <td>Money transfer, virtual currency, or money ser...</td>\n",
       "      <td>Mobile or digital wallet</td>\n",
       "      <td>Unauthorized transactions or other transaction...</td>\n",
       "      <td>None</td>\n",
       "      <td>- negative {$4800.00} XX/XX/2020 Transfer Load...</td>\n",
       "    </tr>\n",
       "    <tr>\n",
       "      <th>84</th>\n",
       "      <td>Money transfer, virtual currency, or money ser...</td>\n",
       "      <td>Domestic (US) money transfer</td>\n",
       "      <td>Money was not available when promised</td>\n",
       "      <td>None</td>\n",
       "      <td>\" I want you to call me not email me about thi...</td>\n",
       "    </tr>\n",
       "    <tr>\n",
       "      <th>126</th>\n",
       "      <td>Money transfer, virtual currency, or money ser...</td>\n",
       "      <td>Virtual currency</td>\n",
       "      <td>Unexpected or other fees</td>\n",
       "      <td>None</td>\n",
       "      <td>( 1 ) In the month of XXXX, I made 9 conversio...</td>\n",
       "    </tr>\n",
       "    <tr>\n",
       "      <th>467</th>\n",
       "      <td>Money transfer, virtual currency, or money ser...</td>\n",
       "      <td>Mobile or digital wallet</td>\n",
       "      <td>Managing, opening, or closing your mobile wall...</td>\n",
       "      <td>None</td>\n",
       "      <td>( XXXX  # XXXX, # XXXX, # XXXX, # XXXX, # XXXX...</td>\n",
       "    </tr>\n",
       "    <tr>\n",
       "      <th>597</th>\n",
       "      <td>Money transfer, virtual currency, or money ser...</td>\n",
       "      <td>Mobile or digital wallet</td>\n",
       "      <td>Managing, opening, or closing your mobile wall...</td>\n",
       "      <td>None</td>\n",
       "      <td>**BEWARE** VENMO Has horrible customer service...</td>\n",
       "    </tr>\n",
       "    <tr>\n",
       "      <th>633</th>\n",
       "      <td>Money transfer, virtual currency, or money ser...</td>\n",
       "      <td>Mobile or digital wallet</td>\n",
       "      <td>Managing, opening, or closing your mobile wall...</td>\n",
       "      <td>None</td>\n",
       "      <td>*I am able to prove identity with my state ide...</td>\n",
       "    </tr>\n",
       "    <tr>\n",
       "      <th>635</th>\n",
       "      <td>Money transfer, virtual currency, or money ser...</td>\n",
       "      <td>Domestic (US) money transfer</td>\n",
       "      <td>Fraud or scam</td>\n",
       "      <td>None</td>\n",
       "      <td>*THIS IS A FOLLOW UP TO MY PREVIOUS CLAIM TO B...</td>\n",
       "    </tr>\n",
       "    <tr>\n",
       "      <th>642</th>\n",
       "      <td>Money transfer, virtual currency, or money ser...</td>\n",
       "      <td>International money transfer</td>\n",
       "      <td>Other transaction problem</td>\n",
       "      <td>None</td>\n",
       "      <td>. Date : XXXX, 2020. Amount : Total XXXX USD. ...</td>\n",
       "    </tr>\n",
       "    <tr>\n",
       "      <th>668</th>\n",
       "      <td>Money transfer, virtual currency, or money ser...</td>\n",
       "      <td>Domestic (US) money transfer</td>\n",
       "      <td>Other transaction problem</td>\n",
       "      <td>None</td>\n",
       "      <td>.On XX/XX/XXXX, ( not sure if this ' the right...</td>\n",
       "    </tr>\n",
       "    <tr>\n",
       "      <th>695</th>\n",
       "      <td>Money transfer, virtual currency, or money ser...</td>\n",
       "      <td>Mobile or digital wallet</td>\n",
       "      <td>Unauthorized transactions or other transaction...</td>\n",
       "      <td>None</td>\n",
       "      <td>`Y'all send the cash-out deposit to the wrong ...</td>\n",
       "    </tr>\n",
       "  </tbody>\n",
       "</table>\n",
       "</div>"
      ],
      "text/plain": [
       "                                               product  \\\n",
       "34   Money transfer, virtual currency, or money ser...   \n",
       "84   Money transfer, virtual currency, or money ser...   \n",
       "126  Money transfer, virtual currency, or money ser...   \n",
       "467  Money transfer, virtual currency, or money ser...   \n",
       "597  Money transfer, virtual currency, or money ser...   \n",
       "633  Money transfer, virtual currency, or money ser...   \n",
       "635  Money transfer, virtual currency, or money ser...   \n",
       "642  Money transfer, virtual currency, or money ser...   \n",
       "668  Money transfer, virtual currency, or money ser...   \n",
       "695  Money transfer, virtual currency, or money ser...   \n",
       "\n",
       "                       subproduct  \\\n",
       "34       Mobile or digital wallet   \n",
       "84   Domestic (US) money transfer   \n",
       "126              Virtual currency   \n",
       "467      Mobile or digital wallet   \n",
       "597      Mobile or digital wallet   \n",
       "633      Mobile or digital wallet   \n",
       "635  Domestic (US) money transfer   \n",
       "642  International money transfer   \n",
       "668  Domestic (US) money transfer   \n",
       "695      Mobile or digital wallet   \n",
       "\n",
       "                                                 issue subissue  \\\n",
       "34   Unauthorized transactions or other transaction...     None   \n",
       "84               Money was not available when promised     None   \n",
       "126                           Unexpected or other fees     None   \n",
       "467  Managing, opening, or closing your mobile wall...     None   \n",
       "597  Managing, opening, or closing your mobile wall...     None   \n",
       "633  Managing, opening, or closing your mobile wall...     None   \n",
       "635                                      Fraud or scam     None   \n",
       "642                          Other transaction problem     None   \n",
       "668                          Other transaction problem     None   \n",
       "695  Unauthorized transactions or other transaction...     None   \n",
       "\n",
       "                                             narrative  \n",
       "34   - negative {$4800.00} XX/XX/2020 Transfer Load...  \n",
       "84   \" I want you to call me not email me about thi...  \n",
       "126  ( 1 ) In the month of XXXX, I made 9 conversio...  \n",
       "467  ( XXXX  # XXXX, # XXXX, # XXXX, # XXXX, # XXXX...  \n",
       "597  **BEWARE** VENMO Has horrible customer service...  \n",
       "633  *I am able to prove identity with my state ide...  \n",
       "635  *THIS IS A FOLLOW UP TO MY PREVIOUS CLAIM TO B...  \n",
       "642  . Date : XXXX, 2020. Amount : Total XXXX USD. ...  \n",
       "668  .On XX/XX/XXXX, ( not sure if this ' the right...  \n",
       "695  `Y'all send the cash-out deposit to the wrong ...  "
      ]
     },
     "execution_count": 31,
     "metadata": {},
     "output_type": "execute_result"
    }
   ],
   "source": [
    "df[df['product'] == \"Money transfer, virtual currency, or money service\"].head(10)"
   ]
  },
  {
   "cell_type": "markdown",
   "metadata": {},
   "source": [
    "Seems to be about Venmo, digital transactions, international transfers, etc. It's a bit of it's own thing. I'll keep it for now, but there are only 4,602 entries. But I'll fold into \"checking and savings\" in general, which has only 9,000."
   ]
  },
  {
   "cell_type": "markdown",
   "metadata": {},
   "source": [
    "## Combine categories"
   ]
  },
  {
   "cell_type": "markdown",
   "metadata": {},
   "source": [
    "**Tasks**\n",
    "\n",
    "- Rename \"credit_reporting\"  \n",
    "- Rename \"debt_collection\"  \n",
    "- Rename \"credit_card\"\n",
    "- Rename \"mortgage\"\n",
    "- Combine \"checking\" and \"money transfer\" into \"retail_banking\"\n",
    "- Combine the loans into \"loans\""
   ]
  },
  {
   "cell_type": "code",
   "execution_count": 32,
   "metadata": {},
   "outputs": [
    {
     "data": {
      "text/plain": [
       "Credit reporting, credit repair services, or other personal consumer reports    91179\n",
       "Debt collection                                                                 23150\n",
       "Credit card or prepaid card                                                     15566\n",
       "Mortgage                                                                        11626\n",
       "Checking or savings account                                                      8934\n",
       "Money transfer, virtual currency, or money service                               4602\n",
       "Vehicle loan or lease                                                            3524\n",
       "Payday loan, title loan, or personal loan                                        1979\n",
       "Student loan                                                                     1861\n",
       "Name: product, dtype: int64"
      ]
     },
     "execution_count": 32,
     "metadata": {},
     "output_type": "execute_result"
    }
   ],
   "source": [
    "df['product'].value_counts()"
   ]
  },
  {
   "cell_type": "code",
   "execution_count": 33,
   "metadata": {},
   "outputs": [],
   "source": [
    "df['product'].replace({'Credit reporting, credit repair services, or other personal consumer reports': 'credit_reporting',\n",
    "                       'Debt collection': 'debt_collection',\n",
    "                       'Credit card or prepaid card': 'credit_card',\n",
    "                       'Mortgage': 'mortgage',\n",
    "                       'Checking or savings account': 'retail_banking',\n",
    "                       'Money transfer, virtual currency, or money service': 'retail_banking',\n",
    "                       'Vehicle loan or lease': 'loans',\n",
    "                       'Payday loan, title loan, or personal loan': 'loans',\n",
    "                       'Student loan': 'loans'}, inplace=True)"
   ]
  },
  {
   "cell_type": "code",
   "execution_count": 34,
   "metadata": {},
   "outputs": [
    {
     "data": {
      "text/plain": [
       "credit_reporting    91179\n",
       "debt_collection     23150\n",
       "credit_card         15566\n",
       "retail_banking      13536\n",
       "mortgage            11626\n",
       "loans                7364\n",
       "Name: product, dtype: int64"
      ]
     },
     "execution_count": 34,
     "metadata": {},
     "output_type": "execute_result"
    }
   ],
   "source": [
    "df['product'].value_counts()"
   ]
  },
  {
   "cell_type": "markdown",
   "metadata": {},
   "source": [
    "Mortgage and loans are the smallest. Since they're both types of loans, I'll combine them."
   ]
  },
  {
   "cell_type": "code",
   "execution_count": 35,
   "metadata": {},
   "outputs": [
    {
     "data": {
      "text/plain": [
       "credit_reporting       91179\n",
       "debt_collection        23150\n",
       "mortgages_and_loans    18990\n",
       "credit_card            15566\n",
       "retail_banking         13536\n",
       "Name: product, dtype: int64"
      ]
     },
     "execution_count": 35,
     "metadata": {},
     "output_type": "execute_result"
    }
   ],
   "source": [
    "df['product'].replace({'mortgage': 'mortgages_and_loans',\n",
    "                       'loans': 'mortgages_and_loans'}, inplace=True)\n",
    "df['product'].value_counts()"
   ]
  },
  {
   "cell_type": "markdown",
   "metadata": {},
   "source": [
    "## Create new dataframes"
   ]
  },
  {
   "cell_type": "code",
   "execution_count": 61,
   "metadata": {},
   "outputs": [],
   "source": [
    "credit_reporting_df = df[df['product'] == 'credit_reporting']\n",
    "debt_collection_df = df[df['product'] == 'debt_collection']\n",
    "mortgages_and_loans_df = df[df['product'] == 'mortgages_and_loans']\n",
    "credit_card_df = df[df['product'] == 'credit_card']\n",
    "retail_banking_df = df[df['product'] == 'retail_banking']"
   ]
  },
  {
   "cell_type": "markdown",
   "metadata": {},
   "source": [
    "## Concatenate all the narratives into a single string per class"
   ]
  },
  {
   "cell_type": "code",
   "execution_count": 76,
   "metadata": {},
   "outputs": [
    {
     "data": {
      "text/html": [
       "<div>\n",
       "<style scoped>\n",
       "    .dataframe tbody tr th:only-of-type {\n",
       "        vertical-align: middle;\n",
       "    }\n",
       "\n",
       "    .dataframe tbody tr th {\n",
       "        vertical-align: top;\n",
       "    }\n",
       "\n",
       "    .dataframe thead th {\n",
       "        text-align: right;\n",
       "    }\n",
       "</style>\n",
       "<table border=\"1\" class=\"dataframe\">\n",
       "  <thead>\n",
       "    <tr style=\"text-align: right;\">\n",
       "      <th></th>\n",
       "      <th>product</th>\n",
       "      <th>subproduct</th>\n",
       "      <th>issue</th>\n",
       "      <th>subissue</th>\n",
       "      <th>narrative</th>\n",
       "    </tr>\n",
       "  </thead>\n",
       "  <tbody>\n",
       "    <tr>\n",
       "      <th>3</th>\n",
       "      <td>credit_reporting</td>\n",
       "      <td>Credit reporting</td>\n",
       "      <td>Incorrect information on your report</td>\n",
       "      <td>Information is missing that should be on the r...</td>\n",
       "      <td>-- -- - XXXX, XXXX, XX/XX/2020 Payment Histori...</td>\n",
       "    </tr>\n",
       "    <tr>\n",
       "      <th>4</th>\n",
       "      <td>credit_reporting</td>\n",
       "      <td>Credit reporting</td>\n",
       "      <td>Incorrect information on your report</td>\n",
       "      <td>Information is missing that should be on the r...</td>\n",
       "      <td>-- -- - XXXX, XXXX, XX/XX/2020 Payment Histori...</td>\n",
       "    </tr>\n",
       "    <tr>\n",
       "      <th>5</th>\n",
       "      <td>credit_reporting</td>\n",
       "      <td>Credit reporting</td>\n",
       "      <td>Incorrect information on your report</td>\n",
       "      <td>Information is missing that should be on the r...</td>\n",
       "      <td>-- -- - XXXX, XXXX, XX/XX/2020 Payment Histori...</td>\n",
       "    </tr>\n",
       "    <tr>\n",
       "      <th>6</th>\n",
       "      <td>credit_reporting</td>\n",
       "      <td>Credit reporting</td>\n",
       "      <td>Unable to get your credit report or credit score</td>\n",
       "      <td>Problem getting your free annual credit report</td>\n",
       "      <td>- - ______XXXX  XXXX XXXX XXXX XXXX _____ XXXX...</td>\n",
       "    </tr>\n",
       "    <tr>\n",
       "      <th>7</th>\n",
       "      <td>credit_reporting</td>\n",
       "      <td>Credit reporting</td>\n",
       "      <td>Problem with a credit reporting company's inve...</td>\n",
       "      <td>Their investigation did not fix an error on yo...</td>\n",
       "      <td>-- - USDOE/XXXX  - This account is being repor...</td>\n",
       "    </tr>\n",
       "  </tbody>\n",
       "</table>\n",
       "</div>"
      ],
      "text/plain": [
       "            product        subproduct  \\\n",
       "3  credit_reporting  Credit reporting   \n",
       "4  credit_reporting  Credit reporting   \n",
       "5  credit_reporting  Credit reporting   \n",
       "6  credit_reporting  Credit reporting   \n",
       "7  credit_reporting  Credit reporting   \n",
       "\n",
       "                                               issue  \\\n",
       "3               Incorrect information on your report   \n",
       "4               Incorrect information on your report   \n",
       "5               Incorrect information on your report   \n",
       "6   Unable to get your credit report or credit score   \n",
       "7  Problem with a credit reporting company's inve...   \n",
       "\n",
       "                                            subissue  \\\n",
       "3  Information is missing that should be on the r...   \n",
       "4  Information is missing that should be on the r...   \n",
       "5  Information is missing that should be on the r...   \n",
       "6     Problem getting your free annual credit report   \n",
       "7  Their investigation did not fix an error on yo...   \n",
       "\n",
       "                                           narrative  \n",
       "3  -- -- - XXXX, XXXX, XX/XX/2020 Payment Histori...  \n",
       "4  -- -- - XXXX, XXXX, XX/XX/2020 Payment Histori...  \n",
       "5  -- -- - XXXX, XXXX, XX/XX/2020 Payment Histori...  \n",
       "6  - - ______XXXX  XXXX XXXX XXXX XXXX _____ XXXX...  \n",
       "7  -- - USDOE/XXXX  - This account is being repor...  "
      ]
     },
     "execution_count": 76,
     "metadata": {},
     "output_type": "execute_result"
    }
   ],
   "source": [
    "credit_reporting_df.head()"
   ]
  },
  {
   "cell_type": "code",
   "execution_count": 137,
   "metadata": {},
   "outputs": [],
   "source": [
    "def concat_narratives(df):\n",
    "    # concat narratives\n",
    "    narr = ''\n",
    "    for i in range(len(df)):\n",
    "        narr += df.iloc[i]['narrative']\n",
    "    print('Finished Concatenation')\n",
    "    return narr"
   ]
  },
  {
   "cell_type": "code",
   "execution_count": 138,
   "metadata": {},
   "outputs": [
    {
     "name": "stdout",
     "output_type": "stream",
     "text": [
      "Finished Concatenation\n"
     ]
    }
   ],
   "source": [
    "credit_reporting_text = concat_narratives(credit_reporting_df)\n",
    "credit_reporting_text_processed = process_narrative(credit_reporting_text)"
   ]
  },
  {
   "cell_type": "code",
   "execution_count": 139,
   "metadata": {},
   "outputs": [
    {
     "name": "stdout",
     "output_type": "stream",
     "text": [
      "Finished Concatenation\n"
     ]
    }
   ],
   "source": [
    "debt_collection_text = concat_narratives(debt_collection_df)\n",
    "debt_collection_text_processed = process_narrative(debt_collection_text)"
   ]
  },
  {
   "cell_type": "code",
   "execution_count": 140,
   "metadata": {},
   "outputs": [
    {
     "name": "stdout",
     "output_type": "stream",
     "text": [
      "Finished Concatenation\n"
     ]
    }
   ],
   "source": [
    "mortgages_and_loans_text = concat_narratives(mortgages_and_loans_df)\n",
    "mortgages_and_loans_text_processed = process_narrative(mortgages_and_loans_text)"
   ]
  },
  {
   "cell_type": "code",
   "execution_count": 141,
   "metadata": {},
   "outputs": [
    {
     "name": "stdout",
     "output_type": "stream",
     "text": [
      "Finished Concatenation\n"
     ]
    }
   ],
   "source": [
    "credit_card_text = concat_narratives(credit_card_df)\n",
    "credit_card_text_processed = process_narrative(credit_card_text)"
   ]
  },
  {
   "cell_type": "code",
   "execution_count": 142,
   "metadata": {},
   "outputs": [
    {
     "name": "stdout",
     "output_type": "stream",
     "text": [
      "Finished Concatenation\n"
     ]
    }
   ],
   "source": [
    "retail_banking_text = concat_narratives(retail_banking_df)\n",
    "retail_banking_text_processed = process_narrative(retail_banking_text)"
   ]
  },
  {
   "cell_type": "markdown",
   "metadata": {},
   "source": [
    "### Saving the text files"
   ]
  },
  {
   "cell_type": "code",
   "execution_count": 151,
   "metadata": {},
   "outputs": [],
   "source": [
    "text_file = open('../project_data/credit_reporting_text.txt', 'w')\n",
    "text_file.write(credit_reporting_text)\n",
    "text_file.close()"
   ]
  },
  {
   "cell_type": "code",
   "execution_count": 152,
   "metadata": {},
   "outputs": [],
   "source": [
    "text_file = open('../project_data/debt_collection_text.txt', 'w')\n",
    "text_file.write(debt_collection_text)\n",
    "text_file.close()"
   ]
  },
  {
   "cell_type": "code",
   "execution_count": 158,
   "metadata": {},
   "outputs": [],
   "source": [
    "text_file = open('../project_data/mortgages_and_loans_text.txt', 'w')\n",
    "mortgages_and_loans_text = mortgages_and_loans_text.replace('\\x82', '')\n",
    "text_file.write(mortgages_and_loans_text)\n",
    "text_file.close()"
   ]
  },
  {
   "cell_type": "code",
   "execution_count": 159,
   "metadata": {},
   "outputs": [],
   "source": [
    "text_file = open('../project_data/credit_card_text.txt', 'w')\n",
    "text_file.write(credit_card_text)\n",
    "text_file.close()"
   ]
  },
  {
   "cell_type": "code",
   "execution_count": 161,
   "metadata": {},
   "outputs": [],
   "source": [
    "text_file = open('../project_data/retail_banking_text.txt', 'w')\n",
    "text_file.write(retail_banking_text)\n",
    "text_file.close()"
   ]
  },
  {
   "cell_type": "markdown",
   "metadata": {},
   "source": [
    "### Saving the processed text (lists) files"
   ]
  },
  {
   "cell_type": "code",
   "execution_count": 167,
   "metadata": {},
   "outputs": [],
   "source": [
    "temp = pd.DataFrame(credit_reporting_text_processed)\n",
    "temp.to_csv('../project_data/credit_reporting_text_processed.csv')"
   ]
  },
  {
   "cell_type": "code",
   "execution_count": 169,
   "metadata": {},
   "outputs": [],
   "source": [
    "temp = pd.DataFrame(debt_collection_text_processed)\n",
    "temp.to_csv('../project_data/debt_collection_text_processed.csv')"
   ]
  },
  {
   "cell_type": "code",
   "execution_count": 170,
   "metadata": {},
   "outputs": [],
   "source": [
    "temp = pd.DataFrame(mortgages_and_loans_text_processed)\n",
    "temp.to_csv('../project_data/mortgages_and_loans_text_processed.csv')"
   ]
  },
  {
   "cell_type": "code",
   "execution_count": 171,
   "metadata": {},
   "outputs": [],
   "source": [
    "temp = pd.DataFrame(credit_card_text_processed)\n",
    "temp.to_csv('../project_data/credit_card_text_processed.csv')"
   ]
  },
  {
   "cell_type": "code",
   "execution_count": 172,
   "metadata": {},
   "outputs": [],
   "source": [
    "temp = pd.DataFrame(retail_banking_text_processed)\n",
    "temp.to_csv('../project_data/retail_banking_text_processed.csv')"
   ]
  },
  {
   "cell_type": "markdown",
   "metadata": {},
   "source": [
    "## Check `FreqDist()`"
   ]
  },
  {
   "cell_type": "code",
   "execution_count": 173,
   "metadata": {},
   "outputs": [
    {
     "data": {
      "text/plain": [
       "[('debt', 40246),\n",
       " ('credit', 38719),\n",
       " ('account', 29301),\n",
       " ('collection', 17936),\n",
       " ('company', 17088),\n",
       " ('report', 16215),\n",
       " ('information', 16006),\n",
       " ('received', 11725),\n",
       " ('letter', 10413),\n",
       " ('never', 10049),\n",
       " ('reporting', 9986),\n",
       " ('would', 9690),\n",
       " ('sent', 9636),\n",
       " ('payment', 8160),\n",
       " ('called', 8094),\n",
       " ('amount', 8045),\n",
       " ('also', 7968),\n",
       " ('told', 7784),\n",
       " ('call', 7477),\n",
       " ('pay', 7475),\n",
       " ('provide', 7354),\n",
       " ('paid', 7249),\n",
       " ('agency', 7229),\n",
       " ('time', 6998),\n",
       " ('number', 6847),\n",
       " ('phone', 6826),\n",
       " ('please', 6585),\n",
       " ('consumer', 6425),\n",
       " ('original', 6134),\n",
       " ('said', 6117)]"
      ]
     },
     "execution_count": 173,
     "metadata": {},
     "output_type": "execute_result"
    }
   ],
   "source": [
    "FreqDist(debt_collection_text_processed).most_common(30)"
   ]
  },
  {
   "cell_type": "code",
   "execution_count": 143,
   "metadata": {},
   "outputs": [
    {
     "data": {
      "text/plain": [
       "[('credit', 222999),\n",
       " ('report', 122959),\n",
       " ('account', 113703),\n",
       " ('information', 106416),\n",
       " ('reporting', 79776),\n",
       " ('accounts', 70117),\n",
       " ('consumer', 46023),\n",
       " ('dispute', 34859),\n",
       " ('identity', 33370),\n",
       " ('please', 31687),\n",
       " ('remove', 29415),\n",
       " ('days', 29375),\n",
       " ('also', 28482),\n",
       " ('sent', 28283),\n",
       " ('payment', 27931),\n",
       " ('received', 27686),\n",
       " ('file', 27113),\n",
       " ('date', 26520),\n",
       " ('never', 26385),\n",
       " ('inaccurate', 26365),\n",
       " ('bureaus', 26349),\n",
       " ('collection', 26290),\n",
       " ('theft', 26049),\n",
       " ('items', 25810),\n",
       " ('debt', 25767),\n",
       " ('letter', 25513),\n",
       " ('fraudulent', 25264),\n",
       " ('balance', 25215),\n",
       " ('late', 25053),\n",
       " ('reported', 24957)]"
      ]
     },
     "execution_count": 143,
     "metadata": {},
     "output_type": "execute_result"
    }
   ],
   "source": [
    "FreqDist(credit_reporting_text_processed).most_common(30)"
   ]
  },
  {
   "cell_type": "code",
   "execution_count": 144,
   "metadata": {},
   "outputs": [
    {
     "data": {
      "text/plain": [
       "[('card', 34158),\n",
       " ('credit', 32460),\n",
       " ('account', 25410),\n",
       " ('bank', 13341),\n",
       " ('would', 13000),\n",
       " ('payment', 12410),\n",
       " ('one', 11079),\n",
       " ('received', 10176),\n",
       " ('told', 10093),\n",
       " ('called', 9987),\n",
       " ('time', 8810),\n",
       " ('never', 8088),\n",
       " ('balance', 7953),\n",
       " ('back', 7860),\n",
       " ('due', 7395),\n",
       " ('made', 7297),\n",
       " ('dispute', 7181),\n",
       " ('said', 7090),\n",
       " ('charge', 7038),\n",
       " ('call', 6924),\n",
       " ('get', 6914),\n",
       " ('charges', 6687),\n",
       " ('late', 6541),\n",
       " ('company', 6486),\n",
       " ('could', 6251),\n",
       " ('pay', 6060),\n",
       " ('customer', 5927),\n",
       " ('interest', 5856),\n",
       " ('information', 5725),\n",
       " ('closed', 5617)]"
      ]
     },
     "execution_count": 144,
     "metadata": {},
     "output_type": "execute_result"
    }
   ],
   "source": [
    "FreqDist(credit_card_text_processed).most_common(30)"
   ]
  },
  {
   "cell_type": "code",
   "execution_count": 174,
   "metadata": {},
   "outputs": [
    {
     "data": {
      "text/plain": [
       "[('account', 40415),\n",
       " ('bank', 24655),\n",
       " ('money', 15640),\n",
       " ('would', 10493),\n",
       " ('told', 9679),\n",
       " ('funds', 8462),\n",
       " ('back', 7777),\n",
       " ('check', 7750),\n",
       " ('called', 7733),\n",
       " ('received', 7272),\n",
       " ('card', 7146),\n",
       " ('said', 6495),\n",
       " ('get', 6199),\n",
       " ('days', 6008),\n",
       " ('sent', 5853),\n",
       " ('time', 5826),\n",
       " ('one', 5714),\n",
       " ('paypal', 5601),\n",
       " ('checking', 5494),\n",
       " ('call', 5475),\n",
       " ('could', 5449),\n",
       " ('number', 5386),\n",
       " ('chase', 5091),\n",
       " ('never', 4961),\n",
       " ('information', 4945),\n",
       " ('phone', 4937),\n",
       " ('email', 4896),\n",
       " ('transaction', 4843),\n",
       " ('also', 4648),\n",
       " ('transfer', 4573)]"
      ]
     },
     "execution_count": 174,
     "metadata": {},
     "output_type": "execute_result"
    }
   ],
   "source": [
    "FreqDist(retail_banking_text_processed).most_common(30)"
   ]
  },
  {
   "cell_type": "code",
   "execution_count": 175,
   "metadata": {},
   "outputs": [
    {
     "data": {
      "text/plain": [
       "[('loan', 38616),\n",
       " ('payment', 29808),\n",
       " ('mortgage', 25916),\n",
       " ('would', 22588),\n",
       " ('account', 17651),\n",
       " ('payments', 17272),\n",
       " ('told', 15634),\n",
       " ('credit', 15599),\n",
       " ('received', 14280),\n",
       " ('company', 13216),\n",
       " ('time', 12870),\n",
       " ('called', 12308),\n",
       " ('due', 11972),\n",
       " ('bank', 11396),\n",
       " ('pay', 11113),\n",
       " ('get', 10975),\n",
       " ('call', 10799),\n",
       " ('back', 10706),\n",
       " ('paid', 10602),\n",
       " ('sent', 9950),\n",
       " ('amount', 9737),\n",
       " ('made', 9054),\n",
       " ('said', 8990),\n",
       " ('home', 8927),\n",
       " ('information', 8890),\n",
       " ('never', 8811),\n",
       " ('could', 8432),\n",
       " ('one', 8303),\n",
       " ('interest', 8063),\n",
       " ('also', 7991)]"
      ]
     },
     "execution_count": 175,
     "metadata": {},
     "output_type": "execute_result"
    }
   ],
   "source": [
    "FreqDist(mortgages_and_loans_text_processed).most_common(30)"
   ]
  },
  {
   "cell_type": "code",
   "execution_count": null,
   "metadata": {},
   "outputs": [],
   "source": []
  }
 ],
 "metadata": {
  "kernelspec": {
   "display_name": "Python 3",
   "language": "python",
   "name": "python3"
  },
  "language_info": {
   "codemirror_mode": {
    "name": "ipython",
    "version": 3
   },
   "file_extension": ".py",
   "mimetype": "text/x-python",
   "name": "python",
   "nbconvert_exporter": "python",
   "pygments_lexer": "ipython3",
   "version": "3.6.9"
  },
  "toc-autonumbering": false,
  "toc-showcode": false,
  "toc-showmarkdowntxt": false,
  "varInspector": {
   "cols": {
    "lenName": 16,
    "lenType": 16,
    "lenVar": 40
   },
   "kernels_config": {
    "python": {
     "delete_cmd_postfix": "",
     "delete_cmd_prefix": "del ",
     "library": "var_list.py",
     "varRefreshCmd": "print(var_dic_list())"
    },
    "r": {
     "delete_cmd_postfix": ") ",
     "delete_cmd_prefix": "rm(",
     "library": "var_list.r",
     "varRefreshCmd": "cat(var_dic_list()) "
    }
   },
   "types_to_exclude": [
    "module",
    "function",
    "builtin_function_or_method",
    "instance",
    "_Feature"
   ],
   "window_display": false
  }
 },
 "nbformat": 4,
 "nbformat_minor": 4
}
