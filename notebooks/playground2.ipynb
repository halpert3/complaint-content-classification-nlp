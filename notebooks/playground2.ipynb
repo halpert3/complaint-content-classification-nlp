{
 "cells": [
  {
   "cell_type": "code",
   "execution_count": 1,
   "metadata": {},
   "outputs": [],
   "source": [
    "import pandas as pd\n",
    "import numpy as np"
   ]
  },
  {
   "cell_type": "markdown",
   "metadata": {},
   "source": [
    "# Slicing"
   ]
  },
  {
   "cell_type": "code",
   "execution_count": 13,
   "metadata": {},
   "outputs": [
    {
     "name": "stdout",
     "output_type": "stream",
     "text": [
      "example 1:  [100 101 102 103 104 105 106 107 108 109]\n"
     ]
    }
   ],
   "source": [
    "# Making array of 100 integers\n",
    "my_array = np.array(range(100,150))\n",
    "# only first ten elements\n",
    "print(\"example 1: \", my_array[:10])"
   ]
  },
  {
   "cell_type": "code",
   "execution_count": 14,
   "metadata": {},
   "outputs": [
    {
     "name": "stdout",
     "output_type": "stream",
     "text": [
      "example 2:  [105 106 107 108 109]\n"
     ]
    }
   ],
   "source": [
    "# only elements five through ten \n",
    "print(\"example 2: \", my_array[5:10])"
   ]
  },
  {
   "cell_type": "code",
   "execution_count": 18,
   "metadata": {},
   "outputs": [
    {
     "data": {
      "text/plain": [
       "array([110, 112, 114, 116, 118, 120, 122, 124, 126, 128, 130, 132, 134,\n",
       "       136, 138, 140, 142, 144, 146])"
      ]
     },
     "execution_count": 18,
     "metadata": {},
     "output_type": "execute_result"
    }
   ],
   "source": [
    "my_array[10:-2 :2]"
   ]
  },
  {
   "cell_type": "code",
   "execution_count": 5,
   "metadata": {},
   "outputs": [
    {
     "name": "stdout",
     "output_type": "stream",
     "text": [
      "example 3:  [100 102 104 106 108]\n"
     ]
    }
   ],
   "source": [
    "# only  ten elements, but not skipping so only 5 elements returned\n",
    "print(\"example 3: \",my_array[: 10:2])"
   ]
  },
  {
   "cell_type": "code",
   "execution_count": 20,
   "metadata": {},
   "outputs": [
    {
     "name": "stdout",
     "output_type": "stream",
     "text": [
      "example 4:  [149 148 147 146 145 144 143 142 141 140 139 138 137 136 135 134 133 132\n",
      " 131 130 129 128 127 126 125 124 123 122 121 120 119 118 117 116 115 114\n",
      " 113 112 111]\n"
     ]
    }
   ],
   "source": [
    "# -1 still step 1, but reverses the array\n",
    "print(\"example 4: \",my_array[: 10:-1])"
   ]
  },
  {
   "cell_type": "code",
   "execution_count": 19,
   "metadata": {},
   "outputs": [
    {
     "name": "stdout",
     "output_type": "stream",
     "text": [
      "example 5:  [149 139 129 119]\n"
     ]
    }
   ],
   "source": [
    "# -1 still but step now 10, but reverses the array\n",
    "print(\"example 5: \",my_array[: 10:-10])"
   ]
  },
  {
   "cell_type": "code",
   "execution_count": 23,
   "metadata": {},
   "outputs": [
    {
     "data": {
      "text/plain": [
       "array([ True,  True,  True,  True])"
      ]
     },
     "execution_count": 23,
     "metadata": {},
     "output_type": "execute_result"
    }
   ],
   "source": [
    "x = my_array[:10 -1:-10] \n",
    "y = my_array[:9:-10]\n",
    "x == y"
   ]
  },
  {
   "cell_type": "code",
   "execution_count": null,
   "metadata": {},
   "outputs": [],
   "source": []
  }
 ],
 "metadata": {
  "kernelspec": {
   "display_name": "Python 3",
   "language": "python",
   "name": "python3"
  },
  "language_info": {
   "codemirror_mode": {
    "name": "ipython",
    "version": 3
   },
   "file_extension": ".py",
   "mimetype": "text/x-python",
   "name": "python",
   "nbconvert_exporter": "python",
   "pygments_lexer": "ipython3",
   "version": "3.6.9"
  }
 },
 "nbformat": 4,
 "nbformat_minor": 4
}
