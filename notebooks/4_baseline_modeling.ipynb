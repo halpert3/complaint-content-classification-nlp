{
 "cells": [
  {
   "cell_type": "markdown",
   "metadata": {},
   "source": [
    "# Import libraries and dataframe"
   ]
  },
  {
   "cell_type": "code",
   "execution_count": 1,
   "metadata": {},
   "outputs": [],
   "source": [
    "import numpy as np\n",
    "import pandas as pd\n",
    "\n",
    "\n",
    "from sklearn.model_selection import train_test_split\n",
    "from sklearn.feature_extraction.text import TfidfVectorizer, CountVectorizer\n",
    "from sklearn.naive_bayes import MultinomialNB\n",
    "from sklearn.ensemble import RandomForestClassifier\n",
    "from sklearn.tree import DecisionTreeClassifier\n",
    "from sklearn.neighbors import KNeighborsClassifier\n",
    "from sklearn.ensemble import GradientBoostingClassifier\n",
    "from xgboost import XGBClassifier\n",
    "\n",
    "from sklearn.metrics import classification_report, accuracy_score, confusion_matrix, recall_score\n",
    "from sklearn.metrics import plot_confusion_matrix\n",
    "from scoring_functions import scoring_functions as f\n",
    "\n",
    "# imp allows to reload the above function file when tinkering with it without kernel restart\n",
    "import imp\n",
    "\n",
    "import matplotlib.pyplot as plt"
   ]
  },
  {
   "cell_type": "code",
   "execution_count": 2,
   "metadata": {},
   "outputs": [
    {
     "data": {
      "text/plain": [
       "10"
      ]
     },
     "execution_count": 2,
     "metadata": {},
     "output_type": "execute_result"
    }
   ],
   "source": [
    "df = pd.read_csv('../project_data/complaints_processed.csv')\n",
    "df.drop(['Unnamed: 0'], axis=1, inplace=True)\n",
    "df['narrative'].isnull().sum()"
   ]
  },
  {
   "cell_type": "markdown",
   "metadata": {},
   "source": [
    "## Clean up dataframe "
   ]
  },
  {
   "cell_type": "code",
   "execution_count": 3,
   "metadata": {},
   "outputs": [],
   "source": [
    "df = df.dropna()"
   ]
  },
  {
   "cell_type": "code",
   "execution_count": 5,
   "metadata": {},
   "outputs": [
    {
     "data": {
      "text/html": [
       "<div>\n",
       "<style scoped>\n",
       "    .dataframe tbody tr th:only-of-type {\n",
       "        vertical-align: middle;\n",
       "    }\n",
       "\n",
       "    .dataframe tbody tr th {\n",
       "        vertical-align: top;\n",
       "    }\n",
       "\n",
       "    .dataframe thead th {\n",
       "        text-align: right;\n",
       "    }\n",
       "</style>\n",
       "<table border=\"1\" class=\"dataframe\">\n",
       "  <thead>\n",
       "    <tr style=\"text-align: right;\">\n",
       "      <th></th>\n",
       "      <th>product</th>\n",
       "      <th>narrative</th>\n",
       "    </tr>\n",
       "  </thead>\n",
       "  <tbody>\n",
       "    <tr>\n",
       "      <th>162416</th>\n",
       "      <td>debt_collection</td>\n",
       "      <td>name</td>\n",
       "    </tr>\n",
       "    <tr>\n",
       "      <th>162417</th>\n",
       "      <td>credit_card</td>\n",
       "      <td>name</td>\n",
       "    </tr>\n",
       "    <tr>\n",
       "      <th>162418</th>\n",
       "      <td>debt_collection</td>\n",
       "      <td>name</td>\n",
       "    </tr>\n",
       "    <tr>\n",
       "      <th>162419</th>\n",
       "      <td>credit_card</td>\n",
       "      <td>name</td>\n",
       "    </tr>\n",
       "    <tr>\n",
       "      <th>162420</th>\n",
       "      <td>credit_reporting</td>\n",
       "      <td>name</td>\n",
       "    </tr>\n",
       "  </tbody>\n",
       "</table>\n",
       "</div>"
      ],
      "text/plain": [
       "                 product narrative\n",
       "162416   debt_collection      name\n",
       "162417       credit_card      name\n",
       "162418   debt_collection      name\n",
       "162419       credit_card      name\n",
       "162420  credit_reporting      name"
      ]
     },
     "execution_count": 5,
     "metadata": {},
     "output_type": "execute_result"
    }
   ],
   "source": [
    "df.tail()"
   ]
  },
  {
   "cell_type": "code",
   "execution_count": 6,
   "metadata": {},
   "outputs": [
    {
     "data": {
      "text/html": [
       "<div>\n",
       "<style scoped>\n",
       "    .dataframe tbody tr th:only-of-type {\n",
       "        vertical-align: middle;\n",
       "    }\n",
       "\n",
       "    .dataframe tbody tr th {\n",
       "        vertical-align: top;\n",
       "    }\n",
       "\n",
       "    .dataframe thead th {\n",
       "        text-align: right;\n",
       "    }\n",
       "</style>\n",
       "<table border=\"1\" class=\"dataframe\">\n",
       "  <thead>\n",
       "    <tr style=\"text-align: right;\">\n",
       "      <th></th>\n",
       "      <th>product</th>\n",
       "      <th>narrative</th>\n",
       "    </tr>\n",
       "  </thead>\n",
       "  <tbody>\n",
       "    <tr>\n",
       "      <th>162415</th>\n",
       "      <td>debt_collection</td>\n",
       "      <td>name</td>\n",
       "    </tr>\n",
       "    <tr>\n",
       "      <th>162416</th>\n",
       "      <td>debt_collection</td>\n",
       "      <td>name</td>\n",
       "    </tr>\n",
       "    <tr>\n",
       "      <th>162417</th>\n",
       "      <td>credit_card</td>\n",
       "      <td>name</td>\n",
       "    </tr>\n",
       "    <tr>\n",
       "      <th>162418</th>\n",
       "      <td>debt_collection</td>\n",
       "      <td>name</td>\n",
       "    </tr>\n",
       "    <tr>\n",
       "      <th>162419</th>\n",
       "      <td>credit_card</td>\n",
       "      <td>name</td>\n",
       "    </tr>\n",
       "    <tr>\n",
       "      <th>162420</th>\n",
       "      <td>credit_reporting</td>\n",
       "      <td>name</td>\n",
       "    </tr>\n",
       "  </tbody>\n",
       "</table>\n",
       "</div>"
      ],
      "text/plain": [
       "                 product narrative\n",
       "162415   debt_collection      name\n",
       "162416   debt_collection      name\n",
       "162417       credit_card      name\n",
       "162418   debt_collection      name\n",
       "162419       credit_card      name\n",
       "162420  credit_reporting      name"
      ]
     },
     "execution_count": 6,
     "metadata": {},
     "output_type": "execute_result"
    }
   ],
   "source": [
    "df.loc[df['narrative'] == 'name']"
   ]
  },
  {
   "cell_type": "code",
   "execution_count": 7,
   "metadata": {},
   "outputs": [
    {
     "data": {
      "text/plain": [
       "(162411, 2)"
      ]
     },
     "execution_count": 7,
     "metadata": {},
     "output_type": "execute_result"
    }
   ],
   "source": [
    "df.shape"
   ]
  },
  {
   "cell_type": "code",
   "execution_count": 7,
   "metadata": {},
   "outputs": [
    {
     "data": {
      "text/plain": [
       "(162405, 2)"
      ]
     },
     "execution_count": 7,
     "metadata": {},
     "output_type": "execute_result"
    }
   ],
   "source": [
    "df.drop(df.loc[df['narrative'] == 'name'].index, inplace=True)\n",
    "df.shape"
   ]
  },
  {
   "cell_type": "code",
   "execution_count": 9,
   "metadata": {},
   "outputs": [
    {
     "data": {
      "text/html": [
       "<div>\n",
       "<style scoped>\n",
       "    .dataframe tbody tr th:only-of-type {\n",
       "        vertical-align: middle;\n",
       "    }\n",
       "\n",
       "    .dataframe tbody tr th {\n",
       "        vertical-align: top;\n",
       "    }\n",
       "\n",
       "    .dataframe thead th {\n",
       "        text-align: right;\n",
       "    }\n",
       "</style>\n",
       "<table border=\"1\" class=\"dataframe\">\n",
       "  <thead>\n",
       "    <tr style=\"text-align: right;\">\n",
       "      <th></th>\n",
       "      <th>product</th>\n",
       "      <th>narrative</th>\n",
       "    </tr>\n",
       "  </thead>\n",
       "  <tbody>\n",
       "    <tr>\n",
       "      <th>162410</th>\n",
       "      <td>credit_reporting</td>\n",
       "      <td>zales comenity bank closed sold account report...</td>\n",
       "    </tr>\n",
       "    <tr>\n",
       "      <th>162411</th>\n",
       "      <td>retail_banking</td>\n",
       "      <td>zelle suspended account without cause banking ...</td>\n",
       "    </tr>\n",
       "    <tr>\n",
       "      <th>162412</th>\n",
       "      <td>debt_collection</td>\n",
       "      <td>zero contact made debt supposedly resolved fou...</td>\n",
       "    </tr>\n",
       "    <tr>\n",
       "      <th>162413</th>\n",
       "      <td>mortgages_and_loans</td>\n",
       "      <td>zillow home loan nmls nmls actual quote provid...</td>\n",
       "    </tr>\n",
       "    <tr>\n",
       "      <th>162414</th>\n",
       "      <td>debt_collection</td>\n",
       "      <td>zuntafi sent notice willing settle defaulted s...</td>\n",
       "    </tr>\n",
       "  </tbody>\n",
       "</table>\n",
       "</div>"
      ],
      "text/plain": [
       "                    product                                          narrative\n",
       "162410     credit_reporting  zales comenity bank closed sold account report...\n",
       "162411       retail_banking  zelle suspended account without cause banking ...\n",
       "162412      debt_collection  zero contact made debt supposedly resolved fou...\n",
       "162413  mortgages_and_loans  zillow home loan nmls nmls actual quote provid...\n",
       "162414      debt_collection  zuntafi sent notice willing settle defaulted s..."
      ]
     },
     "execution_count": 9,
     "metadata": {},
     "output_type": "execute_result"
    }
   ],
   "source": [
    "df.tail()"
   ]
  },
  {
   "cell_type": "markdown",
   "metadata": {},
   "source": [
    "## Change product names to integers"
   ]
  },
  {
   "cell_type": "code",
   "execution_count": 8,
   "metadata": {},
   "outputs": [
    {
     "data": {
      "text/plain": [
       "array(['credit_card', 'retail_banking', 'credit_reporting',\n",
       "       'mortgages_and_loans', 'debt_collection'], dtype=object)"
      ]
     },
     "execution_count": 8,
     "metadata": {},
     "output_type": "execute_result"
    }
   ],
   "source": [
    "df['product'].unique()"
   ]
  },
  {
   "cell_type": "code",
   "execution_count": 9,
   "metadata": {},
   "outputs": [],
   "source": [
    "product_dict ={'credit_reporting': 0, 'debt_collection': 1, 'mortgages_and_loans': 2, \n",
    "               'credit_card': 3, 'retail_banking': 4}"
   ]
  },
  {
   "cell_type": "code",
   "execution_count": 10,
   "metadata": {},
   "outputs": [],
   "source": [
    "df['product'].replace(product_dict, inplace=True)"
   ]
  },
  {
   "cell_type": "code",
   "execution_count": 11,
   "metadata": {},
   "outputs": [
    {
     "data": {
      "text/plain": [
       "array([3, 4, 0, 2, 1], dtype=int64)"
      ]
     },
     "execution_count": 11,
     "metadata": {},
     "output_type": "execute_result"
    }
   ],
   "source": [
    "df['product'].unique()"
   ]
  },
  {
   "cell_type": "markdown",
   "metadata": {},
   "source": [
    "# Train-test split"
   ]
  },
  {
   "cell_type": "code",
   "execution_count": 12,
   "metadata": {},
   "outputs": [],
   "source": [
    "X = df.drop(['product'], axis=1)\n",
    "y = df['product']\n",
    "\n",
    "X_train, X_test, y_train, y_test = train_test_split(X['narrative'], y, test_size=0.20, random_state=200)"
   ]
  },
  {
   "cell_type": "code",
   "execution_count": 15,
   "metadata": {},
   "outputs": [
    {
     "data": {
      "text/plain": [
       "(129924,)"
      ]
     },
     "execution_count": 15,
     "metadata": {},
     "output_type": "execute_result"
    }
   ],
   "source": [
    "X_train.shape"
   ]
  },
  {
   "cell_type": "code",
   "execution_count": 15,
   "metadata": {},
   "outputs": [
    {
     "data": {
      "text/plain": [
       "(32481,)"
      ]
     },
     "execution_count": 15,
     "metadata": {},
     "output_type": "execute_result"
    }
   ],
   "source": [
    "X_test.shape"
   ]
  },
  {
   "cell_type": "code",
   "execution_count": 16,
   "metadata": {},
   "outputs": [
    {
     "data": {
      "text/plain": [
       "6530      3\n",
       "88496     3\n",
       "156067    0\n",
       "69566     2\n",
       "123950    2\n",
       "Name: product, dtype: int64"
      ]
     },
     "execution_count": 16,
     "metadata": {},
     "output_type": "execute_result"
    }
   ],
   "source": [
    "y_train.head()"
   ]
  },
  {
   "cell_type": "code",
   "execution_count": 17,
   "metadata": {},
   "outputs": [
    {
     "data": {
      "text/plain": [
       "(129924,)"
      ]
     },
     "execution_count": 17,
     "metadata": {},
     "output_type": "execute_result"
    }
   ],
   "source": [
    "y_train.shape"
   ]
  },
  {
   "cell_type": "markdown",
   "metadata": {},
   "source": [
    "# TF-IDF"
   ]
  },
  {
   "cell_type": "markdown",
   "metadata": {},
   "source": [
    "## Instatiate training set"
   ]
  },
  {
   "cell_type": "markdown",
   "metadata": {},
   "source": [
    "For TF-IDF, do `fit_transform` on _X\\_train_ only. Do not involve _y\\_train_ because it doesn't involve the words, just the classes."
   ]
  },
  {
   "cell_type": "code",
   "execution_count": 18,
   "metadata": {},
   "outputs": [],
   "source": [
    "# vectorizer = TfidfVectorizer(ngram_range=(1,2))\n",
    "# vect_X_train = vectorizer.fit_transform(X_train)\n",
    "# feature_names =  vectorizer.get_feature_names()"
   ]
  },
  {
   "cell_type": "code",
   "execution_count": 19,
   "metadata": {},
   "outputs": [],
   "source": [
    "# vect_X_train"
   ]
  },
  {
   "cell_type": "code",
   "execution_count": 20,
   "metadata": {},
   "outputs": [],
   "source": [
    "# len(feature_names)"
   ]
  },
  {
   "cell_type": "code",
   "execution_count": 21,
   "metadata": {},
   "outputs": [],
   "source": [
    "# vect_X_train.shape"
   ]
  },
  {
   "cell_type": "code",
   "execution_count": 22,
   "metadata": {},
   "outputs": [],
   "source": [
    "# vect_X_train.todense()"
   ]
  },
  {
   "cell_type": "markdown",
   "metadata": {},
   "source": [
    "Don't have the memory to get it `todense()`"
   ]
  },
  {
   "cell_type": "markdown",
   "metadata": {},
   "source": [
    "I don't think I'll need that many feature names (1700000). Going forward, I'll cut it down to 1000000 which is 58%"
   ]
  },
  {
   "cell_type": "code",
   "execution_count": 13,
   "metadata": {},
   "outputs": [],
   "source": [
    "vectorizer = TfidfVectorizer(ngram_range=(1,2), max_features=1000000)\n",
    "vect_X_train = vectorizer.fit_transform(X_train)\n",
    "feature_names =  vectorizer.get_feature_names()"
   ]
  },
  {
   "cell_type": "code",
   "execution_count": 17,
   "metadata": {},
   "outputs": [
    {
     "data": {
      "text/plain": [
       "1000000"
      ]
     },
     "execution_count": 17,
     "metadata": {},
     "output_type": "execute_result"
    }
   ],
   "source": [
    "len(feature_names)"
   ]
  },
  {
   "cell_type": "code",
   "execution_count": 18,
   "metadata": {},
   "outputs": [
    {
     "data": {
      "text/plain": [
       "(129924, 1000000)"
      ]
     },
     "execution_count": 18,
     "metadata": {},
     "output_type": "execute_result"
    }
   ],
   "source": [
    "vect_X_train.shape"
   ]
  },
  {
   "cell_type": "markdown",
   "metadata": {},
   "source": [
    "Use `fit_transform()` on training data and `transform()` on test data. The model has already been fit on the training data, so you don't want to fit it again."
   ]
  },
  {
   "cell_type": "code",
   "execution_count": 14,
   "metadata": {},
   "outputs": [],
   "source": [
    "vect_X_test = vectorizer.transform(X_test)"
   ]
  },
  {
   "cell_type": "markdown",
   "metadata": {},
   "source": [
    "# Create first model"
   ]
  },
  {
   "cell_type": "markdown",
   "metadata": {},
   "source": [
    "## Create Naive Bayes model and predict"
   ]
  },
  {
   "cell_type": "markdown",
   "metadata": {},
   "source": [
    "Instantiate new model instance. Fit the model to all the training data."
   ]
  },
  {
   "cell_type": "code",
   "execution_count": 35,
   "metadata": {},
   "outputs": [
    {
     "data": {
      "text/plain": [
       "MultinomialNB()"
      ]
     },
     "execution_count": 35,
     "metadata": {},
     "output_type": "execute_result"
    }
   ],
   "source": [
    "cls = MultinomialNB()\n",
    "cls.fit(vect_X_train, y_train)"
   ]
  },
  {
   "cell_type": "markdown",
   "metadata": {},
   "source": [
    "Now that the model has been trained on the vectorized training data, see how it will predict classes from that test data. "
   ]
  },
  {
   "cell_type": "code",
   "execution_count": 36,
   "metadata": {},
   "outputs": [],
   "source": [
    "# y_pred = cls.predict(vect_X_test)\n",
    "y_pred = cls.predict(vect_X_train)"
   ]
  },
  {
   "cell_type": "code",
   "execution_count": 37,
   "metadata": {},
   "outputs": [
    {
     "data": {
      "text/plain": [
       "array([0, 1, 2, 3, 4], dtype=int64)"
      ]
     },
     "execution_count": 37,
     "metadata": {},
     "output_type": "execute_result"
    }
   ],
   "source": [
    "np.unique(y_pred)"
   ]
  },
  {
   "cell_type": "markdown",
   "metadata": {},
   "source": [
    "Compare how accurate the real test data is to what the model predicted"
   ]
  },
  {
   "cell_type": "code",
   "execution_count": 38,
   "metadata": {},
   "outputs": [
    {
     "data": {
      "text/plain": [
       "'The accuracy score is: 72.02%'"
      ]
     },
     "execution_count": 38,
     "metadata": {},
     "output_type": "execute_result"
    }
   ],
   "source": [
    "f'The accuracy score is: {round(accuracy_score(y_train, y_pred)*100, 2)}%'"
   ]
  },
  {
   "cell_type": "code",
   "execution_count": 39,
   "metadata": {},
   "outputs": [
    {
     "name": "stdout",
     "output_type": "stream",
     "text": [
      "Accuracy: 72.0%\n",
      "Precision: 89.9%\n",
      "Recall: 49.9%\n",
      "F1: 58.0%\n",
      "\n",
      "\n",
      "Classification Report\n",
      "\n",
      "\n",
      "              precision    recall  f1-score   support\n",
      "\n",
      "           0       0.67      1.00      0.80     73012\n",
      "           1       0.96      0.23      0.37     18544\n",
      "           2       0.97      0.54      0.70     15180\n",
      "           3       0.94      0.25      0.40     12364\n",
      "           4       0.96      0.48      0.64     10824\n",
      "\n",
      "    accuracy                           0.72    129924\n",
      "   macro avg       0.90      0.50      0.58    129924\n",
      "weighted avg       0.80      0.72      0.68    129924\n",
      "\n"
     ]
    },
    {
     "data": {
      "image/png": "[encoded data removed]",
      "text/plain": [
       "<Figure size 432x288 with 2 Axes>"
      ]
     },
     "metadata": {
      "needs_background": "light"
     },
     "output_type": "display_data"
    }
   ],
   "source": [
    "imp.reload(f)\n",
    "f.scoring(y_train, y_pred, cls, vect_X_train)"
   ]
  },
  {
   "cell_type": "markdown",
   "metadata": {},
   "source": [
    "## Check for overfitting"
   ]
  },
  {
   "cell_type": "code",
   "execution_count": 40,
   "metadata": {},
   "outputs": [],
   "source": [
    "test_y_pred = cls.predict(vect_X_test)"
   ]
  },
  {
   "cell_type": "code",
   "execution_count": 41,
   "metadata": {},
   "outputs": [
    {
     "data": {
      "text/plain": [
       "'The accuracy score is: 66.75%'"
      ]
     },
     "execution_count": 41,
     "metadata": {},
     "output_type": "execute_result"
    }
   ],
   "source": [
    "f'The accuracy score is: {round(accuracy_score(y_test, test_y_pred)*100, 2)}%'"
   ]
  },
  {
   "cell_type": "code",
   "execution_count": 42,
   "metadata": {},
   "outputs": [
    {
     "data": {
      "text/plain": [
       "'The recall score is 41.0%'"
      ]
     },
     "execution_count": 42,
     "metadata": {},
     "output_type": "execute_result"
    }
   ],
   "source": [
    "recall_scr = round(recall_score(y_test, test_y_pred, average='macro'), 2) * 100\n",
    "f'The recall score is {recall_scr}%'"
   ]
  },
  {
   "cell_type": "code",
   "execution_count": 44,
   "metadata": {},
   "outputs": [
    {
     "name": "stdout",
     "output_type": "stream",
     "text": [
      "Accuracy: 66.7%\n",
      "Precision: 86.9%\n",
      "Recall: 40.6%\n",
      "F1: 46.8%\n",
      "\n",
      "\n",
      "Classification Report\n",
      "\n",
      "\n",
      "              precision    recall  f1-score   support\n",
      "\n",
      "           0       0.63      1.00      0.77     18159\n",
      "           1       0.91      0.14      0.25      4601\n",
      "           2       0.96      0.40      0.56      3810\n",
      "           3       0.91      0.15      0.26      3200\n",
      "           4       0.94      0.34      0.50      2711\n",
      "\n",
      "    accuracy                           0.67     32481\n",
      "   macro avg       0.87      0.41      0.47     32481\n",
      "weighted avg       0.76      0.67      0.60     32481\n",
      "\n"
     ]
    },
    {
     "data": {
      "image/png": "[encoded data removed]",
      "text/plain": [
       "<Figure size 432x288 with 2 Axes>"
      ]
     },
     "metadata": {
      "needs_background": "light"
     },
     "output_type": "display_data"
    }
   ],
   "source": [
    "f.scoring(y_test, test_y_pred, cls, vect_X_test)"
   ]
  },
  {
   "cell_type": "markdown",
   "metadata": {},
   "source": [
    "# Random Forest"
   ]
  },
  {
   "cell_type": "code",
   "execution_count": 15,
   "metadata": {},
   "outputs": [
    {
     "data": {
      "text/plain": [
       "RandomForestClassifier(max_depth=20)"
      ]
     },
     "execution_count": 15,
     "metadata": {},
     "output_type": "execute_result"
    }
   ],
   "source": [
    "rdmfst = RandomForestClassifier(max_depth=20)\n",
    "rdmfst.fit(vect_X_train, y_train)"
   ]
  },
  {
   "cell_type": "code",
   "execution_count": 16,
   "metadata": {},
   "outputs": [],
   "source": [
    "y_pred = rdmfst.predict(vect_X_train)"
   ]
  },
  {
   "cell_type": "code",
   "execution_count": 119,
   "metadata": {},
   "outputs": [
    {
     "data": {
      "text/plain": [
       "'The accuracy score is: 57.87%'"
      ]
     },
     "execution_count": 119,
     "metadata": {},
     "output_type": "execute_result"
    }
   ],
   "source": [
    "f'The accuracy score is: {round(accuracy_score(y_train, y_pred)*100, 2)}%'"
   ]
  },
  {
   "cell_type": "code",
   "execution_count": 120,
   "metadata": {},
   "outputs": [
    {
     "name": "stdout",
     "output_type": "stream",
     "text": [
      "Accuracy: 57.9%\n",
      "Precision: 90.5%\n",
      "Recall: 22.9%\n",
      "F1: 20.1%\n",
      "\n",
      "\n",
      "Classification Report\n",
      "\n",
      "\n",
      "              precision    recall  f1-score   support\n",
      "\n",
      "           0       0.57      1.00      0.73     73012\n",
      "           1       0.98      0.04      0.08     18544\n",
      "           2       0.98      0.06      0.12     15180\n",
      "           3       0.99      0.01      0.02     12364\n",
      "           4       1.00      0.03      0.06     10824\n",
      "\n",
      "    accuracy                           0.58    129924\n",
      "   macro avg       0.90      0.23      0.20    129924\n",
      "weighted avg       0.75      0.58      0.44    129924\n",
      "\n"
     ]
    },
    {
     "data": {
      "image/png": "[encoded data removed]",
      "text/plain": [
       "<Figure size 432x288 with 2 Axes>"
      ]
     },
     "metadata": {
      "needs_background": "light"
     },
     "output_type": "display_data"
    }
   ],
   "source": [
    "f.scoring(y_train, y_pred, rdmfst, vect_X_train)"
   ]
  },
  {
   "cell_type": "code",
   "execution_count": 17,
   "metadata": {},
   "outputs": [],
   "source": [
    "test_y_pred = rdmfst.predict(vect_X_test)"
   ]
  },
  {
   "cell_type": "code",
   "execution_count": 122,
   "metadata": {},
   "outputs": [
    {
     "data": {
      "text/plain": [
       "'The accuracy score is: 57.22%'"
      ]
     },
     "execution_count": 122,
     "metadata": {},
     "output_type": "execute_result"
    }
   ],
   "source": [
    "f'The accuracy score is: {round(accuracy_score(y_test, test_y_pred)*100, 2)}%'"
   ]
  },
  {
   "cell_type": "code",
   "execution_count": 18,
   "metadata": {},
   "outputs": [
    {
     "name": "stdout",
     "output_type": "stream",
     "text": [
      "Accuracy: 57.1%\n",
      "Precision: 86.8%\n",
      "Recall: 22.1%\n",
      "F1: 18.5%\n",
      "\n",
      "\n",
      "Classification Report\n",
      "\n",
      "\n",
      "              precision    recall  f1-score   support\n",
      "\n",
      "           0       0.57      1.00      0.72     18159\n",
      "           1       0.96      0.04      0.07      4601\n",
      "           2       0.93      0.05      0.10      3810\n",
      "           3       0.89      0.00      0.00      3200\n",
      "           4       1.00      0.01      0.02      2711\n",
      "\n",
      "    accuracy                           0.57     32481\n",
      "   macro avg       0.87      0.22      0.18     32481\n",
      "weighted avg       0.73      0.57      0.43     32481\n",
      "\n"
     ]
    },
    {
     "data": {
      "image/png": "[encoded data removed]",
      "text/plain": [
       "<Figure size 432x288 with 2 Axes>"
      ]
     },
     "metadata": {
      "needs_background": "light"
     },
     "output_type": "display_data"
    }
   ],
   "source": [
    "f.scoring(y_test, test_y_pred, rdmfst, vect_X_test)"
   ]
  },
  {
   "cell_type": "markdown",
   "metadata": {},
   "source": [
    "# Decision Tree"
   ]
  },
  {
   "cell_type": "code",
   "execution_count": 28,
   "metadata": {},
   "outputs": [
    {
     "data": {
      "text/plain": [
       "DecisionTreeClassifier(max_depth=20)"
      ]
     },
     "execution_count": 28,
     "metadata": {},
     "output_type": "execute_result"
    }
   ],
   "source": [
    "dtree = DecisionTreeClassifier(max_depth=20)\n",
    "dtree.fit(vect_X_train, y_train)"
   ]
  },
  {
   "cell_type": "code",
   "execution_count": 29,
   "metadata": {},
   "outputs": [
    {
     "data": {
      "text/plain": [
       "'The accuracy score is: 89.68%'"
      ]
     },
     "execution_count": 29,
     "metadata": {},
     "output_type": "execute_result"
    }
   ],
   "source": [
    "y_pred = dtree.predict(vect_X_train)\n",
    "f'The accuracy score is: {round(accuracy_score(y_train, y_pred)*100, 2)}%'"
   ]
  },
  {
   "cell_type": "code",
   "execution_count": 30,
   "metadata": {},
   "outputs": [
    {
     "name": "stdout",
     "output_type": "stream",
     "text": [
      "Accuracy: 89.7%\n",
      "Precision: 88.4%\n",
      "Recall: 84.7%\n",
      "F1: 86.4%\n",
      "\n",
      "\n",
      "Classification Report\n",
      "\n",
      "\n",
      "              precision    recall  f1-score   support\n",
      "\n",
      "           0       0.91      0.96      0.94     73012\n",
      "           1       0.87      0.77      0.82     18544\n",
      "           2       0.91      0.83      0.87     15180\n",
      "           3       0.83      0.82      0.83     12364\n",
      "           4       0.91      0.84      0.87     10824\n",
      "\n",
      "    accuracy                           0.90    129924\n",
      "   macro avg       0.88      0.85      0.86    129924\n",
      "weighted avg       0.90      0.90      0.90    129924\n",
      "\n"
     ]
    },
    {
     "data": {
      "image/png": "[encoded data removed]",
      "text/plain": [
       "<Figure size 432x288 with 2 Axes>"
      ]
     },
     "metadata": {
      "needs_background": "light"
     },
     "output_type": "display_data"
    }
   ],
   "source": [
    "f.scoring(y_train, y_pred, dtree, vect_X_train)"
   ]
  },
  {
   "cell_type": "code",
   "execution_count": 31,
   "metadata": {},
   "outputs": [],
   "source": [
    "test_y_pred = dtree.predict(vect_X_test)"
   ]
  },
  {
   "cell_type": "code",
   "execution_count": 32,
   "metadata": {},
   "outputs": [
    {
     "data": {
      "text/plain": [
       "'The accuracy score is: 81.97%'"
      ]
     },
     "execution_count": 32,
     "metadata": {},
     "output_type": "execute_result"
    }
   ],
   "source": [
    "f'The accuracy score is: {round(accuracy_score(y_test, test_y_pred)*100, 2)}%'"
   ]
  },
  {
   "cell_type": "code",
   "execution_count": 33,
   "metadata": {},
   "outputs": [
    {
     "data": {
      "text/plain": [
       "'The recall score is 74.0%'"
      ]
     },
     "execution_count": 33,
     "metadata": {},
     "output_type": "execute_result"
    }
   ],
   "source": [
    "recall_scr = round(recall_score(y_test, test_y_pred, average='macro'), 2) * 100\n",
    "f'The recall score is {recall_scr}%'"
   ]
  },
  {
   "cell_type": "code",
   "execution_count": 34,
   "metadata": {},
   "outputs": [
    {
     "name": "stdout",
     "output_type": "stream",
     "text": [
      "Accuracy: 82.0%\n",
      "Precision: 77.4%\n",
      "Recall: 73.7%\n",
      "F1: 75.4%\n",
      "\n",
      "\n",
      "Classification Report\n",
      "\n",
      "\n",
      "              precision    recall  f1-score   support\n",
      "\n",
      "           0       0.87      0.92      0.89     18159\n",
      "           1       0.74      0.65      0.69      4601\n",
      "           2       0.80      0.72      0.76      3810\n",
      "           3       0.69      0.66      0.67      3200\n",
      "           4       0.78      0.73      0.75      2711\n",
      "\n",
      "    accuracy                           0.82     32481\n",
      "   macro avg       0.77      0.74      0.75     32481\n",
      "weighted avg       0.82      0.82      0.82     32481\n",
      "\n"
     ]
    },
    {
     "data": {
      "image/png": "[encoded data removed]",
      "text/plain": [
       "<Figure size 432x288 with 2 Axes>"
      ]
     },
     "metadata": {
      "needs_background": "light"
     },
     "output_type": "display_data"
    }
   ],
   "source": [
    "f.scoring(y_test, test_y_pred, dtree, vect_X_test)"
   ]
  },
  {
   "cell_type": "markdown",
   "metadata": {},
   "source": [
    "# KNN"
   ]
  },
  {
   "cell_type": "code",
   "execution_count": 144,
   "metadata": {},
   "outputs": [
    {
     "data": {
      "text/plain": [
       "KNeighborsClassifier(weights='distance')"
      ]
     },
     "execution_count": 144,
     "metadata": {},
     "output_type": "execute_result"
    }
   ],
   "source": [
    "neigh = KNeighborsClassifier(n_neighbors=5, weights='distance')\n",
    "neigh.fit(vect_X_train, y_train)"
   ]
  },
  {
   "cell_type": "code",
   "execution_count": 145,
   "metadata": {},
   "outputs": [
    {
     "data": {
      "text/plain": [
       "'The accuracy score is: 99.54%'"
      ]
     },
     "execution_count": 145,
     "metadata": {},
     "output_type": "execute_result"
    }
   ],
   "source": [
    "y_pred = neigh.predict(vectneightrain)\n",
    "f'The accuracy score is: {round(accuracy_score(y_train, y_pred)*100, 2)}%'"
   ]
  },
  {
   "cell_type": "code",
   "execution_count": 147,
   "metadata": {},
   "outputs": [
    {
     "name": "stdout",
     "output_type": "stream",
     "text": [
      "Accuracy: 99.5%\n",
      "Precision: 99.5%\n",
      "Recall: 99.3%\n",
      "F1: 99.4%\n",
      "\n",
      "\n",
      "Classification Report\n",
      "\n",
      "\n",
      "              precision    recall  f1-score   support\n",
      "\n",
      "           0       1.00      1.00      1.00     73012\n",
      "           1       1.00      0.99      0.99     18544\n",
      "           2       0.99      0.99      0.99     15180\n",
      "           3       1.00      0.98      0.99     12364\n",
      "           4       1.00      1.00      1.00     10824\n",
      "\n",
      "    accuracy                           1.00    129924\n",
      "   macro avg       1.00      0.99      0.99    129924\n",
      "weighted avg       1.00      1.00      1.00    129924\n",
      "\n"
     ]
    },
    {
     "data": {
      "image/png": "[encoded data removed]",
      "text/plain": [
       "<Figure size 432x288 with 2 Axes>"
      ]
     },
     "metadata": {
      "needs_background": "light"
     },
     "output_type": "display_data"
    }
   ],
   "source": [
    "f.scoring(y_train, y_pred, neigh, vect_X_train)"
   ]
  },
  {
   "cell_type": "code",
   "execution_count": 148,
   "metadata": {},
   "outputs": [],
   "source": [
    "test_y_pred = neigh.predict(vect_X_test)"
   ]
  },
  {
   "cell_type": "code",
   "execution_count": 149,
   "metadata": {},
   "outputs": [
    {
     "data": {
      "text/plain": [
       "'The accuracy score is: 81.48%'"
      ]
     },
     "execution_count": 149,
     "metadata": {},
     "output_type": "execute_result"
    }
   ],
   "source": [
    "f'The accuracy score is: {round(accuracy_score(y_test, test_y_pred)*100, 2)}%'"
   ]
  },
  {
   "cell_type": "code",
   "execution_count": 150,
   "metadata": {},
   "outputs": [
    {
     "data": {
      "text/plain": [
       "'The recall score is 70.0%'"
      ]
     },
     "execution_count": 150,
     "metadata": {},
     "output_type": "execute_result"
    }
   ],
   "source": [
    "recall_scr = round(recall_score(y_test, test_y_pred, average='macro'), 2) * 100\n",
    "f'The recall score is {recall_scr}%'"
   ]
  },
  {
   "cell_type": "code",
   "execution_count": 151,
   "metadata": {},
   "outputs": [
    {
     "name": "stdout",
     "output_type": "stream",
     "text": [
      "Accuracy: 81.5%\n",
      "Precision: 81.1%\n",
      "Recall: 69.6%\n",
      "F1: 74.2%\n",
      "\n",
      "\n",
      "Classification Report\n",
      "\n",
      "\n",
      "              precision    recall  f1-score   support\n",
      "\n",
      "           0       0.82      0.97      0.88     18159\n",
      "           1       0.86      0.59      0.70      4601\n",
      "           2       0.83      0.62      0.71      3810\n",
      "           3       0.76      0.58      0.66      3200\n",
      "           4       0.79      0.72      0.76      2711\n",
      "\n",
      "    accuracy                           0.81     32481\n",
      "   macro avg       0.81      0.70      0.74     32481\n",
      "weighted avg       0.82      0.81      0.81     32481\n",
      "\n"
     ]
    },
    {
     "data": {
      "image/png": "[encoded data removed]",
      "text/plain": [
       "<Figure size 432x288 with 2 Axes>"
      ]
     },
     "metadata": {
      "needs_background": "light"
     },
     "output_type": "display_data"
    }
   ],
   "source": [
    "f.scoring(y_test, test_y_pred, neigh, vect_X_test)"
   ]
  },
  {
   "cell_type": "markdown",
   "metadata": {},
   "source": [
    "# Gradient Boosting"
   ]
  },
  {
   "cell_type": "code",
   "execution_count": 155,
   "metadata": {},
   "outputs": [],
   "source": [
    "# from sklearn.experimental import enable_hist_gradient_boosting\n",
    "# from sklearn.ensemble import HistGradientBoostingClassifier\n",
    "# hgboost = HistGradientBoostingClassifier(max_depth=20)\n",
    "# hgboost.fit(vect_X_train.toarray(), y_train)\n"
   ]
  },
  {
   "cell_type": "markdown",
   "metadata": {},
   "source": [
    "Histogram Gradient Boosting won't work, because it needs a dense array, which my machine can't handle.  \n",
    "Trying normal Gradient Boosting..."
   ]
  },
  {
   "cell_type": "code",
   "execution_count": 20,
   "metadata": {},
   "outputs": [],
   "source": [
    "gboost = GradientBoostingClassifier(max_depth=3)"
   ]
  },
  {
   "cell_type": "code",
   "execution_count": 21,
   "metadata": {},
   "outputs": [
    {
     "data": {
      "text/plain": [
       "GradientBoostingClassifier()"
      ]
     },
     "execution_count": 21,
     "metadata": {},
     "output_type": "execute_result"
    }
   ],
   "source": [
    "gboost.fit(vect_X_train, y_train)"
   ]
  },
  {
   "cell_type": "code",
   "execution_count": 22,
   "metadata": {},
   "outputs": [
    {
     "data": {
      "text/plain": [
       "'The accuracy score is: 84.91%'"
      ]
     },
     "execution_count": 22,
     "metadata": {},
     "output_type": "execute_result"
    }
   ],
   "source": [
    "y_pred = gboost.predict(vect_X_train)\n",
    "f'The accuracy score is: {round(accuracy_score(y_train, y_pred)*100, 2)}%'"
   ]
  },
  {
   "cell_type": "code",
   "execution_count": 23,
   "metadata": {},
   "outputs": [
    {
     "name": "stdout",
     "output_type": "stream",
     "text": [
      "Accuracy: 84.9%\n",
      "Precision: 83.3%\n",
      "Recall: 78.5%\n",
      "F1: 80.7%\n",
      "\n",
      "\n",
      "Classification Report\n",
      "\n",
      "\n",
      "              precision    recall  f1-score   support\n",
      "\n",
      "           0       0.87      0.94      0.90     73012\n",
      "           1       0.79      0.67      0.72     18544\n",
      "           2       0.86      0.78      0.82     15180\n",
      "           3       0.79      0.72      0.76     12364\n",
      "           4       0.86      0.82      0.84     10824\n",
      "\n",
      "    accuracy                           0.85    129924\n",
      "   macro avg       0.83      0.78      0.81    129924\n",
      "weighted avg       0.85      0.85      0.85    129924\n",
      "\n"
     ]
    },
    {
     "data": {
      "image/png": "[encoded data removed]",
      "text/plain": [
       "<Figure size 432x288 with 2 Axes>"
      ]
     },
     "metadata": {
      "needs_background": "light"
     },
     "output_type": "display_data"
    }
   ],
   "source": [
    "f.scoring(y_train, y_pred, gboost, vect_X_train)"
   ]
  },
  {
   "cell_type": "code",
   "execution_count": 24,
   "metadata": {},
   "outputs": [],
   "source": [
    "test_y_pred = gboost.predict(vect_X_test)"
   ]
  },
  {
   "cell_type": "code",
   "execution_count": 25,
   "metadata": {},
   "outputs": [
    {
     "data": {
      "text/plain": [
       "'The accuracy score is: 84.08%'"
      ]
     },
     "execution_count": 25,
     "metadata": {},
     "output_type": "execute_result"
    }
   ],
   "source": [
    "f'The accuracy score is: {round(accuracy_score(y_test, test_y_pred)*100, 2)}%'"
   ]
  },
  {
   "cell_type": "code",
   "execution_count": 26,
   "metadata": {},
   "outputs": [
    {
     "data": {
      "text/plain": [
       "'The recall score is 77.0%'"
      ]
     },
     "execution_count": 26,
     "metadata": {},
     "output_type": "execute_result"
    }
   ],
   "source": [
    "recall_scr = round(recall_score(y_test, test_y_pred, average='macro'), 2) * 100\n",
    "f'The recall score is {recall_scr}%'"
   ]
  },
  {
   "cell_type": "code",
   "execution_count": 27,
   "metadata": {},
   "outputs": [
    {
     "name": "stdout",
     "output_type": "stream",
     "text": [
      "Accuracy: 84.1%\n",
      "Precision: 82.3%\n",
      "Recall: 77.5%\n",
      "F1: 79.7%\n",
      "\n",
      "\n",
      "Classification Report\n",
      "\n",
      "\n",
      "              precision    recall  f1-score   support\n",
      "\n",
      "           0       0.86      0.93      0.89     18159\n",
      "           1       0.78      0.66      0.72      4601\n",
      "           2       0.84      0.77      0.80      3810\n",
      "           3       0.79      0.70      0.74      3200\n",
      "           4       0.85      0.81      0.83      2711\n",
      "\n",
      "    accuracy                           0.84     32481\n",
      "   macro avg       0.82      0.77      0.80     32481\n",
      "weighted avg       0.84      0.84      0.84     32481\n",
      "\n"
     ]
    },
    {
     "data": {
      "image/png": "[encoded data removed]",
      "text/plain": [
       "<Figure size 432x288 with 2 Axes>"
      ]
     },
     "metadata": {
      "needs_background": "light"
     },
     "output_type": "display_data"
    }
   ],
   "source": [
    "f.scoring(y_test, test_y_pred, gboost, vect_X_test)"
   ]
  },
  {
   "cell_type": "markdown",
   "metadata": {},
   "source": [
    "# XGBoost"
   ]
  },
  {
   "cell_type": "code",
   "execution_count": 47,
   "metadata": {},
   "outputs": [],
   "source": [
    "xgb = XGBClassifier()"
   ]
  },
  {
   "cell_type": "code",
   "execution_count": 48,
   "metadata": {},
   "outputs": [
    {
     "data": {
      "text/plain": [
       "XGBClassifier(objective='multi:softprob')"
      ]
     },
     "execution_count": 48,
     "metadata": {},
     "output_type": "execute_result"
    }
   ],
   "source": [
    "xgb.fit(vect_X_train, y_train)"
   ]
  },
  {
   "cell_type": "code",
   "execution_count": 49,
   "metadata": {},
   "outputs": [
    {
     "data": {
      "text/plain": [
       "'The accuracy score is: 83.28%'"
      ]
     },
     "execution_count": 49,
     "metadata": {},
     "output_type": "execute_result"
    }
   ],
   "source": [
    "y_pred = xgb.predict(vect_X_train)\n",
    "f'The accuracy score is: {round(accuracy_score(y_train, y_pred)*100, 2)}%'"
   ]
  },
  {
   "cell_type": "code",
   "execution_count": 50,
   "metadata": {},
   "outputs": [
    {
     "name": "stdout",
     "output_type": "stream",
     "text": [
      "Accuracy: 83.3%\n",
      "Precision: 81.5%\n",
      "Recall: 76.0%\n",
      "F1: 78.5%\n",
      "\n",
      "\n",
      "Classification Report\n",
      "\n",
      "\n",
      "              precision    recall  f1-score   support\n",
      "\n",
      "           0       0.85      0.93      0.89     73012\n",
      "           1       0.78      0.64      0.70     18544\n",
      "           2       0.84      0.76      0.80     15180\n",
      "           3       0.77      0.68      0.72     12364\n",
      "           4       0.84      0.79      0.82     10824\n",
      "\n",
      "    accuracy                           0.83    129924\n",
      "   macro avg       0.82      0.76      0.78    129924\n",
      "weighted avg       0.83      0.83      0.83    129924\n",
      "\n"
     ]
    },
    {
     "data": {
      "image/png": "[encoded data removed]",
      "text/plain": [
       "<Figure size 432x288 with 2 Axes>"
      ]
     },
     "metadata": {
      "needs_background": "light"
     },
     "output_type": "display_data"
    }
   ],
   "source": [
    "f.scoring(y_train, y_pred, xgb, vect_X_train)"
   ]
  },
  {
   "cell_type": "code",
   "execution_count": 51,
   "metadata": {},
   "outputs": [],
   "source": [
    "test_y_pred = xgb.predict(vect_X_test)"
   ]
  },
  {
   "cell_type": "code",
   "execution_count": 52,
   "metadata": {},
   "outputs": [
    {
     "data": {
      "text/plain": [
       "'The accuracy score is: 82.77%'"
      ]
     },
     "execution_count": 52,
     "metadata": {},
     "output_type": "execute_result"
    }
   ],
   "source": [
    "f'The accuracy score is: {round(accuracy_score(y_test, test_y_pred)*100, 2)}%'"
   ]
  },
  {
   "cell_type": "code",
   "execution_count": 53,
   "metadata": {},
   "outputs": [
    {
     "data": {
      "text/plain": [
       "'The recall score is 76.0%'"
      ]
     },
     "execution_count": 53,
     "metadata": {},
     "output_type": "execute_result"
    }
   ],
   "source": [
    "recall_scr = round(recall_score(y_test, test_y_pred, average='macro'), 2) * 100\n",
    "f'The recall score is {recall_scr}%'"
   ]
  },
  {
   "cell_type": "code",
   "execution_count": 54,
   "metadata": {},
   "outputs": [
    {
     "name": "stdout",
     "output_type": "stream",
     "text": [
      "Accuracy: 82.8%\n",
      "Precision: 80.8%\n",
      "Recall: 75.5%\n",
      "F1: 77.9%\n",
      "\n",
      "\n",
      "Classification Report\n",
      "\n",
      "\n",
      "              precision    recall  f1-score   support\n",
      "\n",
      "           0       0.85      0.92      0.88     18159\n",
      "           1       0.76      0.64      0.70      4601\n",
      "           2       0.83      0.76      0.79      3810\n",
      "           3       0.78      0.67      0.72      3200\n",
      "           4       0.83      0.78      0.80      2711\n",
      "\n",
      "    accuracy                           0.83     32481\n",
      "   macro avg       0.81      0.76      0.78     32481\n",
      "weighted avg       0.82      0.83      0.82     32481\n",
      "\n"
     ]
    },
    {
     "data": {
      "image/png": "[encoded data removed]",
      "text/plain": [
       "<Figure size 432x288 with 2 Axes>"
      ]
     },
     "metadata": {
      "needs_background": "light"
     },
     "output_type": "display_data"
    }
   ],
   "source": [
    "f.scoring(y_test, test_y_pred, xgb, vect_X_test)"
   ]
  },
  {
   "cell_type": "markdown",
   "metadata": {},
   "source": [
    "# Comparing models"
   ]
  },
  {
   "cell_type": "markdown",
   "metadata": {},
   "source": [
    "| model             | train accuracy | test accuracy | train recall macro | test recall macro | accuracy difference | recall macro difference | Notes                                                                                                                       |\n",
    "|-------------------|----------------|---------------|--------------------|-------------------|---------------------|-------------------------|-----------------------------------------------------------------------------------------------------------------------------|\n",
    "| MutlinomialNB     | 72             | 67            | 58                 | 47                | 5                   | 11                      | Many individual categories had poor recall. Model favors class with most data points. Any refinements would need weighting. |\n",
    "| RandomForest      | 58             | 57            | 23                 | 22                | 1                   | 1                       | Well fitted, but not great performance. Model favors class with most data points.                                           |\n",
    "| DecisionTree      | 90             | 82            | 85                 | 74                | 8                   | 11                      | Good recall with individual categories on train and test. Fitted OK.                                                        |\n",
    "| KNN               | 100            | 81            | 99                 | 74                | 19                  | 25                      | Category recall scores not as good. Poor fit between train & test, class recall scores off. Model takes a long time to run. |\n",
    "| Gradient Boosting | 85             | 84            | 81                 | 80                | 1                   | 1                       | Well fitted. Some classes have so-so recall comparisons. Takes long to run.                                                 |\n",
    "| XGBoost           | 83             | 83            | 78                 | 78                | 0                   | 0                       | Very well fitted. Some classes have so-so recall.                                                                           |"
   ]
  },
  {
   "cell_type": "markdown",
   "metadata": {},
   "source": [
    "**For Refinements**   \n",
    "\n",
    "Gradient Boosting and XGBoost are similar, but Gradient Boosting is a little better. \n",
    "\n",
    "MultinomalNB might do better with SMOTE or `class_weight`. \n",
    "\n",
    "Decision Tree has the best accuracy. Might be worth seeing with refinements"
   ]
  },
  {
   "cell_type": "code",
   "execution_count": null,
   "metadata": {},
   "outputs": [],
   "source": []
  }
 ],
 "metadata": {
  "kernelspec": {
   "display_name": "Python 3",
   "language": "python",
   "name": "python3"
  },
  "language_info": {
   "codemirror_mode": {
    "name": "ipython",
    "version": 3
   },
   "file_extension": ".py",
   "mimetype": "text/x-python",
   "name": "python",
   "nbconvert_exporter": "python",
   "pygments_lexer": "ipython3",
   "version": "3.6.9"
  },
  "varInspector": {
   "cols": {
    "lenName": 16,
    "lenType": 16,
    "lenVar": 40
   },
   "kernels_config": {
    "python": {
     "delete_cmd_postfix": "",
     "delete_cmd_prefix": "del ",
     "library": "var_list.py",
     "varRefreshCmd": "print(var_dic_list())"
    },
    "r": {
     "delete_cmd_postfix": ") ",
     "delete_cmd_prefix": "rm(",
     "library": "var_list.r",
     "varRefreshCmd": "cat(var_dic_list()) "
    }
   },
   "types_to_exclude": [
    "module",
    "function",
    "builtin_function_or_method",
    "instance",
    "_Feature"
   ],
   "window_display": false
  }
 },
 "nbformat": 4,
 "nbformat_minor": 4
}
