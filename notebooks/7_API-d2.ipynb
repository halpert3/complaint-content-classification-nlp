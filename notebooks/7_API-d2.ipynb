{
 "cells": [
  {
   "cell_type": "code",
   "execution_count": 1,
   "metadata": {
    "execution": {
     "iopub.execute_input": "2021-04-16T16:33:03.311691Z",
     "iopub.status.busy": "2021-04-16T16:33:03.305690Z",
     "iopub.status.idle": "2021-04-16T16:33:06.029692Z",
     "shell.execute_reply": "2021-04-16T16:33:06.027692Z",
     "shell.execute_reply.started": "2021-04-16T16:33:03.311691Z"
    }
   },
   "outputs": [],
   "source": [
    "import pandas as pd\n",
    "import requests"
   ]
  },
  {
   "cell_type": "markdown",
   "metadata": {},
   "source": [
    "# Get data from API"
   ]
  },
  {
   "cell_type": "markdown",
   "metadata": {},
   "source": [
    "## Check dates of original dataset"
   ]
  },
  {
   "cell_type": "code",
   "execution_count": 2,
   "metadata": {
    "execution": {
     "iopub.execute_input": "2021-04-16T16:36:35.317042Z",
     "iopub.status.busy": "2021-04-16T16:36:35.315039Z",
     "iopub.status.idle": "2021-04-16T16:36:38.821040Z",
     "shell.execute_reply": "2021-04-16T16:36:38.819038Z",
     "shell.execute_reply.started": "2021-04-16T16:36:35.317042Z"
    }
   },
   "outputs": [],
   "source": [
    "df_orig = pd.read_csv('../project_data/complaints_1.csv')"
   ]
  },
  {
   "cell_type": "code",
   "execution_count": 9,
   "metadata": {
    "execution": {
     "iopub.execute_input": "2021-04-16T16:38:14.921437Z",
     "iopub.status.busy": "2021-04-16T16:38:14.920439Z",
     "iopub.status.idle": "2021-04-16T16:38:14.933439Z",
     "shell.execute_reply": "2021-04-16T16:38:14.932441Z",
     "shell.execute_reply.started": "2021-04-16T16:38:14.921437Z"
    }
   },
   "outputs": [
    {
     "data": {
      "text/plain": [
       "str"
      ]
     },
     "execution_count": 9,
     "metadata": {},
     "output_type": "execute_result"
    }
   ],
   "source": [
    "type(df_orig['Date received'][0])"
   ]
  },
  {
   "cell_type": "markdown",
   "metadata": {},
   "source": [
    "Dates are in string format. Convert to datetime."
   ]
  },
  {
   "cell_type": "code",
   "execution_count": 18,
   "metadata": {
    "execution": {
     "iopub.execute_input": "2021-04-16T16:43:31.045437Z",
     "iopub.status.busy": "2021-04-16T16:43:31.044436Z",
     "iopub.status.idle": "2021-04-16T16:43:31.190437Z",
     "shell.execute_reply": "2021-04-16T16:43:31.189439Z",
     "shell.execute_reply.started": "2021-04-16T16:43:31.045437Z"
    }
   },
   "outputs": [],
   "source": [
    "df_orig.rename(columns={'Date received': 'date'}, inplace=True)\n",
    "\n",
    "df_orig['date'] = pd.to_datetime(df_orig['date'])"
   ]
  },
  {
   "cell_type": "code",
   "execution_count": 21,
   "metadata": {
    "execution": {
     "iopub.execute_input": "2021-04-16T16:44:29.233105Z",
     "iopub.status.busy": "2021-04-16T16:44:29.233105Z",
     "iopub.status.idle": "2021-04-16T16:44:30.133068Z",
     "shell.execute_reply": "2021-04-16T16:44:30.131074Z",
     "shell.execute_reply.started": "2021-04-16T16:44:29.233105Z"
    }
   },
   "outputs": [
    {
     "data": {
      "text/plain": [
       "Timestamp('2020-03-17 00:00:00')"
      ]
     },
     "execution_count": 21,
     "metadata": {},
     "output_type": "execute_result"
    }
   ],
   "source": [
    "min(df_orig['date'])"
   ]
  },
  {
   "cell_type": "code",
   "execution_count": 22,
   "metadata": {
    "execution": {
     "iopub.execute_input": "2021-04-16T16:44:43.209071Z",
     "iopub.status.busy": "2021-04-16T16:44:43.208068Z",
     "iopub.status.idle": "2021-04-16T16:44:43.828065Z",
     "shell.execute_reply": "2021-04-16T16:44:43.827066Z",
     "shell.execute_reply.started": "2021-04-16T16:44:43.209071Z"
    }
   },
   "outputs": [
    {
     "data": {
      "text/plain": [
       "Timestamp('2021-03-01 00:00:00')"
      ]
     },
     "execution_count": 22,
     "metadata": {},
     "output_type": "execute_result"
    }
   ],
   "source": [
    "max(df_orig['date'])"
   ]
  },
  {
   "cell_type": "markdown",
   "metadata": {},
   "source": [
    "The most recent was 2021-03-01"
   ]
  },
  {
   "cell_type": "markdown",
   "metadata": {},
   "source": [
    "## Use API"
   ]
  },
  {
   "cell_type": "markdown",
   "metadata": {},
   "source": [
    "Submit GET request with parameters"
   ]
  },
  {
   "cell_type": "code",
   "execution_count": 23,
   "metadata": {
    "execution": {
     "iopub.execute_input": "2021-04-16T16:47:50.164152Z",
     "iopub.status.busy": "2021-04-16T16:47:50.164152Z",
     "iopub.status.idle": "2021-04-16T16:47:50.644152Z",
     "shell.execute_reply": "2021-04-16T16:47:50.643150Z",
     "shell.execute_reply.started": "2021-04-16T16:47:50.164152Z"
    }
   },
   "outputs": [],
   "source": [
    "url = 'https://www.consumerfinance.gov/data-research/consumer-complaints/search/api/v1/'\n",
    "\n",
    "parameters = {'date_received_min': '2021-03-02',\n",
    "              'has_narrative': True\n",
    "}\n",
    "r = requests.get(url, params=parameters)"
   ]
  },
  {
   "cell_type": "markdown",
   "metadata": {},
   "source": [
    "Make data into a dictionary format"
   ]
  },
  {
   "cell_type": "code",
   "execution_count": 24,
   "metadata": {
    "execution": {
     "iopub.execute_input": "2021-04-16T16:48:49.147878Z",
     "iopub.status.busy": "2021-04-16T16:48:49.146878Z",
     "iopub.status.idle": "2021-04-16T16:48:49.168881Z",
     "shell.execute_reply": "2021-04-16T16:48:49.167879Z",
     "shell.execute_reply.started": "2021-04-16T16:48:49.147878Z"
    }
   },
   "outputs": [],
   "source": [
    "data = r.json()"
   ]
  },
  {
   "cell_type": "code",
   "execution_count": 26,
   "metadata": {
    "execution": {
     "iopub.execute_input": "2021-04-16T16:50:15.498880Z",
     "iopub.status.busy": "2021-04-16T16:50:15.497879Z",
     "iopub.status.idle": "2021-04-16T16:50:15.516877Z",
     "shell.execute_reply": "2021-04-16T16:50:15.514877Z",
     "shell.execute_reply.started": "2021-04-16T16:50:15.498880Z"
    }
   },
   "outputs": [],
   "source": [
    "# Instatiate empty dictionary\n",
    "new_dict = {}\n",
    "\n",
    "# Create empty lists to gather data\n",
    "class_list = []\n",
    "narrative_list = [] \n",
    "\n",
    "# Loop through data and add to dictionary\n",
    "for i in range(len(data['hits']['hits'])):\n",
    "    class_list.append(data['hits']['hits'][i]['_source']['product'])\n",
    "    narrative_list.append(data['hits']['hits'][i]['_source']['complaint_what_happened'])\n",
    "new_dict['class'] = class_list\n",
    "new_dict['narrative'] = narrative_list"
   ]
  },
  {
   "cell_type": "code",
   "execution_count": 29,
   "metadata": {
    "execution": {
     "iopub.execute_input": "2021-04-16T16:51:09.532876Z",
     "iopub.status.busy": "2021-04-16T16:51:09.531877Z",
     "iopub.status.idle": "2021-04-16T16:51:09.571879Z",
     "shell.execute_reply": "2021-04-16T16:51:09.569878Z",
     "shell.execute_reply.started": "2021-04-16T16:51:09.532876Z"
    }
   },
   "outputs": [
    {
     "data": {
      "text/html": [
       "<div>\n",
       "<style scoped>\n",
       "    .dataframe tbody tr th:only-of-type {\n",
       "        vertical-align: middle;\n",
       "    }\n",
       "\n",
       "    .dataframe tbody tr th {\n",
       "        vertical-align: top;\n",
       "    }\n",
       "\n",
       "    .dataframe thead th {\n",
       "        text-align: right;\n",
       "    }\n",
       "</style>\n",
       "<table border=\"1\" class=\"dataframe\">\n",
       "  <thead>\n",
       "    <tr style=\"text-align: right;\">\n",
       "      <th></th>\n",
       "      <th>class</th>\n",
       "      <th>narrative</th>\n",
       "    </tr>\n",
       "  </thead>\n",
       "  <tbody>\n",
       "    <tr>\n",
       "      <th>0</th>\n",
       "      <td>Credit reporting, credit repair services, or o...</td>\n",
       "      <td>I have determined that there are some creditor...</td>\n",
       "    </tr>\n",
       "    <tr>\n",
       "      <th>1</th>\n",
       "      <td>Credit reporting, credit repair services, or o...</td>\n",
       "      <td>On XX/XX/2020, I initially bought some great g...</td>\n",
       "    </tr>\n",
       "    <tr>\n",
       "      <th>2</th>\n",
       "      <td>Credit reporting, credit repair services, or o...</td>\n",
       "      <td>I sent a letter plus I did a dispute but they ...</td>\n",
       "    </tr>\n",
       "    <tr>\n",
       "      <th>3</th>\n",
       "      <td>Checking or savings account</td>\n",
       "      <td>Wells Fargo failed to provide outstanding reli...</td>\n",
       "    </tr>\n",
       "    <tr>\n",
       "      <th>4</th>\n",
       "      <td>Credit reporting, credit repair services, or o...</td>\n",
       "      <td>Wells Fargo continuously reports a late paymen...</td>\n",
       "    </tr>\n",
       "    <tr>\n",
       "      <th>5</th>\n",
       "      <td>Checking or savings account</td>\n",
       "      <td>Bank account open that i have no knowledge of ...</td>\n",
       "    </tr>\n",
       "    <tr>\n",
       "      <th>6</th>\n",
       "      <td>Credit reporting, credit repair services, or o...</td>\n",
       "      <td>I signed up for PayPal Credit in XXXX and was ...</td>\n",
       "    </tr>\n",
       "    <tr>\n",
       "      <th>7</th>\n",
       "      <td>Mortgage</td>\n",
       "      <td>CFPB : FILING AN OFFICIAL COMPLAINT REGARDING ...</td>\n",
       "    </tr>\n",
       "    <tr>\n",
       "      <th>8</th>\n",
       "      <td>Credit reporting, credit repair services, or o...</td>\n",
       "      <td>XXXX account was paid after it was sent into c...</td>\n",
       "    </tr>\n",
       "    <tr>\n",
       "      <th>9</th>\n",
       "      <td>Credit reporting, credit repair services, or o...</td>\n",
       "      <td>I did not authorize anyone employed by these c...</td>\n",
       "    </tr>\n",
       "  </tbody>\n",
       "</table>\n",
       "</div>"
      ],
      "text/plain": [
       "                                               class  \\\n",
       "0  Credit reporting, credit repair services, or o...   \n",
       "1  Credit reporting, credit repair services, or o...   \n",
       "2  Credit reporting, credit repair services, or o...   \n",
       "3                        Checking or savings account   \n",
       "4  Credit reporting, credit repair services, or o...   \n",
       "5                        Checking or savings account   \n",
       "6  Credit reporting, credit repair services, or o...   \n",
       "7                                           Mortgage   \n",
       "8  Credit reporting, credit repair services, or o...   \n",
       "9  Credit reporting, credit repair services, or o...   \n",
       "\n",
       "                                           narrative  \n",
       "0  I have determined that there are some creditor...  \n",
       "1  On XX/XX/2020, I initially bought some great g...  \n",
       "2  I sent a letter plus I did a dispute but they ...  \n",
       "3  Wells Fargo failed to provide outstanding reli...  \n",
       "4  Wells Fargo continuously reports a late paymen...  \n",
       "5  Bank account open that i have no knowledge of ...  \n",
       "6  I signed up for PayPal Credit in XXXX and was ...  \n",
       "7  CFPB : FILING AN OFFICIAL COMPLAINT REGARDING ...  \n",
       "8  XXXX account was paid after it was sent into c...  \n",
       "9  I did not authorize anyone employed by these c...  "
      ]
     },
     "execution_count": 29,
     "metadata": {},
     "output_type": "execute_result"
    }
   ],
   "source": [
    "df = pd.DataFrame.from_dict(new_dict)\n",
    "df"
   ]
  },
  {
   "cell_type": "code",
   "execution_count": null,
   "metadata": {},
   "outputs": [],
   "source": []
  }
 ],
 "metadata": {
  "kernelspec": {
   "display_name": "Python 3",
   "language": "python",
   "name": "python3"
  },
  "language_info": {
   "codemirror_mode": {
    "name": "ipython",
    "version": 3
   },
   "file_extension": ".py",
   "mimetype": "text/x-python",
   "name": "python",
   "nbconvert_exporter": "python",
   "pygments_lexer": "ipython3",
   "version": "3.6.9"
  }
 },
 "nbformat": 4,
 "nbformat_minor": 4
}
