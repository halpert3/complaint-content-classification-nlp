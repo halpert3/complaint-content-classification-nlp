{
 "cells": [
  {
   "cell_type": "markdown",
   "metadata": {},
   "source": [
    "# Import libraries"
   ]
  },
  {
   "cell_type": "code",
   "execution_count": 1,
   "metadata": {
    "execution": {
     "iopub.execute_input": "2021-04-21T21:10:08.489741Z",
     "iopub.status.busy": "2021-04-21T21:10:08.489741Z",
     "iopub.status.idle": "2021-04-21T21:10:20.946626Z",
     "shell.execute_reply": "2021-04-21T21:10:20.944622Z",
     "shell.execute_reply.started": "2021-04-21T21:10:08.489741Z"
    }
   },
   "outputs": [],
   "source": [
    "import pandas as pd\n",
    "from sklearn.naive_bayes import MultinomialNB\n",
    "from sklearn.ensemble import GradientBoostingClassifier\n",
    "from sklearn.feature_extraction.text import TfidfVectorizer, CountVectorizer\n",
    "from sklearn.model_selection import train_test_split\n",
    "\n",
    "from scoring_functions import process_api_functions as api_func, scoring_functions as f\n",
    "\n",
    "# imp allows to reload the above function files when tinkering with it without kernel restart\n",
    "import imp"
   ]
  },
  {
   "cell_type": "markdown",
   "metadata": {
    "execution": {
     "iopub.execute_input": "2021-04-19T19:41:13.451916Z",
     "iopub.status.busy": "2021-04-19T19:41:13.450911Z",
     "iopub.status.idle": "2021-04-19T19:41:13.465919Z",
     "shell.execute_reply": "2021-04-19T19:41:13.463912Z",
     "shell.execute_reply.started": "2021-04-19T19:41:13.451916Z"
    }
   },
   "source": [
    "# Get data from API and process"
   ]
  },
  {
   "cell_type": "markdown",
   "metadata": {},
   "source": [
    "Function is `api_func.download_and_process_api_data(date, size)`.  \n",
    "- Date needs to be formatted as 'YYYY-MM-DD' string -- '2021-03-02' -- and function will get data from that date forward.  \n",
    "- API allows max size of 1000 per call.   \n",
    "- Function will remove stopwords from narrative, lemmatize, etc. and turn into dataframe in order to work with machine learning models previously used.   \n"
   ]
  },
  {
   "cell_type": "markdown",
   "metadata": {},
   "source": [
    "## Testing"
   ]
  },
  {
   "cell_type": "code",
   "execution_count": 2,
   "metadata": {
    "execution": {
     "iopub.execute_input": "2021-04-21T21:32:26.789782Z",
     "iopub.status.busy": "2021-04-21T21:32:26.776755Z",
     "iopub.status.idle": "2021-04-21T21:32:31.429759Z",
     "shell.execute_reply": "2021-04-21T21:32:31.428759Z",
     "shell.execute_reply.started": "2021-04-21T21:32:26.787755Z"
    },
    "scrolled": true
   },
   "outputs": [
    {
     "data": {
      "text/html": [
       "<div>\n",
       "<style scoped>\n",
       "    .dataframe tbody tr th:only-of-type {\n",
       "        vertical-align: middle;\n",
       "    }\n",
       "\n",
       "    .dataframe tbody tr th {\n",
       "        vertical-align: top;\n",
       "    }\n",
       "\n",
       "    .dataframe thead th {\n",
       "        text-align: right;\n",
       "    }\n",
       "</style>\n",
       "<table border=\"1\" class=\"dataframe\">\n",
       "  <thead>\n",
       "    <tr style=\"text-align: right;\">\n",
       "      <th></th>\n",
       "      <th>product</th>\n",
       "      <th>narrative</th>\n",
       "    </tr>\n",
       "  </thead>\n",
       "  <tbody>\n",
       "    <tr>\n",
       "      <th>0</th>\n",
       "      <td>0</td>\n",
       "      <td>determined creditor listed credit report belon...</td>\n",
       "    </tr>\n",
       "    <tr>\n",
       "      <th>1</th>\n",
       "      <td>0</td>\n",
       "      <td>initially bought great gear love thought paid ...</td>\n",
       "    </tr>\n",
       "    <tr>\n",
       "      <th>2</th>\n",
       "      <td>0</td>\n",
       "      <td>sent letter plus dispute keep putting address ...</td>\n",
       "    </tr>\n",
       "    <tr>\n",
       "      <th>3</th>\n",
       "      <td>4</td>\n",
       "      <td>well fargo failed provide outstanding relief a...</td>\n",
       "    </tr>\n",
       "    <tr>\n",
       "      <th>4</th>\n",
       "      <td>0</td>\n",
       "      <td>department education showing account open past...</td>\n",
       "    </tr>\n",
       "    <tr>\n",
       "      <th>5</th>\n",
       "      <td>0</td>\n",
       "      <td>well fargo continuously report late payment ac...</td>\n",
       "    </tr>\n",
       "    <tr>\n",
       "      <th>6</th>\n",
       "      <td>4</td>\n",
       "      <td>bank account open knowledge opening fraudulent...</td>\n",
       "    </tr>\n",
       "    <tr>\n",
       "      <th>7</th>\n",
       "      <td>0</td>\n",
       "      <td>ally auto may concern writing letter regard la...</td>\n",
       "    </tr>\n",
       "    <tr>\n",
       "      <th>8</th>\n",
       "      <td>0</td>\n",
       "      <td>signed paypal credit given line credit worth t...</td>\n",
       "    </tr>\n",
       "    <tr>\n",
       "      <th>9</th>\n",
       "      <td>2</td>\n",
       "      <td>cfpb filing official complaint regarding mortg...</td>\n",
       "    </tr>\n",
       "    <tr>\n",
       "      <th>10</th>\n",
       "      <td>0</td>\n",
       "      <td>account paid sent keep reporting owe called ge...</td>\n",
       "    </tr>\n",
       "    <tr>\n",
       "      <th>11</th>\n",
       "      <td>2</td>\n",
       "      <td>today closing date first ever refinance family...</td>\n",
       "    </tr>\n",
       "    <tr>\n",
       "      <th>12</th>\n",
       "      <td>0</td>\n",
       "      <td>authorize anyone employed company make inquiry...</td>\n",
       "    </tr>\n",
       "    <tr>\n",
       "      <th>13</th>\n",
       "      <td>1</td>\n",
       "      <td>rma credit claiming owe recognize debt please ...</td>\n",
       "    </tr>\n",
       "    <tr>\n",
       "      <th>14</th>\n",
       "      <td>0</td>\n",
       "      <td>inquiry credit report belong inquired need rep...</td>\n",
       "    </tr>\n",
       "    <tr>\n",
       "      <th>15</th>\n",
       "      <td>2</td>\n",
       "      <td>looking refinance home loan rate low afford ri...</td>\n",
       "    </tr>\n",
       "    <tr>\n",
       "      <th>16</th>\n",
       "      <td>0</td>\n",
       "      <td>contact credit reporting bureau asked provide ...</td>\n",
       "    </tr>\n",
       "    <tr>\n",
       "      <th>17</th>\n",
       "      <td>2</td>\n",
       "      <td>transaction id case since initial complaint re...</td>\n",
       "    </tr>\n",
       "    <tr>\n",
       "      <th>18</th>\n",
       "      <td>0</td>\n",
       "      <td>filed dispute regard incorrect item credit rep...</td>\n",
       "    </tr>\n",
       "    <tr>\n",
       "      <th>19</th>\n",
       "      <td>3</td>\n",
       "      <td>received paypal credit card wife deceased many...</td>\n",
       "    </tr>\n",
       "    <tr>\n",
       "      <th>20</th>\n",
       "      <td>2</td>\n",
       "      <td>paid mortgage amount payoff said official payo...</td>\n",
       "    </tr>\n",
       "    <tr>\n",
       "      <th>21</th>\n",
       "      <td>1</td>\n",
       "      <td>schoolsfirst fcu violated continuing collectio...</td>\n",
       "    </tr>\n",
       "    <tr>\n",
       "      <th>22</th>\n",
       "      <td>0</td>\n",
       "      <td>complaint granite bay acceptance co ca company...</td>\n",
       "    </tr>\n",
       "    <tr>\n",
       "      <th>23</th>\n",
       "      <td>1</td>\n",
       "      <td>called professional debt mediation informed de...</td>\n",
       "    </tr>\n",
       "    <tr>\n",
       "      <th>24</th>\n",
       "      <td>1</td>\n",
       "      <td>hi im sure take anymore ive disputed account s...</td>\n",
       "    </tr>\n",
       "    <tr>\n",
       "      <th>25</th>\n",
       "      <td>0</td>\n",
       "      <td>amazon store credit card open back purchase ma...</td>\n",
       "    </tr>\n",
       "    <tr>\n",
       "      <th>26</th>\n",
       "      <td>4</td>\n",
       "      <td>called number came back well fargo unauthorize...</td>\n",
       "    </tr>\n",
       "    <tr>\n",
       "      <th>27</th>\n",
       "      <td>3</td>\n",
       "      <td>purchased antioxidizer enagic mighty antioxidi...</td>\n",
       "    </tr>\n",
       "    <tr>\n",
       "      <th>28</th>\n",
       "      <td>1</td>\n",
       "      <td>attentively review formal writ composed declar...</td>\n",
       "    </tr>\n",
       "    <tr>\n",
       "      <th>29</th>\n",
       "      <td>0</td>\n",
       "      <td>experian credit bureau displaying first name p...</td>\n",
       "    </tr>\n",
       "    <tr>\n",
       "      <th>30</th>\n",
       "      <td>0</td>\n",
       "      <td>contacted citi bank make payment prevent accou...</td>\n",
       "    </tr>\n",
       "    <tr>\n",
       "      <th>31</th>\n",
       "      <td>0</td>\n",
       "      <td>account listed error fraud account hurting cre...</td>\n",
       "    </tr>\n",
       "    <tr>\n",
       "      <th>32</th>\n",
       "      <td>3</td>\n",
       "      <td>credit card credit union name card servicer el...</td>\n",
       "    </tr>\n",
       "    <tr>\n",
       "      <th>33</th>\n",
       "      <td>1</td>\n",
       "      <td>ten year illegally tried foreclose home work s...</td>\n",
       "    </tr>\n",
       "    <tr>\n",
       "      <th>34</th>\n",
       "      <td>3</td>\n",
       "      <td>purchased appliance best buy yr interest contr...</td>\n",
       "    </tr>\n",
       "    <tr>\n",
       "      <th>35</th>\n",
       "      <td>0</td>\n",
       "      <td>looking credit report lot fraudulent account a...</td>\n",
       "    </tr>\n",
       "    <tr>\n",
       "      <th>36</th>\n",
       "      <td>1</td>\n",
       "      <td>received collection bill know nothing never re...</td>\n",
       "    </tr>\n",
       "    <tr>\n",
       "      <th>37</th>\n",
       "      <td>4</td>\n",
       "      <td>usaa bank fraud account impersonating represen...</td>\n",
       "    </tr>\n",
       "    <tr>\n",
       "      <th>38</th>\n",
       "      <td>1</td>\n",
       "      <td>agency debt collection license virginia please...</td>\n",
       "    </tr>\n",
       "    <tr>\n",
       "      <th>39</th>\n",
       "      <td>0</td>\n",
       "      <td>disputing inaccurate information experian repl...</td>\n",
       "    </tr>\n",
       "    <tr>\n",
       "      <th>40</th>\n",
       "      <td>2</td>\n",
       "      <td>turned leased dealership lease u dealership gr...</td>\n",
       "    </tr>\n",
       "    <tr>\n",
       "      <th>41</th>\n",
       "      <td>4</td>\n",
       "      <td>name laid roofer year due weather ne work home...</td>\n",
       "    </tr>\n",
       "    <tr>\n",
       "      <th>42</th>\n",
       "      <td>4</td>\n",
       "      <td>received notice synchrony bank florida letter ...</td>\n",
       "    </tr>\n",
       "    <tr>\n",
       "      <th>43</th>\n",
       "      <td>0</td>\n",
       "      <td>viewed credit report noticed account never app...</td>\n",
       "    </tr>\n",
       "    <tr>\n",
       "      <th>44</th>\n",
       "      <td>2</td>\n",
       "      <td>applied small car loan obtaining day job made ...</td>\n",
       "    </tr>\n",
       "    <tr>\n",
       "      <th>45</th>\n",
       "      <td>3</td>\n",
       "      <td>credit card citicard costco company reduced cr...</td>\n",
       "    </tr>\n",
       "    <tr>\n",
       "      <th>46</th>\n",
       "      <td>0</td>\n",
       "      <td>sent certified letter transunion inquiry remov...</td>\n",
       "    </tr>\n",
       "    <tr>\n",
       "      <th>47</th>\n",
       "      <td>3</td>\n",
       "      <td>see multiple day late mark clear violation rig...</td>\n",
       "    </tr>\n",
       "    <tr>\n",
       "      <th>48</th>\n",
       "      <td>4</td>\n",
       "      <td>company let bad day notify bank transfer went ...</td>\n",
       "    </tr>\n",
       "    <tr>\n",
       "      <th>49</th>\n",
       "      <td>2</td>\n",
       "      <td>period thru home lender citi mortgage put loan...</td>\n",
       "    </tr>\n",
       "  </tbody>\n",
       "</table>\n",
       "</div>"
      ],
      "text/plain": [
       "    product                                          narrative\n",
       "0         0  determined creditor listed credit report belon...\n",
       "1         0  initially bought great gear love thought paid ...\n",
       "2         0  sent letter plus dispute keep putting address ...\n",
       "3         4  well fargo failed provide outstanding relief a...\n",
       "4         0  department education showing account open past...\n",
       "5         0  well fargo continuously report late payment ac...\n",
       "6         4  bank account open knowledge opening fraudulent...\n",
       "7         0  ally auto may concern writing letter regard la...\n",
       "8         0  signed paypal credit given line credit worth t...\n",
       "9         2  cfpb filing official complaint regarding mortg...\n",
       "10        0  account paid sent keep reporting owe called ge...\n",
       "11        2  today closing date first ever refinance family...\n",
       "12        0  authorize anyone employed company make inquiry...\n",
       "13        1  rma credit claiming owe recognize debt please ...\n",
       "14        0  inquiry credit report belong inquired need rep...\n",
       "15        2  looking refinance home loan rate low afford ri...\n",
       "16        0  contact credit reporting bureau asked provide ...\n",
       "17        2  transaction id case since initial complaint re...\n",
       "18        0  filed dispute regard incorrect item credit rep...\n",
       "19        3  received paypal credit card wife deceased many...\n",
       "20        2  paid mortgage amount payoff said official payo...\n",
       "21        1  schoolsfirst fcu violated continuing collectio...\n",
       "22        0  complaint granite bay acceptance co ca company...\n",
       "23        1  called professional debt mediation informed de...\n",
       "24        1  hi im sure take anymore ive disputed account s...\n",
       "25        0  amazon store credit card open back purchase ma...\n",
       "26        4  called number came back well fargo unauthorize...\n",
       "27        3  purchased antioxidizer enagic mighty antioxidi...\n",
       "28        1  attentively review formal writ composed declar...\n",
       "29        0  experian credit bureau displaying first name p...\n",
       "30        0  contacted citi bank make payment prevent accou...\n",
       "31        0  account listed error fraud account hurting cre...\n",
       "32        3  credit card credit union name card servicer el...\n",
       "33        1  ten year illegally tried foreclose home work s...\n",
       "34        3  purchased appliance best buy yr interest contr...\n",
       "35        0  looking credit report lot fraudulent account a...\n",
       "36        1  received collection bill know nothing never re...\n",
       "37        4  usaa bank fraud account impersonating represen...\n",
       "38        1  agency debt collection license virginia please...\n",
       "39        0  disputing inaccurate information experian repl...\n",
       "40        2  turned leased dealership lease u dealership gr...\n",
       "41        4  name laid roofer year due weather ne work home...\n",
       "42        4  received notice synchrony bank florida letter ...\n",
       "43        0  viewed credit report noticed account never app...\n",
       "44        2  applied small car loan obtaining day job made ...\n",
       "45        3  credit card citicard costco company reduced cr...\n",
       "46        0  sent certified letter transunion inquiry remov...\n",
       "47        3  see multiple day late mark clear violation rig...\n",
       "48        4  company let bad day notify bank transfer went ...\n",
       "49        2  period thru home lender citi mortgage put loan..."
      ]
     },
     "execution_count": 2,
     "metadata": {},
     "output_type": "execute_result"
    }
   ],
   "source": [
    "imp.reload(api_func)\n",
    "api_func.download_and_process_api_data('2021-03-02', 50)"
   ]
  },
  {
   "cell_type": "markdown",
   "metadata": {},
   "source": [
    "## Get data to use for modeling"
   ]
  },
  {
   "cell_type": "code",
   "execution_count": 3,
   "metadata": {
    "execution": {
     "iopub.execute_input": "2021-04-21T21:32:35.383198Z",
     "iopub.status.busy": "2021-04-21T21:32:35.382211Z",
     "iopub.status.idle": "2021-04-21T21:32:39.973196Z",
     "shell.execute_reply": "2021-04-21T21:32:39.972196Z",
     "shell.execute_reply.started": "2021-04-21T21:32:35.383198Z"
    }
   },
   "outputs": [],
   "source": [
    "api_df = api_func.download_and_process_api_data('2021-03-05', 1000)"
   ]
  },
  {
   "cell_type": "code",
   "execution_count": 4,
   "metadata": {
    "execution": {
     "iopub.execute_input": "2021-04-21T21:32:39.975196Z",
     "iopub.status.busy": "2021-04-21T21:32:39.975196Z",
     "iopub.status.idle": "2021-04-21T21:32:39.990198Z",
     "shell.execute_reply": "2021-04-21T21:32:39.987203Z",
     "shell.execute_reply.started": "2021-04-21T21:32:39.975196Z"
    }
   },
   "outputs": [
    {
     "data": {
      "text/plain": [
       "1000"
      ]
     },
     "execution_count": 4,
     "metadata": {},
     "output_type": "execute_result"
    }
   ],
   "source": [
    "len(api_df)"
   ]
  },
  {
   "cell_type": "code",
   "execution_count": 5,
   "metadata": {
    "execution": {
     "iopub.execute_input": "2021-04-21T21:32:39.997199Z",
     "iopub.status.busy": "2021-04-21T21:32:39.996202Z",
     "iopub.status.idle": "2021-04-21T21:32:40.037200Z",
     "shell.execute_reply": "2021-04-21T21:32:40.035200Z",
     "shell.execute_reply.started": "2021-04-21T21:32:39.997199Z"
    }
   },
   "outputs": [
    {
     "data": {
      "text/html": [
       "<div>\n",
       "<style scoped>\n",
       "    .dataframe tbody tr th:only-of-type {\n",
       "        vertical-align: middle;\n",
       "    }\n",
       "\n",
       "    .dataframe tbody tr th {\n",
       "        vertical-align: top;\n",
       "    }\n",
       "\n",
       "    .dataframe thead th {\n",
       "        text-align: right;\n",
       "    }\n",
       "</style>\n",
       "<table border=\"1\" class=\"dataframe\">\n",
       "  <thead>\n",
       "    <tr style=\"text-align: right;\">\n",
       "      <th></th>\n",
       "      <th>product</th>\n",
       "      <th>narrative</th>\n",
       "    </tr>\n",
       "  </thead>\n",
       "  <tbody>\n",
       "    <tr>\n",
       "      <th>995</th>\n",
       "      <td>0</td>\n",
       "      <td>experian notified victim identify theft</td>\n",
       "    </tr>\n",
       "    <tr>\n",
       "      <th>996</th>\n",
       "      <td>0</td>\n",
       "      <td>information processed correctly advised last p...</td>\n",
       "    </tr>\n",
       "    <tr>\n",
       "      <th>997</th>\n",
       "      <td>0</td>\n",
       "      <td>experian added derogatory mark credit report p...</td>\n",
       "    </tr>\n",
       "    <tr>\n",
       "      <th>998</th>\n",
       "      <td>0</td>\n",
       "      <td>request processed online maintains name variat...</td>\n",
       "    </tr>\n",
       "    <tr>\n",
       "      <th>999</th>\n",
       "      <td>3</td>\n",
       "      <td>synchrony bank continues discriminate lower cr...</td>\n",
       "    </tr>\n",
       "  </tbody>\n",
       "</table>\n",
       "</div>"
      ],
      "text/plain": [
       "     product                                          narrative\n",
       "995        0            experian notified victim identify theft\n",
       "996        0  information processed correctly advised last p...\n",
       "997        0  experian added derogatory mark credit report p...\n",
       "998        0  request processed online maintains name variat...\n",
       "999        3  synchrony bank continues discriminate lower cr..."
      ]
     },
     "execution_count": 5,
     "metadata": {},
     "output_type": "execute_result"
    }
   ],
   "source": [
    "api_df.tail()"
   ]
  },
  {
   "cell_type": "markdown",
   "metadata": {},
   "source": [
    "# Run Naive Bayes model with API data"
   ]
  },
  {
   "cell_type": "markdown",
   "metadata": {
    "execution": {
     "iopub.execute_input": "2021-04-19T20:30:09.743248Z",
     "iopub.status.busy": "2021-04-19T20:30:09.742248Z",
     "iopub.status.idle": "2021-04-19T20:30:09.762254Z",
     "shell.execute_reply": "2021-04-19T20:30:09.760253Z",
     "shell.execute_reply.started": "2021-04-19T20:30:09.743248Z"
    }
   },
   "source": [
    "## Load primary data"
   ]
  },
  {
   "cell_type": "code",
   "execution_count": 6,
   "metadata": {
    "execution": {
     "iopub.execute_input": "2021-04-21T21:32:42.879197Z",
     "iopub.status.busy": "2021-04-21T21:32:42.878199Z",
     "iopub.status.idle": "2021-04-21T21:32:45.675984Z",
     "shell.execute_reply": "2021-04-21T21:32:45.672982Z",
     "shell.execute_reply.started": "2021-04-21T21:32:42.879197Z"
    }
   },
   "outputs": [],
   "source": [
    "# read datafile\n",
    "df = pd.read_csv('../project_data/complaints_processed.csv')\n",
    "\n",
    "# clean up by removing NaN's, etc.\n",
    "df.drop(['Unnamed: 0'], axis=1, inplace=True)\n",
    "\n",
    "df = df.dropna()\n",
    "df.drop(df.loc[df['narrative'] == 'name'].index, inplace=True)\n",
    "\n",
    "# replace class names with integers\n",
    "product_dict ={'credit_reporting': 0, 'debt_collection': 1, 'mortgages_and_loans': 2, \n",
    "               'credit_card': 3, 'retail_banking': 4}\n",
    "df['product'].replace(product_dict, inplace=True)"
   ]
  },
  {
   "cell_type": "code",
   "execution_count": 7,
   "metadata": {
    "execution": {
     "iopub.execute_input": "2021-04-21T21:32:48.952984Z",
     "iopub.status.busy": "2021-04-21T21:32:48.952984Z",
     "iopub.status.idle": "2021-04-21T21:32:48.965983Z",
     "shell.execute_reply": "2021-04-21T21:32:48.964983Z",
     "shell.execute_reply.started": "2021-04-21T21:32:48.952984Z"
    }
   },
   "outputs": [
    {
     "data": {
      "text/html": [
       "<div>\n",
       "<style scoped>\n",
       "    .dataframe tbody tr th:only-of-type {\n",
       "        vertical-align: middle;\n",
       "    }\n",
       "\n",
       "    .dataframe tbody tr th {\n",
       "        vertical-align: top;\n",
       "    }\n",
       "\n",
       "    .dataframe thead th {\n",
       "        text-align: right;\n",
       "    }\n",
       "</style>\n",
       "<table border=\"1\" class=\"dataframe\">\n",
       "  <thead>\n",
       "    <tr style=\"text-align: right;\">\n",
       "      <th></th>\n",
       "      <th>product</th>\n",
       "      <th>narrative</th>\n",
       "    </tr>\n",
       "  </thead>\n",
       "  <tbody>\n",
       "    <tr>\n",
       "      <th>0</th>\n",
       "      <td>3</td>\n",
       "      <td>purchase order day shipping amount receive pro...</td>\n",
       "    </tr>\n",
       "    <tr>\n",
       "      <th>1</th>\n",
       "      <td>3</td>\n",
       "      <td>forwarded message date tue subject please inve...</td>\n",
       "    </tr>\n",
       "    <tr>\n",
       "      <th>2</th>\n",
       "      <td>4</td>\n",
       "      <td>forwarded message cc sent friday pdt subject f...</td>\n",
       "    </tr>\n",
       "    <tr>\n",
       "      <th>3</th>\n",
       "      <td>0</td>\n",
       "      <td>payment history missing credit report speciali...</td>\n",
       "    </tr>\n",
       "    <tr>\n",
       "      <th>4</th>\n",
       "      <td>0</td>\n",
       "      <td>payment history missing credit report made mis...</td>\n",
       "    </tr>\n",
       "  </tbody>\n",
       "</table>\n",
       "</div>"
      ],
      "text/plain": [
       "   product                                          narrative\n",
       "0        3  purchase order day shipping amount receive pro...\n",
       "1        3  forwarded message date tue subject please inve...\n",
       "2        4  forwarded message cc sent friday pdt subject f...\n",
       "3        0  payment history missing credit report speciali...\n",
       "4        0  payment history missing credit report made mis..."
      ]
     },
     "execution_count": 7,
     "metadata": {},
     "output_type": "execute_result"
    }
   ],
   "source": [
    "df.head()"
   ]
  },
  {
   "cell_type": "markdown",
   "metadata": {},
   "source": [
    "## Divide data into narratives and targets"
   ]
  },
  {
   "cell_type": "markdown",
   "metadata": {},
   "source": [
    "Dividing up data as it was done when building the model in the last notebook. Will be using the API data as \"test\" for comparison."
   ]
  },
  {
   "cell_type": "code",
   "execution_count": 8,
   "metadata": {
    "execution": {
     "iopub.execute_input": "2021-04-21T21:32:52.958202Z",
     "iopub.status.busy": "2021-04-21T21:32:52.958202Z",
     "iopub.status.idle": "2021-04-21T21:32:53.045204Z",
     "shell.execute_reply": "2021-04-21T21:32:53.044200Z",
     "shell.execute_reply.started": "2021-04-21T21:32:52.958202Z"
    }
   },
   "outputs": [],
   "source": [
    "X = df.drop(['product'], axis=1)\n",
    "y = df['product']\n",
    "\n",
    "main_X, _, main_y, _ = train_test_split(X['narrative'], y, test_size=0.20, random_state=200)"
   ]
  },
  {
   "cell_type": "code",
   "execution_count": 9,
   "metadata": {
    "execution": {
     "iopub.execute_input": "2021-04-21T21:33:00.937294Z",
     "iopub.status.busy": "2021-04-21T21:33:00.936292Z",
     "iopub.status.idle": "2021-04-21T21:33:00.953289Z",
     "shell.execute_reply": "2021-04-21T21:33:00.951288Z",
     "shell.execute_reply.started": "2021-04-21T21:33:00.937294Z"
    }
   },
   "outputs": [],
   "source": [
    "api_X = api_df['narrative']\n",
    "api_y = api_df['product']"
   ]
  },
  {
   "cell_type": "markdown",
   "metadata": {},
   "source": [
    "## Vectorize data and run and score models"
   ]
  },
  {
   "cell_type": "code",
   "execution_count": 10,
   "metadata": {
    "execution": {
     "iopub.execute_input": "2021-04-21T21:35:13.076716Z",
     "iopub.status.busy": "2021-04-21T21:35:13.076716Z",
     "iopub.status.idle": "2021-04-21T21:35:51.290718Z",
     "shell.execute_reply": "2021-04-21T21:35:51.289716Z",
     "shell.execute_reply.started": "2021-04-21T21:35:13.076716Z"
    }
   },
   "outputs": [],
   "source": [
    "# Vectorize X train and test data\n",
    "vectorizer_nb = CountVectorizer(ngram_range=(1,2), max_features=70000)\n",
    "vect_X_main = vectorizer_nb.fit_transform(main_X)\n",
    "vect_X_api = vectorizer_nb.transform(api_X)\n",
    "feature_names = vectorizer_nb.get_feature_names()"
   ]
  },
  {
   "cell_type": "code",
   "execution_count": 11,
   "metadata": {
    "execution": {
     "iopub.execute_input": "2021-04-21T21:35:51.292717Z",
     "iopub.status.busy": "2021-04-21T21:35:51.292717Z",
     "iopub.status.idle": "2021-04-21T21:35:51.307721Z",
     "shell.execute_reply": "2021-04-21T21:35:51.305719Z",
     "shell.execute_reply.started": "2021-04-21T21:35:51.292717Z"
    }
   },
   "outputs": [],
   "source": [
    "# Instantiate model\n",
    "nb_model = MultinomialNB(alpha=0.45)"
   ]
  },
  {
   "cell_type": "code",
   "execution_count": 12,
   "metadata": {
    "execution": {
     "iopub.execute_input": "2021-04-21T21:35:51.312721Z",
     "iopub.status.busy": "2021-04-21T21:35:51.311720Z",
     "iopub.status.idle": "2021-04-21T21:35:54.079722Z",
     "shell.execute_reply": "2021-04-21T21:35:54.078717Z",
     "shell.execute_reply.started": "2021-04-21T21:35:51.312721Z"
    }
   },
   "outputs": [
    {
     "name": "stdout",
     "output_type": "stream",
     "text": [
      "TRAINING - Classification Report\n",
      "Accuracy: 82.8%\n",
      "Precision: 76.6%\n",
      "Recall: 85.7%\n",
      "F1: 80.3%\n",
      "              precision    recall  f1-score   support\n",
      "\n",
      "           0       0.96      0.80      0.87     73012\n",
      "           1       0.71      0.79      0.75     18544\n",
      "           2       0.70      0.91      0.79     15180\n",
      "           3       0.64      0.85      0.73     12364\n",
      "           4       0.81      0.94      0.87     10824\n",
      "\n",
      "    accuracy                           0.83    129924\n",
      "   macro avg       0.77      0.86      0.80    129924\n",
      "weighted avg       0.85      0.83      0.83    129924\n",
      "\n",
      "TESTING - Classification Report\n",
      "Accuracy: 81.2%\n",
      "Precision: 75.2%\n",
      "Recall: 83.6%\n",
      "F1: 78.5%\n",
      "              precision    recall  f1-score   support\n",
      "\n",
      "           0       0.94      0.79      0.86       549\n",
      "           1       0.71      0.78      0.74       170\n",
      "           2       0.70      0.97      0.82       110\n",
      "           3       0.57      0.78      0.66        78\n",
      "           4       0.83      0.86      0.85        93\n",
      "\n",
      "    accuracy                           0.81      1000\n",
      "   macro avg       0.75      0.84      0.78      1000\n",
      "weighted avg       0.84      0.81      0.82      1000\n",
      "\n"
     ]
    },
    {
     "data": {
      "image/png": "[encoded data removed]",
      "text/plain": [
       "<Figure size 1080x360 with 4 Axes>"
      ]
     },
     "metadata": {
      "needs_background": "light"
     },
     "output_type": "display_data"
    }
   ],
   "source": [
    "f.run_model(nb_model, vect_X_main, main_y, vect_X_api, api_y)"
   ]
  },
  {
   "cell_type": "markdown",
   "metadata": {},
   "source": [
    "# Run Gradient Boosting with API data"
   ]
  },
  {
   "cell_type": "markdown",
   "metadata": {
    "execution": {
     "iopub.execute_input": "2021-04-19T20:43:59.260746Z",
     "iopub.status.busy": "2021-04-19T20:43:59.260746Z",
     "iopub.status.idle": "2021-04-19T20:43:59.272745Z",
     "shell.execute_reply": "2021-04-19T20:43:59.270748Z",
     "shell.execute_reply.started": "2021-04-19T20:43:59.260746Z"
    }
   },
   "source": [
    "## Vectorize data and run and score models"
   ]
  },
  {
   "cell_type": "code",
   "execution_count": 13,
   "metadata": {
    "execution": {
     "iopub.execute_input": "2021-04-21T21:38:05.782365Z",
     "iopub.status.busy": "2021-04-21T21:38:05.781365Z",
     "iopub.status.idle": "2021-04-21T21:38:18.028365Z",
     "shell.execute_reply": "2021-04-21T21:38:18.027364Z",
     "shell.execute_reply.started": "2021-04-21T21:38:05.782365Z"
    }
   },
   "outputs": [],
   "source": [
    "vectorizer_gb = TfidfVectorizer(max_features=16000)\n",
    "vect_X_main = vectorizer_gb.fit_transform(main_X)\n",
    "vect_X_api = vectorizer_gb.transform(api_X)\n",
    "feature_names = vectorizer_gb.get_feature_names()"
   ]
  },
  {
   "cell_type": "code",
   "execution_count": 14,
   "metadata": {
    "execution": {
     "iopub.execute_input": "2021-04-21T21:38:18.030367Z",
     "iopub.status.busy": "2021-04-21T21:38:18.030367Z",
     "iopub.status.idle": "2021-04-21T21:38:18.045369Z",
     "shell.execute_reply": "2021-04-21T21:38:18.043368Z",
     "shell.execute_reply.started": "2021-04-21T21:38:18.030367Z"
    }
   },
   "outputs": [],
   "source": [
    "# Instantiate model\n",
    "gb_model = GradientBoostingClassifier(random_state=123, max_depth=5)"
   ]
  },
  {
   "cell_type": "code",
   "execution_count": 15,
   "metadata": {
    "execution": {
     "iopub.execute_input": "2021-04-21T21:38:25.150547Z",
     "iopub.status.busy": "2021-04-21T21:38:25.150547Z",
     "iopub.status.idle": "2021-04-21T22:24:57.948885Z",
     "shell.execute_reply": "2021-04-21T22:24:57.946884Z",
     "shell.execute_reply.started": "2021-04-21T21:38:25.150547Z"
    }
   },
   "outputs": [
    {
     "name": "stdout",
     "output_type": "stream",
     "text": [
      "TRAINING - Classification Report\n",
      "Accuracy: 88.0%\n",
      "Precision: 86.6%\n",
      "Recall: 83.1%\n",
      "F1: 84.7%\n",
      "              precision    recall  f1-score   support\n",
      "\n",
      "           0       0.90      0.95      0.92     73012\n",
      "           1       0.83      0.73      0.78     18544\n",
      "           2       0.89      0.82      0.85     15180\n",
      "           3       0.83      0.78      0.81     12364\n",
      "           4       0.89      0.88      0.88     10824\n",
      "\n",
      "    accuracy                           0.88    129924\n",
      "   macro avg       0.87      0.83      0.85    129924\n",
      "weighted avg       0.88      0.88      0.88    129924\n",
      "\n",
      "TESTING - Classification Report\n",
      "Accuracy: 85.4%\n",
      "Precision: 83.1%\n",
      "Recall: 81.0%\n",
      "F1: 82.0%\n",
      "              precision    recall  f1-score   support\n",
      "\n",
      "           0       0.88      0.91      0.89       549\n",
      "           1       0.80      0.78      0.79       170\n",
      "           2       0.87      0.85      0.86       110\n",
      "           3       0.74      0.69      0.72        78\n",
      "           4       0.86      0.82      0.84        93\n",
      "\n",
      "    accuracy                           0.85      1000\n",
      "   macro avg       0.83      0.81      0.82      1000\n",
      "weighted avg       0.85      0.85      0.85      1000\n",
      "\n"
     ]
    },
    {
     "data": {
      "image/png": "[encoded data removed]",
      "text/plain": [
       "<Figure size 1080x360 with 4 Axes>"
      ]
     },
     "metadata": {
      "needs_background": "light"
     },
     "output_type": "display_data"
    }
   ],
   "source": [
    "f.run_model(gb_model, vect_X_main, main_y, vect_X_api, api_y)"
   ]
  },
  {
   "cell_type": "markdown",
   "metadata": {},
   "source": [
    "Fitting the models with the entire original dataset and checking the model against the API data, it finds:  \n",
    "- The Naive Bayes model has a slightly better recall macro score than the Gradient Boosting Classifier -- .85 vs. .83  \n",
    "- The GB has a little less of an overfitting issue, a difference of .01 between the two macro recall scores compared to a difference of .02 for NB's scores.\n",
    "- Although the averages are similar, the NB class scores are generally more consistent while the GB does quite well in some classes (.94 recall for class 0) and worse in others (0.73 recall in class 1).  \n",
    "- The NB model is a LOT faster, 5 seconds vs. 57 minutes.  "
   ]
  },
  {
   "cell_type": "markdown",
   "metadata": {
    "execution": {
     "iopub.execute_input": "2021-04-20T14:51:15.535847Z",
     "iopub.status.busy": "2021-04-20T14:51:15.526840Z",
     "iopub.status.idle": "2021-04-20T14:51:15.617851Z",
     "shell.execute_reply": "2021-04-20T14:51:15.614850Z",
     "shell.execute_reply.started": "2021-04-20T14:51:15.534849Z"
    }
   },
   "source": [
    "## Get feature importances"
   ]
  },
  {
   "cell_type": "markdown",
   "metadata": {},
   "source": [
    "It's easy to get feature importances from the GB model, while the NB doesn't have an intrinsic method."
   ]
  },
  {
   "cell_type": "code",
   "execution_count": 16,
   "metadata": {
    "execution": {
     "iopub.execute_input": "2021-04-21T22:24:57.954922Z",
     "iopub.status.busy": "2021-04-21T22:24:57.954922Z",
     "iopub.status.idle": "2021-04-21T23:09:44.723932Z",
     "shell.execute_reply": "2021-04-21T23:09:44.720483Z",
     "shell.execute_reply.started": "2021-04-21T22:24:57.954922Z"
    }
   },
   "outputs": [
    {
     "data": {
      "text/plain": [
       "GradientBoostingClassifier(max_depth=5, random_state=123)"
      ]
     },
     "execution_count": 16,
     "metadata": {},
     "output_type": "execute_result"
    }
   ],
   "source": [
    " gb_model.fit(vect_X_main, main_y)"
   ]
  },
  {
   "cell_type": "code",
   "execution_count": 17,
   "metadata": {
    "execution": {
     "iopub.execute_input": "2021-04-21T23:09:44.735675Z",
     "iopub.status.busy": "2021-04-21T23:09:44.734674Z",
     "iopub.status.idle": "2021-04-21T23:09:44.846306Z",
     "shell.execute_reply": "2021-04-21T23:09:44.845301Z",
     "shell.execute_reply.started": "2021-04-21T23:09:44.735675Z"
    }
   },
   "outputs": [
    {
     "data": {
      "text/plain": [
       "array([0., 0., 0., ..., 0., 0., 0.])"
      ]
     },
     "execution_count": 17,
     "metadata": {},
     "output_type": "execute_result"
    }
   ],
   "source": [
    "gb_model.feature_importances_"
   ]
  },
  {
   "cell_type": "code",
   "execution_count": 18,
   "metadata": {
    "execution": {
     "iopub.execute_input": "2021-04-21T23:09:44.848303Z",
     "iopub.status.busy": "2021-04-21T23:09:44.847303Z",
     "iopub.status.idle": "2021-04-21T23:09:44.861713Z",
     "shell.execute_reply": "2021-04-21T23:09:44.860858Z",
     "shell.execute_reply.started": "2021-04-21T23:09:44.848303Z"
    }
   },
   "outputs": [
    {
     "data": {
      "text/plain": [
       "(129924, 16000)"
      ]
     },
     "execution_count": 18,
     "metadata": {},
     "output_type": "execute_result"
    }
   ],
   "source": [
    "vect_X_main.shape"
   ]
  },
  {
   "cell_type": "markdown",
   "metadata": {},
   "source": [
    "Zip the array of feature importances with the `feature_names` from TF-IDF."
   ]
  },
  {
   "cell_type": "code",
   "execution_count": 19,
   "metadata": {
    "execution": {
     "iopub.execute_input": "2021-04-21T23:09:44.863712Z",
     "iopub.status.busy": "2021-04-21T23:09:44.862722Z",
     "iopub.status.idle": "2021-04-21T23:09:44.971712Z",
     "shell.execute_reply": "2021-04-21T23:09:44.970712Z",
     "shell.execute_reply.started": "2021-04-21T23:09:44.863712Z"
    }
   },
   "outputs": [],
   "source": [
    "feat_importa = zip(feature_names, gb_model.feature_importances_)"
   ]
  },
  {
   "cell_type": "markdown",
   "metadata": {},
   "source": [
    "Turn the zip into a list"
   ]
  },
  {
   "cell_type": "code",
   "execution_count": 20,
   "metadata": {
    "execution": {
     "iopub.execute_input": "2021-04-21T23:09:44.974714Z",
     "iopub.status.busy": "2021-04-21T23:09:44.973714Z",
     "iopub.status.idle": "2021-04-21T23:09:44.987715Z",
     "shell.execute_reply": "2021-04-21T23:09:44.985713Z",
     "shell.execute_reply.started": "2021-04-21T23:09:44.974714Z"
    }
   },
   "outputs": [],
   "source": [
    "feature_importances_list = list(feat_importa)"
   ]
  },
  {
   "cell_type": "markdown",
   "metadata": {},
   "source": [
    "Export to use in another notebook."
   ]
  },
  {
   "cell_type": "code",
   "execution_count": 21,
   "metadata": {
    "execution": {
     "iopub.execute_input": "2021-04-21T23:09:44.992718Z",
     "iopub.status.busy": "2021-04-21T23:09:44.991714Z",
     "iopub.status.idle": "2021-04-21T23:09:45.127712Z",
     "shell.execute_reply": "2021-04-21T23:09:45.125715Z",
     "shell.execute_reply.started": "2021-04-21T23:09:44.992718Z"
    }
   },
   "outputs": [],
   "source": [
    "import pickle\n",
    "\n",
    "with open('../project_data/feature_importances_list.txt', 'wb') as filehandle:\n",
    "    # store the data as binary data stream\n",
    "    pickle.dump(feature_importances_list, filehandle)"
   ]
  }
 ],
 "metadata": {
  "kernelspec": {
   "display_name": "Python 3",
   "language": "python",
   "name": "python3"
  },
  "language_info": {
   "codemirror_mode": {
    "name": "ipython",
    "version": 3
   },
   "file_extension": ".py",
   "mimetype": "text/x-python",
   "name": "python",
   "nbconvert_exporter": "python",
   "pygments_lexer": "ipython3",
   "version": "3.6.9"
  },
  "varInspector": {
   "cols": {
    "lenName": 16,
    "lenType": 16,
    "lenVar": 40
   },
   "kernels_config": {
    "python": {
     "delete_cmd_postfix": "",
     "delete_cmd_prefix": "del ",
     "library": "var_list.py",
     "varRefreshCmd": "print(var_dic_list())"
    },
    "r": {
     "delete_cmd_postfix": ") ",
     "delete_cmd_prefix": "rm(",
     "library": "var_list.r",
     "varRefreshCmd": "cat(var_dic_list()) "
    }
   },
   "types_to_exclude": [
    "module",
    "function",
    "builtin_function_or_method",
    "instance",
    "_Feature"
   ],
   "window_display": false
  }
 },
 "nbformat": 4,
 "nbformat_minor": 4
}
