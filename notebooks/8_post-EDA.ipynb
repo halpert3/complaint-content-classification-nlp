{
 "cells": [
  {
   "cell_type": "markdown",
   "metadata": {},
   "source": [
    "# Import libraries and feature importances"
   ]
  },
  {
   "cell_type": "code",
   "execution_count": null,
   "metadata": {},
   "outputs": [],
   "source": [
    "import pandas as pd\n",
    "import numpy as np\n",
    "\n",
    "import pickle\n"
   ]
  },
  {
   "cell_type": "code",
   "execution_count": 6,
   "metadata": {
    "execution": {
     "iopub.execute_input": "2021-04-20T15:03:46.360817Z",
     "iopub.status.busy": "2021-04-20T15:03:46.350814Z",
     "iopub.status.idle": "2021-04-20T15:03:46.554821Z",
     "shell.execute_reply": "2021-04-20T15:03:46.552817Z",
     "shell.execute_reply.started": "2021-04-20T15:03:46.360817Z"
    }
   },
   "outputs": [],
   "source": [
    "with open('../project_data/feature_importances_list.txt', 'rb') as filehandle:\n",
    "    # read the data as binary data stream\n",
    "    feature_importances_list = pickle.load(filehandle)"
   ]
  },
  {
   "cell_type": "code",
   "execution_count": 9,
   "metadata": {
    "execution": {
     "iopub.execute_input": "2021-04-20T15:04:04.701184Z",
     "iopub.status.busy": "2021-04-20T15:04:04.700180Z",
     "iopub.status.idle": "2021-04-20T15:04:04.712181Z",
     "shell.execute_reply": "2021-04-20T15:04:04.711181Z",
     "shell.execute_reply.started": "2021-04-20T15:04:04.701184Z"
    }
   },
   "outputs": [
    {
     "data": {
      "text/plain": [
       "[('aa', 0.0),\n",
       " ('aaa', 0.0),\n",
       " ('aadvantage', 0.0),\n",
       " ('aafes', 0.0),\n",
       " ('aag', 0.0),\n",
       " ('aaragon', 0.0),\n",
       " ('aargon', 0.0),\n",
       " ('ab', 0.0),\n",
       " ('aba', 0.0),\n",
       " ('aback', 0.0),\n",
       " ('abandon', 0.0),\n",
       " ('abandoned', 0.0),\n",
       " ('abandoning', 0.0),\n",
       " ('abandonment', 0.0),\n",
       " ('abatement', 0.0)]"
      ]
     },
     "execution_count": 9,
     "metadata": {},
     "output_type": "execute_result"
    }
   ],
   "source": [
    "feature_importances_list[0:15]"
   ]
  }
 ],
 "metadata": {
  "kernelspec": {
   "display_name": "Python 3",
   "language": "python",
   "name": "python3"
  },
  "language_info": {
   "codemirror_mode": {
    "name": "ipython",
    "version": 3
   },
   "file_extension": ".py",
   "mimetype": "text/x-python",
   "name": "python",
   "nbconvert_exporter": "python",
   "pygments_lexer": "ipython3",
   "version": "3.6.9"
  }
 },
 "nbformat": 4,
 "nbformat_minor": 4
}
