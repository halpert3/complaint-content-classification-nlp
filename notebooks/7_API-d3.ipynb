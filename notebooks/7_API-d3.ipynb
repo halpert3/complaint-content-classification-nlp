{
 "cells": [
  {
   "cell_type": "markdown",
   "metadata": {},
   "source": [
    "# Import libraries"
   ]
  },
  {
   "cell_type": "code",
   "execution_count": 34,
   "metadata": {
    "execution": {
     "iopub.execute_input": "2021-04-19T20:46:22.072828Z",
     "iopub.status.busy": "2021-04-19T20:46:22.072828Z",
     "iopub.status.idle": "2021-04-19T20:46:23.031825Z",
     "shell.execute_reply": "2021-04-19T20:46:23.030822Z",
     "shell.execute_reply.started": "2021-04-19T20:46:22.072828Z"
    }
   },
   "outputs": [],
   "source": [
    "import pandas as pd\n",
    "from sklearn.naive_bayes import MultinomialNB\n",
    "from sklearn.ensemble import GradientBoostingClassifier\n",
    "from sklearn.feature_extraction.text import TfidfVectorizer, CountVectorizer\n",
    "\n",
    "from scoring_functions import process_api_functions as api_func, scoring_functions as f\n",
    "\n",
    "# imp allows to reload the above function files when tinkering with it without kernel restart\n",
    "import imp"
   ]
  },
  {
   "cell_type": "markdown",
   "metadata": {
    "execution": {
     "iopub.execute_input": "2021-04-19T19:41:13.451916Z",
     "iopub.status.busy": "2021-04-19T19:41:13.450911Z",
     "iopub.status.idle": "2021-04-19T19:41:13.465919Z",
     "shell.execute_reply": "2021-04-19T19:41:13.463912Z",
     "shell.execute_reply.started": "2021-04-19T19:41:13.451916Z"
    }
   },
   "source": [
    "# Get data from API and process"
   ]
  },
  {
   "cell_type": "markdown",
   "metadata": {},
   "source": [
    "Function is `api_func.download_and_process_api_data(date, size)`.  \n",
    "- Date needs to be formatted as 'YYYY-MM-DD' string -- '2021-03-02' -- and function will get data from that date forward.  \n",
    "- API allows max size of 1000 per call.   \n",
    "- Function will remove stopwords from narrative, lemmatize, etc. and turn into dataframe in order to work with machine learning models previously used.   \n"
   ]
  },
  {
   "cell_type": "markdown",
   "metadata": {},
   "source": [
    "## Testing"
   ]
  },
  {
   "cell_type": "code",
   "execution_count": 12,
   "metadata": {
    "execution": {
     "iopub.execute_input": "2021-04-19T20:28:43.313996Z",
     "iopub.status.busy": "2021-04-19T20:28:43.312995Z",
     "iopub.status.idle": "2021-04-19T20:28:44.360998Z",
     "shell.execute_reply": "2021-04-19T20:28:44.357993Z",
     "shell.execute_reply.started": "2021-04-19T20:28:43.313996Z"
    },
    "scrolled": true
   },
   "outputs": [
    {
     "data": {
      "text/html": [
       "<div>\n",
       "<style scoped>\n",
       "    .dataframe tbody tr th:only-of-type {\n",
       "        vertical-align: middle;\n",
       "    }\n",
       "\n",
       "    .dataframe tbody tr th {\n",
       "        vertical-align: top;\n",
       "    }\n",
       "\n",
       "    .dataframe thead th {\n",
       "        text-align: right;\n",
       "    }\n",
       "</style>\n",
       "<table border=\"1\" class=\"dataframe\">\n",
       "  <thead>\n",
       "    <tr style=\"text-align: right;\">\n",
       "      <th></th>\n",
       "      <th>product</th>\n",
       "      <th>narrative</th>\n",
       "    </tr>\n",
       "  </thead>\n",
       "  <tbody>\n",
       "    <tr>\n",
       "      <th>0</th>\n",
       "      <td>0</td>\n",
       "      <td>determined creditor listed credit report belon...</td>\n",
       "    </tr>\n",
       "    <tr>\n",
       "      <th>1</th>\n",
       "      <td>0</td>\n",
       "      <td>initially bought great gear love thought paid ...</td>\n",
       "    </tr>\n",
       "    <tr>\n",
       "      <th>2</th>\n",
       "      <td>0</td>\n",
       "      <td>sent letter plus dispute keep putting address ...</td>\n",
       "    </tr>\n",
       "    <tr>\n",
       "      <th>3</th>\n",
       "      <td>4</td>\n",
       "      <td>well fargo failed provide outstanding relief a...</td>\n",
       "    </tr>\n",
       "    <tr>\n",
       "      <th>4</th>\n",
       "      <td>0</td>\n",
       "      <td>department education showing account open past...</td>\n",
       "    </tr>\n",
       "    <tr>\n",
       "      <th>5</th>\n",
       "      <td>0</td>\n",
       "      <td>well fargo continuously report late payment ac...</td>\n",
       "    </tr>\n",
       "    <tr>\n",
       "      <th>6</th>\n",
       "      <td>4</td>\n",
       "      <td>bank account open knowledge opening fraudulent...</td>\n",
       "    </tr>\n",
       "    <tr>\n",
       "      <th>7</th>\n",
       "      <td>0</td>\n",
       "      <td>signed paypal credit given line credit worth t...</td>\n",
       "    </tr>\n",
       "    <tr>\n",
       "      <th>8</th>\n",
       "      <td>2</td>\n",
       "      <td>cfpb filing official complaint regarding mortg...</td>\n",
       "    </tr>\n",
       "    <tr>\n",
       "      <th>9</th>\n",
       "      <td>0</td>\n",
       "      <td>account paid sent keep reporting owe called ge...</td>\n",
       "    </tr>\n",
       "    <tr>\n",
       "      <th>10</th>\n",
       "      <td>2</td>\n",
       "      <td>today closing date first ever refinance family...</td>\n",
       "    </tr>\n",
       "    <tr>\n",
       "      <th>11</th>\n",
       "      <td>0</td>\n",
       "      <td>authorize anyone employed company make inquiry...</td>\n",
       "    </tr>\n",
       "    <tr>\n",
       "      <th>12</th>\n",
       "      <td>1</td>\n",
       "      <td>rma credit claiming owe recognize debt please ...</td>\n",
       "    </tr>\n",
       "    <tr>\n",
       "      <th>13</th>\n",
       "      <td>0</td>\n",
       "      <td>inquiry credit report belong inquired need rep...</td>\n",
       "    </tr>\n",
       "    <tr>\n",
       "      <th>14</th>\n",
       "      <td>0</td>\n",
       "      <td>contact credit reporting bureau asked provide ...</td>\n",
       "    </tr>\n",
       "    <tr>\n",
       "      <th>15</th>\n",
       "      <td>2</td>\n",
       "      <td>transaction id case since initial complaint re...</td>\n",
       "    </tr>\n",
       "    <tr>\n",
       "      <th>16</th>\n",
       "      <td>0</td>\n",
       "      <td>filed dispute regard incorrect item credit rep...</td>\n",
       "    </tr>\n",
       "    <tr>\n",
       "      <th>17</th>\n",
       "      <td>3</td>\n",
       "      <td>received paypal credit card wife deceased many...</td>\n",
       "    </tr>\n",
       "    <tr>\n",
       "      <th>18</th>\n",
       "      <td>2</td>\n",
       "      <td>paid mortgage amount payoff said official payo...</td>\n",
       "    </tr>\n",
       "    <tr>\n",
       "      <th>19</th>\n",
       "      <td>1</td>\n",
       "      <td>schoolsfirst fcu violated continuing collectio...</td>\n",
       "    </tr>\n",
       "    <tr>\n",
       "      <th>20</th>\n",
       "      <td>0</td>\n",
       "      <td>complaint granite bay acceptance co ca company...</td>\n",
       "    </tr>\n",
       "    <tr>\n",
       "      <th>21</th>\n",
       "      <td>1</td>\n",
       "      <td>called professional debt mediation informed de...</td>\n",
       "    </tr>\n",
       "    <tr>\n",
       "      <th>22</th>\n",
       "      <td>1</td>\n",
       "      <td>hi im sure take anymore ive disputed account s...</td>\n",
       "    </tr>\n",
       "    <tr>\n",
       "      <th>23</th>\n",
       "      <td>0</td>\n",
       "      <td>amazon store credit card open back purchase ma...</td>\n",
       "    </tr>\n",
       "    <tr>\n",
       "      <th>24</th>\n",
       "      <td>4</td>\n",
       "      <td>called number came back well fargo unauthorize...</td>\n",
       "    </tr>\n",
       "    <tr>\n",
       "      <th>25</th>\n",
       "      <td>3</td>\n",
       "      <td>purchased antioxidizer enagic mighty antioxidi...</td>\n",
       "    </tr>\n",
       "    <tr>\n",
       "      <th>26</th>\n",
       "      <td>1</td>\n",
       "      <td>attentively review formal writ composed declar...</td>\n",
       "    </tr>\n",
       "    <tr>\n",
       "      <th>27</th>\n",
       "      <td>0</td>\n",
       "      <td>experian credit bureau displaying first name p...</td>\n",
       "    </tr>\n",
       "    <tr>\n",
       "      <th>28</th>\n",
       "      <td>2</td>\n",
       "      <td>looking refinance home loan rate low afford ri...</td>\n",
       "    </tr>\n",
       "    <tr>\n",
       "      <th>29</th>\n",
       "      <td>0</td>\n",
       "      <td>contacted citi bank make payment prevent accou...</td>\n",
       "    </tr>\n",
       "    <tr>\n",
       "      <th>30</th>\n",
       "      <td>0</td>\n",
       "      <td>patiently waiting experian increase credit sco...</td>\n",
       "    </tr>\n",
       "    <tr>\n",
       "      <th>31</th>\n",
       "      <td>0</td>\n",
       "      <td>account listed error fraud account hurting cre...</td>\n",
       "    </tr>\n",
       "    <tr>\n",
       "      <th>32</th>\n",
       "      <td>3</td>\n",
       "      <td>credit card credit union name card servicer el...</td>\n",
       "    </tr>\n",
       "    <tr>\n",
       "      <th>33</th>\n",
       "      <td>1</td>\n",
       "      <td>ten year illegally tried foreclose home work s...</td>\n",
       "    </tr>\n",
       "    <tr>\n",
       "      <th>34</th>\n",
       "      <td>0</td>\n",
       "      <td>looking credit report lot fraudulent account a...</td>\n",
       "    </tr>\n",
       "    <tr>\n",
       "      <th>35</th>\n",
       "      <td>1</td>\n",
       "      <td>received collection bill know nothing never re...</td>\n",
       "    </tr>\n",
       "    <tr>\n",
       "      <th>36</th>\n",
       "      <td>4</td>\n",
       "      <td>usaa bank fraud account impersonating represen...</td>\n",
       "    </tr>\n",
       "    <tr>\n",
       "      <th>37</th>\n",
       "      <td>1</td>\n",
       "      <td>agency debt collection license virginia please...</td>\n",
       "    </tr>\n",
       "    <tr>\n",
       "      <th>38</th>\n",
       "      <td>0</td>\n",
       "      <td>disputing inaccurate information experian repl...</td>\n",
       "    </tr>\n",
       "    <tr>\n",
       "      <th>39</th>\n",
       "      <td>2</td>\n",
       "      <td>turned leased dealership lease u dealership gr...</td>\n",
       "    </tr>\n",
       "    <tr>\n",
       "      <th>40</th>\n",
       "      <td>4</td>\n",
       "      <td>name laid roofer year due weather ne work home...</td>\n",
       "    </tr>\n",
       "    <tr>\n",
       "      <th>41</th>\n",
       "      <td>4</td>\n",
       "      <td>received notice synchrony bank florida letter ...</td>\n",
       "    </tr>\n",
       "    <tr>\n",
       "      <th>42</th>\n",
       "      <td>0</td>\n",
       "      <td>viewed credit report noticed account never app...</td>\n",
       "    </tr>\n",
       "    <tr>\n",
       "      <th>43</th>\n",
       "      <td>2</td>\n",
       "      <td>applied small car loan obtaining day job made ...</td>\n",
       "    </tr>\n",
       "    <tr>\n",
       "      <th>44</th>\n",
       "      <td>3</td>\n",
       "      <td>credit card citicard costco company reduced cr...</td>\n",
       "    </tr>\n",
       "    <tr>\n",
       "      <th>45</th>\n",
       "      <td>3</td>\n",
       "      <td>purchased appliance best buy yr interest contr...</td>\n",
       "    </tr>\n",
       "    <tr>\n",
       "      <th>46</th>\n",
       "      <td>0</td>\n",
       "      <td>sent certified letter transunion inquiry remov...</td>\n",
       "    </tr>\n",
       "    <tr>\n",
       "      <th>47</th>\n",
       "      <td>3</td>\n",
       "      <td>see multiple day late mark clear violation rig...</td>\n",
       "    </tr>\n",
       "    <tr>\n",
       "      <th>48</th>\n",
       "      <td>4</td>\n",
       "      <td>company let bad day notify bank transfer went ...</td>\n",
       "    </tr>\n",
       "    <tr>\n",
       "      <th>49</th>\n",
       "      <td>2</td>\n",
       "      <td>period thru home lender citi mortgage put loan...</td>\n",
       "    </tr>\n",
       "  </tbody>\n",
       "</table>\n",
       "</div>"
      ],
      "text/plain": [
       "    product                                          narrative\n",
       "0         0  determined creditor listed credit report belon...\n",
       "1         0  initially bought great gear love thought paid ...\n",
       "2         0  sent letter plus dispute keep putting address ...\n",
       "3         4  well fargo failed provide outstanding relief a...\n",
       "4         0  department education showing account open past...\n",
       "5         0  well fargo continuously report late payment ac...\n",
       "6         4  bank account open knowledge opening fraudulent...\n",
       "7         0  signed paypal credit given line credit worth t...\n",
       "8         2  cfpb filing official complaint regarding mortg...\n",
       "9         0  account paid sent keep reporting owe called ge...\n",
       "10        2  today closing date first ever refinance family...\n",
       "11        0  authorize anyone employed company make inquiry...\n",
       "12        1  rma credit claiming owe recognize debt please ...\n",
       "13        0  inquiry credit report belong inquired need rep...\n",
       "14        0  contact credit reporting bureau asked provide ...\n",
       "15        2  transaction id case since initial complaint re...\n",
       "16        0  filed dispute regard incorrect item credit rep...\n",
       "17        3  received paypal credit card wife deceased many...\n",
       "18        2  paid mortgage amount payoff said official payo...\n",
       "19        1  schoolsfirst fcu violated continuing collectio...\n",
       "20        0  complaint granite bay acceptance co ca company...\n",
       "21        1  called professional debt mediation informed de...\n",
       "22        1  hi im sure take anymore ive disputed account s...\n",
       "23        0  amazon store credit card open back purchase ma...\n",
       "24        4  called number came back well fargo unauthorize...\n",
       "25        3  purchased antioxidizer enagic mighty antioxidi...\n",
       "26        1  attentively review formal writ composed declar...\n",
       "27        0  experian credit bureau displaying first name p...\n",
       "28        2  looking refinance home loan rate low afford ri...\n",
       "29        0  contacted citi bank make payment prevent accou...\n",
       "30        0  patiently waiting experian increase credit sco...\n",
       "31        0  account listed error fraud account hurting cre...\n",
       "32        3  credit card credit union name card servicer el...\n",
       "33        1  ten year illegally tried foreclose home work s...\n",
       "34        0  looking credit report lot fraudulent account a...\n",
       "35        1  received collection bill know nothing never re...\n",
       "36        4  usaa bank fraud account impersonating represen...\n",
       "37        1  agency debt collection license virginia please...\n",
       "38        0  disputing inaccurate information experian repl...\n",
       "39        2  turned leased dealership lease u dealership gr...\n",
       "40        4  name laid roofer year due weather ne work home...\n",
       "41        4  received notice synchrony bank florida letter ...\n",
       "42        0  viewed credit report noticed account never app...\n",
       "43        2  applied small car loan obtaining day job made ...\n",
       "44        3  credit card citicard costco company reduced cr...\n",
       "45        3  purchased appliance best buy yr interest contr...\n",
       "46        0  sent certified letter transunion inquiry remov...\n",
       "47        3  see multiple day late mark clear violation rig...\n",
       "48        4  company let bad day notify bank transfer went ...\n",
       "49        2  period thru home lender citi mortgage put loan..."
      ]
     },
     "execution_count": 12,
     "metadata": {},
     "output_type": "execute_result"
    }
   ],
   "source": [
    "imp.reload(api_func)\n",
    "api_func.download_and_process_api_data('2021-03-02', 50)"
   ]
  },
  {
   "cell_type": "markdown",
   "metadata": {},
   "source": [
    "## Get data to use for modeling"
   ]
  },
  {
   "cell_type": "code",
   "execution_count": 13,
   "metadata": {
    "execution": {
     "iopub.execute_input": "2021-04-19T20:28:56.182995Z",
     "iopub.status.busy": "2021-04-19T20:28:56.181994Z",
     "iopub.status.idle": "2021-04-19T20:29:03.098047Z",
     "shell.execute_reply": "2021-04-19T20:29:03.097053Z",
     "shell.execute_reply.started": "2021-04-19T20:28:56.182995Z"
    }
   },
   "outputs": [],
   "source": [
    "api_df = api_func.download_and_process_api_data('2021-03-05', 1000)"
   ]
  },
  {
   "cell_type": "code",
   "execution_count": 14,
   "metadata": {
    "execution": {
     "iopub.execute_input": "2021-04-19T20:29:03.100049Z",
     "iopub.status.busy": "2021-04-19T20:29:03.100049Z",
     "iopub.status.idle": "2021-04-19T20:29:03.115051Z",
     "shell.execute_reply": "2021-04-19T20:29:03.113054Z",
     "shell.execute_reply.started": "2021-04-19T20:29:03.100049Z"
    }
   },
   "outputs": [
    {
     "data": {
      "text/plain": [
       "1000"
      ]
     },
     "execution_count": 14,
     "metadata": {},
     "output_type": "execute_result"
    }
   ],
   "source": [
    "len(api_df)"
   ]
  },
  {
   "cell_type": "code",
   "execution_count": 15,
   "metadata": {
    "execution": {
     "iopub.execute_input": "2021-04-19T20:29:03.120049Z",
     "iopub.status.busy": "2021-04-19T20:29:03.118051Z",
     "iopub.status.idle": "2021-04-19T20:29:03.162053Z",
     "shell.execute_reply": "2021-04-19T20:29:03.160054Z",
     "shell.execute_reply.started": "2021-04-19T20:29:03.120049Z"
    }
   },
   "outputs": [
    {
     "data": {
      "text/html": [
       "<div>\n",
       "<style scoped>\n",
       "    .dataframe tbody tr th:only-of-type {\n",
       "        vertical-align: middle;\n",
       "    }\n",
       "\n",
       "    .dataframe tbody tr th {\n",
       "        vertical-align: top;\n",
       "    }\n",
       "\n",
       "    .dataframe thead th {\n",
       "        text-align: right;\n",
       "    }\n",
       "</style>\n",
       "<table border=\"1\" class=\"dataframe\">\n",
       "  <thead>\n",
       "    <tr style=\"text-align: right;\">\n",
       "      <th></th>\n",
       "      <th>product</th>\n",
       "      <th>narrative</th>\n",
       "    </tr>\n",
       "  </thead>\n",
       "  <tbody>\n",
       "    <tr>\n",
       "      <th>995</th>\n",
       "      <td>2</td>\n",
       "      <td>year row money taken escrow account paid hazar...</td>\n",
       "    </tr>\n",
       "    <tr>\n",
       "      <th>996</th>\n",
       "      <td>0</td>\n",
       "      <td>scam continues credit inquiry consumer shop ma...</td>\n",
       "    </tr>\n",
       "    <tr>\n",
       "      <th>997</th>\n",
       "      <td>0</td>\n",
       "      <td>loan disbursed amount department education ina...</td>\n",
       "    </tr>\n",
       "    <tr>\n",
       "      <th>998</th>\n",
       "      <td>3</td>\n",
       "      <td>care credit bank scamming customer like many o...</td>\n",
       "    </tr>\n",
       "    <tr>\n",
       "      <th>999</th>\n",
       "      <td>0</td>\n",
       "      <td>keep financial situation small spot fraudulent...</td>\n",
       "    </tr>\n",
       "  </tbody>\n",
       "</table>\n",
       "</div>"
      ],
      "text/plain": [
       "     product                                          narrative\n",
       "995        2  year row money taken escrow account paid hazar...\n",
       "996        0  scam continues credit inquiry consumer shop ma...\n",
       "997        0  loan disbursed amount department education ina...\n",
       "998        3  care credit bank scamming customer like many o...\n",
       "999        0  keep financial situation small spot fraudulent..."
      ]
     },
     "execution_count": 15,
     "metadata": {},
     "output_type": "execute_result"
    }
   ],
   "source": [
    "api_df.tail()"
   ]
  },
  {
   "cell_type": "markdown",
   "metadata": {},
   "source": [
    "# Run Naive Bayes model with API data"
   ]
  },
  {
   "cell_type": "markdown",
   "metadata": {
    "execution": {
     "iopub.execute_input": "2021-04-19T20:30:09.743248Z",
     "iopub.status.busy": "2021-04-19T20:30:09.742248Z",
     "iopub.status.idle": "2021-04-19T20:30:09.762254Z",
     "shell.execute_reply": "2021-04-19T20:30:09.760253Z",
     "shell.execute_reply.started": "2021-04-19T20:30:09.743248Z"
    }
   },
   "source": [
    "## Load primary data"
   ]
  },
  {
   "cell_type": "code",
   "execution_count": 17,
   "metadata": {
    "execution": {
     "iopub.execute_input": "2021-04-19T20:30:18.625637Z",
     "iopub.status.busy": "2021-04-19T20:30:18.625637Z",
     "iopub.status.idle": "2021-04-19T20:30:20.540637Z",
     "shell.execute_reply": "2021-04-19T20:30:20.539634Z",
     "shell.execute_reply.started": "2021-04-19T20:30:18.625637Z"
    }
   },
   "outputs": [],
   "source": [
    "# read datafile\n",
    "df = pd.read_csv('../project_data/complaints_processed.csv')\n",
    "\n",
    "# clean up by removing NaN's, etc.\n",
    "df.drop(['Unnamed: 0'], axis=1, inplace=True)\n",
    "\n",
    "df = df.dropna()\n",
    "df.drop(df.loc[df['narrative'] == 'name'].index, inplace=True)\n",
    "\n",
    "# replace class names with integers\n",
    "product_dict ={'credit_reporting': 0, 'debt_collection': 1, 'mortgages_and_loans': 2, \n",
    "               'credit_card': 3, 'retail_banking': 4}\n",
    "df['product'].replace(product_dict, inplace=True)"
   ]
  },
  {
   "cell_type": "code",
   "execution_count": 18,
   "metadata": {
    "execution": {
     "iopub.execute_input": "2021-04-19T20:30:33.078551Z",
     "iopub.status.busy": "2021-04-19T20:30:33.077554Z",
     "iopub.status.idle": "2021-04-19T20:30:33.100554Z",
     "shell.execute_reply": "2021-04-19T20:30:33.099553Z",
     "shell.execute_reply.started": "2021-04-19T20:30:33.078551Z"
    }
   },
   "outputs": [
    {
     "data": {
      "text/html": [
       "<div>\n",
       "<style scoped>\n",
       "    .dataframe tbody tr th:only-of-type {\n",
       "        vertical-align: middle;\n",
       "    }\n",
       "\n",
       "    .dataframe tbody tr th {\n",
       "        vertical-align: top;\n",
       "    }\n",
       "\n",
       "    .dataframe thead th {\n",
       "        text-align: right;\n",
       "    }\n",
       "</style>\n",
       "<table border=\"1\" class=\"dataframe\">\n",
       "  <thead>\n",
       "    <tr style=\"text-align: right;\">\n",
       "      <th></th>\n",
       "      <th>product</th>\n",
       "      <th>narrative</th>\n",
       "    </tr>\n",
       "  </thead>\n",
       "  <tbody>\n",
       "    <tr>\n",
       "      <th>0</th>\n",
       "      <td>3</td>\n",
       "      <td>purchase order day shipping amount receive pro...</td>\n",
       "    </tr>\n",
       "    <tr>\n",
       "      <th>1</th>\n",
       "      <td>3</td>\n",
       "      <td>forwarded message date tue subject please inve...</td>\n",
       "    </tr>\n",
       "    <tr>\n",
       "      <th>2</th>\n",
       "      <td>4</td>\n",
       "      <td>forwarded message cc sent friday pdt subject f...</td>\n",
       "    </tr>\n",
       "    <tr>\n",
       "      <th>3</th>\n",
       "      <td>0</td>\n",
       "      <td>payment history missing credit report speciali...</td>\n",
       "    </tr>\n",
       "    <tr>\n",
       "      <th>4</th>\n",
       "      <td>0</td>\n",
       "      <td>payment history missing credit report made mis...</td>\n",
       "    </tr>\n",
       "  </tbody>\n",
       "</table>\n",
       "</div>"
      ],
      "text/plain": [
       "   product                                          narrative\n",
       "0        3  purchase order day shipping amount receive pro...\n",
       "1        3  forwarded message date tue subject please inve...\n",
       "2        4  forwarded message cc sent friday pdt subject f...\n",
       "3        0  payment history missing credit report speciali...\n",
       "4        0  payment history missing credit report made mis..."
      ]
     },
     "execution_count": 18,
     "metadata": {},
     "output_type": "execute_result"
    }
   ],
   "source": [
    "df.head()"
   ]
  },
  {
   "cell_type": "markdown",
   "metadata": {},
   "source": [
    "## Divide data into narratives and targets"
   ]
  },
  {
   "cell_type": "code",
   "execution_count": null,
   "metadata": {},
   "outputs": [],
   "source": []
  },
  {
   "cell_type": "code",
   "execution_count": 19,
   "metadata": {
    "execution": {
     "iopub.execute_input": "2021-04-19T20:34:05.219683Z",
     "iopub.status.busy": "2021-04-19T20:34:05.218683Z",
     "iopub.status.idle": "2021-04-19T20:34:05.237685Z",
     "shell.execute_reply": "2021-04-19T20:34:05.236680Z",
     "shell.execute_reply.started": "2021-04-19T20:34:05.219683Z"
    }
   },
   "outputs": [],
   "source": [
    "main_X = df['narrative']\n",
    "main_y = df['product']"
   ]
  },
  {
   "cell_type": "code",
   "execution_count": 22,
   "metadata": {
    "execution": {
     "iopub.execute_input": "2021-04-19T20:34:55.106700Z",
     "iopub.status.busy": "2021-04-19T20:34:55.105706Z",
     "iopub.status.idle": "2021-04-19T20:34:55.123702Z",
     "shell.execute_reply": "2021-04-19T20:34:55.121701Z",
     "shell.execute_reply.started": "2021-04-19T20:34:55.106700Z"
    }
   },
   "outputs": [],
   "source": [
    "api_X = api_df['narrative']\n",
    "api_y = api_df['product']"
   ]
  },
  {
   "cell_type": "markdown",
   "metadata": {},
   "source": [
    "## Vectorize data and run and score models"
   ]
  },
  {
   "cell_type": "code",
   "execution_count": 26,
   "metadata": {
    "execution": {
     "iopub.execute_input": "2021-04-19T20:37:06.331711Z",
     "iopub.status.busy": "2021-04-19T20:37:06.331711Z",
     "iopub.status.idle": "2021-04-19T20:38:11.059835Z",
     "shell.execute_reply": "2021-04-19T20:38:11.052835Z",
     "shell.execute_reply.started": "2021-04-19T20:37:06.331711Z"
    }
   },
   "outputs": [],
   "source": [
    "# Vectorize X train and test data\n",
    "vectorizer_nb = CountVectorizer(ngram_range=(1,2), max_features=70000)\n",
    "vect_X_main = vectorizer_nb.fit_transform(main_X)\n",
    "vect_X_api = vectorizer_nb.transform(api_X)\n",
    "feature_names = vectorizer_nb.get_feature_names()"
   ]
  },
  {
   "cell_type": "code",
   "execution_count": 27,
   "metadata": {
    "execution": {
     "iopub.execute_input": "2021-04-19T20:38:11.068838Z",
     "iopub.status.busy": "2021-04-19T20:38:11.066836Z",
     "iopub.status.idle": "2021-04-19T20:38:11.101836Z",
     "shell.execute_reply": "2021-04-19T20:38:11.098836Z",
     "shell.execute_reply.started": "2021-04-19T20:38:11.068838Z"
    }
   },
   "outputs": [],
   "source": [
    "# Instantiate model\n",
    "nb_model = MultinomialNB(alpha=0.45)"
   ]
  },
  {
   "cell_type": "code",
   "execution_count": 29,
   "metadata": {
    "execution": {
     "iopub.execute_input": "2021-04-19T20:38:44.245222Z",
     "iopub.status.busy": "2021-04-19T20:38:44.244254Z",
     "iopub.status.idle": "2021-04-19T20:38:49.308226Z",
     "shell.execute_reply": "2021-04-19T20:38:49.307221Z",
     "shell.execute_reply.started": "2021-04-19T20:38:44.245222Z"
    }
   },
   "outputs": [
    {
     "name": "stdout",
     "output_type": "stream",
     "text": [
      "TRAINING - Classification Report\n",
      "Accuracy: 82.5%\n",
      "Precision: 76.2%\n",
      "Recall: 85.3%\n",
      "F1: 79.9%\n",
      "              precision    recall  f1-score   support\n",
      "\n",
      "           0       0.96      0.80      0.87     91171\n",
      "           1       0.71      0.79      0.75     23145\n",
      "           2       0.70      0.91      0.79     18990\n",
      "           3       0.63      0.84      0.72     15564\n",
      "           4       0.80      0.93      0.86     13535\n",
      "\n",
      "    accuracy                           0.83    162405\n",
      "   macro avg       0.76      0.85      0.80    162405\n",
      "weighted avg       0.85      0.83      0.83    162405\n",
      "\n",
      "TESTING - Classification Report\n",
      "Accuracy: 80.6%\n",
      "Precision: 74.3%\n",
      "Recall: 83.0%\n",
      "F1: 77.7%\n",
      "              precision    recall  f1-score   support\n",
      "\n",
      "           0       0.94      0.78      0.85       558\n",
      "           1       0.69      0.79      0.74       165\n",
      "           2       0.70      0.96      0.81       105\n",
      "           3       0.56      0.76      0.64        78\n",
      "           4       0.83      0.86      0.84        94\n",
      "\n",
      "    accuracy                           0.81      1000\n",
      "   macro avg       0.74      0.83      0.78      1000\n",
      "weighted avg       0.83      0.81      0.81      1000\n",
      "\n"
     ]
    },
    {
     "data": {
      "image/png": "[encoded data removed]",
      "text/plain": [
       "<Figure size 1080x360 with 4 Axes>"
      ]
     },
     "metadata": {
      "needs_background": "light"
     },
     "output_type": "display_data"
    }
   ],
   "source": [
    "f.run_model(nb_model, vect_X_main, main_y, vect_X_api, api_y)"
   ]
  },
  {
   "cell_type": "markdown",
   "metadata": {},
   "source": [
    "# Run Gradient Boosting with API data"
   ]
  },
  {
   "cell_type": "markdown",
   "metadata": {
    "execution": {
     "iopub.execute_input": "2021-04-19T20:43:59.260746Z",
     "iopub.status.busy": "2021-04-19T20:43:59.260746Z",
     "iopub.status.idle": "2021-04-19T20:43:59.272745Z",
     "shell.execute_reply": "2021-04-19T20:43:59.270748Z",
     "shell.execute_reply.started": "2021-04-19T20:43:59.260746Z"
    }
   },
   "source": [
    "## Vectorize data and run and score models"
   ]
  },
  {
   "cell_type": "code",
   "execution_count": 32,
   "metadata": {
    "execution": {
     "iopub.execute_input": "2021-04-19T20:45:34.376914Z",
     "iopub.status.busy": "2021-04-19T20:45:34.376914Z",
     "iopub.status.idle": "2021-04-19T20:45:57.188087Z",
     "shell.execute_reply": "2021-04-19T20:45:57.187122Z",
     "shell.execute_reply.started": "2021-04-19T20:45:34.376914Z"
    }
   },
   "outputs": [],
   "source": [
    "vectorizer_gb = TfidfVectorizer(max_features=16000)\n",
    "vect_X_main = vectorizer_gb.fit_transform(main_X)\n",
    "vect_X_api = vectorizer_gb.transform(api_X)\n",
    "feature_names = vectorizer_gb.get_feature_names()"
   ]
  },
  {
   "cell_type": "code",
   "execution_count": 35,
   "metadata": {
    "execution": {
     "iopub.execute_input": "2021-04-19T20:46:28.373693Z",
     "iopub.status.busy": "2021-04-19T20:46:28.373693Z",
     "iopub.status.idle": "2021-04-19T20:46:28.381687Z",
     "shell.execute_reply": "2021-04-19T20:46:28.380686Z",
     "shell.execute_reply.started": "2021-04-19T20:46:28.373693Z"
    }
   },
   "outputs": [],
   "source": [
    "# Instantiate model\n",
    "gb_model = GradientBoostingClassifier(random_state=123, max_depth=5)"
   ]
  },
  {
   "cell_type": "code",
   "execution_count": 36,
   "metadata": {
    "execution": {
     "iopub.execute_input": "2021-04-19T20:46:51.296836Z",
     "iopub.status.busy": "2021-04-19T20:46:51.295839Z",
     "iopub.status.idle": "2021-04-19T21:44:13.767655Z",
     "shell.execute_reply": "2021-04-19T21:44:13.758655Z",
     "shell.execute_reply.started": "2021-04-19T20:46:51.296836Z"
    }
   },
   "outputs": [
    {
     "name": "stdout",
     "output_type": "stream",
     "text": [
      "TRAINING - Classification Report\n",
      "Accuracy: 87.7%\n",
      "Precision: 86.1%\n",
      "Recall: 82.7%\n",
      "F1: 84.3%\n",
      "              precision    recall  f1-score   support\n",
      "\n",
      "           0       0.89      0.94      0.92     91171\n",
      "           1       0.82      0.73      0.77     23145\n",
      "           2       0.88      0.82      0.85     18990\n",
      "           3       0.83      0.78      0.80     15564\n",
      "           4       0.88      0.87      0.88     13535\n",
      "\n",
      "    accuracy                           0.88    162405\n",
      "   macro avg       0.86      0.83      0.84    162405\n",
      "weighted avg       0.87      0.88      0.87    162405\n",
      "\n",
      "TESTING - Classification Report\n",
      "Accuracy: 85.6%\n",
      "Precision: 83.9%\n",
      "Recall: 81.8%\n",
      "F1: 82.8%\n",
      "              precision    recall  f1-score   support\n",
      "\n",
      "           0       0.88      0.90      0.89       558\n",
      "           1       0.77      0.78      0.78       165\n",
      "           2       0.88      0.85      0.86       105\n",
      "           3       0.74      0.73      0.74        78\n",
      "           4       0.92      0.83      0.87        94\n",
      "\n",
      "    accuracy                           0.86      1000\n",
      "   macro avg       0.84      0.82      0.83      1000\n",
      "weighted avg       0.86      0.86      0.86      1000\n",
      "\n"
     ]
    },
    {
     "data": {
      "image/png": "[encoded data removed]",
      "text/plain": [
       "<Figure size 1080x360 with 4 Axes>"
      ]
     },
     "metadata": {
      "needs_background": "light"
     },
     "output_type": "display_data"
    }
   ],
   "source": [
    "f.run_model(gb_model, vect_X_main, main_y, vect_X_api, api_y)"
   ]
  },
  {
   "cell_type": "markdown",
   "metadata": {},
   "source": [
    "Fitting the models with the entire original dataset and checking the model against the API data, it finds:  \n",
    "- The Naive Bayes model has a slightly better recall macro score than the Gradient Boosting Classifier -- .85 vs. .83  \n",
    "- The GB has a little less of an overfitting issue, a difference of .01 between the two macro recall scores compared to a difference of .02 for NB's scores.\n",
    "- Although the averages are similar, the NB class scores are generally more consistent while the GB does quite well in some classes (.94 recall for class 0) and worse in others (0.73 recall in class 1).  \n",
    "- The NB model is a LOT faster, 5 seconds vs. 57 minutes.  "
   ]
  },
  {
   "cell_type": "markdown",
   "metadata": {
    "execution": {
     "iopub.execute_input": "2021-04-20T14:51:15.535847Z",
     "iopub.status.busy": "2021-04-20T14:51:15.526840Z",
     "iopub.status.idle": "2021-04-20T14:51:15.617851Z",
     "shell.execute_reply": "2021-04-20T14:51:15.614850Z",
     "shell.execute_reply.started": "2021-04-20T14:51:15.534849Z"
    }
   },
   "source": [
    "## Get feature importances"
   ]
  },
  {
   "cell_type": "markdown",
   "metadata": {},
   "source": [
    "It's easy to get feature importances from the GB model, while the NB doesn't have an intrinsic method."
   ]
  },
  {
   "cell_type": "code",
   "execution_count": 37,
   "metadata": {
    "execution": {
     "iopub.execute_input": "2021-04-19T22:14:48.768520Z",
     "iopub.status.busy": "2021-04-19T22:14:48.765511Z",
     "iopub.status.idle": "2021-04-19T23:11:18.959381Z",
     "shell.execute_reply": "2021-04-19T23:11:18.953008Z",
     "shell.execute_reply.started": "2021-04-19T22:14:48.766512Z"
    }
   },
   "outputs": [
    {
     "data": {
      "text/plain": [
       "GradientBoostingClassifier(max_depth=5, random_state=123)"
      ]
     },
     "execution_count": 37,
     "metadata": {},
     "output_type": "execute_result"
    }
   ],
   "source": [
    " gb_model.fit(vect_X_main, main_y)"
   ]
  },
  {
   "cell_type": "code",
   "execution_count": 38,
   "metadata": {
    "execution": {
     "iopub.execute_input": "2021-04-19T23:51:36.396455Z",
     "iopub.status.busy": "2021-04-19T23:51:36.394452Z",
     "iopub.status.idle": "2021-04-19T23:51:36.538584Z",
     "shell.execute_reply": "2021-04-19T23:51:36.537584Z",
     "shell.execute_reply.started": "2021-04-19T23:51:36.395454Z"
    }
   },
   "outputs": [
    {
     "data": {
      "text/plain": [
       "array([0., 0., 0., ..., 0., 0., 0.])"
      ]
     },
     "execution_count": 38,
     "metadata": {},
     "output_type": "execute_result"
    }
   ],
   "source": [
    "gb_model.feature_importances_"
   ]
  },
  {
   "cell_type": "code",
   "execution_count": 41,
   "metadata": {
    "execution": {
     "iopub.execute_input": "2021-04-20T00:41:00.470149Z",
     "iopub.status.busy": "2021-04-20T00:41:00.469146Z",
     "iopub.status.idle": "2021-04-20T00:41:00.490143Z",
     "shell.execute_reply": "2021-04-20T00:41:00.489177Z",
     "shell.execute_reply.started": "2021-04-20T00:41:00.470149Z"
    }
   },
   "outputs": [
    {
     "data": {
      "text/plain": [
       "(162405, 16000)"
      ]
     },
     "execution_count": 41,
     "metadata": {},
     "output_type": "execute_result"
    }
   ],
   "source": [
    "vect_X_main.shape"
   ]
  },
  {
   "cell_type": "markdown",
   "metadata": {},
   "source": [
    "Zip the array of feature importances with the `feature_names` from TF-IDF."
   ]
  },
  {
   "cell_type": "code",
   "execution_count": 55,
   "metadata": {
    "execution": {
     "iopub.execute_input": "2021-04-20T00:56:23.386438Z",
     "iopub.status.busy": "2021-04-20T00:56:23.385439Z",
     "iopub.status.idle": "2021-04-20T00:56:23.544442Z",
     "shell.execute_reply": "2021-04-20T00:56:23.543437Z",
     "shell.execute_reply.started": "2021-04-20T00:56:23.386438Z"
    }
   },
   "outputs": [],
   "source": [
    "feat_importa = zip(feature_names, gb_model.feature_importances_)"
   ]
  },
  {
   "cell_type": "markdown",
   "metadata": {},
   "source": [
    "Turn the zip into a list"
   ]
  },
  {
   "cell_type": "code",
   "execution_count": 56,
   "metadata": {
    "execution": {
     "iopub.execute_input": "2021-04-20T00:56:24.876980Z",
     "iopub.status.busy": "2021-04-20T00:56:24.875983Z",
     "iopub.status.idle": "2021-04-20T00:56:24.946984Z",
     "shell.execute_reply": "2021-04-20T00:56:24.945984Z",
     "shell.execute_reply.started": "2021-04-20T00:56:24.876980Z"
    }
   },
   "outputs": [],
   "source": [
    "feature_importances_list = list(feat_importa)"
   ]
  },
  {
   "cell_type": "markdown",
   "metadata": {},
   "source": [
    "Export to use in another notebook."
   ]
  },
  {
   "cell_type": "code",
   "execution_count": 61,
   "metadata": {
    "execution": {
     "iopub.execute_input": "2021-04-20T00:59:40.382506Z",
     "iopub.status.busy": "2021-04-20T00:59:40.381508Z",
     "iopub.status.idle": "2021-04-20T00:59:40.521508Z",
     "shell.execute_reply": "2021-04-20T00:59:40.520506Z",
     "shell.execute_reply.started": "2021-04-20T00:59:40.382506Z"
    }
   },
   "outputs": [],
   "source": [
    "import pickle\n",
    "\n",
    "with open('../project_data/feature_importances_list.txt', 'wb') as filehandle:\n",
    "    # store the data as binary data stream\n",
    "    pickle.dump(feature_importances_list, filehandle)"
   ]
  }
 ],
 "metadata": {
  "kernelspec": {
   "display_name": "Python 3",
   "language": "python",
   "name": "python3"
  },
  "language_info": {
   "codemirror_mode": {
    "name": "ipython",
    "version": 3
   },
   "file_extension": ".py",
   "mimetype": "text/x-python",
   "name": "python",
   "nbconvert_exporter": "python",
   "pygments_lexer": "ipython3",
   "version": "3.6.9"
  }
 },
 "nbformat": 4,
 "nbformat_minor": 4
}
