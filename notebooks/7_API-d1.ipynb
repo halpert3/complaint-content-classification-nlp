{
 "cells": [
  {
   "cell_type": "code",
   "execution_count": 67,
   "metadata": {
    "execution": {
     "iopub.execute_input": "2021-04-16T17:07:57.270249Z",
     "iopub.status.busy": "2021-04-16T17:07:57.253247Z",
     "iopub.status.idle": "2021-04-16T17:07:57.349246Z",
     "shell.execute_reply": "2021-04-16T17:07:57.343264Z",
     "shell.execute_reply.started": "2021-04-16T17:07:57.270249Z"
    }
   },
   "outputs": [],
   "source": [
    "import pandas as pd\n",
    "import requests"
   ]
  },
  {
   "cell_type": "markdown",
   "metadata": {},
   "source": [
    "# Following tutorial"
   ]
  },
  {
   "cell_type": "markdown",
   "metadata": {},
   "source": [
    "https://realpython.com/python-requests/"
   ]
  },
  {
   "cell_type": "code",
   "execution_count": 2,
   "metadata": {
    "execution": {
     "iopub.execute_input": "2021-04-16T14:54:30.773007Z",
     "iopub.status.busy": "2021-04-16T14:54:30.772005Z",
     "iopub.status.idle": "2021-04-16T14:54:31.292003Z",
     "shell.execute_reply": "2021-04-16T14:54:31.290007Z",
     "shell.execute_reply.started": "2021-04-16T14:54:30.773007Z"
    }
   },
   "outputs": [],
   "source": [
    "r = requests.get('https://www.romexchange.com/')"
   ]
  },
  {
   "cell_type": "code",
   "execution_count": 3,
   "metadata": {
    "execution": {
     "iopub.execute_input": "2021-04-16T14:54:31.295005Z",
     "iopub.status.busy": "2021-04-16T14:54:31.294005Z",
     "iopub.status.idle": "2021-04-16T14:54:31.323006Z",
     "shell.execute_reply": "2021-04-16T14:54:31.321006Z",
     "shell.execute_reply.started": "2021-04-16T14:54:31.295005Z"
    }
   },
   "outputs": [
    {
     "data": {
      "text/plain": [
       "406"
      ]
     },
     "execution_count": 3,
     "metadata": {},
     "output_type": "execute_result"
    }
   ],
   "source": [
    "r.status_code"
   ]
  },
  {
   "cell_type": "code",
   "execution_count": 4,
   "metadata": {
    "execution": {
     "iopub.execute_input": "2021-04-16T14:54:31.327010Z",
     "iopub.status.busy": "2021-04-16T14:54:31.326005Z",
     "iopub.status.idle": "2021-04-16T14:54:31.355004Z",
     "shell.execute_reply": "2021-04-16T14:54:31.353006Z",
     "shell.execute_reply.started": "2021-04-16T14:54:31.327010Z"
    }
   },
   "outputs": [],
   "source": [
    "url = 'https://www.romexchange.com/' \n",
    "\n",
    "headers = {'Content-type': 'application/json'}"
   ]
  },
  {
   "cell_type": "code",
   "execution_count": 5,
   "metadata": {
    "execution": {
     "iopub.execute_input": "2021-04-16T14:54:31.358003Z",
     "iopub.status.busy": "2021-04-16T14:54:31.357004Z",
     "iopub.status.idle": "2021-04-16T14:54:31.655003Z",
     "shell.execute_reply": "2021-04-16T14:54:31.653002Z",
     "shell.execute_reply.started": "2021-04-16T14:54:31.358003Z"
    }
   },
   "outputs": [],
   "source": [
    "r = requests.get(url, headers = headers)"
   ]
  },
  {
   "cell_type": "code",
   "execution_count": 6,
   "metadata": {
    "execution": {
     "iopub.execute_input": "2021-04-16T14:54:31.658005Z",
     "iopub.status.busy": "2021-04-16T14:54:31.657005Z",
     "iopub.status.idle": "2021-04-16T14:54:31.671006Z",
     "shell.execute_reply": "2021-04-16T14:54:31.669007Z",
     "shell.execute_reply.started": "2021-04-16T14:54:31.658005Z"
    }
   },
   "outputs": [
    {
     "data": {
      "text/plain": [
       "406"
      ]
     },
     "execution_count": 6,
     "metadata": {},
     "output_type": "execute_result"
    }
   ],
   "source": [
    "r.status_code"
   ]
  },
  {
   "cell_type": "code",
   "execution_count": 7,
   "metadata": {
    "execution": {
     "iopub.execute_input": "2021-04-16T14:54:31.677005Z",
     "iopub.status.busy": "2021-04-16T14:54:31.676006Z",
     "iopub.status.idle": "2021-04-16T14:54:31.719009Z",
     "shell.execute_reply": "2021-04-16T14:54:31.717005Z",
     "shell.execute_reply.started": "2021-04-16T14:54:31.676006Z"
    }
   },
   "outputs": [],
   "source": [
    "headers = {'User-Agent': 'XY','Content-type': 'application/json'}"
   ]
  },
  {
   "cell_type": "code",
   "execution_count": 8,
   "metadata": {
    "execution": {
     "iopub.execute_input": "2021-04-16T14:54:31.724006Z",
     "iopub.status.busy": "2021-04-16T14:54:31.723004Z",
     "iopub.status.idle": "2021-04-16T14:54:32.063007Z",
     "shell.execute_reply": "2021-04-16T14:54:32.061005Z",
     "shell.execute_reply.started": "2021-04-16T14:54:31.723004Z"
    }
   },
   "outputs": [],
   "source": [
    "r = requests.get(url, headers = headers)"
   ]
  },
  {
   "cell_type": "code",
   "execution_count": 9,
   "metadata": {
    "execution": {
     "iopub.execute_input": "2021-04-16T14:54:32.069008Z",
     "iopub.status.busy": "2021-04-16T14:54:32.068010Z",
     "iopub.status.idle": "2021-04-16T14:54:32.079008Z",
     "shell.execute_reply": "2021-04-16T14:54:32.077027Z",
     "shell.execute_reply.started": "2021-04-16T14:54:32.069008Z"
    }
   },
   "outputs": [
    {
     "data": {
      "text/plain": [
       "200"
      ]
     },
     "execution_count": 9,
     "metadata": {},
     "output_type": "execute_result"
    }
   ],
   "source": [
    "r.status_code"
   ]
  },
  {
   "cell_type": "code",
   "execution_count": 10,
   "metadata": {
    "execution": {
     "iopub.execute_input": "2021-04-16T14:54:32.085006Z",
     "iopub.status.busy": "2021-04-16T14:54:32.084008Z",
     "iopub.status.idle": "2021-04-16T14:54:32.127017Z",
     "shell.execute_reply": "2021-04-16T14:54:32.125006Z",
     "shell.execute_reply.started": "2021-04-16T14:54:32.085006Z"
    }
   },
   "outputs": [
    {
     "data": {
      "text/plain": [
       "b'<!doctype html><html lang=\"en\"><head><meta charset=\"utf-8\"><meta name=\"viewport\" content=\"width=device-width,initial-scale=1,shrink-to-fit=no\"><meta name=\"theme-color\" content=\"#000000\"><meta name=\"description\" content=\"Track price changes of any item in Ragnarok M on the Global and SEA servers. Easily see which item prices are rising or falling the fastest and compare between servers to gain an advantage in trading.\"><meta name=\"keywords\" content=\"Ragnarok, Online, Mobile, Eternal Love, Exchange, History, ROM, Ragnarok M, RO, Price, Market, Tracker, Global, SEA\"><meta property=\"og:site_name\" content=\"ROM Exchange\"><meta property=\"og:title\" content=\"ROM Exchange - Ragnarok M: Eternal Love Exchange Price History\"><meta property=\"og:description\" content=\"Track price changes of any item in Ragnarok M on the Global and SEA servers. Easily see which item prices are rising or falling the fastest and compare between servers to gain an advantage in trading.\"><meta property=\"og:image\" content=\"/images/og_image.png\"><link rel=\"manifest\" href=\"/manifest.json\"><link rel=\"shortcut icon\" href=\"/favicon.ico\"><link rel=\"stylesheet\" href=\"https://fonts.googleapis.com/css?family=Roboto:300,400,500\"/><link rel=\"stylesheet\" href=\"https://fonts.googleapis.com/icon?family=Material+Icons\"/><title>ROM Exchange - Ragnarok M: Eternal Love Exchange Price History</title><link href=\"/static/css/main.2cec7f57.chunk.css\" rel=\"stylesheet\"></head><body><noscript>You need to enable JavaScript to run this app.</noscript><div id=\"root\"></div><script>!function(l){function e(e){for(var r,t,n=e[0],o=e[1],u=e[2],f=0,i=[];f<n.length;f++)t=n[f],p[t]&&i.push(p[t][0]),p[t]=0;for(r in o)Object.prototype.hasOwnProperty.call(o,r)&&(l[r]=o[r]);for(s&&s(e);i.length;)i.shift()();return c.push.apply(c,u||[]),a()}function a(){for(var e,r=0;r<c.length;r++){for(var t=c[r],n=!0,o=1;o<t.length;o++){var u=t[o];0!==p[u]&&(n=!1)}n&&(c.splice(r--,1),e=f(f.s=t[0]))}return e}var t={},p={2:0},c=[];function f(e){if(t[e])return t[e].exports;var r=t[e]={i:e,l:!1,exports:{}};return l[e].call(r.exports,r,r.exports,f),r.l=!0,r.exports}f.m=l,f.c=t,f.d=function(e,r,t){f.o(e,r)||Object.defineProperty(e,r,{enumerable:!0,get:t})},f.r=function(e){\"undefined\"!=typeof Symbol&&Symbol.toStringTag&&Object.defineProperty(e,Symbol.toStringTag,{value:\"Module\"}),Object.defineProperty(e,\"__esModule\",{value:!0})},f.t=function(r,e){if(1&e&&(r=f(r)),8&e)return r;if(4&e&&\"object\"==typeof r&&r&&r.__esModule)return r;var t=Object.create(null);if(f.r(t),Object.defineProperty(t,\"default\",{enumerable:!0,value:r}),2&e&&\"string\"!=typeof r)for(var n in r)f.d(t,n,function(e){return r[e]}.bind(null,n));return t},f.n=function(e){var r=e&&e.__esModule?function(){return e.default}:function(){return e};return f.d(r,\"a\",r),r},f.o=function(e,r){return Object.prototype.hasOwnProperty.call(e,r)},f.p=\"/\";var r=this.webpackJsonp=this.webpackJsonp||[],n=r.push.bind(r);r.push=e,r=r.slice();for(var o=0;o<r.length;o++)e(r[o]);var s=n;a()}([])</script><script src=\"/static/js/1.ad152b9e.chunk.js\"></script><script src=\"/static/js/main.226be9fb.chunk.js\"></script></body></html>'"
      ]
     },
     "execution_count": 10,
     "metadata": {},
     "output_type": "execute_result"
    }
   ],
   "source": [
    "r.content"
   ]
  },
  {
   "cell_type": "code",
   "execution_count": 11,
   "metadata": {
    "execution": {
     "iopub.execute_input": "2021-04-16T14:54:32.132008Z",
     "iopub.status.busy": "2021-04-16T14:54:32.131009Z",
     "iopub.status.idle": "2021-04-16T14:54:32.190005Z",
     "shell.execute_reply": "2021-04-16T14:54:32.188004Z",
     "shell.execute_reply.started": "2021-04-16T14:54:32.132008Z"
    }
   },
   "outputs": [
    {
     "data": {
      "text/plain": [
       "'<!doctype html><html lang=\"en\"><head><meta charset=\"utf-8\"><meta name=\"viewport\" content=\"width=device-width,initial-scale=1,shrink-to-fit=no\"><meta name=\"theme-color\" content=\"#000000\"><meta name=\"description\" content=\"Track price changes of any item in Ragnarok M on the Global and SEA servers. Easily see which item prices are rising or falling the fastest and compare between servers to gain an advantage in trading.\"><meta name=\"keywords\" content=\"Ragnarok, Online, Mobile, Eternal Love, Exchange, History, ROM, Ragnarok M, RO, Price, Market, Tracker, Global, SEA\"><meta property=\"og:site_name\" content=\"ROM Exchange\"><meta property=\"og:title\" content=\"ROM Exchange - Ragnarok M: Eternal Love Exchange Price History\"><meta property=\"og:description\" content=\"Track price changes of any item in Ragnarok M on the Global and SEA servers. Easily see which item prices are rising or falling the fastest and compare between servers to gain an advantage in trading.\"><meta property=\"og:image\" content=\"/images/og_image.png\"><link rel=\"manifest\" href=\"/manifest.json\"><link rel=\"shortcut icon\" href=\"/favicon.ico\"><link rel=\"stylesheet\" href=\"https://fonts.googleapis.com/css?family=Roboto:300,400,500\"/><link rel=\"stylesheet\" href=\"https://fonts.googleapis.com/icon?family=Material+Icons\"/><title>ROM Exchange - Ragnarok M: Eternal Love Exchange Price History</title><link href=\"/static/css/main.2cec7f57.chunk.css\" rel=\"stylesheet\"></head><body><noscript>You need to enable JavaScript to run this app.</noscript><div id=\"root\"></div><script>!function(l){function e(e){for(var r,t,n=e[0],o=e[1],u=e[2],f=0,i=[];f<n.length;f++)t=n[f],p[t]&&i.push(p[t][0]),p[t]=0;for(r in o)Object.prototype.hasOwnProperty.call(o,r)&&(l[r]=o[r]);for(s&&s(e);i.length;)i.shift()();return c.push.apply(c,u||[]),a()}function a(){for(var e,r=0;r<c.length;r++){for(var t=c[r],n=!0,o=1;o<t.length;o++){var u=t[o];0!==p[u]&&(n=!1)}n&&(c.splice(r--,1),e=f(f.s=t[0]))}return e}var t={},p={2:0},c=[];function f(e){if(t[e])return t[e].exports;var r=t[e]={i:e,l:!1,exports:{}};return l[e].call(r.exports,r,r.exports,f),r.l=!0,r.exports}f.m=l,f.c=t,f.d=function(e,r,t){f.o(e,r)||Object.defineProperty(e,r,{enumerable:!0,get:t})},f.r=function(e){\"undefined\"!=typeof Symbol&&Symbol.toStringTag&&Object.defineProperty(e,Symbol.toStringTag,{value:\"Module\"}),Object.defineProperty(e,\"__esModule\",{value:!0})},f.t=function(r,e){if(1&e&&(r=f(r)),8&e)return r;if(4&e&&\"object\"==typeof r&&r&&r.__esModule)return r;var t=Object.create(null);if(f.r(t),Object.defineProperty(t,\"default\",{enumerable:!0,value:r}),2&e&&\"string\"!=typeof r)for(var n in r)f.d(t,n,function(e){return r[e]}.bind(null,n));return t},f.n=function(e){var r=e&&e.__esModule?function(){return e.default}:function(){return e};return f.d(r,\"a\",r),r},f.o=function(e,r){return Object.prototype.hasOwnProperty.call(e,r)},f.p=\"/\";var r=this.webpackJsonp=this.webpackJsonp||[],n=r.push.bind(r);r.push=e,r=r.slice();for(var o=0;o<r.length;o++)e(r[o]);var s=n;a()}([])</script><script src=\"/static/js/1.ad152b9e.chunk.js\"></script><script src=\"/static/js/main.226be9fb.chunk.js\"></script></body></html>'"
      ]
     },
     "execution_count": 11,
     "metadata": {},
     "output_type": "execute_result"
    }
   ],
   "source": [
    "r.text"
   ]
  },
  {
   "cell_type": "code",
   "execution_count": 12,
   "metadata": {
    "execution": {
     "iopub.execute_input": "2021-04-16T14:54:32.193005Z",
     "iopub.status.busy": "2021-04-16T14:54:32.193005Z",
     "iopub.status.idle": "2021-04-16T14:54:32.209004Z",
     "shell.execute_reply": "2021-04-16T14:54:32.204007Z",
     "shell.execute_reply.started": "2021-04-16T14:54:32.193005Z"
    }
   },
   "outputs": [
    {
     "data": {
      "text/plain": [
       "<bound method Response.json of <Response [200]>>"
      ]
     },
     "execution_count": 12,
     "metadata": {},
     "output_type": "execute_result"
    }
   ],
   "source": [
    "r.json"
   ]
  },
  {
   "cell_type": "code",
   "execution_count": 13,
   "metadata": {
    "execution": {
     "iopub.execute_input": "2021-04-16T14:54:32.221006Z",
     "iopub.status.busy": "2021-04-16T14:54:32.218006Z",
     "iopub.status.idle": "2021-04-16T14:54:32.253004Z",
     "shell.execute_reply": "2021-04-16T14:54:32.251003Z",
     "shell.execute_reply.started": "2021-04-16T14:54:32.221006Z"
    }
   },
   "outputs": [
    {
     "data": {
      "text/plain": [
       "{'Date': 'Fri, 16 Apr 2021 14:54:32 GMT', 'Server': 'nginx/1.19.5', 'Content-Type': 'text/html', 'Content-Length': '1404', 'Last-Modified': 'Wed, 05 Feb 2020 00:31:18 GMT', 'Vary': 'Accept-Encoding', 'Content-Encoding': 'gzip', 'X-Server-Cache': 'true', 'X-Proxy-Cache': 'EXPIRED', 'Accept-Ranges': 'bytes'}"
      ]
     },
     "execution_count": 13,
     "metadata": {},
     "output_type": "execute_result"
    }
   ],
   "source": [
    "r.headers"
   ]
  },
  {
   "cell_type": "markdown",
   "metadata": {},
   "source": [
    "# Trying with CFPB"
   ]
  },
  {
   "cell_type": "markdown",
   "metadata": {},
   "source": [
    "**Documentation**\n"
   ]
  },
  {
   "cell_type": "markdown",
   "metadata": {},
   "source": [
    "https://cfpb.github.io/api/ccdb/api/index.html"
   ]
  },
  {
   "cell_type": "markdown",
   "metadata": {},
   "source": [
    "**API URL**"
   ]
  },
  {
   "cell_type": "markdown",
   "metadata": {},
   "source": [
    "https://www.consumerfinance.gov/data-research/consumer-complaints/search/api/v1/"
   ]
  },
  {
   "cell_type": "code",
   "execution_count": 68,
   "metadata": {
    "execution": {
     "iopub.execute_input": "2021-04-16T17:08:03.584323Z",
     "iopub.status.busy": "2021-04-16T17:08:03.583325Z",
     "iopub.status.idle": "2021-04-16T17:08:04.813327Z",
     "shell.execute_reply": "2021-04-16T17:08:04.810332Z",
     "shell.execute_reply.started": "2021-04-16T17:08:03.584323Z"
    }
   },
   "outputs": [],
   "source": [
    "r = requests.get('https://www.consumerfinance.gov/data-research/consumer-complaints/search/api/v1/')"
   ]
  },
  {
   "cell_type": "code",
   "execution_count": 15,
   "metadata": {
    "execution": {
     "iopub.execute_input": "2021-04-16T14:54:33.318006Z",
     "iopub.status.busy": "2021-04-16T14:54:33.317005Z",
     "iopub.status.idle": "2021-04-16T14:54:33.332006Z",
     "shell.execute_reply": "2021-04-16T14:54:33.330004Z",
     "shell.execute_reply.started": "2021-04-16T14:54:33.318006Z"
    }
   },
   "outputs": [],
   "source": [
    "url = 'https://www.consumerfinance.gov/data-research/consumer-complaints/search/api/v1/'"
   ]
  },
  {
   "cell_type": "code",
   "execution_count": 16,
   "metadata": {
    "execution": {
     "iopub.execute_input": "2021-04-16T14:54:33.335005Z",
     "iopub.status.busy": "2021-04-16T14:54:33.334007Z",
     "iopub.status.idle": "2021-04-16T14:54:33.364007Z",
     "shell.execute_reply": "2021-04-16T14:54:33.362006Z",
     "shell.execute_reply.started": "2021-04-16T14:54:33.335005Z"
    }
   },
   "outputs": [
    {
     "data": {
      "text/plain": [
       "200"
      ]
     },
     "execution_count": 16,
     "metadata": {},
     "output_type": "execute_result"
    }
   ],
   "source": [
    "r.status_code"
   ]
  },
  {
   "cell_type": "code",
   "execution_count": 69,
   "metadata": {
    "execution": {
     "iopub.execute_input": "2021-04-16T17:08:13.917864Z",
     "iopub.status.busy": "2021-04-16T17:08:13.916865Z",
     "iopub.status.idle": "2021-04-16T17:08:14.304864Z",
     "shell.execute_reply": "2021-04-16T17:08:14.302863Z",
     "shell.execute_reply.started": "2021-04-16T17:08:13.917864Z"
    }
   },
   "outputs": [],
   "source": [
    "r1 = requests.get('https://www.consumerfinance.gov/data-research/consumer-complaints/search/api/v1/?company_received_max=2017-03-04&company_received_min=2017-03-05')"
   ]
  },
  {
   "cell_type": "code",
   "execution_count": 18,
   "metadata": {
    "execution": {
     "iopub.execute_input": "2021-04-16T14:54:33.729002Z",
     "iopub.status.busy": "2021-04-16T14:54:33.728005Z",
     "iopub.status.idle": "2021-04-16T14:54:33.742004Z",
     "shell.execute_reply": "2021-04-16T14:54:33.740002Z",
     "shell.execute_reply.started": "2021-04-16T14:54:33.729002Z"
    }
   },
   "outputs": [],
   "source": [
    "# r1.content"
   ]
  },
  {
   "cell_type": "code",
   "execution_count": 19,
   "metadata": {
    "execution": {
     "iopub.execute_input": "2021-04-16T14:54:33.745005Z",
     "iopub.status.busy": "2021-04-16T14:54:33.744004Z",
     "iopub.status.idle": "2021-04-16T14:54:33.774005Z",
     "shell.execute_reply": "2021-04-16T14:54:33.772003Z",
     "shell.execute_reply.started": "2021-04-16T14:54:33.745005Z"
    }
   },
   "outputs": [
    {
     "data": {
      "text/plain": [
       "1888"
      ]
     },
     "execution_count": 19,
     "metadata": {},
     "output_type": "execute_result"
    }
   ],
   "source": [
    "len(r1.content)"
   ]
  },
  {
   "cell_type": "code",
   "execution_count": 70,
   "metadata": {
    "execution": {
     "iopub.execute_input": "2021-04-16T17:08:15.992863Z",
     "iopub.status.busy": "2021-04-16T17:08:15.991867Z",
     "iopub.status.idle": "2021-04-16T17:08:16.008868Z",
     "shell.execute_reply": "2021-04-16T17:08:16.006864Z",
     "shell.execute_reply.started": "2021-04-16T17:08:15.992863Z"
    }
   },
   "outputs": [],
   "source": [
    "parameters = {'date_received_max': '2020-03-05',\n",
    "              'date_received_min': '2020-03-04'\n",
    "}"
   ]
  },
  {
   "cell_type": "code",
   "execution_count": 71,
   "metadata": {
    "execution": {
     "iopub.execute_input": "2021-04-16T17:08:20.349864Z",
     "iopub.status.busy": "2021-04-16T17:08:20.348865Z",
     "iopub.status.idle": "2021-04-16T17:08:21.693863Z",
     "shell.execute_reply": "2021-04-16T17:08:21.691863Z",
     "shell.execute_reply.started": "2021-04-16T17:08:20.349864Z"
    }
   },
   "outputs": [],
   "source": [
    "r2 = requests.get(url, params=parameters)"
   ]
  },
  {
   "cell_type": "code",
   "execution_count": 72,
   "metadata": {
    "execution": {
     "iopub.execute_input": "2021-04-16T17:08:21.697865Z",
     "iopub.status.busy": "2021-04-16T17:08:21.696864Z",
     "iopub.status.idle": "2021-04-16T17:08:21.725872Z",
     "shell.execute_reply": "2021-04-16T17:08:21.721878Z",
     "shell.execute_reply.started": "2021-04-16T17:08:21.697865Z"
    }
   },
   "outputs": [
    {
     "data": {
      "text/plain": [
       "200"
      ]
     },
     "execution_count": 72,
     "metadata": {},
     "output_type": "execute_result"
    }
   ],
   "source": [
    "r2.status_code"
   ]
  },
  {
   "cell_type": "code",
   "execution_count": 23,
   "metadata": {
    "execution": {
     "iopub.execute_input": "2021-04-16T14:54:34.320160Z",
     "iopub.status.busy": "2021-04-16T14:54:34.317151Z",
     "iopub.status.idle": "2021-04-16T14:54:34.378156Z",
     "shell.execute_reply": "2021-04-16T14:54:34.374157Z",
     "shell.execute_reply.started": "2021-04-16T14:54:34.319158Z"
    }
   },
   "outputs": [],
   "source": [
    "# r2.content"
   ]
  },
  {
   "cell_type": "code",
   "execution_count": 24,
   "metadata": {
    "execution": {
     "iopub.execute_input": "2021-04-16T14:54:34.397158Z",
     "iopub.status.busy": "2021-04-16T14:54:34.394165Z",
     "iopub.status.idle": "2021-04-16T14:54:34.423155Z",
     "shell.execute_reply": "2021-04-16T14:54:34.421155Z",
     "shell.execute_reply.started": "2021-04-16T14:54:34.396163Z"
    }
   },
   "outputs": [],
   "source": [
    "# r2.json()"
   ]
  },
  {
   "cell_type": "code",
   "execution_count": 25,
   "metadata": {
    "execution": {
     "iopub.execute_input": "2021-04-16T14:54:34.437158Z",
     "iopub.status.busy": "2021-04-16T14:54:34.436156Z",
     "iopub.status.idle": "2021-04-16T14:54:34.517154Z",
     "shell.execute_reply": "2021-04-16T14:54:34.515162Z",
     "shell.execute_reply.started": "2021-04-16T14:54:34.437158Z"
    }
   },
   "outputs": [],
   "source": [
    "df = pd.DataFrame.from_dict(r2.json())"
   ]
  },
  {
   "cell_type": "code",
   "execution_count": 26,
   "metadata": {
    "execution": {
     "iopub.execute_input": "2021-04-16T14:54:34.522154Z",
     "iopub.status.busy": "2021-04-16T14:54:34.521156Z",
     "iopub.status.idle": "2021-04-16T14:54:34.710155Z",
     "shell.execute_reply": "2021-04-16T14:54:34.707154Z",
     "shell.execute_reply.started": "2021-04-16T14:54:34.522154Z"
    }
   },
   "outputs": [
    {
     "data": {
      "text/html": [
       "<div>\n",
       "<style scoped>\n",
       "    .dataframe tbody tr th:only-of-type {\n",
       "        vertical-align: middle;\n",
       "    }\n",
       "\n",
       "    .dataframe tbody tr th {\n",
       "        vertical-align: top;\n",
       "    }\n",
       "\n",
       "    .dataframe thead th {\n",
       "        text-align: right;\n",
       "    }\n",
       "</style>\n",
       "<table border=\"1\" class=\"dataframe\">\n",
       "  <thead>\n",
       "    <tr style=\"text-align: right;\">\n",
       "      <th></th>\n",
       "      <th>_scroll_id</th>\n",
       "      <th>took</th>\n",
       "      <th>timed_out</th>\n",
       "      <th>_shards</th>\n",
       "      <th>hits</th>\n",
       "      <th>aggregations</th>\n",
       "      <th>_meta</th>\n",
       "    </tr>\n",
       "  </thead>\n",
       "  <tbody>\n",
       "    <tr>\n",
       "      <th>total</th>\n",
       "      <td>cXVlcnlUaGVuRmV0Y2g7NTszNDc5MzU6ZzRIUGF4VEZScj...</td>\n",
       "      <td>94</td>\n",
       "      <td>False</td>\n",
       "      <td>5.0</td>\n",
       "      <td>1172</td>\n",
       "      <td>NaN</td>\n",
       "      <td>NaN</td>\n",
       "    </tr>\n",
       "    <tr>\n",
       "      <th>successful</th>\n",
       "      <td>cXVlcnlUaGVuRmV0Y2g7NTszNDc5MzU6ZzRIUGF4VEZScj...</td>\n",
       "      <td>94</td>\n",
       "      <td>False</td>\n",
       "      <td>5.0</td>\n",
       "      <td>NaN</td>\n",
       "      <td>NaN</td>\n",
       "      <td>NaN</td>\n",
       "    </tr>\n",
       "    <tr>\n",
       "      <th>failed</th>\n",
       "      <td>cXVlcnlUaGVuRmV0Y2g7NTszNDc5MzU6ZzRIUGF4VEZScj...</td>\n",
       "      <td>94</td>\n",
       "      <td>False</td>\n",
       "      <td>0.0</td>\n",
       "      <td>NaN</td>\n",
       "      <td>NaN</td>\n",
       "      <td>NaN</td>\n",
       "    </tr>\n",
       "    <tr>\n",
       "      <th>max_score</th>\n",
       "      <td>cXVlcnlUaGVuRmV0Y2g7NTszNDc5MzU6ZzRIUGF4VEZScj...</td>\n",
       "      <td>94</td>\n",
       "      <td>False</td>\n",
       "      <td>NaN</td>\n",
       "      <td>1</td>\n",
       "      <td>NaN</td>\n",
       "      <td>NaN</td>\n",
       "    </tr>\n",
       "    <tr>\n",
       "      <th>hits</th>\n",
       "      <td>cXVlcnlUaGVuRmV0Y2g7NTszNDc5MzU6ZzRIUGF4VEZScj...</td>\n",
       "      <td>94</td>\n",
       "      <td>False</td>\n",
       "      <td>NaN</td>\n",
       "      <td>[{'_index': 'complaint-public-v2', '_type': 'c...</td>\n",
       "      <td>NaN</td>\n",
       "      <td>NaN</td>\n",
       "    </tr>\n",
       "  </tbody>\n",
       "</table>\n",
       "</div>"
      ],
      "text/plain": [
       "                                                   _scroll_id  took  \\\n",
       "total       cXVlcnlUaGVuRmV0Y2g7NTszNDc5MzU6ZzRIUGF4VEZScj...    94   \n",
       "successful  cXVlcnlUaGVuRmV0Y2g7NTszNDc5MzU6ZzRIUGF4VEZScj...    94   \n",
       "failed      cXVlcnlUaGVuRmV0Y2g7NTszNDc5MzU6ZzRIUGF4VEZScj...    94   \n",
       "max_score   cXVlcnlUaGVuRmV0Y2g7NTszNDc5MzU6ZzRIUGF4VEZScj...    94   \n",
       "hits        cXVlcnlUaGVuRmV0Y2g7NTszNDc5MzU6ZzRIUGF4VEZScj...    94   \n",
       "\n",
       "            timed_out  _shards  \\\n",
       "total           False      5.0   \n",
       "successful      False      5.0   \n",
       "failed          False      0.0   \n",
       "max_score       False      NaN   \n",
       "hits            False      NaN   \n",
       "\n",
       "                                                         hits aggregations  \\\n",
       "total                                                    1172          NaN   \n",
       "successful                                                NaN          NaN   \n",
       "failed                                                    NaN          NaN   \n",
       "max_score                                                   1          NaN   \n",
       "hits        [{'_index': 'complaint-public-v2', '_type': 'c...          NaN   \n",
       "\n",
       "           _meta  \n",
       "total        NaN  \n",
       "successful   NaN  \n",
       "failed       NaN  \n",
       "max_score    NaN  \n",
       "hits         NaN  "
      ]
     },
     "execution_count": 26,
     "metadata": {},
     "output_type": "execute_result"
    }
   ],
   "source": [
    "df.head()"
   ]
  },
  {
   "cell_type": "code",
   "execution_count": 73,
   "metadata": {
    "execution": {
     "iopub.execute_input": "2021-04-16T17:08:33.721865Z",
     "iopub.status.busy": "2021-04-16T17:08:33.720865Z",
     "iopub.status.idle": "2021-04-16T17:08:33.753864Z",
     "shell.execute_reply": "2021-04-16T17:08:33.750867Z",
     "shell.execute_reply.started": "2021-04-16T17:08:33.721865Z"
    }
   },
   "outputs": [],
   "source": [
    "diction = r2.json()"
   ]
  },
  {
   "cell_type": "code",
   "execution_count": 77,
   "metadata": {
    "execution": {
     "iopub.execute_input": "2021-04-16T17:11:02.355384Z",
     "iopub.status.busy": "2021-04-16T17:11:02.354383Z",
     "iopub.status.idle": "2021-04-16T17:11:02.471387Z",
     "shell.execute_reply": "2021-04-16T17:11:02.467395Z",
     "shell.execute_reply.started": "2021-04-16T17:11:02.355384Z"
    }
   },
   "outputs": [
    {
     "data": {
      "text/plain": [
       "{'tags': {'doc_count': 1172,\n",
       "  'tags': {'doc_count_error_upper_bound': 0,\n",
       "   'sum_other_doc_count': 0,\n",
       "   'buckets': [{'key': 'Servicemember', 'doc_count': 86},\n",
       "    {'key': 'Older American', 'doc_count': 51},\n",
       "    {'key': 'Older American, Servicemember', 'doc_count': 6}]}},\n",
       " 'product': {'doc_count': 1172,\n",
       "  'product': {'doc_count_error_upper_bound': 0,\n",
       "   'sum_other_doc_count': 0,\n",
       "   'buckets': [{'key': 'Credit reporting, credit repair services, or other personal consumer reports',\n",
       "     'doc_count': 644,\n",
       "     'sub_product.raw': {'doc_count_error_upper_bound': 0,\n",
       "      'sum_other_doc_count': 0,\n",
       "      'buckets': [{'key': 'Credit reporting', 'doc_count': 636},\n",
       "       {'key': 'Other personal consumer report', 'doc_count': 8}]}},\n",
       "    {'key': 'Debt collection',\n",
       "     'doc_count': 163,\n",
       "     'sub_product.raw': {'doc_count_error_upper_bound': 0,\n",
       "      'sum_other_doc_count': 0,\n",
       "      'buckets': [{'key': 'I do not know', 'doc_count': 52},\n",
       "       {'key': 'Other debt', 'doc_count': 50},\n",
       "       {'key': 'Credit card debt', 'doc_count': 24},\n",
       "       {'key': 'Medical debt', 'doc_count': 23},\n",
       "       {'key': 'Auto debt', 'doc_count': 7},\n",
       "       {'key': 'Payday loan debt', 'doc_count': 5},\n",
       "       {'key': 'Federal student loan debt', 'doc_count': 1},\n",
       "       {'key': 'Private student loan debt', 'doc_count': 1}]}},\n",
       "    {'key': 'Credit card or prepaid card',\n",
       "     'doc_count': 98,\n",
       "     'sub_product.raw': {'doc_count_error_upper_bound': 0,\n",
       "      'sum_other_doc_count': 0,\n",
       "      'buckets': [{'key': 'General-purpose credit card or charge card',\n",
       "        'doc_count': 73},\n",
       "       {'key': 'Store credit card', 'doc_count': 16},\n",
       "       {'key': 'General-purpose prepaid card', 'doc_count': 4},\n",
       "       {'key': 'Government benefit card', 'doc_count': 4},\n",
       "       {'key': 'Payroll card', 'doc_count': 1}]}},\n",
       "    {'key': 'Mortgage',\n",
       "     'doc_count': 98,\n",
       "     'sub_product.raw': {'doc_count_error_upper_bound': 0,\n",
       "      'sum_other_doc_count': 0,\n",
       "      'buckets': [{'key': 'Conventional home mortgage', 'doc_count': 68},\n",
       "       {'key': 'FHA mortgage', 'doc_count': 13},\n",
       "       {'key': 'Other type of mortgage', 'doc_count': 8},\n",
       "       {'key': 'VA mortgage', 'doc_count': 6},\n",
       "       {'key': 'Home equity loan or line of credit (HELOC)',\n",
       "        'doc_count': 3}]}},\n",
       "    {'key': 'Checking or savings account',\n",
       "     'doc_count': 88,\n",
       "     'sub_product.raw': {'doc_count_error_upper_bound': 0,\n",
       "      'sum_other_doc_count': 0,\n",
       "      'buckets': [{'key': 'Checking account', 'doc_count': 75},\n",
       "       {'key': 'Other banking product or service', 'doc_count': 6},\n",
       "       {'key': 'Savings account', 'doc_count': 4},\n",
       "       {'key': 'CD (Certificate of Deposit)', 'doc_count': 3}]}},\n",
       "    {'key': 'Vehicle loan or lease',\n",
       "     'doc_count': 24,\n",
       "     'sub_product.raw': {'doc_count_error_upper_bound': 0,\n",
       "      'sum_other_doc_count': 0,\n",
       "      'buckets': [{'key': 'Loan', 'doc_count': 20},\n",
       "       {'key': 'Lease', 'doc_count': 4}]}},\n",
       "    {'key': 'Student loan',\n",
       "     'doc_count': 23,\n",
       "     'sub_product.raw': {'doc_count_error_upper_bound': 0,\n",
       "      'sum_other_doc_count': 0,\n",
       "      'buckets': [{'key': 'Federal student loan servicing', 'doc_count': 15},\n",
       "       {'key': 'Private student loan', 'doc_count': 8}]}},\n",
       "    {'key': 'Money transfer, virtual currency, or money service',\n",
       "     'doc_count': 18,\n",
       "     'sub_product.raw': {'doc_count_error_upper_bound': 0,\n",
       "      'sum_other_doc_count': 0,\n",
       "      'buckets': [{'key': 'Domestic (US) money transfer', 'doc_count': 10},\n",
       "       {'key': 'Mobile or digital wallet', 'doc_count': 5},\n",
       "       {'key': 'International money transfer', 'doc_count': 2},\n",
       "       {'key': 'Debt settlement', 'doc_count': 1}]}},\n",
       "    {'key': 'Payday loan, title loan, or personal loan',\n",
       "     'doc_count': 16,\n",
       "     'sub_product.raw': {'doc_count_error_upper_bound': 0,\n",
       "      'sum_other_doc_count': 0,\n",
       "      'buckets': [{'key': 'Installment loan', 'doc_count': 10},\n",
       "       {'key': 'Payday loan', 'doc_count': 4},\n",
       "       {'key': 'Title loan', 'doc_count': 2}]}}]}},\n",
       " 'has_narrative': {'doc_count': 1172,\n",
       "  'has_narrative': {'doc_count_error_upper_bound': 0,\n",
       "   'sum_other_doc_count': 0,\n",
       "   'buckets': [{'key': 0, 'key_as_string': 'false', 'doc_count': 652},\n",
       "    {'key': 1, 'key_as_string': 'true', 'doc_count': 520}]}},\n",
       " 'company_response': {'doc_count': 1172,\n",
       "  'company_response': {'doc_count_error_upper_bound': 0,\n",
       "   'sum_other_doc_count': 0,\n",
       "   'buckets': [{'key': 'Closed with explanation', 'doc_count': 1027},\n",
       "    {'key': 'Closed with non-monetary relief', 'doc_count': 99},\n",
       "    {'key': 'Closed with monetary relief', 'doc_count': 45},\n",
       "    {'key': 'Untimely response', 'doc_count': 1}]}},\n",
       " 'submitted_via': {'doc_count': 1172,\n",
       "  'submitted_via': {'doc_count_error_upper_bound': 0,\n",
       "   'sum_other_doc_count': 0,\n",
       "   'buckets': [{'key': 'Web', 'doc_count': 982},\n",
       "    {'key': 'Phone', 'doc_count': 89},\n",
       "    {'key': 'Referral', 'doc_count': 67},\n",
       "    {'key': 'Postal mail', 'doc_count': 28},\n",
       "    {'key': 'Fax', 'doc_count': 6}]}},\n",
       " 'issue': {'doc_count': 1172,\n",
       "  'issue': {'doc_count_error_upper_bound': 0,\n",
       "   'sum_other_doc_count': 0,\n",
       "   'buckets': [{'key': 'Incorrect information on your report',\n",
       "     'doc_count': 425,\n",
       "     'sub_issue.raw': {'doc_count_error_upper_bound': 0,\n",
       "      'sum_other_doc_count': 0,\n",
       "      'buckets': [{'key': 'Information belongs to someone else',\n",
       "        'doc_count': 334},\n",
       "       {'key': 'Account information incorrect', 'doc_count': 40},\n",
       "       {'key': 'Account status incorrect', 'doc_count': 28},\n",
       "       {'key': 'Public record information inaccurate', 'doc_count': 7},\n",
       "       {'key': 'Old information reappears or never goes away', 'doc_count': 6},\n",
       "       {'key': 'Personal information incorrect', 'doc_count': 4},\n",
       "       {'key': 'Information is missing that should be on the report',\n",
       "        'doc_count': 3},\n",
       "       {'key': 'Information is incorrect', 'doc_count': 1}]}},\n",
       "    {'key': \"Problem with a credit reporting company's investigation into an existing problem\",\n",
       "     'doc_count': 162,\n",
       "     'sub_issue.raw': {'doc_count_error_upper_bound': 0,\n",
       "      'sum_other_doc_count': 0,\n",
       "      'buckets': [{'key': 'Their investigation did not fix an error on your report',\n",
       "        'doc_count': 111},\n",
       "       {'key': 'Difficulty submitting a dispute or getting information about a dispute over the phone',\n",
       "        'doc_count': 17},\n",
       "       {'key': 'Investigation took more than 30 days', 'doc_count': 14},\n",
       "       {'key': 'Was not notified of investigation status or results',\n",
       "        'doc_count': 11},\n",
       "       {'key': 'Problem with personal statement of dispute',\n",
       "        'doc_count': 9}]}},\n",
       "    {'key': 'Attempts to collect debt not owed',\n",
       "     'doc_count': 95,\n",
       "     'sub_issue.raw': {'doc_count_error_upper_bound': 0,\n",
       "      'sum_other_doc_count': 0,\n",
       "      'buckets': [{'key': 'Debt is not yours', 'doc_count': 51},\n",
       "       {'key': 'Debt was result of identity theft', 'doc_count': 26},\n",
       "       {'key': 'Debt was paid', 'doc_count': 14},\n",
       "       {'key': 'Debt was already discharged in bankruptcy and is no longer owed',\n",
       "        'doc_count': 4}]}},\n",
       "    {'key': 'Managing an account',\n",
       "     'doc_count': 57,\n",
       "     'sub_issue.raw': {'doc_count_error_upper_bound': 0,\n",
       "      'sum_other_doc_count': 0,\n",
       "      'buckets': [{'key': 'Deposits and withdrawals', 'doc_count': 22},\n",
       "       {'key': 'Funds not handled or disbursed as instructed',\n",
       "        'doc_count': 13},\n",
       "       {'key': 'Banking errors', 'doc_count': 6},\n",
       "       {'key': 'Fee problem', 'doc_count': 4},\n",
       "       {'key': 'Problem making or receiving payments', 'doc_count': 4},\n",
       "       {'key': 'Problem accessing account', 'doc_count': 3},\n",
       "       {'key': 'Problem using a debit or ATM card', 'doc_count': 3},\n",
       "       {'key': 'Cashing a check', 'doc_count': 1},\n",
       "       {'key': 'Deposits or withdrawals', 'doc_count': 1}]}},\n",
       "    {'key': 'Improper use of your report',\n",
       "     'doc_count': 52,\n",
       "     'sub_issue.raw': {'doc_count_error_upper_bound': 0,\n",
       "      'sum_other_doc_count': 0,\n",
       "      'buckets': [{'key': \"Credit inquiries on your report that you don't recognize\",\n",
       "        'doc_count': 40},\n",
       "       {'key': 'Reporting company used your report improperly',\n",
       "        'doc_count': 12}]}},\n",
       "    {'key': 'Trouble during payment process',\n",
       "     'doc_count': 47,\n",
       "     'sub_issue.raw': {'doc_count_error_upper_bound': 0,\n",
       "      'sum_other_doc_count': 0,\n",
       "      'buckets': []}},\n",
       "    {'key': 'Written notification about debt',\n",
       "     'doc_count': 39,\n",
       "     'sub_issue.raw': {'doc_count_error_upper_bound': 0,\n",
       "      'sum_other_doc_count': 0,\n",
       "      'buckets': [{'key': \"Didn't receive enough information to verify debt\",\n",
       "        'doc_count': 30},\n",
       "       {'key': \"Didn't receive notice of right to dispute\", 'doc_count': 8},\n",
       "       {'key': \"Notification didn't disclose it was an attempt to collect a debt\",\n",
       "        'doc_count': 1}]}},\n",
       "    {'key': 'Struggling to pay mortgage',\n",
       "     'doc_count': 28,\n",
       "     'sub_issue.raw': {'doc_count_error_upper_bound': 0,\n",
       "      'sum_other_doc_count': 0,\n",
       "      'buckets': []}},\n",
       "    {'key': 'Problem with a purchase shown on your statement',\n",
       "     'doc_count': 20,\n",
       "     'sub_issue.raw': {'doc_count_error_upper_bound': 0,\n",
       "      'sum_other_doc_count': 0,\n",
       "      'buckets': [{'key': \"Credit card company isn't resolving a dispute about a purchase on your statement\",\n",
       "        'doc_count': 11},\n",
       "       {'key': 'Card was charged for something you did not purchase with the card',\n",
       "        'doc_count': 9}]}},\n",
       "    {'key': 'Dealing with your lender or servicer',\n",
       "     'doc_count': 19,\n",
       "     'sub_issue.raw': {'doc_count_error_upper_bound': 0,\n",
       "      'sum_other_doc_count': 0,\n",
       "      'buckets': [{'key': 'Received bad information about your loan',\n",
       "        'doc_count': 8},\n",
       "       {'key': 'Trouble with how payments are being handled', 'doc_count': 4},\n",
       "       {'key': \"Don't agree with the fees charged\", 'doc_count': 3},\n",
       "       {'key': 'Need information about your loan balance or loan terms',\n",
       "        'doc_count': 3},\n",
       "       {'key': 'Problem with customer service', 'doc_count': 1}]}},\n",
       "    {'key': 'Other features, terms, or problems',\n",
       "     'doc_count': 19,\n",
       "     'sub_issue.raw': {'doc_count_error_upper_bound': 0,\n",
       "      'sum_other_doc_count': 0,\n",
       "      'buckets': [{'key': 'Other problem', 'doc_count': 8},\n",
       "       {'key': 'Problem with rewards from credit card', 'doc_count': 5},\n",
       "       {'key': 'Problem with customer service', 'doc_count': 2},\n",
       "       {'key': 'Add-on products and services', 'doc_count': 1},\n",
       "       {'key': 'Privacy issues', 'doc_count': 1},\n",
       "       {'key': 'Problem with balance transfer', 'doc_count': 1},\n",
       "       {'key': 'Problem with convenience check', 'doc_count': 1}]}},\n",
       "    {'key': 'Applying for a mortgage or refinancing an existing mortgage',\n",
       "     'doc_count': 15,\n",
       "     'sub_issue.raw': {'doc_count_error_upper_bound': 0,\n",
       "      'sum_other_doc_count': 0,\n",
       "      'buckets': []}},\n",
       "    {'key': 'Managing the loan or lease',\n",
       "     'doc_count': 14,\n",
       "     'sub_issue.raw': {'doc_count_error_upper_bound': 0,\n",
       "      'sum_other_doc_count': 0,\n",
       "      'buckets': [{'key': 'Billing problem', 'doc_count': 8},\n",
       "       {'key': 'Problem with additional products or services purchased with the loan',\n",
       "        'doc_count': 2},\n",
       "       {'key': 'Problem with fees charged', 'doc_count': 2},\n",
       "       {'key': 'Problem with the interest rate', 'doc_count': 2}]}},\n",
       "    {'key': 'Problem when making payments',\n",
       "     'doc_count': 14,\n",
       "     'sub_issue.raw': {'doc_count_error_upper_bound': 0,\n",
       "      'sum_other_doc_count': 0,\n",
       "      'buckets': [{'key': 'Problem during payment process', 'doc_count': 10},\n",
       "       {'key': 'You never received your bill or did not know a payment was due',\n",
       "        'doc_count': 2}]}},\n",
       "    {'key': 'Communication tactics',\n",
       "     'doc_count': 13,\n",
       "     'sub_issue.raw': {'doc_count_error_upper_bound': 0,\n",
       "      'sum_other_doc_count': 0,\n",
       "      'buckets': [{'key': 'You told them to stop contacting you, but they keep trying',\n",
       "        'doc_count': 6},\n",
       "       {'key': 'Frequent or repeated calls', 'doc_count': 4},\n",
       "       {'key': 'Used obscene, profane, or other abusive language',\n",
       "        'doc_count': 3}]}},\n",
       "    {'key': 'Closing an account',\n",
       "     'doc_count': 11,\n",
       "     'sub_issue.raw': {'doc_count_error_upper_bound': 0,\n",
       "      'sum_other_doc_count': 0,\n",
       "      'buckets': [{'key': 'Company closed your account', 'doc_count': 5},\n",
       "       {'key': \"Can't close your account\", 'doc_count': 4},\n",
       "       {'key': 'Funds not received from closed account', 'doc_count': 2}]}},\n",
       "    {'key': 'Fees or interest',\n",
       "     'doc_count': 9,\n",
       "     'sub_issue.raw': {'doc_count_error_upper_bound': 0,\n",
       "      'sum_other_doc_count': 0,\n",
       "      'buckets': [{'key': 'Problem with fees', 'doc_count': 7},\n",
       "       {'key': 'Charged too much interest', 'doc_count': 2}]}},\n",
       "    {'key': 'Fraud or scam',\n",
       "     'doc_count': 9,\n",
       "     'sub_issue.raw': {'doc_count_error_upper_bound': 0,\n",
       "      'sum_other_doc_count': 0,\n",
       "      'buckets': []}},\n",
       "    {'key': 'False statements or representation',\n",
       "     'doc_count': 8,\n",
       "     'sub_issue.raw': {'doc_count_error_upper_bound': 0,\n",
       "      'sum_other_doc_count': 0,\n",
       "      'buckets': [{'key': 'Impersonated attorney, law enforcement, or government official',\n",
       "        'doc_count': 5},\n",
       "       {'key': 'Attempted to collect wrong amount', 'doc_count': 3}]}},\n",
       "    {'key': 'Problem caused by your funds being low',\n",
       "     'doc_count': 7,\n",
       "     'sub_issue.raw': {'doc_count_error_upper_bound': 0,\n",
       "      'sum_other_doc_count': 0,\n",
       "      'buckets': [{'key': 'Overdrafts and overdraft fees', 'doc_count': 6},\n",
       "       {'key': 'Non-sufficient funds and associated fees', 'doc_count': 1}]}},\n",
       "    {'key': 'Problem with fraud alerts or security freezes',\n",
       "     'doc_count': 7,\n",
       "     'sub_issue.raw': {'doc_count_error_upper_bound': 0,\n",
       "      'sum_other_doc_count': 0,\n",
       "      'buckets': []}},\n",
       "    {'key': 'Closing on a mortgage',\n",
       "     'doc_count': 6,\n",
       "     'sub_issue.raw': {'doc_count_error_upper_bound': 0,\n",
       "      'sum_other_doc_count': 0,\n",
       "      'buckets': []}},\n",
       "    {'key': 'Credit monitoring or identity theft protection services',\n",
       "     'doc_count': 6,\n",
       "     'sub_issue.raw': {'doc_count_error_upper_bound': 0,\n",
       "      'sum_other_doc_count': 0,\n",
       "      'buckets': [{'key': 'Billing dispute for services', 'doc_count': 3},\n",
       "       {'key': 'Problem canceling credit monitoring or identify theft protection service',\n",
       "        'doc_count': 2},\n",
       "       {'key': 'Received unwanted marketing or advertising',\n",
       "        'doc_count': 1}]}},\n",
       "    {'key': 'Getting a credit card',\n",
       "     'doc_count': 6,\n",
       "     'sub_issue.raw': {'doc_count_error_upper_bound': 0,\n",
       "      'sum_other_doc_count': 0,\n",
       "      'buckets': [{'key': 'Card opened as result of identity theft or fraud',\n",
       "        'doc_count': 4},\n",
       "       {'key': 'Application denied', 'doc_count': 1},\n",
       "       {'key': 'Sent card you never applied for', 'doc_count': 1}]}},\n",
       "    {'key': 'Opening an account',\n",
       "     'doc_count': 6,\n",
       "     'sub_issue.raw': {'doc_count_error_upper_bound': 0,\n",
       "      'sum_other_doc_count': 0,\n",
       "      'buckets': [{'key': \"Didn't receive terms that were advertised\",\n",
       "        'doc_count': 6}]}},\n",
       "    {'key': 'Problem with a lender or other company charging your account',\n",
       "     'doc_count': 6,\n",
       "     'sub_issue.raw': {'doc_count_error_upper_bound': 0,\n",
       "      'sum_other_doc_count': 0,\n",
       "      'buckets': [{'key': 'Transaction was not authorized', 'doc_count': 4},\n",
       "       {'key': 'Money was taken from your account on the wrong day or for the wrong amount',\n",
       "        'doc_count': 2}]}},\n",
       "    {'key': 'Problems at the end of the loan or lease',\n",
       "     'doc_count': 6,\n",
       "     'sub_issue.raw': {'doc_count_error_upper_bound': 0,\n",
       "      'sum_other_doc_count': 0,\n",
       "      'buckets': [{'key': 'Problem with paying off the loan', 'doc_count': 2},\n",
       "       {'key': 'Unable to receive car title or other problem after the loan is paid off',\n",
       "        'doc_count': 2},\n",
       "       {'key': 'Excess mileage, damage, or wear fees, or other problem after the lease is finish',\n",
       "        'doc_count': 1},\n",
       "       {'key': 'Problem related to refinancing', 'doc_count': 1}]}},\n",
       "    {'key': 'Took or threatened to take negative or legal action',\n",
       "     'doc_count': 6,\n",
       "     'sub_issue.raw': {'doc_count_error_upper_bound': 0,\n",
       "      'sum_other_doc_count': 0,\n",
       "      'buckets': [{'key': 'Threatened or suggested your credit would be damaged',\n",
       "        'doc_count': 3},\n",
       "       {'key': 'Seized or attempted to seize your property', 'doc_count': 2},\n",
       "       {'key': 'Threatened to sue you for very old debt', 'doc_count': 1}]}},\n",
       "    {'key': 'Trouble using your card',\n",
       "     'doc_count': 6,\n",
       "     'sub_issue.raw': {'doc_count_error_upper_bound': 0,\n",
       "      'sum_other_doc_count': 0,\n",
       "      'buckets': [{'key': \"Can't use card to make purchases\", 'doc_count': 4},\n",
       "       {'key': \"Credit card company won't increase or decrease your credit limit\",\n",
       "        'doc_count': 2}]}},\n",
       "    {'key': 'Problem with a purchase or transfer',\n",
       "     'doc_count': 5,\n",
       "     'sub_issue.raw': {'doc_count_error_upper_bound': 0,\n",
       "      'sum_other_doc_count': 0,\n",
       "      'buckets': [{'key': \"Card company isn't resolving a dispute about a purchase or transfer\",\n",
       "        'doc_count': 4},\n",
       "       {'key': 'Charged for a purchase or transfer you did not make with the card',\n",
       "        'doc_count': 1}]}},\n",
       "    {'key': 'Unable to get your credit report or credit score',\n",
       "     'doc_count': 5,\n",
       "     'sub_issue.raw': {'doc_count_error_upper_bound': 0,\n",
       "      'sum_other_doc_count': 0,\n",
       "      'buckets': [{'key': 'Other problem getting your report or credit score',\n",
       "        'doc_count': 3},\n",
       "       {'key': 'Problem getting your free annual credit report',\n",
       "        'doc_count': 2}]}},\n",
       "    {'key': \"Charged fees or interest you didn't expect\",\n",
       "     'doc_count': 4,\n",
       "     'sub_issue.raw': {'doc_count_error_upper_bound': 0,\n",
       "      'sum_other_doc_count': 0,\n",
       "      'buckets': []}},\n",
       "    {'key': 'Closing your account',\n",
       "     'doc_count': 4,\n",
       "     'sub_issue.raw': {'doc_count_error_upper_bound': 0,\n",
       "      'sum_other_doc_count': 0,\n",
       "      'buckets': [{'key': \"Can't close your account\", 'doc_count': 2},\n",
       "       {'key': 'Company closed your account', 'doc_count': 2}]}},\n",
       "    {'key': 'Other transaction problem',\n",
       "     'doc_count': 4,\n",
       "     'sub_issue.raw': {'doc_count_error_upper_bound': 0,\n",
       "      'sum_other_doc_count': 0,\n",
       "      'buckets': []}},\n",
       "    {'key': 'Struggling to pay your loan',\n",
       "     'doc_count': 4,\n",
       "     'sub_issue.raw': {'doc_count_error_upper_bound': 0,\n",
       "      'sum_other_doc_count': 0,\n",
       "      'buckets': [{'key': 'Loan balance remaining after the vehicle is repossessed and sold',\n",
       "        'doc_count': 1}]}},\n",
       "    {'key': 'Struggling to repay your loan',\n",
       "     'doc_count': 4,\n",
       "     'sub_issue.raw': {'doc_count_error_upper_bound': 0,\n",
       "      'sum_other_doc_count': 0,\n",
       "      'buckets': [{'key': \"Can't get other flexible options for repaying your loan\",\n",
       "        'doc_count': 2},\n",
       "       {'key': 'Problem lowering your monthly payments', 'doc_count': 2}]}},\n",
       "    {'key': 'Struggling to pay your bill',\n",
       "     'doc_count': 3,\n",
       "     'sub_issue.raw': {'doc_count_error_upper_bound': 0,\n",
       "      'sum_other_doc_count': 0,\n",
       "      'buckets': [{'key': \"Credit card company won't work with you while you're going through financial hardship\",\n",
       "        'doc_count': 3}]}},\n",
       "    {'key': 'Getting a loan or lease',\n",
       "     'doc_count': 2,\n",
       "     'sub_issue.raw': {'doc_count_error_upper_bound': 0,\n",
       "      'sum_other_doc_count': 0,\n",
       "      'buckets': [{'key': 'Confusing or misleading advertising or marketing',\n",
       "        'doc_count': 1},\n",
       "       {'key': 'Problem with additional add-on products or services purchased with the loan',\n",
       "        'doc_count': 1}]}},\n",
       "    {'key': 'Money was not available when promised',\n",
       "     'doc_count': 2,\n",
       "     'sub_issue.raw': {'doc_count_error_upper_bound': 0,\n",
       "      'sum_other_doc_count': 0,\n",
       "      'buckets': []}},\n",
       "    {'key': 'Problem with additional add-on products or services',\n",
       "     'doc_count': 2,\n",
       "     'sub_issue.raw': {'doc_count_error_upper_bound': 0,\n",
       "      'sum_other_doc_count': 0,\n",
       "      'buckets': []}},\n",
       "    {'key': 'Problem with the payoff process at the end of the loan',\n",
       "     'doc_count': 2,\n",
       "     'sub_issue.raw': {'doc_count_error_upper_bound': 0,\n",
       "      'sum_other_doc_count': 0,\n",
       "      'buckets': []}},\n",
       "    {'key': 'Threatened to contact someone or share information improperly',\n",
       "     'doc_count': 2,\n",
       "     'sub_issue.raw': {'doc_count_error_upper_bound': 0,\n",
       "      'sum_other_doc_count': 0,\n",
       "      'buckets': [{'key': 'Contacted your employer', 'doc_count': 1},\n",
       "       {'key': 'Talked to a third-party about your debt', 'doc_count': 1}]}},\n",
       "    {'key': 'Trouble using the card',\n",
       "     'doc_count': 2,\n",
       "     'sub_issue.raw': {'doc_count_error_upper_bound': 0,\n",
       "      'sum_other_doc_count': 0,\n",
       "      'buckets': [{'key': 'Trouble getting information about the card',\n",
       "        'doc_count': 2}]}},\n",
       "    {'key': 'Advertising and marketing, including promotional offers',\n",
       "     'doc_count': 1,\n",
       "     'sub_issue.raw': {'doc_count_error_upper_bound': 0,\n",
       "      'sum_other_doc_count': 0,\n",
       "      'buckets': [{'key': \"Didn't receive advertised or promotional terms\",\n",
       "        'doc_count': 1}]}},\n",
       "    {'key': \"Can't stop withdrawals from your bank account\",\n",
       "     'doc_count': 1,\n",
       "     'sub_issue.raw': {'doc_count_error_upper_bound': 0,\n",
       "      'sum_other_doc_count': 0,\n",
       "      'buckets': []}},\n",
       "    {'key': \"Loan payment wasn't credited to your account\",\n",
       "     'doc_count': 1,\n",
       "     'sub_issue.raw': {'doc_count_error_upper_bound': 0,\n",
       "      'sum_other_doc_count': 0,\n",
       "      'buckets': []}},\n",
       "    {'key': 'Managing, opening, or closing your mobile wallet account',\n",
       "     'doc_count': 1,\n",
       "     'sub_issue.raw': {'doc_count_error_upper_bound': 0,\n",
       "      'sum_other_doc_count': 0,\n",
       "      'buckets': []}},\n",
       "    {'key': 'Problem getting a card or closing an account',\n",
       "     'doc_count': 1,\n",
       "     'sub_issue.raw': {'doc_count_error_upper_bound': 0,\n",
       "      'sum_other_doc_count': 0,\n",
       "      'buckets': [{'key': \"Don't want a card provided by your employer or the government\",\n",
       "        'doc_count': 1}]}},\n",
       "    {'key': \"Problem with a company's investigation into an existing issue\",\n",
       "     'doc_count': 1,\n",
       "     'sub_issue.raw': {'doc_count_error_upper_bound': 0,\n",
       "      'sum_other_doc_count': 0,\n",
       "      'buckets': [{'key': 'Difficulty submitting a dispute or getting information about a dispute over the phone',\n",
       "        'doc_count': 1}]}},\n",
       "    {'key': 'Problem with customer service',\n",
       "     'doc_count': 1,\n",
       "     'sub_issue.raw': {'doc_count_error_upper_bound': 0,\n",
       "      'sum_other_doc_count': 0,\n",
       "      'buckets': []}},\n",
       "    {'key': 'Unauthorized transactions or other transaction problem',\n",
       "     'doc_count': 1,\n",
       "     'sub_issue.raw': {'doc_count_error_upper_bound': 0,\n",
       "      'sum_other_doc_count': 0,\n",
       "      'buckets': []}},\n",
       "    {'key': 'Unexpected or other fees',\n",
       "     'doc_count': 1,\n",
       "     'sub_issue.raw': {'doc_count_error_upper_bound': 0,\n",
       "      'sum_other_doc_count': 0,\n",
       "      'buckets': []}}]}},\n",
       " 'state': {'doc_count': 1172,\n",
       "  'state': {'doc_count_error_upper_bound': 0,\n",
       "   'sum_other_doc_count': 0,\n",
       "   'buckets': [{'key': 'FL', 'doc_count': 184},\n",
       "    {'key': 'CA', 'doc_count': 153},\n",
       "    {'key': 'TX', 'doc_count': 93},\n",
       "    {'key': 'NY', 'doc_count': 77},\n",
       "    {'key': 'PA', 'doc_count': 53},\n",
       "    {'key': 'IL', 'doc_count': 43},\n",
       "    {'key': 'GA', 'doc_count': 33},\n",
       "    {'key': 'NJ', 'doc_count': 32},\n",
       "    {'key': 'AR', 'doc_count': 30},\n",
       "    {'key': 'MD', 'doc_count': 30},\n",
       "    {'key': 'NV', 'doc_count': 28},\n",
       "    {'key': 'OH', 'doc_count': 28},\n",
       "    {'key': 'IN', 'doc_count': 27},\n",
       "    {'key': 'NC', 'doc_count': 27},\n",
       "    {'key': 'MO', 'doc_count': 22},\n",
       "    {'key': 'TN', 'doc_count': 21},\n",
       "    {'key': 'VA', 'doc_count': 20},\n",
       "    {'key': 'MS', 'doc_count': 19},\n",
       "    {'key': 'AL', 'doc_count': 18},\n",
       "    {'key': 'AZ', 'doc_count': 17},\n",
       "    {'key': 'MI', 'doc_count': 17},\n",
       "    {'key': 'WA', 'doc_count': 17},\n",
       "    {'key': 'MA', 'doc_count': 15},\n",
       "    {'key': 'SC', 'doc_count': 13},\n",
       "    {'key': 'LA', 'doc_count': 12},\n",
       "    {'key': 'UT', 'doc_count': 12},\n",
       "    {'key': 'OR', 'doc_count': 10},\n",
       "    {'key': 'CO', 'doc_count': 9},\n",
       "    {'key': 'CT', 'doc_count': 9},\n",
       "    {'key': 'OK', 'doc_count': 8},\n",
       "    {'key': 'NM', 'doc_count': 7},\n",
       "    {'key': 'DE', 'doc_count': 6},\n",
       "    {'key': 'RI', 'doc_count': 6},\n",
       "    {'key': 'WI', 'doc_count': 6},\n",
       "    {'key': 'HI', 'doc_count': 5},\n",
       "    {'key': 'MN', 'doc_count': 5},\n",
       "    {'key': 'KY', 'doc_count': 4},\n",
       "    {'key': 'IA', 'doc_count': 3},\n",
       "    {'key': 'KS', 'doc_count': 2},\n",
       "    {'key': 'VT', 'doc_count': 2},\n",
       "    {'key': 'AK', 'doc_count': 1},\n",
       "    {'key': 'DC', 'doc_count': 1},\n",
       "    {'key': 'ME', 'doc_count': 1},\n",
       "    {'key': 'NE', 'doc_count': 1},\n",
       "    {'key': 'NH', 'doc_count': 1},\n",
       "    {'key': 'PR', 'doc_count': 1},\n",
       "    {'key': 'SD', 'doc_count': 1},\n",
       "    {'key': 'WV', 'doc_count': 1},\n",
       "    {'key': 'WY', 'doc_count': 1}]}},\n",
       " 'company_public_response': {'doc_count': 1172,\n",
       "  'company_public_response': {'doc_count_error_upper_bound': 0,\n",
       "   'sum_other_doc_count': 0,\n",
       "   'buckets': [{'key': 'Company has responded to the consumer and the CFPB and chooses not to provide a public response',\n",
       "     'doc_count': 593},\n",
       "    {'key': 'Company believes it acted appropriately as authorized by contract or law',\n",
       "     'doc_count': 57},\n",
       "    {'key': 'Company believes complaint is the result of an isolated error',\n",
       "     'doc_count': 4},\n",
       "    {'key': 'Company disputes the facts presented in the complaint',\n",
       "     'doc_count': 3},\n",
       "    {'key': 'Company believes complaint caused principally by actions of third party outside the control or direction of the company',\n",
       "     'doc_count': 1},\n",
       "    {'key': 'Company believes the complaint is the result of a misunderstanding',\n",
       "     'doc_count': 1}]}},\n",
       " 'timely': {'doc_count': 1172,\n",
       "  'timely': {'doc_count_error_upper_bound': 0,\n",
       "   'sum_other_doc_count': 0,\n",
       "   'buckets': [{'key': 'Yes', 'doc_count': 1162},\n",
       "    {'key': 'No', 'doc_count': 10}]}},\n",
       " 'consumer_consent_provided': {'doc_count': 1172,\n",
       "  'consumer_consent_provided': {'doc_count_error_upper_bound': 0,\n",
       "   'sum_other_doc_count': 0,\n",
       "   'buckets': [{'key': 'Consent provided', 'doc_count': 520},\n",
       "    {'key': 'Consent not provided', 'doc_count': 391},\n",
       "    {'key': 'N/A', 'doc_count': 190},\n",
       "    {'key': 'Other', 'doc_count': 68},\n",
       "    {'key': 'Consent withdrawn', 'doc_count': 3}]}},\n",
       " 'consumer_disputed': {'doc_count': 1172,\n",
       "  'consumer_disputed': {'doc_count_error_upper_bound': 0,\n",
       "   'sum_other_doc_count': 0,\n",
       "   'buckets': [{'key': 'N/A', 'doc_count': 1172}]}}}"
      ]
     },
     "execution_count": 77,
     "metadata": {},
     "output_type": "execute_result"
    }
   ],
   "source": [
    "diction['aggregations']"
   ]
  },
  {
   "cell_type": "code",
   "execution_count": 28,
   "metadata": {
    "execution": {
     "iopub.execute_input": "2021-04-16T14:54:34.742155Z",
     "iopub.status.busy": "2021-04-16T14:54:34.741154Z",
     "iopub.status.idle": "2021-04-16T14:54:34.787158Z",
     "shell.execute_reply": "2021-04-16T14:54:34.785157Z",
     "shell.execute_reply.started": "2021-04-16T14:54:34.742155Z"
    }
   },
   "outputs": [
    {
     "data": {
      "text/plain": [
       "{'_index': 'complaint-public-v2',\n",
       " '_type': 'complaint',\n",
       " '_id': '3554191',\n",
       " '_score': 1.0,\n",
       " '_source': {'tags': None,\n",
       "  'zip_code': '114XX',\n",
       "  'complaint_id': '3554191',\n",
       "  'issue': \"Problem with a credit reporting company's investigation into an existing problem\",\n",
       "  'date_received': '2020-03-04T12:00:00-05:00',\n",
       "  'state': 'NY',\n",
       "  'consumer_disputed': 'N/A',\n",
       "  'product': 'Credit reporting, credit repair services, or other personal consumer reports',\n",
       "  'has_narrative': True,\n",
       "  'company_response': 'Closed with explanation',\n",
       "  'company': 'TRANSUNION INTERMEDIATE HOLDINGS, INC.',\n",
       "  'submitted_via': 'Web',\n",
       "  'date_sent_to_company': '2020-03-04T12:00:00-05:00',\n",
       "  'company_public_response': 'Company has responded to the consumer and the CFPB and chooses not to provide a public response',\n",
       "  'sub_product': 'Credit reporting',\n",
       "  'timely': 'Yes',\n",
       "  'complaint_what_happened': 'I was disputing a Bankruptcy on my credit report that TransUnion verified as accurate. Confused by this I sent them a letter on XX/XX/2020 through certified mail with the tracking numbers XXXX XXXX XXXX XXXX XXXX and asked them for their method of verification.. On XX/XX/2020 I received a letter from TransUnion stating they were to verify that bankruptcy from my credit report by verifying it with the US Bankruptcy Court located at XXXX XXXX XXXX, XXXX NY XXXX XXXX XXXX.I took it upon myself to go to the Bankruptcy Court in person and ask them if they verified my info with TransUnion. They turned around and told me they did not, they all so typed out a letter for me stating that they didnt verify my info with the credit bureaus. After that i sent that letter to TransUnion through certified mail with the tracking numbers XXXX XXXX XXXX XXXX XXXX on XX/XX/2020 asking them to remove that Bankruptcy from my credit credit because it can not be properly verified. As of today XX/XX/2020 i have not gotten a reply from them.',\n",
       "  'sub_issue': 'Problem with personal statement of dispute',\n",
       "  'consumer_consent_provided': 'Consent provided'}}"
      ]
     },
     "execution_count": 28,
     "metadata": {},
     "output_type": "execute_result"
    }
   ],
   "source": [
    "diction['hits']['hits'][0]"
   ]
  },
  {
   "cell_type": "code",
   "execution_count": 29,
   "metadata": {
    "execution": {
     "iopub.execute_input": "2021-04-16T14:54:34.790156Z",
     "iopub.status.busy": "2021-04-16T14:54:34.789157Z",
     "iopub.status.idle": "2021-04-16T14:54:34.819157Z",
     "shell.execute_reply": "2021-04-16T14:54:34.817155Z",
     "shell.execute_reply.started": "2021-04-16T14:54:34.790156Z"
    }
   },
   "outputs": [
    {
     "data": {
      "text/plain": [
       "10"
      ]
     },
     "execution_count": 29,
     "metadata": {},
     "output_type": "execute_result"
    }
   ],
   "source": [
    "len(diction['hits']['hits'])"
   ]
  },
  {
   "cell_type": "code",
   "execution_count": 30,
   "metadata": {
    "execution": {
     "iopub.execute_input": "2021-04-16T14:54:34.823156Z",
     "iopub.status.busy": "2021-04-16T14:54:34.822159Z",
     "iopub.status.idle": "2021-04-16T14:54:34.836155Z",
     "shell.execute_reply": "2021-04-16T14:54:34.833156Z",
     "shell.execute_reply.started": "2021-04-16T14:54:34.823156Z"
    }
   },
   "outputs": [
    {
     "data": {
      "text/plain": [
       "{'_index': 'complaint-public-v2',\n",
       " '_type': 'complaint',\n",
       " '_id': '3554777',\n",
       " '_score': 1.0,\n",
       " '_source': {'tags': None,\n",
       "  'zip_code': '328XX',\n",
       "  'complaint_id': '3554777',\n",
       "  'issue': 'Incorrect information on your report',\n",
       "  'date_received': '2020-03-04T12:00:00-05:00',\n",
       "  'state': 'FL',\n",
       "  'consumer_disputed': 'N/A',\n",
       "  'product': 'Credit reporting, credit repair services, or other personal consumer reports',\n",
       "  'has_narrative': True,\n",
       "  'company_response': 'Closed with explanation',\n",
       "  'company': 'TRANSUNION INTERMEDIATE HOLDINGS, INC.',\n",
       "  'submitted_via': 'Web',\n",
       "  'date_sent_to_company': '2020-03-04T12:00:00-05:00',\n",
       "  'company_public_response': 'Company has responded to the consumer and the CFPB and chooses not to provide a public response',\n",
       "  'sub_product': 'Credit reporting',\n",
       "  'timely': 'Yes',\n",
       "  'complaint_what_happened': 'Accounts added and/or created unbeknownst to me Notice to whom it be of concern, It is YOU I hold accountable and accuse of complicity in exercise of malevolent did-compliance. I hereby mark you as likely one that I might one day view in civil discord as the \" would be plaintiffs \\'\\', yet I declare to you your unjust claim is to be met with deliberate and determined resistance and counteraction. In is in clarity that your Claim of Non-Medical debt Collection is insufficient for collections much less reporting. You MUST DELETE this unjust injurious allegation because it is significantly deficient of the requisite certified reporting compliance ( such as perfect metro 2 format reporting ) and testimonial evidence of the PHYSICALLY VERIFIABLE PROOF OF VALIDATION as related to the full truth, accuracy, completeness, timeliness, ownership, identity of true debtor, dates, balances, audits, calculations, source codes, creditor collection code, 426-chrc P6 statement and its associated trailing fragments, the minimal five portioned personal identifiers, the pay statuses, the required 386-pieces of confirmation to collection, and elsewise standard or mandatory for proper reporting, mentioned or not. \\n\\n\\n\\nAlthough I am checking for and addressing missing and or deficient aspects of REPORTING COMPLIANCES and not contesting any debt of compliant nature, I should make you aware that since unlawful reporting transitions collection into an equally not complaint circumstance. Being still yet not validated by document fact in compliance to requisite standards, it is to be announced yet again that legally I have no knowledge of the validity of the alleged claims of delinquency and or derogatory nature, nor of the certifiably compliant matter to either any of its collection attempts and or its reporting despite previous consumer filed composed complaints checking for each. Might it be known, especially shall I elect to take this matter up to a civil court, any debt and or derogatory claim must be pursued ( particularly for collection ) in a very defined and precisely compliant and physically verifiable or certifiable manner as detailed in the requisite obeyed federal and state collection and reporting regulations associated with any of the above noted said claim ( s )  to include but not limited to the FCBA, FCRA, HIPAA PRIVACY RULE, FACTA, FDCPA and TCPA, etc. ADDITIONALLY, if an entity acts as a collector and also elects to act as a reporting party of consumer credit they must as well adhere to every single one even each any and all of the regulatory reporting requisites and standards of reporting with legal standing in full accordance of laws and accepted reporting standards. To date, the plaintiff has failed to demonstrate any capacity or willingness to validate the alleged debt much less certify the fair, accurate, complete and compliant reporting of the claims, particularly being significantly deficient is any display of certified metro 2 compliance. As such, given the fact of recent breaches of information collection repositories, I am hesitating to readily accept what is presented without testimonial and certified physically verifiable document evidence of claim as being legitimate. I deny nothing, yet I reserve the right to question any unproven claim. I do NOT accept the statement of claim of the plaintiff and I call for the court to reject their claim as untrue, unverified, incomplete, not compliant or otherwise invalid and thereby reject-able and dischargeable which requirement to be dismissed in full. I demand said court resolution today, even here and now in full accords of regulatory statutes, mentioned by me or not. \\n\\n\\n1 ) To date, I have received no knowledge of ever entering into any contractual relationship with the to-be plaintiff ( s ) { should I forward into a civil complaint } or with the entity ( ies ) that allegedly issued against me the defaulted line of credit ( s ) or accusations similar. This despite repeated calls to the accusers to demonstrate the requisite presented physically verifiable document proof of adequately acquired permissible purpose from the exactly and only individual irrefutably identified as being me. I have no acknowledgement of a relationship with the parties mentioned, in any form. \\n\\n\\n2 ) I have no knowledge of ever knowingly acknowledging ( or even unknowingly doing so ) that I owe any proven and compliantly reported debt, much less the claim of unproven debt alleged in this written declaration CHECKING for not only VALIDITY of CLAIMS but also DOCUMENT PROOF IN CERTIFIABLE TESTIMONY as to the factual and complete COMPLIANCE to all standards and laws, even the mandatory Metro 2 Format Compliance. Its obvious that the allegations filed by the accusers ( or to-be plaintiff ) are in clear subterfuge of act, be it in willful disregard of ethical practices or be it done so in ignorance of requisite ethical and regulatory compliant behavior during their accusations, collection efforts and credit reporting of claims. The vile nature of their derelict is unjustly injurious and unlawful no doubt. I again call for a dismissal of to-be plaintiffs statement of claim ( s ) and discharge of misreported delinquencies and derogatory behavior that the accusers complaint is undeniably unfairly lodged versus me. \\n\\n\\n3 ) I have no knowledge of ever receiving any proven or document facts in statement of account or account aspects for these items of alleged debt and delinquent actions. Again, I reiterate I have called on the accusers to present to be document certifiably true, correct, complete, and adequately compliant documentation in full validation of claims, rights to collect alleged claims, and rights to report alleged claims. Let it be true that COMPLIANCE of regulatory requisites is MANDATORY not OPTIONAL. Plaintiffs claims are mute of legal standing in full accordance of law and must be dismissed. \\n\\n\\n4 ) I have no knowledge of ever entering into an openaccount with to-be Plaintiff ( s ) or with the entity ( ies ) that allegedly issued me the defaulted line of credit ( s ) or derogatory claims of credit.\\n\\n5 ) FACT IS, no claim above has even submitted  adequate compliant proof of the genesis of any consumer/creditor relationship and their inability to prove application, permissible purpose for said alleged application, consumer/creditor agreement in contract describing a relationship related to alleged claim of account and or debt ( s ), and or otherwise derelict documentation of claim ( s ) inherently makes invalid the to-be Plaintiffs whole statement of claim in this summons or complaint. I request court to resolve adequately and compliantly as required with the immediate eradication of complaint charge ( s ) and  rectification of any injurious collection or reporting practices. Again, COMPLIANCE of APPROPRIATE COLLECTION PRACTICES and equally COMPLIANCE of APPROPRIATE and COMPLETE REPORTING PRACTICES is MANDATORY, NOT OPTIONAL. \\n\\n\\n6 ) As it stands, until PROVEN OTHERWISE, the complaining to-be Plaintiff ( s ) does so unjustly,  unethically, and likely illegally so in absolute deficiency of requisite legal standing in full accordance of applicable laws ( mentioned or not ), both to collection practices and as well with reporting practices, particularly in the inability or unwillingness to timely and fully certify physically verifiable document proof in full validity of debt claim or compliance of reporting, even to the mandatory Metro 2 format. As such, here again I declare my right and preference to stand against all claims of the to-be Plaintiff ( s ) and call on your authority and INTEGRITY to ensure truth of claim, correctness of claim, completeness of claim, ownership and responsibility of any debt ( s ) or delinquencies of debt alleged in above noted claim ( s ), perfect and prove-able compliance of collection actions related to claim ( s ), and compliance of reporting actions related to claim ( s ) ... ... ... ... ... ... ..',\n",
       "  'sub_issue': 'Information belongs to someone else',\n",
       "  'consumer_consent_provided': 'Consent provided'}}"
      ]
     },
     "execution_count": 30,
     "metadata": {},
     "output_type": "execute_result"
    }
   ],
   "source": [
    "diction['hits']['hits'][1]"
   ]
  },
  {
   "cell_type": "code",
   "execution_count": 31,
   "metadata": {
    "execution": {
     "iopub.execute_input": "2021-04-16T14:54:34.839158Z",
     "iopub.status.busy": "2021-04-16T14:54:34.838166Z",
     "iopub.status.idle": "2021-04-16T14:54:34.868158Z",
     "shell.execute_reply": "2021-04-16T14:54:34.865159Z",
     "shell.execute_reply.started": "2021-04-16T14:54:34.839158Z"
    }
   },
   "outputs": [
    {
     "data": {
      "text/plain": [
       "dict"
      ]
     },
     "execution_count": 31,
     "metadata": {},
     "output_type": "execute_result"
    }
   ],
   "source": [
    "type(diction['hits']['hits'][1])"
   ]
  },
  {
   "cell_type": "code",
   "execution_count": 32,
   "metadata": {
    "execution": {
     "iopub.execute_input": "2021-04-16T14:54:34.871157Z",
     "iopub.status.busy": "2021-04-16T14:54:34.870156Z",
     "iopub.status.idle": "2021-04-16T14:54:34.901157Z",
     "shell.execute_reply": "2021-04-16T14:54:34.897155Z",
     "shell.execute_reply.started": "2021-04-16T14:54:34.871157Z"
    }
   },
   "outputs": [
    {
     "data": {
      "text/plain": [
       "['_index', '_type', '_id', '_score', '_source']"
      ]
     },
     "execution_count": 32,
     "metadata": {},
     "output_type": "execute_result"
    }
   ],
   "source": [
    "list(diction['hits']['hits'][1].keys())"
   ]
  },
  {
   "cell_type": "code",
   "execution_count": 33,
   "metadata": {
    "execution": {
     "iopub.execute_input": "2021-04-16T14:54:34.904158Z",
     "iopub.status.busy": "2021-04-16T14:54:34.903156Z",
     "iopub.status.idle": "2021-04-16T14:54:34.933159Z",
     "shell.execute_reply": "2021-04-16T14:54:34.929155Z",
     "shell.execute_reply.started": "2021-04-16T14:54:34.904158Z"
    }
   },
   "outputs": [
    {
     "data": {
      "text/plain": [
       "'Credit reporting, credit repair services, or other personal consumer reports'"
      ]
     },
     "execution_count": 33,
     "metadata": {},
     "output_type": "execute_result"
    }
   ],
   "source": [
    "diction['hits']['hits'][1]['_source']['product']"
   ]
  },
  {
   "cell_type": "code",
   "execution_count": 34,
   "metadata": {
    "execution": {
     "iopub.execute_input": "2021-04-16T14:54:34.937156Z",
     "iopub.status.busy": "2021-04-16T14:54:34.936157Z",
     "iopub.status.idle": "2021-04-16T14:54:34.962154Z",
     "shell.execute_reply": "2021-04-16T14:54:34.960153Z",
     "shell.execute_reply.started": "2021-04-16T14:54:34.937156Z"
    }
   },
   "outputs": [
    {
     "name": "stdout",
     "output_type": "stream",
     "text": [
      "Credit reporting, credit repair services, or other personal consumer reports\n",
      "Credit reporting, credit repair services, or other personal consumer reports\n",
      "Mortgage\n",
      "Money transfer, virtual currency, or money service\n",
      "Credit reporting, credit repair services, or other personal consumer reports\n",
      "Debt collection\n",
      "Credit reporting, credit repair services, or other personal consumer reports\n",
      "Credit reporting, credit repair services, or other personal consumer reports\n",
      "Credit reporting, credit repair services, or other personal consumer reports\n",
      "Credit reporting, credit repair services, or other personal consumer reports\n"
     ]
    }
   ],
   "source": [
    "for i in range(len(diction['hits']['hits'])):\n",
    "    print(diction['hits']['hits'][i]['_source']['product'])"
   ]
  },
  {
   "cell_type": "markdown",
   "metadata": {},
   "source": [
    "Loop through and see if you can create new dictionary\n"
   ]
  },
  {
   "cell_type": "code",
   "execution_count": 40,
   "metadata": {
    "execution": {
     "iopub.execute_input": "2021-04-16T15:03:07.424951Z",
     "iopub.status.busy": "2021-04-16T15:03:07.423948Z",
     "iopub.status.idle": "2021-04-16T15:03:07.437953Z",
     "shell.execute_reply": "2021-04-16T15:03:07.436948Z",
     "shell.execute_reply.started": "2021-04-16T15:03:07.424951Z"
    }
   },
   "outputs": [],
   "source": [
    "new_dict = {}"
   ]
  },
  {
   "cell_type": "code",
   "execution_count": 43,
   "metadata": {
    "execution": {
     "iopub.execute_input": "2021-04-16T15:09:44.815269Z",
     "iopub.status.busy": "2021-04-16T15:09:44.815269Z",
     "iopub.status.idle": "2021-04-16T15:09:44.842263Z",
     "shell.execute_reply": "2021-04-16T15:09:44.841263Z",
     "shell.execute_reply.started": "2021-04-16T15:09:44.815269Z"
    }
   },
   "outputs": [
    {
     "data": {
      "text/plain": [
       "['Credit reporting, credit repair services, or other personal consumer reports',\n",
       " 'Credit reporting, credit repair services, or other personal consumer reports',\n",
       " 'Mortgage',\n",
       " 'Money transfer, virtual currency, or money service',\n",
       " 'Credit reporting, credit repair services, or other personal consumer reports',\n",
       " 'Debt collection',\n",
       " 'Credit reporting, credit repair services, or other personal consumer reports',\n",
       " 'Credit reporting, credit repair services, or other personal consumer reports',\n",
       " 'Credit reporting, credit repair services, or other personal consumer reports',\n",
       " 'Credit reporting, credit repair services, or other personal consumer reports']"
      ]
     },
     "execution_count": 43,
     "metadata": {},
     "output_type": "execute_result"
    }
   ],
   "source": [
    "list_obj = []\n",
    "for i in range(len(diction['hits']['hits'])):\n",
    "#     new_dict['class'] = diction['hits']['hits'][i]['_source']['product']\n",
    "    list_obj.append(diction['hits']['hits'][i]['_source']['product'])\n",
    "list_obj"
   ]
  },
  {
   "cell_type": "code",
   "execution_count": 44,
   "metadata": {
    "execution": {
     "iopub.execute_input": "2021-04-16T15:10:15.805267Z",
     "iopub.status.busy": "2021-04-16T15:10:15.805267Z",
     "iopub.status.idle": "2021-04-16T15:10:15.816263Z",
     "shell.execute_reply": "2021-04-16T15:10:15.814262Z",
     "shell.execute_reply.started": "2021-04-16T15:10:15.805267Z"
    }
   },
   "outputs": [
    {
     "data": {
      "text/plain": [
       "{'class': ['Credit reporting, credit repair services, or other personal consumer reports',\n",
       "  'Credit reporting, credit repair services, or other personal consumer reports',\n",
       "  'Mortgage',\n",
       "  'Money transfer, virtual currency, or money service',\n",
       "  'Credit reporting, credit repair services, or other personal consumer reports',\n",
       "  'Debt collection',\n",
       "  'Credit reporting, credit repair services, or other personal consumer reports',\n",
       "  'Credit reporting, credit repair services, or other personal consumer reports',\n",
       "  'Credit reporting, credit repair services, or other personal consumer reports',\n",
       "  'Credit reporting, credit repair services, or other personal consumer reports']}"
      ]
     },
     "execution_count": 44,
     "metadata": {},
     "output_type": "execute_result"
    }
   ],
   "source": [
    "new_dict['class'] = list_obj\n",
    "new_dict"
   ]
  },
  {
   "cell_type": "markdown",
   "metadata": {},
   "source": [
    "Cool, let's put it all together"
   ]
  },
  {
   "cell_type": "code",
   "execution_count": 45,
   "metadata": {
    "execution": {
     "iopub.execute_input": "2021-04-16T15:15:51.791940Z",
     "iopub.status.busy": "2021-04-16T15:15:51.790942Z",
     "iopub.status.idle": "2021-04-16T15:15:51.812943Z",
     "shell.execute_reply": "2021-04-16T15:15:51.810940Z",
     "shell.execute_reply.started": "2021-04-16T15:15:51.791940Z"
    }
   },
   "outputs": [],
   "source": [
    "new_dict = {}\n",
    "class_list = []\n",
    "narrative_list = [] \n",
    "for i in range(len(diction['hits']['hits'])):\n",
    "    class_list.append(diction['hits']['hits'][i]['_source']['product'])\n",
    "    narrative_list.append(diction['hits']['hits'][i]['_source']['complaint_what_happened'])\n",
    "new_dict['class'] = class_list\n",
    "new_dict['narrative'] = narrative_list"
   ]
  },
  {
   "cell_type": "code",
   "execution_count": 46,
   "metadata": {
    "execution": {
     "iopub.execute_input": "2021-04-16T15:16:24.391944Z",
     "iopub.status.busy": "2021-04-16T15:16:24.390943Z",
     "iopub.status.idle": "2021-04-16T15:16:24.422942Z",
     "shell.execute_reply": "2021-04-16T15:16:24.420941Z",
     "shell.execute_reply.started": "2021-04-16T15:16:24.391944Z"
    }
   },
   "outputs": [],
   "source": [
    "df = pd.DataFrame.from_dict(new_dict)"
   ]
  },
  {
   "cell_type": "code",
   "execution_count": 47,
   "metadata": {
    "execution": {
     "iopub.execute_input": "2021-04-16T15:16:27.808941Z",
     "iopub.status.busy": "2021-04-16T15:16:27.807943Z",
     "iopub.status.idle": "2021-04-16T15:16:27.852942Z",
     "shell.execute_reply": "2021-04-16T15:16:27.850943Z",
     "shell.execute_reply.started": "2021-04-16T15:16:27.808941Z"
    }
   },
   "outputs": [
    {
     "data": {
      "text/html": [
       "<div>\n",
       "<style scoped>\n",
       "    .dataframe tbody tr th:only-of-type {\n",
       "        vertical-align: middle;\n",
       "    }\n",
       "\n",
       "    .dataframe tbody tr th {\n",
       "        vertical-align: top;\n",
       "    }\n",
       "\n",
       "    .dataframe thead th {\n",
       "        text-align: right;\n",
       "    }\n",
       "</style>\n",
       "<table border=\"1\" class=\"dataframe\">\n",
       "  <thead>\n",
       "    <tr style=\"text-align: right;\">\n",
       "      <th></th>\n",
       "      <th>class</th>\n",
       "      <th>narrative</th>\n",
       "    </tr>\n",
       "  </thead>\n",
       "  <tbody>\n",
       "    <tr>\n",
       "      <th>0</th>\n",
       "      <td>Credit reporting, credit repair services, or o...</td>\n",
       "      <td>I was disputing a Bankruptcy on my credit repo...</td>\n",
       "    </tr>\n",
       "    <tr>\n",
       "      <th>1</th>\n",
       "      <td>Credit reporting, credit repair services, or o...</td>\n",
       "      <td>Accounts added and/or created unbeknownst to m...</td>\n",
       "    </tr>\n",
       "    <tr>\n",
       "      <th>2</th>\n",
       "      <td>Mortgage</td>\n",
       "      <td>Please reference prior claim filed with CFPB, ...</td>\n",
       "    </tr>\n",
       "    <tr>\n",
       "      <th>3</th>\n",
       "      <td>Money transfer, virtual currency, or money ser...</td>\n",
       "      <td>The company that I'm reporting is Jpay ( www.j...</td>\n",
       "    </tr>\n",
       "    <tr>\n",
       "      <th>4</th>\n",
       "      <td>Credit reporting, credit repair services, or o...</td>\n",
       "      <td>I have been gotten bill from a debt collector ...</td>\n",
       "    </tr>\n",
       "    <tr>\n",
       "      <th>5</th>\n",
       "      <td>Debt collection</td>\n",
       "      <td></td>\n",
       "    </tr>\n",
       "    <tr>\n",
       "      <th>6</th>\n",
       "      <td>Credit reporting, credit repair services, or o...</td>\n",
       "      <td>Notice to whom it be of concern, It is YOU I h...</td>\n",
       "    </tr>\n",
       "    <tr>\n",
       "      <th>7</th>\n",
       "      <td>Credit reporting, credit repair services, or o...</td>\n",
       "      <td></td>\n",
       "    </tr>\n",
       "    <tr>\n",
       "      <th>8</th>\n",
       "      <td>Credit reporting, credit repair services, or o...</td>\n",
       "      <td>The Department of Defense has a charge off on ...</td>\n",
       "    </tr>\n",
       "    <tr>\n",
       "      <th>9</th>\n",
       "      <td>Credit reporting, credit repair services, or o...</td>\n",
       "      <td></td>\n",
       "    </tr>\n",
       "  </tbody>\n",
       "</table>\n",
       "</div>"
      ],
      "text/plain": [
       "                                               class  \\\n",
       "0  Credit reporting, credit repair services, or o...   \n",
       "1  Credit reporting, credit repair services, or o...   \n",
       "2                                           Mortgage   \n",
       "3  Money transfer, virtual currency, or money ser...   \n",
       "4  Credit reporting, credit repair services, or o...   \n",
       "5                                    Debt collection   \n",
       "6  Credit reporting, credit repair services, or o...   \n",
       "7  Credit reporting, credit repair services, or o...   \n",
       "8  Credit reporting, credit repair services, or o...   \n",
       "9  Credit reporting, credit repair services, or o...   \n",
       "\n",
       "                                           narrative  \n",
       "0  I was disputing a Bankruptcy on my credit repo...  \n",
       "1  Accounts added and/or created unbeknownst to m...  \n",
       "2  Please reference prior claim filed with CFPB, ...  \n",
       "3  The company that I'm reporting is Jpay ( www.j...  \n",
       "4  I have been gotten bill from a debt collector ...  \n",
       "5                                                     \n",
       "6  Notice to whom it be of concern, It is YOU I h...  \n",
       "7                                                     \n",
       "8  The Department of Defense has a charge off on ...  \n",
       "9                                                     "
      ]
     },
     "execution_count": 47,
     "metadata": {},
     "output_type": "execute_result"
    }
   ],
   "source": [
    "df"
   ]
  },
  {
   "cell_type": "markdown",
   "metadata": {},
   "source": [
    "Works! There are some blank ones. Let's try to do the API again"
   ]
  },
  {
   "cell_type": "code",
   "execution_count": 89,
   "metadata": {
    "execution": {
     "iopub.execute_input": "2021-04-16T17:42:57.774824Z",
     "iopub.status.busy": "2021-04-16T17:42:57.773825Z",
     "iopub.status.idle": "2021-04-16T17:42:58.218680Z",
     "shell.execute_reply": "2021-04-16T17:42:58.217676Z",
     "shell.execute_reply.started": "2021-04-16T17:42:57.773825Z"
    }
   },
   "outputs": [],
   "source": [
    "url = 'https://www.consumerfinance.gov/data-research/consumer-complaints/search/api/v1/'\n",
    "parameters = {'date_received_max': '2020-03-05',\n",
    "              'date_received_min': '2020-03-04',\n",
    "              'has_narrative': True\n",
    "}\n",
    "r3 = requests.get(url, params=parameters)"
   ]
  },
  {
   "cell_type": "code",
   "execution_count": 90,
   "metadata": {
    "execution": {
     "iopub.execute_input": "2021-04-16T17:42:59.495244Z",
     "iopub.status.busy": "2021-04-16T17:42:59.495244Z",
     "iopub.status.idle": "2021-04-16T17:42:59.513244Z",
     "shell.execute_reply": "2021-04-16T17:42:59.512243Z",
     "shell.execute_reply.started": "2021-04-16T17:42:59.495244Z"
    }
   },
   "outputs": [],
   "source": [
    "# isolate the material I need\n",
    "diction = r3.json()"
   ]
  },
  {
   "cell_type": "code",
   "execution_count": 91,
   "metadata": {
    "execution": {
     "iopub.execute_input": "2021-04-16T17:43:00.744539Z",
     "iopub.status.busy": "2021-04-16T17:43:00.743536Z",
     "iopub.status.idle": "2021-04-16T17:43:00.754536Z",
     "shell.execute_reply": "2021-04-16T17:43:00.753535Z",
     "shell.execute_reply.started": "2021-04-16T17:43:00.744539Z"
    }
   },
   "outputs": [],
   "source": [
    "new_dict = {}\n",
    "class_list = []\n",
    "narrative_list = [] \n",
    "for i in range(len(diction['hits']['hits'])):\n",
    "    class_list.append(diction['hits']['hits'][i]['_source']['product'])\n",
    "    narrative_list.append(diction['hits']['hits'][i]['_source']['complaint_what_happened'])\n",
    "new_dict['class'] = class_list\n",
    "new_dict['narrative'] = narrative_list"
   ]
  },
  {
   "cell_type": "code",
   "execution_count": 56,
   "metadata": {
    "execution": {
     "iopub.execute_input": "2021-04-16T15:23:44.812940Z",
     "iopub.status.busy": "2021-04-16T15:23:44.812940Z",
     "iopub.status.idle": "2021-04-16T15:23:44.840941Z",
     "shell.execute_reply": "2021-04-16T15:23:44.839946Z",
     "shell.execute_reply.started": "2021-04-16T15:23:44.812940Z"
    }
   },
   "outputs": [
    {
     "data": {
      "text/html": [
       "<div>\n",
       "<style scoped>\n",
       "    .dataframe tbody tr th:only-of-type {\n",
       "        vertical-align: middle;\n",
       "    }\n",
       "\n",
       "    .dataframe tbody tr th {\n",
       "        vertical-align: top;\n",
       "    }\n",
       "\n",
       "    .dataframe thead th {\n",
       "        text-align: right;\n",
       "    }\n",
       "</style>\n",
       "<table border=\"1\" class=\"dataframe\">\n",
       "  <thead>\n",
       "    <tr style=\"text-align: right;\">\n",
       "      <th></th>\n",
       "      <th>class</th>\n",
       "      <th>narrative</th>\n",
       "    </tr>\n",
       "  </thead>\n",
       "  <tbody>\n",
       "    <tr>\n",
       "      <th>0</th>\n",
       "      <td>Credit reporting, credit repair services, or o...</td>\n",
       "      <td>I was disputing a Bankruptcy on my credit repo...</td>\n",
       "    </tr>\n",
       "    <tr>\n",
       "      <th>1</th>\n",
       "      <td>Credit reporting, credit repair services, or o...</td>\n",
       "      <td>Accounts added and/or created unbeknownst to m...</td>\n",
       "    </tr>\n",
       "    <tr>\n",
       "      <th>2</th>\n",
       "      <td>Mortgage</td>\n",
       "      <td>Please reference prior claim filed with CFPB, ...</td>\n",
       "    </tr>\n",
       "    <tr>\n",
       "      <th>3</th>\n",
       "      <td>Money transfer, virtual currency, or money ser...</td>\n",
       "      <td>The company that I'm reporting is Jpay ( www.j...</td>\n",
       "    </tr>\n",
       "    <tr>\n",
       "      <th>4</th>\n",
       "      <td>Credit reporting, credit repair services, or o...</td>\n",
       "      <td>I have been gotten bill from a debt collector ...</td>\n",
       "    </tr>\n",
       "    <tr>\n",
       "      <th>5</th>\n",
       "      <td>Credit reporting, credit repair services, or o...</td>\n",
       "      <td>Notice to whom it be of concern, It is YOU I h...</td>\n",
       "    </tr>\n",
       "    <tr>\n",
       "      <th>6</th>\n",
       "      <td>Credit reporting, credit repair services, or o...</td>\n",
       "      <td>The Department of Defense has a charge off on ...</td>\n",
       "    </tr>\n",
       "    <tr>\n",
       "      <th>7</th>\n",
       "      <td>Credit reporting, credit repair services, or o...</td>\n",
       "      <td>I settled/paid the ATTACHED account with XXXX ...</td>\n",
       "    </tr>\n",
       "    <tr>\n",
       "      <th>8</th>\n",
       "      <td>Credit reporting, credit repair services, or o...</td>\n",
       "      <td>I have been a victim of Identity Theft as well...</td>\n",
       "    </tr>\n",
       "    <tr>\n",
       "      <th>9</th>\n",
       "      <td>Checking or savings account</td>\n",
       "      <td>on XX/XX/2020, U.S. BANK Located on XXXX XXXX ...</td>\n",
       "    </tr>\n",
       "  </tbody>\n",
       "</table>\n",
       "</div>"
      ],
      "text/plain": [
       "                                               class  \\\n",
       "0  Credit reporting, credit repair services, or o...   \n",
       "1  Credit reporting, credit repair services, or o...   \n",
       "2                                           Mortgage   \n",
       "3  Money transfer, virtual currency, or money ser...   \n",
       "4  Credit reporting, credit repair services, or o...   \n",
       "5  Credit reporting, credit repair services, or o...   \n",
       "6  Credit reporting, credit repair services, or o...   \n",
       "7  Credit reporting, credit repair services, or o...   \n",
       "8  Credit reporting, credit repair services, or o...   \n",
       "9                        Checking or savings account   \n",
       "\n",
       "                                           narrative  \n",
       "0  I was disputing a Bankruptcy on my credit repo...  \n",
       "1  Accounts added and/or created unbeknownst to m...  \n",
       "2  Please reference prior claim filed with CFPB, ...  \n",
       "3  The company that I'm reporting is Jpay ( www.j...  \n",
       "4  I have been gotten bill from a debt collector ...  \n",
       "5  Notice to whom it be of concern, It is YOU I h...  \n",
       "6  The Department of Defense has a charge off on ...  \n",
       "7  I settled/paid the ATTACHED account with XXXX ...  \n",
       "8  I have been a victim of Identity Theft as well...  \n",
       "9  on XX/XX/2020, U.S. BANK Located on XXXX XXXX ...  "
      ]
     },
     "execution_count": 56,
     "metadata": {},
     "output_type": "execute_result"
    }
   ],
   "source": [
    "df = pd.DataFrame.from_dict(new_dict)\n",
    "df"
   ]
  },
  {
   "cell_type": "markdown",
   "metadata": {},
   "source": [
    "It seems to work. The API is only grabbing 10 items at a time, though"
   ]
  },
  {
   "cell_type": "code",
   "execution_count": 94,
   "metadata": {
    "execution": {
     "iopub.execute_input": "2021-04-16T17:43:59.238031Z",
     "iopub.status.busy": "2021-04-16T17:43:59.237030Z",
     "iopub.status.idle": "2021-04-16T17:43:59.385959Z",
     "shell.execute_reply": "2021-04-16T17:43:59.385447Z",
     "shell.execute_reply.started": "2021-04-16T17:43:59.238031Z"
    }
   },
   "outputs": [],
   "source": [
    "url = 'https://www.consumerfinance.gov/data-research/consumer-complaints/search/api/v1/'\n",
    "parameters = {'date_received_max': '2020-03-05',\n",
    "              'date_received_min': '2020-03-04',\n",
    "              'has_narrative': True\n",
    "}\n",
    "r4 = requests.get(url, params=parameters)"
   ]
  },
  {
   "cell_type": "code",
   "execution_count": 95,
   "metadata": {
    "execution": {
     "iopub.execute_input": "2021-04-16T17:44:00.607535Z",
     "iopub.status.busy": "2021-04-16T17:44:00.606537Z",
     "iopub.status.idle": "2021-04-16T17:44:00.741533Z",
     "shell.execute_reply": "2021-04-16T17:44:00.739533Z",
     "shell.execute_reply.started": "2021-04-16T17:44:00.607535Z"
    }
   },
   "outputs": [
    {
     "data": {
      "text/html": [
       "<div>\n",
       "<style scoped>\n",
       "    .dataframe tbody tr th:only-of-type {\n",
       "        vertical-align: middle;\n",
       "    }\n",
       "\n",
       "    .dataframe tbody tr th {\n",
       "        vertical-align: top;\n",
       "    }\n",
       "\n",
       "    .dataframe thead th {\n",
       "        text-align: right;\n",
       "    }\n",
       "</style>\n",
       "<table border=\"1\" class=\"dataframe\">\n",
       "  <thead>\n",
       "    <tr style=\"text-align: right;\">\n",
       "      <th></th>\n",
       "      <th>class</th>\n",
       "      <th>narrative</th>\n",
       "    </tr>\n",
       "  </thead>\n",
       "  <tbody>\n",
       "    <tr>\n",
       "      <th>5</th>\n",
       "      <td>Credit reporting, credit repair services, or o...</td>\n",
       "      <td>Notice to whom it be of concern, It is YOU I h...</td>\n",
       "    </tr>\n",
       "    <tr>\n",
       "      <th>6</th>\n",
       "      <td>Credit reporting, credit repair services, or o...</td>\n",
       "      <td>The Department of Defense has a charge off on ...</td>\n",
       "    </tr>\n",
       "    <tr>\n",
       "      <th>7</th>\n",
       "      <td>Credit reporting, credit repair services, or o...</td>\n",
       "      <td>I settled/paid the ATTACHED account with XXXX ...</td>\n",
       "    </tr>\n",
       "    <tr>\n",
       "      <th>8</th>\n",
       "      <td>Credit reporting, credit repair services, or o...</td>\n",
       "      <td>I have been a victim of Identity Theft as well...</td>\n",
       "    </tr>\n",
       "    <tr>\n",
       "      <th>9</th>\n",
       "      <td>Checking or savings account</td>\n",
       "      <td>on XX/XX/2020, U.S. BANK Located on XXXX XXXX ...</td>\n",
       "    </tr>\n",
       "  </tbody>\n",
       "</table>\n",
       "</div>"
      ],
      "text/plain": [
       "                                               class  \\\n",
       "5  Credit reporting, credit repair services, or o...   \n",
       "6  Credit reporting, credit repair services, or o...   \n",
       "7  Credit reporting, credit repair services, or o...   \n",
       "8  Credit reporting, credit repair services, or o...   \n",
       "9                        Checking or savings account   \n",
       "\n",
       "                                           narrative  \n",
       "5  Notice to whom it be of concern, It is YOU I h...  \n",
       "6  The Department of Defense has a charge off on ...  \n",
       "7  I settled/paid the ATTACHED account with XXXX ...  \n",
       "8  I have been a victim of Identity Theft as well...  \n",
       "9  on XX/XX/2020, U.S. BANK Located on XXXX XXXX ...  "
      ]
     },
     "execution_count": 95,
     "metadata": {},
     "output_type": "execute_result"
    }
   ],
   "source": [
    "diction = r4.json()\n",
    "\n",
    "new_dict = {}\n",
    "class_list = []\n",
    "narrative_list = [] \n",
    "for i in range(len(diction['hits']['hits'])):\n",
    "    class_list.append(diction['hits']['hits'][i]['_source']['product'])\n",
    "    narrative_list.append(diction['hits']['hits'][i]['_source']['complaint_what_happened'])\n",
    "new_dict['class'] = class_list\n",
    "new_dict['narrative'] = narrative_list\n",
    "\n",
    "df = pd.DataFrame.from_dict(new_dict)\n",
    "df.tail()"
   ]
  },
  {
   "cell_type": "code",
   "execution_count": 110,
   "metadata": {
    "execution": {
     "iopub.execute_input": "2021-04-16T17:48:33.229586Z",
     "iopub.status.busy": "2021-04-16T17:48:33.228586Z",
     "iopub.status.idle": "2021-04-16T17:48:33.732841Z",
     "shell.execute_reply": "2021-04-16T17:48:33.732841Z",
     "shell.execute_reply.started": "2021-04-16T17:48:33.229586Z"
    }
   },
   "outputs": [],
   "source": [
    "url = 'https://www.consumerfinance.gov/data-research/consumer-complaints/search/api/v1/'\n",
    "parameters = {'date_received_max': '2020-03-05',\n",
    "              'date_received_min': '2020-03-04',\n",
    "              'has_narrative': True,\n",
    "              'size': 100\n",
    "}\n",
    "r4 = requests.get(url, params=parameters)"
   ]
  },
  {
   "cell_type": "code",
   "execution_count": 111,
   "metadata": {
    "execution": {
     "iopub.execute_input": "2021-04-16T17:48:34.856562Z",
     "iopub.status.busy": "2021-04-16T17:48:34.855558Z",
     "iopub.status.idle": "2021-04-16T17:48:34.879559Z",
     "shell.execute_reply": "2021-04-16T17:48:34.877563Z",
     "shell.execute_reply.started": "2021-04-16T17:48:34.856562Z"
    }
   },
   "outputs": [],
   "source": [
    "diction = r4.json()"
   ]
  },
  {
   "cell_type": "code",
   "execution_count": 112,
   "metadata": {
    "execution": {
     "iopub.execute_input": "2021-04-16T17:48:35.647452Z",
     "iopub.status.busy": "2021-04-16T17:48:35.646454Z",
     "iopub.status.idle": "2021-04-16T17:48:35.684453Z",
     "shell.execute_reply": "2021-04-16T17:48:35.682452Z",
     "shell.execute_reply.started": "2021-04-16T17:48:35.647452Z"
    }
   },
   "outputs": [
    {
     "data": {
      "text/html": [
       "<div>\n",
       "<style scoped>\n",
       "    .dataframe tbody tr th:only-of-type {\n",
       "        vertical-align: middle;\n",
       "    }\n",
       "\n",
       "    .dataframe tbody tr th {\n",
       "        vertical-align: top;\n",
       "    }\n",
       "\n",
       "    .dataframe thead th {\n",
       "        text-align: right;\n",
       "    }\n",
       "</style>\n",
       "<table border=\"1\" class=\"dataframe\">\n",
       "  <thead>\n",
       "    <tr style=\"text-align: right;\">\n",
       "      <th></th>\n",
       "      <th>class</th>\n",
       "      <th>narrative</th>\n",
       "    </tr>\n",
       "  </thead>\n",
       "  <tbody>\n",
       "    <tr>\n",
       "      <th>95</th>\n",
       "      <td>Debt collection</td>\n",
       "      <td>Consumer complaint narrative I have not receiv...</td>\n",
       "    </tr>\n",
       "    <tr>\n",
       "      <th>96</th>\n",
       "      <td>Credit reporting, credit repair services, or o...</td>\n",
       "      <td>I co-signed for my father for a XXXX XXXX XXXX...</td>\n",
       "    </tr>\n",
       "    <tr>\n",
       "      <th>97</th>\n",
       "      <td>Payday loan, title loan, or personal loan</td>\n",
       "      <td>I am a victim of Identity theft and I have dis...</td>\n",
       "    </tr>\n",
       "    <tr>\n",
       "      <th>98</th>\n",
       "      <td>Credit reporting, credit repair services, or o...</td>\n",
       "      <td>Notice to whom it be of concern, It is YOU I h...</td>\n",
       "    </tr>\n",
       "    <tr>\n",
       "      <th>99</th>\n",
       "      <td>Mortgage</td>\n",
       "      <td>I have sent in multiple forms with my signatur...</td>\n",
       "    </tr>\n",
       "  </tbody>\n",
       "</table>\n",
       "</div>"
      ],
      "text/plain": [
       "                                                class  \\\n",
       "95                                    Debt collection   \n",
       "96  Credit reporting, credit repair services, or o...   \n",
       "97          Payday loan, title loan, or personal loan   \n",
       "98  Credit reporting, credit repair services, or o...   \n",
       "99                                           Mortgage   \n",
       "\n",
       "                                            narrative  \n",
       "95  Consumer complaint narrative I have not receiv...  \n",
       "96  I co-signed for my father for a XXXX XXXX XXXX...  \n",
       "97  I am a victim of Identity theft and I have dis...  \n",
       "98  Notice to whom it be of concern, It is YOU I h...  \n",
       "99  I have sent in multiple forms with my signatur...  "
      ]
     },
     "execution_count": 112,
     "metadata": {},
     "output_type": "execute_result"
    }
   ],
   "source": [
    "\n",
    "new_dict = {}\n",
    "class_list = []\n",
    "narrative_list = [] \n",
    "for i in range(len(diction['hits']['hits'])):\n",
    "    class_list.append(diction['hits']['hits'][i]['_source']['product'])\n",
    "    narrative_list.append(diction['hits']['hits'][i]['_source']['complaint_what_happened'])\n",
    "new_dict['class'] = class_list\n",
    "new_dict['narrative'] = narrative_list\n",
    "\n",
    "df = pd.DataFrame.from_dict(new_dict)\n",
    "df.tail()"
   ]
  }
 ],
 "metadata": {
  "kernelspec": {
   "display_name": "Python 3",
   "language": "python",
   "name": "python3"
  },
  "language_info": {
   "codemirror_mode": {
    "name": "ipython",
    "version": 3
   },
   "file_extension": ".py",
   "mimetype": "text/x-python",
   "name": "python",
   "nbconvert_exporter": "python",
   "pygments_lexer": "ipython3",
   "version": "3.6.9"
  }
 },
 "nbformat": 4,
 "nbformat_minor": 4
}
