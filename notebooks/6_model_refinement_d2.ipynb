{
 "cells": [
  {
   "cell_type": "markdown",
   "metadata": {},
   "source": [
    "# Import libraries and dataframe"
   ]
  },
  {
   "cell_type": "code",
   "execution_count": 1,
   "metadata": {
    "execution": {
     "iopub.execute_input": "2021-04-16T12:15:47.745205Z",
     "iopub.status.busy": "2021-04-16T12:15:47.745205Z",
     "iopub.status.idle": "2021-04-16T12:15:59.327610Z",
     "shell.execute_reply": "2021-04-16T12:15:59.327610Z",
     "shell.execute_reply.started": "2021-04-16T12:15:47.745205Z"
    }
   },
   "outputs": [],
   "source": [
    "import numpy as np\n",
    "import pandas as pd\n",
    "\n",
    "\n",
    "from sklearn.feature_extraction.text import TfidfVectorizer, CountVectorizer\n",
    "\n",
    "from sklearn.model_selection import train_test_split, GridSearchCV, cross_val_score\n",
    "from sklearn.metrics import classification_report, accuracy_score, confusion_matrix, recall_score\n",
    "from sklearn.metrics import plot_confusion_matrix\n",
    "from scoring_functions import scoring_functions as f\n",
    "from sklearn.metrics import confusion_matrix\n",
    "from sklearn.metrics import ConfusionMatrixDisplay\n",
    "\n",
    "from imblearn.over_sampling import SMOTE\n",
    "\n",
    "from sklearn.naive_bayes import MultinomialNB\n",
    "from sklearn.tree import DecisionTreeClassifier\n",
    "from sklearn.ensemble import GradientBoostingClassifier\n",
    "\n",
    "from sklearn.pipeline import Pipeline\n",
    "\n",
    "# imp allows to reload the above function file when tinkering with it without kernel restart\n",
    "import imp\n",
    "\n",
    "import time\n",
    "import matplotlib.pyplot as plt"
   ]
  },
  {
   "cell_type": "code",
   "execution_count": 2,
   "metadata": {
    "execution": {
     "iopub.execute_input": "2021-04-16T12:15:59.327610Z",
     "iopub.status.busy": "2021-04-16T12:15:59.327610Z",
     "iopub.status.idle": "2021-04-16T12:16:01.172959Z",
     "shell.execute_reply": "2021-04-16T12:16:01.171953Z",
     "shell.execute_reply.started": "2021-04-16T12:15:59.327610Z"
    }
   },
   "outputs": [],
   "source": [
    "# read datafile\n",
    "df = pd.read_csv('../project_data/complaints_processed.csv')\n",
    "\n",
    "# clean up by removing NaN's, etc.\n",
    "df.drop(['Unnamed: 0'], axis=1, inplace=True)\n",
    "df = df.dropna()\n",
    "df.drop(df.loc[df['narrative'] == 'name'].index, inplace=True)\n",
    "\n",
    "# replace class names with integers\n",
    "product_dict ={'credit_reporting': 0, 'debt_collection': 1, 'mortgages_and_loans': 2, \n",
    "               'credit_card': 3, 'retail_banking': 4}\n",
    "df['product'].replace(product_dict, inplace=True)"
   ]
  },
  {
   "cell_type": "code",
   "execution_count": 3,
   "metadata": {
    "execution": {
     "iopub.execute_input": "2021-04-13T17:44:36.509998Z",
     "iopub.status.busy": "2021-04-13T17:44:36.508997Z",
     "iopub.status.idle": "2021-04-13T17:44:36.531998Z",
     "shell.execute_reply": "2021-04-13T17:44:36.529018Z",
     "shell.execute_reply.started": "2021-04-13T17:44:36.509998Z"
    }
   },
   "outputs": [
    {
     "data": {
      "text/plain": [
       "(162405, 2)"
      ]
     },
     "execution_count": 3,
     "metadata": {},
     "output_type": "execute_result"
    }
   ],
   "source": [
    "df.shape"
   ]
  },
  {
   "cell_type": "markdown",
   "metadata": {},
   "source": [
    "## Train-test split"
   ]
  },
  {
   "cell_type": "code",
   "execution_count": 3,
   "metadata": {
    "execution": {
     "iopub.execute_input": "2021-04-16T12:16:01.174960Z",
     "iopub.status.busy": "2021-04-16T12:16:01.174960Z",
     "iopub.status.idle": "2021-04-16T12:16:01.268958Z",
     "shell.execute_reply": "2021-04-16T12:16:01.266968Z",
     "shell.execute_reply.started": "2021-04-16T12:16:01.174960Z"
    }
   },
   "outputs": [],
   "source": [
    "X = df.drop(['product'], axis=1)\n",
    "y = df['product']\n",
    "\n",
    "X_train, X_test, y_train, y_test = train_test_split(X['narrative'], y, test_size=0.20, random_state=200)"
   ]
  },
  {
   "cell_type": "markdown",
   "metadata": {},
   "source": [
    "# Decision Tree"
   ]
  },
  {
   "cell_type": "markdown",
   "metadata": {},
   "source": [
    "## Pipeline 1"
   ]
  },
  {
   "cell_type": "markdown",
   "metadata": {},
   "source": [
    "- get idea on what limiting TF-IDF does to performance\n",
    "- get idea on what max depth does to performance"
   ]
  },
  {
   "cell_type": "code",
   "execution_count": 5,
   "metadata": {
    "execution": {
     "iopub.execute_input": "2021-04-13T18:05:11.408853Z",
     "iopub.status.busy": "2021-04-13T18:05:11.407856Z",
     "iopub.status.idle": "2021-04-13T18:05:11.437853Z",
     "shell.execute_reply": "2021-04-13T18:05:11.436853Z",
     "shell.execute_reply.started": "2021-04-13T18:05:11.408853Z"
    },
    "tags": [
     "pipeline"
    ]
   },
   "outputs": [],
   "source": [
    "dt1_pipeline = Pipeline([('tfidf', TfidfVectorizer()), \n",
    "                         ('dt', DecisionTreeClassifier(random_state=123))])"
   ]
  },
  {
   "cell_type": "code",
   "execution_count": 6,
   "metadata": {
    "execution": {
     "iopub.execute_input": "2021-04-13T18:05:12.806855Z",
     "iopub.status.busy": "2021-04-13T18:05:12.806855Z",
     "iopub.status.idle": "2021-04-13T18:05:12.827857Z",
     "shell.execute_reply": "2021-04-13T18:05:12.825853Z",
     "shell.execute_reply.started": "2021-04-13T18:05:12.806855Z"
    }
   },
   "outputs": [],
   "source": [
    "dt1_param_grid = {\n",
    "    'tfidf__ngram_range': [(1,1), (1,2)],\n",
    "    'tfidf__max_features': [5000, 10000, 25000], \n",
    "    'dt__max_depth': [2, 4, 6]\n",
    "}"
   ]
  },
  {
   "cell_type": "code",
   "execution_count": 7,
   "metadata": {
    "execution": {
     "iopub.execute_input": "2021-04-13T18:07:31.414614Z",
     "iopub.status.busy": "2021-04-13T18:07:31.412616Z",
     "iopub.status.idle": "2021-04-13T18:07:31.445619Z",
     "shell.execute_reply": "2021-04-13T18:07:31.443612Z",
     "shell.execute_reply.started": "2021-04-13T18:07:31.414614Z"
    }
   },
   "outputs": [],
   "source": [
    "dt1_grid_search = GridSearchCV(estimator=dt1_pipeline,\n",
    "                               param_grid=dt1_param_grid,\n",
    "                               scoring='recall_macro',\n",
    "                               cv=3)"
   ]
  },
  {
   "cell_type": "code",
   "execution_count": 8,
   "metadata": {
    "execution": {
     "iopub.execute_input": "2021-04-13T18:07:44.102011Z",
     "iopub.status.busy": "2021-04-13T18:07:44.101013Z",
     "iopub.status.idle": "2021-04-13T19:03:48.352519Z",
     "shell.execute_reply": "2021-04-13T19:03:48.347521Z",
     "shell.execute_reply.started": "2021-04-13T18:07:44.102011Z"
    }
   },
   "outputs": [
    {
     "data": {
      "text/plain": [
       "GridSearchCV(cv=3,\n",
       "             estimator=Pipeline(steps=[('tfidf', TfidfVectorizer()),\n",
       "                                       ('dt',\n",
       "                                        DecisionTreeClassifier(random_state=123))]),\n",
       "             param_grid={'dt__max_depth': [2, 4, 6],\n",
       "                         'tfidf__max_features': [5000, 10000, 25000],\n",
       "                         'tfidf__ngram_range': [(1, 1), (1, 2)]},\n",
       "             scoring='recall_macro')"
      ]
     },
     "execution_count": 8,
     "metadata": {},
     "output_type": "execute_result"
    }
   ],
   "source": [
    "dt1_grid_search.fit(X_train, y_train)"
   ]
  },
  {
   "cell_type": "markdown",
   "metadata": {},
   "source": [
    "The above cell took 56 minutes to run."
   ]
  },
  {
   "cell_type": "code",
   "execution_count": 9,
   "metadata": {
    "execution": {
     "iopub.execute_input": "2021-04-13T19:03:48.365545Z",
     "iopub.status.busy": "2021-04-13T19:03:48.363518Z",
     "iopub.status.idle": "2021-04-13T19:03:48.394520Z",
     "shell.execute_reply": "2021-04-13T19:03:48.393520Z",
     "shell.execute_reply.started": "2021-04-13T19:03:48.365545Z"
    }
   },
   "outputs": [
    {
     "data": {
      "text/plain": [
       "{'dt__max_depth': 6,\n",
       " 'tfidf__max_features': 10000,\n",
       " 'tfidf__ngram_range': (1, 1)}"
      ]
     },
     "execution_count": 9,
     "metadata": {},
     "output_type": "execute_result"
    }
   ],
   "source": [
    "dt1_grid_search.best_params_"
   ]
  },
  {
   "cell_type": "code",
   "execution_count": 10,
   "metadata": {
    "execution": {
     "iopub.execute_input": "2021-04-13T19:03:48.397522Z",
     "iopub.status.busy": "2021-04-13T19:03:48.397522Z",
     "iopub.status.idle": "2021-04-13T19:03:48.425741Z",
     "shell.execute_reply": "2021-04-13T19:03:48.424740Z",
     "shell.execute_reply.started": "2021-04-13T19:03:48.397522Z"
    },
    "jupyter": {
     "source_hidden": true
    }
   },
   "outputs": [
    {
     "data": {
      "text/plain": [
       "0.6282982397618458"
      ]
     },
     "execution_count": 10,
     "metadata": {},
     "output_type": "execute_result"
    }
   ],
   "source": [
    "dt1_grid_search.best_score_"
   ]
  },
  {
   "cell_type": "markdown",
   "metadata": {},
   "source": [
    "Seeing how CountVectorizer will compare with TF-IDF"
   ]
  },
  {
   "cell_type": "markdown",
   "metadata": {},
   "source": [
    "## Pipeline 2"
   ]
  },
  {
   "cell_type": "code",
   "execution_count": 11,
   "metadata": {
    "execution": {
     "iopub.execute_input": "2021-04-13T19:14:19.072570Z",
     "iopub.status.busy": "2021-04-13T19:14:19.067570Z",
     "iopub.status.idle": "2021-04-13T19:14:19.146571Z",
     "shell.execute_reply": "2021-04-13T19:14:19.143576Z",
     "shell.execute_reply.started": "2021-04-13T19:14:19.072570Z"
    }
   },
   "outputs": [],
   "source": [
    "dt2_pipeline = Pipeline([('countv', CountVectorizer()), \n",
    "                         ('dt', DecisionTreeClassifier(random_state=123))])\n",
    "\n",
    "dt2_param_grid = {\n",
    "    'countv__ngram_range': [(1,1), (1,2)],\n",
    "    'countv__max_features': [5000, 10000, 25000], \n",
    "    'dt__max_depth': [6]\n",
    "}\n",
    "\n",
    "dt2_grid_search = GridSearchCV(estimator=dt2_pipeline,\n",
    "                               param_grid=dt2_param_grid,\n",
    "                               scoring='recall_macro',\n",
    "                               cv=3)"
   ]
  },
  {
   "cell_type": "code",
   "execution_count": 12,
   "metadata": {
    "execution": {
     "iopub.execute_input": "2021-04-13T19:14:24.067645Z",
     "iopub.status.busy": "2021-04-13T19:14:24.066644Z",
     "iopub.status.idle": "2021-04-13T19:25:55.754540Z",
     "shell.execute_reply": "2021-04-13T19:25:55.751539Z",
     "shell.execute_reply.started": "2021-04-13T19:14:24.067645Z"
    }
   },
   "outputs": [
    {
     "name": "stdout",
     "output_type": "stream",
     "text": [
      "Best Score: 0.62\n"
     ]
    },
    {
     "data": {
      "text/plain": [
       "{'countv__max_features': 5000,\n",
       " 'countv__ngram_range': (1, 1),\n",
       " 'dt__max_depth': 6}"
      ]
     },
     "execution_count": 12,
     "metadata": {},
     "output_type": "execute_result"
    }
   ],
   "source": [
    "dt2_grid_search.fit(X_train, y_train)\n",
    "print(f'Best Score: {round(dt2_grid_search.best_score_, 3)}')\n",
    "dt2_grid_search.best_params_"
   ]
  },
  {
   "cell_type": "markdown",
   "metadata": {},
   "source": [
    "The above cell took 11 minutes to run."
   ]
  },
  {
   "cell_type": "code",
   "execution_count": 15,
   "metadata": {
    "execution": {
     "iopub.execute_input": "2021-04-13T19:28:47.481457Z",
     "iopub.status.busy": "2021-04-13T19:28:47.480462Z",
     "iopub.status.idle": "2021-04-13T19:28:47.498463Z",
     "shell.execute_reply": "2021-04-13T19:28:47.497456Z",
     "shell.execute_reply.started": "2021-04-13T19:28:47.481457Z"
    }
   },
   "outputs": [
    {
     "name": "stdout",
     "output_type": "stream",
     "text": [
      "Best Score: 0.621\n"
     ]
    }
   ],
   "source": [
    "print(f'Best Score: {round(dt2_grid_search.best_score_, 3)}')"
   ]
  },
  {
   "cell_type": "markdown",
   "metadata": {},
   "source": [
    "- TFIDF did a smidgen better than CountVectorizer -- 0.628 vs. 0.621\n",
    "- TFIDF did better with 10000 max features, and CountVectorizer did best with 5000 max features  \n",
    "- Both did better with n_gram range: (1,1)  \n",
    "\n",
    "Will try to refine max features with TFIDF"
   ]
  },
  {
   "cell_type": "markdown",
   "metadata": {},
   "source": [
    "## Pipeline 3"
   ]
  },
  {
   "cell_type": "code",
   "execution_count": 20,
   "metadata": {
    "execution": {
     "iopub.execute_input": "2021-04-13T19:45:02.390515Z",
     "iopub.status.busy": "2021-04-13T19:45:02.388515Z",
     "iopub.status.idle": "2021-04-13T19:45:02.420518Z",
     "shell.execute_reply": "2021-04-13T19:45:02.418520Z",
     "shell.execute_reply.started": "2021-04-13T19:45:02.390515Z"
    }
   },
   "outputs": [],
   "source": [
    "dt3_pipeline = Pipeline([('tfidf', TfidfVectorizer()), \n",
    "                         ('dt', DecisionTreeClassifier(random_state=123))])\n",
    "\n",
    "dt3_param_grid = {\n",
    "    'tfidf__max_features': [7000, 10000, 12500, 16000], \n",
    "    'dt__max_depth': [6]\n",
    "}\n",
    "\n",
    "dt3_grid_search = GridSearchCV(estimator=dt3_pipeline,\n",
    "                               param_grid=dt3_param_grid,\n",
    "                               scoring='recall_macro',\n",
    "                               cv=3)"
   ]
  },
  {
   "cell_type": "code",
   "execution_count": 21,
   "metadata": {
    "execution": {
     "iopub.execute_input": "2021-04-13T19:45:05.621819Z",
     "iopub.status.busy": "2021-04-13T19:45:05.620817Z",
     "iopub.status.idle": "2021-04-13T19:50:08.464819Z",
     "shell.execute_reply": "2021-04-13T19:50:08.461818Z",
     "shell.execute_reply.started": "2021-04-13T19:45:05.621819Z"
    }
   },
   "outputs": [
    {
     "name": "stdout",
     "output_type": "stream",
     "text": [
      "Best Score: 0.628\n"
     ]
    },
    {
     "data": {
      "text/plain": [
       "{'dt__max_depth': 6, 'tfidf__max_features': 10000}"
      ]
     },
     "execution_count": 21,
     "metadata": {},
     "output_type": "execute_result"
    }
   ],
   "source": [
    "dt3_grid_search.fit(X_train, y_train)\n",
    "print(f'Best Score: {round(dt3_grid_search.best_score_, 3)}')\n",
    "dt3_grid_search.best_params_"
   ]
  },
  {
   "cell_type": "markdown",
   "metadata": {},
   "source": [
    "It seems like 10000 features is the sweet spot."
   ]
  },
  {
   "cell_type": "markdown",
   "metadata": {},
   "source": [
    "For TFIDF, I'll go with `max_features=10000`, and `n_gram_range = (1,1)`, which is default."
   ]
  },
  {
   "cell_type": "markdown",
   "metadata": {
    "execution": {
     "iopub.execute_input": "2021-04-14T15:17:31.965028Z",
     "iopub.status.busy": "2021-04-14T15:17:31.964026Z",
     "iopub.status.idle": "2021-04-14T15:17:31.971026Z",
     "shell.execute_reply": "2021-04-14T15:17:31.970027Z",
     "shell.execute_reply.started": "2021-04-14T15:17:31.965028Z"
    }
   },
   "source": [
    "## Pipeline 4"
   ]
  },
  {
   "cell_type": "code",
   "execution_count": 22,
   "metadata": {
    "execution": {
     "iopub.execute_input": "2021-04-13T21:11:41.402367Z",
     "iopub.status.busy": "2021-04-13T21:11:41.400367Z",
     "iopub.status.idle": "2021-04-13T21:11:41.554368Z",
     "shell.execute_reply": "2021-04-13T21:11:41.552368Z",
     "shell.execute_reply.started": "2021-04-13T21:11:41.402367Z"
    }
   },
   "outputs": [],
   "source": [
    "dt4_pipeline = Pipeline([('tfidf', TfidfVectorizer(max_features=10000)), \n",
    "                         ('dt', DecisionTreeClassifier(random_state=123))])\n",
    "\n",
    "dt4_param_grid = {\n",
    "    'dt__max_depth': [6, 10, 14],    \n",
    "    'dt__min_samples_split': [2, 5, 10],\n",
    "    'dt__min_samples_leaf': [1, 3, 5]}\n",
    "\n",
    "dt4_grid_search = GridSearchCV(estimator=dt4_pipeline,\n",
    "                               param_grid=dt4_param_grid,\n",
    "                               scoring='recall_macro',\n",
    "                               cv=3)"
   ]
  },
  {
   "cell_type": "code",
   "execution_count": 23,
   "metadata": {
    "execution": {
     "iopub.execute_input": "2021-04-13T21:11:48.397163Z",
     "iopub.status.busy": "2021-04-13T21:11:48.397163Z",
     "iopub.status.idle": "2021-04-13T22:05:24.537965Z",
     "shell.execute_reply": "2021-04-13T22:05:24.528684Z",
     "shell.execute_reply.started": "2021-04-13T21:11:48.397163Z"
    }
   },
   "outputs": [
    {
     "name": "stdout",
     "output_type": "stream",
     "text": [
      "Best Score: 0.7182\n"
     ]
    },
    {
     "data": {
      "text/plain": [
       "{'dt__max_depth': 14, 'dt__min_samples_leaf': 1, 'dt__min_samples_split': 5}"
      ]
     },
     "execution_count": 23,
     "metadata": {},
     "output_type": "execute_result"
    }
   ],
   "source": [
    "dt4_grid_search.fit(X_train, y_train)\n",
    "print(f'Best Score: {round(dt4_grid_search.best_score_, 4)}')\n",
    "dt4_grid_search.best_params_"
   ]
  },
  {
   "cell_type": "markdown",
   "metadata": {
    "execution": {
     "iopub.execute_input": "2021-04-13T22:05:24.567967Z",
     "iopub.status.busy": "2021-04-13T22:05:24.565967Z",
     "iopub.status.idle": "2021-04-13T22:05:24.625968Z",
     "shell.execute_reply": "2021-04-13T22:05:24.622969Z",
     "shell.execute_reply.started": "2021-04-13T22:05:24.567967Z"
    }
   },
   "source": [
    "I got my score up to 0.72 from a baseline of 0.62."
   ]
  },
  {
   "cell_type": "markdown",
   "metadata": {
    "execution": {
     "iopub.execute_input": "2021-04-14T15:19:59.661296Z",
     "iopub.status.busy": "2021-04-14T15:19:59.661296Z",
     "iopub.status.idle": "2021-04-14T15:19:59.679296Z",
     "shell.execute_reply": "2021-04-14T15:19:59.677300Z",
     "shell.execute_reply.started": "2021-04-14T15:19:59.661296Z"
    }
   },
   "source": [
    "## Check best-scoring model for overfitting "
   ]
  },
  {
   "cell_type": "code",
   "execution_count": 10,
   "metadata": {
    "execution": {
     "iopub.execute_input": "2021-04-14T15:29:54.665230Z",
     "iopub.status.busy": "2021-04-14T15:29:54.664230Z",
     "iopub.status.idle": "2021-04-14T15:30:09.159227Z",
     "shell.execute_reply": "2021-04-14T15:30:09.158227Z",
     "shell.execute_reply.started": "2021-04-14T15:29:54.665230Z"
    }
   },
   "outputs": [],
   "source": [
    "# Vectorize X train and test data\n",
    "vectorizer_dt_best = TfidfVectorizer(max_features=10000)\n",
    "vect_X_train = vectorizer_dt_best.fit_transform(X_train)\n",
    "vect_X_test = vectorizer_dt_best.transform(X_test)\n",
    "feature_names =  vectorizer_dt_best.get_feature_names()"
   ]
  },
  {
   "cell_type": "code",
   "execution_count": 8,
   "metadata": {
    "execution": {
     "iopub.execute_input": "2021-04-14T15:29:11.084075Z",
     "iopub.status.busy": "2021-04-14T15:29:11.084075Z",
     "iopub.status.idle": "2021-04-14T15:29:11.097074Z",
     "shell.execute_reply": "2021-04-14T15:29:11.095072Z",
     "shell.execute_reply.started": "2021-04-14T15:29:11.084075Z"
    }
   },
   "outputs": [],
   "source": [
    "# Instantiate model\n",
    "dt_best = DecisionTreeClassifier(\n",
    "    random_state=123,\n",
    "    max_depth=14,\n",
    "    min_samples_leaf=1,\n",
    "    min_samples_split=5)"
   ]
  },
  {
   "cell_type": "code",
   "execution_count": 12,
   "metadata": {
    "execution": {
     "iopub.execute_input": "2021-04-14T15:33:52.794881Z",
     "iopub.status.busy": "2021-04-14T15:33:52.794881Z",
     "iopub.status.idle": "2021-04-14T15:34:50.891879Z",
     "shell.execute_reply": "2021-04-14T15:34:50.890877Z",
     "shell.execute_reply.started": "2021-04-14T15:33:52.794881Z"
    }
   },
   "outputs": [
    {
     "name": "stdout",
     "output_type": "stream",
     "text": [
      "TRAINING - Classification Report\n",
      "Accuracy: 84.9%\n",
      "Precision: 82.4%\n",
      "Recall: 77.9%\n",
      "F1: 80.0%\n",
      "              precision    recall  f1-score   support\n",
      "\n",
      "           0       0.87      0.94      0.90     73012\n",
      "           1       0.81      0.68      0.74     18544\n",
      "           2       0.84      0.77      0.80     15180\n",
      "           3       0.77      0.72      0.75     12364\n",
      "           4       0.83      0.79      0.81     10824\n",
      "\n",
      "    accuracy                           0.85    129924\n",
      "   macro avg       0.82      0.78      0.80    129924\n",
      "weighted avg       0.85      0.85      0.85    129924\n",
      "\n",
      "TESTING - Classification Report\n",
      "Accuracy: 80.9%\n",
      "Precision: 76.7%\n",
      "Recall: 72.5%\n",
      "F1: 74.4%\n",
      "              precision    recall  f1-score   support\n",
      "\n",
      "           0       0.85      0.92      0.88     18159\n",
      "           1       0.75      0.62      0.68      4601\n",
      "           2       0.78      0.72      0.75      3810\n",
      "           3       0.70      0.64      0.67      3200\n",
      "           4       0.76      0.72      0.74      2711\n",
      "\n",
      "    accuracy                           0.81     32481\n",
      "   macro avg       0.77      0.72      0.74     32481\n",
      "weighted avg       0.80      0.81      0.81     32481\n",
      "\n"
     ]
    },
    {
     "data": {
      "image/png": "[encoded data removed]",
      "text/plain": [
       "<Figure size 1080x360 with 4 Axes>"
      ]
     },
     "metadata": {
      "needs_background": "light"
     },
     "output_type": "display_data"
    }
   ],
   "source": [
    "imp.reload(f)\n",
    "f.run_model(dt_best, vect_X_train, y_train, vect_X_test, y_test)"
   ]
  },
  {
   "cell_type": "markdown",
   "metadata": {},
   "source": [
    "Not perfect but pretty good results. It seems debt_collection (category 1) is the hardest for the model to fit."
   ]
  },
  {
   "cell_type": "markdown",
   "metadata": {},
   "source": [
    "# Naive Bayes"
   ]
  },
  {
   "cell_type": "markdown",
   "metadata": {},
   "source": [
    "## Pipeline 1"
   ]
  },
  {
   "cell_type": "markdown",
   "metadata": {},
   "source": [
    "- get idea on what limiting TF-IDF does to performance\n",
    "- get idea on what smoothing does to performance"
   ]
  },
  {
   "cell_type": "code",
   "execution_count": 14,
   "metadata": {
    "execution": {
     "iopub.execute_input": "2021-04-14T16:04:31.859196Z",
     "iopub.status.busy": "2021-04-14T16:04:31.859196Z",
     "iopub.status.idle": "2021-04-14T16:04:31.884191Z",
     "shell.execute_reply": "2021-04-14T16:04:31.883195Z",
     "shell.execute_reply.started": "2021-04-14T16:04:31.859196Z"
    },
    "tags": [
     "pipeline"
    ]
   },
   "outputs": [],
   "source": [
    "nb1_pipeline = Pipeline([('tfidf', TfidfVectorizer()), \n",
    "                         ('nb', MultinomialNB())])"
   ]
  },
  {
   "cell_type": "code",
   "execution_count": 21,
   "metadata": {
    "execution": {
     "iopub.execute_input": "2021-04-14T16:10:36.804815Z",
     "iopub.status.busy": "2021-04-14T16:10:36.804815Z",
     "iopub.status.idle": "2021-04-14T16:10:36.823810Z",
     "shell.execute_reply": "2021-04-14T16:10:36.822838Z",
     "shell.execute_reply.started": "2021-04-14T16:10:36.804815Z"
    }
   },
   "outputs": [],
   "source": [
    "nb1_param_grid = {\n",
    "    'tfidf__ngram_range': [(1,1), (1,2)],\n",
    "    'tfidf__max_features': [5000, 10000, 25000]\n",
    "}"
   ]
  },
  {
   "cell_type": "code",
   "execution_count": 22,
   "metadata": {
    "execution": {
     "iopub.execute_input": "2021-04-14T16:10:39.218178Z",
     "iopub.status.busy": "2021-04-14T16:10:39.218178Z",
     "iopub.status.idle": "2021-04-14T16:10:39.231178Z",
     "shell.execute_reply": "2021-04-14T16:10:39.230177Z",
     "shell.execute_reply.started": "2021-04-14T16:10:39.218178Z"
    }
   },
   "outputs": [],
   "source": [
    "nb1_grid_search = GridSearchCV(estimator=nb1_pipeline,\n",
    "                               param_grid=nb1_param_grid,\n",
    "                               scoring='recall_macro',\n",
    "                               cv=3)"
   ]
  },
  {
   "cell_type": "code",
   "execution_count": 23,
   "metadata": {
    "execution": {
     "iopub.execute_input": "2021-04-14T16:10:41.007669Z",
     "iopub.status.busy": "2021-04-14T16:10:41.007669Z",
     "iopub.status.idle": "2021-04-14T16:19:33.854674Z",
     "shell.execute_reply": "2021-04-14T16:19:33.850676Z",
     "shell.execute_reply.started": "2021-04-14T16:10:41.007669Z"
    }
   },
   "outputs": [
    {
     "data": {
      "text/plain": [
       "GridSearchCV(cv=3,\n",
       "             estimator=Pipeline(steps=[('tfidf', TfidfVectorizer()),\n",
       "                                       ('nb', MultinomialNB())]),\n",
       "             param_grid={'tfidf__max_features': [5000, 10000, 25000],\n",
       "                         'tfidf__ngram_range': [(1, 1), (1, 2)]},\n",
       "             scoring='recall_macro')"
      ]
     },
     "execution_count": 23,
     "metadata": {},
     "output_type": "execute_result"
    }
   ],
   "source": [
    "nb1_grid_search.fit(X_train, y_train)"
   ]
  },
  {
   "cell_type": "code",
   "execution_count": 24,
   "metadata": {
    "execution": {
     "iopub.execute_input": "2021-04-14T16:19:48.810745Z",
     "iopub.status.busy": "2021-04-14T16:19:48.809745Z",
     "iopub.status.idle": "2021-04-14T16:19:48.838747Z",
     "shell.execute_reply": "2021-04-14T16:19:48.837745Z",
     "shell.execute_reply.started": "2021-04-14T16:19:48.810745Z"
    }
   },
   "outputs": [
    {
     "data": {
      "text/plain": [
       "{'tfidf__max_features': 25000, 'tfidf__ngram_range': (1, 2)}"
      ]
     },
     "execution_count": 24,
     "metadata": {},
     "output_type": "execute_result"
    }
   ],
   "source": [
    "nb1_grid_search.best_params_"
   ]
  },
  {
   "cell_type": "code",
   "execution_count": 26,
   "metadata": {
    "execution": {
     "iopub.execute_input": "2021-04-14T16:20:24.818835Z",
     "iopub.status.busy": "2021-04-14T16:20:24.817834Z",
     "iopub.status.idle": "2021-04-14T16:20:24.830835Z",
     "shell.execute_reply": "2021-04-14T16:20:24.829848Z",
     "shell.execute_reply.started": "2021-04-14T16:20:24.818835Z"
    }
   },
   "outputs": [
    {
     "data": {
      "text/plain": [
       "0.826"
      ]
     },
     "execution_count": 26,
     "metadata": {},
     "output_type": "execute_result"
    }
   ],
   "source": [
    "round(nb1_grid_search.best_score_, 3)"
   ]
  },
  {
   "cell_type": "markdown",
   "metadata": {
    "execution": {
     "iopub.execute_input": "2021-04-14T16:20:47.902262Z",
     "iopub.status.busy": "2021-04-14T16:20:47.901263Z",
     "iopub.status.idle": "2021-04-14T16:20:47.922264Z",
     "shell.execute_reply": "2021-04-14T16:20:47.920264Z",
     "shell.execute_reply.started": "2021-04-14T16:20:47.902262Z"
    }
   },
   "source": [
    "## Pipeline 2"
   ]
  },
  {
   "cell_type": "code",
   "execution_count": 29,
   "metadata": {
    "execution": {
     "iopub.execute_input": "2021-04-14T16:23:35.265287Z",
     "iopub.status.busy": "2021-04-14T16:23:35.265287Z",
     "iopub.status.idle": "2021-04-14T16:23:35.285287Z",
     "shell.execute_reply": "2021-04-14T16:23:35.283284Z",
     "shell.execute_reply.started": "2021-04-14T16:23:35.265287Z"
    }
   },
   "outputs": [],
   "source": [
    "nb2_pipeline = Pipeline([('tfidf', TfidfVectorizer(ngram_range=(1,2))), \n",
    "                         ('nb', MultinomialNB())])"
   ]
  },
  {
   "cell_type": "code",
   "execution_count": 30,
   "metadata": {
    "execution": {
     "iopub.execute_input": "2021-04-14T16:23:36.787373Z",
     "iopub.status.busy": "2021-04-14T16:23:36.786374Z",
     "iopub.status.idle": "2021-04-14T16:23:36.806375Z",
     "shell.execute_reply": "2021-04-14T16:23:36.804377Z",
     "shell.execute_reply.started": "2021-04-14T16:23:36.787373Z"
    }
   },
   "outputs": [],
   "source": [
    "nb2_param_grid = {\n",
    "    'tfidf__max_features': [25000, 40000, 55000],\n",
    "    'nb__alpha': [.7, 1.3]\n",
    "}"
   ]
  },
  {
   "cell_type": "code",
   "execution_count": 31,
   "metadata": {
    "execution": {
     "iopub.execute_input": "2021-04-14T16:23:38.565586Z",
     "iopub.status.busy": "2021-04-14T16:23:38.565586Z",
     "iopub.status.idle": "2021-04-14T16:23:38.588581Z",
     "shell.execute_reply": "2021-04-14T16:23:38.586579Z",
     "shell.execute_reply.started": "2021-04-14T16:23:38.565586Z"
    }
   },
   "outputs": [],
   "source": [
    "nb2_grid_search = GridSearchCV(estimator=nb2_pipeline,\n",
    "                               param_grid=nb2_param_grid,\n",
    "                               scoring='recall_macro',\n",
    "                               cv=3)"
   ]
  },
  {
   "cell_type": "code",
   "execution_count": 32,
   "metadata": {
    "execution": {
     "iopub.execute_input": "2021-04-14T16:23:51.239521Z",
     "iopub.status.busy": "2021-04-14T16:23:51.239521Z",
     "iopub.status.idle": "2021-04-14T16:36:21.040907Z",
     "shell.execute_reply": "2021-04-14T16:36:21.037909Z",
     "shell.execute_reply.started": "2021-04-14T16:23:51.239521Z"
    }
   },
   "outputs": [
    {
     "data": {
      "text/plain": [
       "GridSearchCV(cv=3,\n",
       "             estimator=Pipeline(steps=[('tfidf',\n",
       "                                        TfidfVectorizer(ngram_range=(1, 2))),\n",
       "                                       ('nb', MultinomialNB())]),\n",
       "             param_grid={'nb__alpha': [0.7, 1.3],\n",
       "                         'tfidf__max_features': [25000, 40000, 55000]},\n",
       "             scoring='recall_macro')"
      ]
     },
     "execution_count": 32,
     "metadata": {},
     "output_type": "execute_result"
    }
   ],
   "source": [
    "nb2_grid_search.fit(X_train, y_train)"
   ]
  },
  {
   "cell_type": "code",
   "execution_count": 33,
   "metadata": {
    "execution": {
     "iopub.execute_input": "2021-04-14T17:00:13.301963Z",
     "iopub.status.busy": "2021-04-14T17:00:13.293963Z",
     "iopub.status.idle": "2021-04-14T17:00:13.434964Z",
     "shell.execute_reply": "2021-04-14T17:00:13.433997Z",
     "shell.execute_reply.started": "2021-04-14T17:00:13.300964Z"
    }
   },
   "outputs": [
    {
     "name": "stdout",
     "output_type": "stream",
     "text": [
      "Best Score: 0.8299\n"
     ]
    },
    {
     "data": {
      "text/plain": [
       "{'nb__alpha': 0.7, 'tfidf__max_features': 40000}"
      ]
     },
     "execution_count": 33,
     "metadata": {},
     "output_type": "execute_result"
    }
   ],
   "source": [
    "print(f'Best Score: {round(nb2_grid_search.best_score_, 4)}')\n",
    "nb2_grid_search.best_params_"
   ]
  },
  {
   "cell_type": "markdown",
   "metadata": {},
   "source": [
    "A little better score. I think the lower alpha might help with overfitting, too."
   ]
  },
  {
   "cell_type": "markdown",
   "metadata": {},
   "source": [
    "## Pipeline 3"
   ]
  },
  {
   "cell_type": "markdown",
   "metadata": {},
   "source": [
    "Try out CountVectorizer"
   ]
  },
  {
   "cell_type": "code",
   "execution_count": 35,
   "metadata": {
    "execution": {
     "iopub.execute_input": "2021-04-14T17:07:08.122927Z",
     "iopub.status.busy": "2021-04-14T17:07:08.122927Z",
     "iopub.status.idle": "2021-04-14T17:07:08.187930Z",
     "shell.execute_reply": "2021-04-14T17:07:08.184933Z",
     "shell.execute_reply.started": "2021-04-14T17:07:08.122927Z"
    }
   },
   "outputs": [],
   "source": [
    "nb3_pipeline = Pipeline([('countv', CountVectorizer()), \n",
    "                         ('nb', MultinomialNB())])\n",
    "\n",
    "nb3_param_grid = {\n",
    "    'countv__ngram_range': [(1,1), (1,2)],\n",
    "    'countv__max_features': [10000, 25000, 40000], \n",
    "    'nb__alpha': [0.7, 1]\n",
    "}\n",
    "\n",
    "nb3_grid_search = GridSearchCV(estimator=nb3_pipeline,\n",
    "                               param_grid=nb3_param_grid,\n",
    "                               scoring='recall_macro',\n",
    "                               cv=3)"
   ]
  },
  {
   "cell_type": "code",
   "execution_count": 36,
   "metadata": {
    "execution": {
     "iopub.execute_input": "2021-04-14T17:07:38.526505Z",
     "iopub.status.busy": "2021-04-14T17:07:38.526505Z",
     "iopub.status.idle": "2021-04-14T17:25:49.483238Z",
     "shell.execute_reply": "2021-04-14T17:25:49.469237Z",
     "shell.execute_reply.started": "2021-04-14T17:07:38.526505Z"
    }
   },
   "outputs": [
    {
     "name": "stdout",
     "output_type": "stream",
     "text": [
      "Best Score: 0.8314\n"
     ]
    },
    {
     "data": {
      "text/plain": [
       "{'countv__max_features': 40000,\n",
       " 'countv__ngram_range': (1, 2),\n",
       " 'nb__alpha': 0.7}"
      ]
     },
     "execution_count": 36,
     "metadata": {},
     "output_type": "execute_result"
    }
   ],
   "source": [
    "nb3_grid_search.fit(X_train, y_train)\n",
    "print(f'Best Score: {round(nb3_grid_search.best_score_, 4)}')\n",
    "nb3_grid_search.best_params_"
   ]
  },
  {
   "cell_type": "markdown",
   "metadata": {},
   "source": [
    "## Pipeline 4"
   ]
  },
  {
   "cell_type": "markdown",
   "metadata": {},
   "source": [
    "Count vectorizer did a little better. I'll also try with SMOTE. Raise max features, and lower alpha"
   ]
  },
  {
   "cell_type": "code",
   "execution_count": 40,
   "metadata": {
    "execution": {
     "iopub.execute_input": "2021-04-14T17:35:18.428944Z",
     "iopub.status.busy": "2021-04-14T17:35:18.427944Z",
     "iopub.status.idle": "2021-04-14T17:35:18.450948Z",
     "shell.execute_reply": "2021-04-14T17:35:18.449947Z",
     "shell.execute_reply.started": "2021-04-14T17:35:18.428944Z"
    }
   },
   "outputs": [],
   "source": [
    "# Need this imblearn pipeline to work with SMOTE\n",
    "from imblearn.pipeline import Pipeline as imblearnPipeline\n",
    "\n",
    "nb4_pipeline = imblearnPipeline([('countv', CountVectorizer(ngram_range=(1,2))),\n",
    "                                 ('sampling', SMOTE()),\n",
    "                                 ('nb', MultinomialNB())])\n",
    "\n",
    "nb4_param_grid = {\n",
    "    'countv__max_features': [40000, 55000], \n",
    "    'nb__alpha': [0.55, 0.7]\n",
    "}\n",
    "\n",
    "nb4_grid_search = GridSearchCV(estimator=nb4_pipeline,\n",
    "                               param_grid=nb4_param_grid,\n",
    "                               scoring='recall_macro',\n",
    "                               cv=3)"
   ]
  },
  {
   "cell_type": "code",
   "execution_count": 41,
   "metadata": {
    "execution": {
     "iopub.execute_input": "2021-04-14T17:35:56.458670Z",
     "iopub.status.busy": "2021-04-14T17:35:56.458670Z",
     "iopub.status.idle": "2021-04-14T17:59:59.320444Z",
     "shell.execute_reply": "2021-04-14T17:59:59.310444Z",
     "shell.execute_reply.started": "2021-04-14T17:35:56.458670Z"
    }
   },
   "outputs": [
    {
     "name": "stdout",
     "output_type": "stream",
     "text": [
      "Best Score: 0.8279\n"
     ]
    },
    {
     "data": {
      "text/plain": [
       "{'countv__max_features': 55000, 'nb__alpha': 0.55}"
      ]
     },
     "execution_count": 41,
     "metadata": {},
     "output_type": "execute_result"
    }
   ],
   "source": [
    "nb4_grid_search.fit(X_train, y_train)\n",
    "print(f'Best Score: {round(nb4_grid_search.best_score_, 4)}')\n",
    "nb4_grid_search.best_params_"
   ]
  },
  {
   "cell_type": "markdown",
   "metadata": {},
   "source": [
    "Actually did a little worse with SMOTE. The model seems to prefer higher max features and lower alphas."
   ]
  },
  {
   "cell_type": "markdown",
   "metadata": {},
   "source": [
    "## Pipeline 5"
   ]
  },
  {
   "cell_type": "markdown",
   "metadata": {},
   "source": [
    "Seems my scores are topping out around .82 or .83. I'll try one more time."
   ]
  },
  {
   "cell_type": "code",
   "execution_count": 42,
   "metadata": {
    "execution": {
     "iopub.execute_input": "2021-04-14T18:10:17.895447Z",
     "iopub.status.busy": "2021-04-14T18:10:17.879446Z",
     "iopub.status.idle": "2021-04-14T18:10:18.054450Z",
     "shell.execute_reply": "2021-04-14T18:10:18.049452Z",
     "shell.execute_reply.started": "2021-04-14T18:10:17.894448Z"
    }
   },
   "outputs": [],
   "source": [
    "nb5_pipeline = imblearnPipeline([('countv', CountVectorizer(ngram_range=(1,2))),\n",
    "                                 ('nb', MultinomialNB())])\n",
    "\n",
    "nb5_param_grid = {\n",
    "    'countv__max_features': [55000, 70000], \n",
    "    'nb__alpha': [0.45, 0.55]\n",
    "}\n",
    "\n",
    "nb5_grid_search = GridSearchCV(estimator=nb5_pipeline,\n",
    "                               param_grid=nb5_param_grid,\n",
    "                               scoring='recall_macro',\n",
    "                               cv=3)"
   ]
  },
  {
   "cell_type": "code",
   "execution_count": 43,
   "metadata": {
    "execution": {
     "iopub.execute_input": "2021-04-14T18:10:45.095180Z",
     "iopub.status.busy": "2021-04-14T18:10:45.095180Z",
     "iopub.status.idle": "2021-04-14T18:21:17.210318Z",
     "shell.execute_reply": "2021-04-14T18:21:17.201317Z",
     "shell.execute_reply.started": "2021-04-14T18:10:45.095180Z"
    }
   },
   "outputs": [
    {
     "name": "stdout",
     "output_type": "stream",
     "text": [
      "Best Score: 0.8364\n"
     ]
    },
    {
     "data": {
      "text/plain": [
       "{'countv__max_features': 70000, 'nb__alpha': 0.45}"
      ]
     },
     "execution_count": 43,
     "metadata": {},
     "output_type": "execute_result"
    }
   ],
   "source": [
    "nb5_grid_search.fit(X_train, y_train)\n",
    "print(f'Best Score: {round(nb5_grid_search.best_score_, 4)}')\n",
    "nb5_grid_search.best_params_"
   ]
  },
  {
   "cell_type": "markdown",
   "metadata": {},
   "source": [
    "Got up to a score of almost .84. Will use these parameters."
   ]
  },
  {
   "cell_type": "markdown",
   "metadata": {},
   "source": [
    "## Check best-scoring model for overfitting "
   ]
  },
  {
   "cell_type": "code",
   "execution_count": 44,
   "metadata": {
    "execution": {
     "iopub.execute_input": "2021-04-14T18:25:05.399939Z",
     "iopub.status.busy": "2021-04-14T18:25:05.396938Z",
     "iopub.status.idle": "2021-04-14T18:26:02.657400Z",
     "shell.execute_reply": "2021-04-14T18:26:02.640397Z",
     "shell.execute_reply.started": "2021-04-14T18:25:05.398939Z"
    }
   },
   "outputs": [],
   "source": [
    "# Vectorize X train and test data\n",
    "vectorizer_nb_best = CountVectorizer(ngram_range=(1,2), max_features=70000)\n",
    "vect_X_train = vectorizer_nb_best.fit_transform(X_train)\n",
    "vect_X_test = vectorizer_nb_best.transform(X_test)\n",
    "feature_names = vectorizer_nb_best.get_feature_names()"
   ]
  },
  {
   "cell_type": "code",
   "execution_count": 45,
   "metadata": {
    "execution": {
     "iopub.execute_input": "2021-04-14T18:26:24.477413Z",
     "iopub.status.busy": "2021-04-14T18:26:24.477413Z",
     "iopub.status.idle": "2021-04-14T18:26:24.505415Z",
     "shell.execute_reply": "2021-04-14T18:26:24.503413Z",
     "shell.execute_reply.started": "2021-04-14T18:26:24.477413Z"
    }
   },
   "outputs": [],
   "source": [
    "# Instantiate model\n",
    "nb_best = MultinomialNB(alpha=0.45)"
   ]
  },
  {
   "cell_type": "code",
   "execution_count": 46,
   "metadata": {
    "execution": {
     "iopub.execute_input": "2021-04-14T18:26:39.607433Z",
     "iopub.status.busy": "2021-04-14T18:26:39.607433Z",
     "iopub.status.idle": "2021-04-14T18:27:02.554087Z",
     "shell.execute_reply": "2021-04-14T18:27:02.553086Z",
     "shell.execute_reply.started": "2021-04-14T18:26:39.607433Z"
    }
   },
   "outputs": [
    {
     "name": "stdout",
     "output_type": "stream",
     "text": [
      "TRAINING - Classification Report\n",
      "Accuracy: 82.8%\n",
      "Precision: 76.6%\n",
      "Recall: 85.7%\n",
      "F1: 80.3%\n",
      "              precision    recall  f1-score   support\n",
      "\n",
      "           0       0.96      0.80      0.87     73012\n",
      "           1       0.71      0.79      0.75     18544\n",
      "           2       0.70      0.91      0.79     15180\n",
      "           3       0.64      0.85      0.73     12364\n",
      "           4       0.81      0.94      0.87     10824\n",
      "\n",
      "    accuracy                           0.83    129924\n",
      "   macro avg       0.77      0.86      0.80    129924\n",
      "weighted avg       0.85      0.83      0.83    129924\n",
      "\n",
      "TESTING - Classification Report\n",
      "Accuracy: 81.3%\n",
      "Precision: 74.7%\n",
      "Recall: 83.4%\n",
      "F1: 78.2%\n",
      "              precision    recall  f1-score   support\n",
      "\n",
      "           0       0.96      0.80      0.87     18159\n",
      "           1       0.71      0.77      0.73      4601\n",
      "           2       0.68      0.89      0.77      3810\n",
      "           3       0.61      0.81      0.70      3200\n",
      "           4       0.78      0.91      0.84      2711\n",
      "\n",
      "    accuracy                           0.81     32481\n",
      "   macro avg       0.75      0.83      0.78     32481\n",
      "weighted avg       0.84      0.81      0.82     32481\n",
      "\n"
     ]
    },
    {
     "data": {
      "image/png": "[encoded data removed]",
      "text/plain": [
       "<Figure size 1080x360 with 4 Axes>"
      ]
     },
     "metadata": {
      "needs_background": "light"
     },
     "output_type": "display_data"
    }
   ],
   "source": [
    "f.run_model(nb_best, vect_X_train, y_train, vect_X_test, y_test)"
   ]
  },
  {
   "cell_type": "markdown",
   "metadata": {},
   "source": [
    "Pretty good. Performed better than Decision Tree."
   ]
  },
  {
   "cell_type": "markdown",
   "metadata": {},
   "source": [
    "# Gradient Boosting"
   ]
  },
  {
   "cell_type": "markdown",
   "metadata": {},
   "source": [
    "## Pipeline 1"
   ]
  },
  {
   "cell_type": "markdown",
   "metadata": {},
   "source": [
    "Best params for standard Decision Tree were:\n",
    "- TfidfVectorizer(max_features=10000)\n",
    "- max_depth=14\n",
    "- min_samples_leaf=1\n",
    "- min_samples_split=5"
   ]
  },
  {
   "cell_type": "code",
   "execution_count": 4,
   "metadata": {
    "execution": {
     "iopub.execute_input": "2021-04-16T12:17:51.028250Z",
     "iopub.status.busy": "2021-04-16T12:17:51.027247Z",
     "iopub.status.idle": "2021-04-16T12:17:51.041251Z",
     "shell.execute_reply": "2021-04-16T12:17:51.040249Z",
     "shell.execute_reply.started": "2021-04-16T12:17:51.028250Z"
    }
   },
   "outputs": [],
   "source": [
    "gb1_pipeline = Pipeline([('tfidf', TfidfVectorizer(max_features=10000)), \n",
    "                         ('gb', GradientBoostingClassifier(random_state=123, \n",
    "                                                           verbose=1))])\n",
    "\n",
    "gb1_param_grid = {\n",
    "#     'tfidf__max_features': [7000, 10000, 12500], \n",
    "    'gb__max_depth': [10, 18]\n",
    "#     'gb__learning_rate': [.1, .3]\n",
    "}\n",
    "\n",
    "gb1_grid_search = GridSearchCV(estimator=gb1_pipeline,\n",
    "                               param_grid=gb1_param_grid,\n",
    "                               scoring='recall_macro',\n",
    "                               cv=3)"
   ]
  },
  {
   "cell_type": "code",
   "execution_count": 5,
   "metadata": {
    "execution": {
     "iopub.execute_input": "2021-04-16T12:17:55.851121Z",
     "iopub.status.busy": "2021-04-16T12:17:55.850120Z",
     "iopub.status.idle": "2021-04-17T02:14:13.532995Z",
     "shell.execute_reply": "2021-04-17T02:14:13.519995Z",
     "shell.execute_reply.started": "2021-04-16T12:17:55.851121Z"
    }
   },
   "outputs": [
    {
     "name": "stdout",
     "output_type": "stream",
     "text": [
      "      Iter       Train Loss   Remaining Time \n",
      "         1           1.0603          139.73m\n",
      "         2           0.9298          138.78m\n",
      "         3           0.8347          133.75m\n",
      "         4           0.7601          130.32m\n",
      "         5           0.6980          129.39m\n",
      "         6           0.6481          128.42m\n",
      "         7           0.6048          128.28m\n",
      "         8           0.5678          125.13m\n",
      "         9           0.5346          121.89m\n",
      "        10           0.5068          118.66m\n",
      "        20           0.3515           85.44m\n",
      "        30           0.2867           66.48m\n",
      "        40           0.2516           55.96m\n",
      "        50           0.2286           43.70m\n",
      "        60           0.2126           33.19m\n",
      "        70           0.2012           24.99m\n",
      "        80           0.1933           16.10m\n",
      "        90           0.1869            7.71m\n",
      "       100           0.1818            0.00s\n",
      "      Iter       Train Loss   Remaining Time \n",
      "         1           1.0602           84.69m\n",
      "         2           0.9298           85.88m\n",
      "         3           0.8344           88.33m\n",
      "         4           0.7597           87.29m\n",
      "         5           0.6985           85.84m\n",
      "         6           0.6478           84.68m\n",
      "         7           0.6054           83.29m\n",
      "         8           0.5684           82.38m\n",
      "         9           0.5366           81.12m\n",
      "        10           0.5088           79.62m\n",
      "        20           0.3534           66.61m\n",
      "        30           0.2894           54.52m\n",
      "        40           0.2533           44.00m\n",
      "        50           0.2310           34.92m\n",
      "        60           0.2151           26.87m\n",
      "        70           0.2046           19.61m\n",
      "        80           0.1963           12.69m\n",
      "        90           0.1900            6.21m\n",
      "       100           0.1847            0.00s\n",
      "      Iter       Train Loss   Remaining Time \n",
      "         1           1.0583          133.95m\n",
      "         2           0.9268          126.84m\n",
      "         3           0.8317          132.32m\n",
      "         4           0.7570          137.87m\n",
      "         5           0.6959          136.66m\n",
      "         6           0.6450          135.76m\n",
      "         7           0.6027          132.10m\n",
      "         8           0.5667          127.18m\n",
      "         9           0.5350          122.05m\n",
      "        10           0.5078          117.34m\n",
      "        20           0.3530           93.97m\n",
      "        30           0.2886           76.74m\n",
      "        40           0.2529           62.37m\n",
      "        50           0.2306           48.88m\n",
      "        60           0.2143           37.09m\n",
      "        70           0.2038           26.95m\n",
      "        80           0.1958           17.48m\n",
      "        90           0.1893            8.51m\n",
      "       100           0.1843            0.00s\n",
      "      Iter       Train Loss   Remaining Time \n",
      "         1           1.0034          335.04m\n",
      "         2           0.8486          358.65m\n",
      "         3           0.7372          352.50m\n",
      "         4           0.6500          336.62m\n",
      "         5           0.5789          327.05m\n",
      "         6           0.5205          317.50m\n",
      "         7           0.4729          308.68m\n",
      "         8           0.4310          300.03m\n",
      "         9           0.3957          292.82m\n",
      "        10           0.3637          285.16m\n",
      "        20           0.2019          225.06m\n",
      "        30           0.1497          190.58m\n",
      "        40           0.1274          151.23m\n",
      "        50           0.1143          112.80m\n",
      "        60           0.1064           84.94m\n",
      "        70           0.1008           59.64m\n",
      "        80           0.0966           37.27m\n",
      "        90           0.0929           17.65m\n",
      "       100           0.0897            0.00s\n",
      "      Iter       Train Loss   Remaining Time \n",
      "         1           1.0044          219.57m\n",
      "         2           0.8492          240.99m\n",
      "         3           0.7386          243.94m\n",
      "         4           0.6524          245.67m\n",
      "         5           0.5835          245.42m\n",
      "         6           0.5239          244.32m\n",
      "         7           0.4754          244.42m\n",
      "         8           0.4325          242.88m\n",
      "         9           0.3968          250.10m\n",
      "        10           0.3664          253.77m\n",
      "        20           0.2044          207.95m\n",
      "        30           0.1507          160.39m\n",
      "        40           0.1286          120.30m\n",
      "        50           0.1153           92.60m\n",
      "        60           0.1069           71.29m\n",
      "        70           0.1012           51.50m\n",
      "        80           0.0966           32.98m\n",
      "        90           0.0932           16.11m\n",
      "       100           0.0897            0.00s\n",
      "      Iter       Train Loss   Remaining Time \n",
      "         1           1.0032          322.90m\n",
      "         2           0.8480          377.72m\n",
      "         3           0.7364          385.76m\n",
      "         4           0.6494          385.43m\n",
      "         5           0.5801          380.23m\n",
      "         6           0.5220          378.38m\n",
      "         7           0.4733          367.67m\n",
      "         8           0.4322          359.87m\n",
      "         9           0.3969          345.17m\n",
      "        10           0.3651          336.38m\n",
      "        20           0.2026          275.27m\n",
      "        30           0.1493          199.84m\n",
      "        40           0.1273          147.79m\n",
      "        50           0.1148          109.87m\n",
      "        60           0.1065           81.04m\n",
      "        70           0.1009           56.62m\n",
      "        80           0.0967           35.50m\n",
      "        90           0.0932           17.25m\n",
      "       100           0.0902            0.00s\n",
      "      Iter       Train Loss   Remaining Time \n",
      "         1           1.0622          173.54m\n",
      "         2           0.9344          169.72m\n",
      "         3           0.8401          169.62m\n",
      "         4           0.7656          177.16m\n",
      "         5           0.7061          180.36m\n",
      "         6           0.6567          181.02m\n",
      "         7           0.6148          181.71m\n",
      "         8           0.5790          178.40m\n",
      "         9           0.5479          173.56m\n",
      "        10           0.5204          173.26m\n",
      "        20           0.3685          140.40m\n",
      "        30           0.3048          112.39m\n",
      "        40           0.2696           88.74m\n",
      "        50           0.2480           69.09m\n",
      "        60           0.2321           52.64m\n",
      "        70           0.2202           37.81m\n",
      "        80           0.2110           24.34m\n",
      "        90           0.2039           12.07m\n",
      "       100           0.1982            0.00s\n",
      "Best Score: 0.812\n"
     ]
    },
    {
     "data": {
      "text/plain": [
       "{'gb__max_depth': 10}"
      ]
     },
     "execution_count": 5,
     "metadata": {},
     "output_type": "execute_result"
    }
   ],
   "source": [
    "gb1_grid_search.fit(X_train, y_train)\n",
    "print(f'Best Score: {round(gb1_grid_search.best_score_, 3)}')\n",
    "gb1_grid_search.best_params_"
   ]
  },
  {
   "cell_type": "code",
   "execution_count": null,
   "metadata": {},
   "outputs": [],
   "source": []
  },
  {
   "cell_type": "code",
   "execution_count": null,
   "metadata": {},
   "outputs": [],
   "source": []
  }
 ],
 "metadata": {
  "kernelspec": {
   "display_name": "Python 3",
   "language": "python",
   "name": "python3"
  },
  "language_info": {
   "codemirror_mode": {
    "name": "ipython",
    "version": 3
   },
   "file_extension": ".py",
   "mimetype": "text/x-python",
   "name": "python",
   "nbconvert_exporter": "python",
   "pygments_lexer": "ipython3",
   "version": "3.6.9"
  },
  "toc-autonumbering": false,
  "toc-showcode": false,
  "toc-showmarkdowntxt": false,
  "toc-showtags": false
 },
 "nbformat": 4,
 "nbformat_minor": 4
}
