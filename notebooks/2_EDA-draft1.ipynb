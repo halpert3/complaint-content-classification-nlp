{
 "cells": [
  {
   "cell_type": "markdown",
   "metadata": {},
   "source": [
    "# Load text and processed text files"
   ]
  },
  {
   "cell_type": "code",
   "execution_count": 6,
   "metadata": {},
   "outputs": [],
   "source": [
    "import pandas as pd\n",
    "import numpy as np\n",
    "import nltk\n",
    "from nltk.corpus import stopwords\n",
    "from nltk import word_tokenize, FreqDist\n",
    "import string"
   ]
  },
  {
   "cell_type": "code",
   "execution_count": 4,
   "metadata": {},
   "outputs": [],
   "source": [
    "file = open('../project_data/credit_reporting_text.txt')\n",
    "credit_reporting_text = file.read()\n",
    "file.close()\n",
    "\n",
    "file = open('../project_data/debt_collection_text.txt')\n",
    "debt_collection_text = file.read()\n",
    "file.close()\n",
    "\n",
    "file = open('../project_data/mortgages_and_loans_text.txt')\n",
    "mortgages_and_loans_text = file.read()\n",
    "file.close()\n",
    "\n",
    "file = open('../project_data/credit_card_text.txt')\n",
    "credit_card_text = file.read()\n",
    "file.close()\n",
    "\n",
    "file = open('../project_data/retail_banking_text.txt')\n",
    "retail_banking_text = file.read()\n",
    "file.close()"
   ]
  },
  {
   "cell_type": "code",
   "execution_count": 12,
   "metadata": {},
   "outputs": [],
   "source": [
    "df = pd.read_csv('../project_data/credit_reporting_text_processed.csv')\n",
    "credit_reporting_text_processed = df['0'].tolist()\n",
    "\n",
    "df = pd.read_csv('../project_data/debt_collection_text_processed.csv')\n",
    "debt_collection_text_processed = df['0'].tolist()\n",
    "\n",
    "df = pd.read_csv('../project_data/mortgages_and_loans_text_processed.csv')\n",
    "mortgages_and_loans_text_processed = df['0'].tolist()\n",
    "\n",
    "df = pd.read_csv('../project_data/credit_card_text_processed.csv')\n",
    "credit_card_text_processed = df['0'].tolist()\n",
    "\n",
    "df = pd.read_csv('../project_data/retail_banking_text_processed.csv')\n",
    "retail_banking_text_processed = df['0'].tolist()\n",
    "\n",
    "df = None"
   ]
  },
  {
   "cell_type": "code",
   "execution_count": null,
   "metadata": {},
   "outputs": [],
   "source": []
  }
 ],
 "metadata": {
  "kernelspec": {
   "display_name": "Python 3",
   "language": "python",
   "name": "python3"
  },
  "language_info": {
   "codemirror_mode": {
    "name": "ipython",
    "version": 3
   },
   "file_extension": ".py",
   "mimetype": "text/x-python",
   "name": "python",
   "nbconvert_exporter": "python",
   "pygments_lexer": "ipython3",
   "version": "3.6.9"
  }
 },
 "nbformat": 4,
 "nbformat_minor": 4
}
